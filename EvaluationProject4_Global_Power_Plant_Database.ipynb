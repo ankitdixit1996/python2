{
 "cells": [
  {
   "cell_type": "markdown",
   "id": "73685f9b",
   "metadata": {},
   "source": [
    "# Global Power Plant Database"
   ]
  },
  {
   "cell_type": "markdown",
   "id": "ed15e552",
   "metadata": {},
   "source": [
    "### Import Libraries"
   ]
  },
  {
   "cell_type": "code",
   "execution_count": 1,
   "id": "461b2a4b",
   "metadata": {},
   "outputs": [],
   "source": [
    "# Import libraries\n",
    "# Data processing packages\n",
    "import pandas as pd\n",
    "import numpy as np\n",
    "import scipy.stats as stats\n",
    "\n",
    "# Visualization packages\n",
    "import matplotlib.pyplot as plt\n",
    "import seaborn as sns\n",
    "\n",
    "# Import warnings\n",
    "import warnings\n",
    "warnings.filterwarnings('ignore')"
   ]
  },
  {
   "cell_type": "markdown",
   "id": "234642ab",
   "metadata": {},
   "source": [
    "### Import dataset"
   ]
  },
  {
   "cell_type": "code",
   "execution_count": 2,
   "id": "5a83bd26",
   "metadata": {},
   "outputs": [
    {
     "data": {
      "text/html": [
       "<div>\n",
       "<style scoped>\n",
       "    .dataframe tbody tr th:only-of-type {\n",
       "        vertical-align: middle;\n",
       "    }\n",
       "\n",
       "    .dataframe tbody tr th {\n",
       "        vertical-align: top;\n",
       "    }\n",
       "\n",
       "    .dataframe thead th {\n",
       "        text-align: right;\n",
       "    }\n",
       "</style>\n",
       "<table border=\"1\" class=\"dataframe\">\n",
       "  <thead>\n",
       "    <tr style=\"text-align: right;\">\n",
       "      <th></th>\n",
       "      <th>country</th>\n",
       "      <th>country_long</th>\n",
       "      <th>name</th>\n",
       "      <th>gppd_idnr</th>\n",
       "      <th>capacity_mw</th>\n",
       "      <th>latitude</th>\n",
       "      <th>longitude</th>\n",
       "      <th>primary_fuel</th>\n",
       "      <th>other_fuel1</th>\n",
       "      <th>other_fuel2</th>\n",
       "      <th>...</th>\n",
       "      <th>geolocation_source</th>\n",
       "      <th>wepp_id</th>\n",
       "      <th>year_of_capacity_data</th>\n",
       "      <th>generation_gwh_2013</th>\n",
       "      <th>generation_gwh_2014</th>\n",
       "      <th>generation_gwh_2015</th>\n",
       "      <th>generation_gwh_2016</th>\n",
       "      <th>generation_gwh_2017</th>\n",
       "      <th>generation_data_source</th>\n",
       "      <th>estimated_generation_gwh</th>\n",
       "    </tr>\n",
       "  </thead>\n",
       "  <tbody>\n",
       "    <tr>\n",
       "      <th>0</th>\n",
       "      <td>IND</td>\n",
       "      <td>India</td>\n",
       "      <td>ACME Solar Tower</td>\n",
       "      <td>WRI1020239</td>\n",
       "      <td>2.5</td>\n",
       "      <td>28.1839</td>\n",
       "      <td>73.2407</td>\n",
       "      <td>Solar</td>\n",
       "      <td>NaN</td>\n",
       "      <td>NaN</td>\n",
       "      <td>...</td>\n",
       "      <td>National Renewable Energy Laboratory</td>\n",
       "      <td>NaN</td>\n",
       "      <td>NaN</td>\n",
       "      <td>NaN</td>\n",
       "      <td>NaN</td>\n",
       "      <td>NaN</td>\n",
       "      <td>NaN</td>\n",
       "      <td>NaN</td>\n",
       "      <td>NaN</td>\n",
       "      <td>NaN</td>\n",
       "    </tr>\n",
       "    <tr>\n",
       "      <th>1</th>\n",
       "      <td>IND</td>\n",
       "      <td>India</td>\n",
       "      <td>ADITYA CEMENT WORKS</td>\n",
       "      <td>WRI1019881</td>\n",
       "      <td>98.0</td>\n",
       "      <td>24.7663</td>\n",
       "      <td>74.6090</td>\n",
       "      <td>Coal</td>\n",
       "      <td>NaN</td>\n",
       "      <td>NaN</td>\n",
       "      <td>...</td>\n",
       "      <td>WRI</td>\n",
       "      <td>NaN</td>\n",
       "      <td>NaN</td>\n",
       "      <td>NaN</td>\n",
       "      <td>NaN</td>\n",
       "      <td>NaN</td>\n",
       "      <td>NaN</td>\n",
       "      <td>NaN</td>\n",
       "      <td>NaN</td>\n",
       "      <td>NaN</td>\n",
       "    </tr>\n",
       "    <tr>\n",
       "      <th>2</th>\n",
       "      <td>IND</td>\n",
       "      <td>India</td>\n",
       "      <td>AES Saurashtra Windfarms</td>\n",
       "      <td>WRI1026669</td>\n",
       "      <td>39.2</td>\n",
       "      <td>21.9038</td>\n",
       "      <td>69.3732</td>\n",
       "      <td>Wind</td>\n",
       "      <td>NaN</td>\n",
       "      <td>NaN</td>\n",
       "      <td>...</td>\n",
       "      <td>WRI</td>\n",
       "      <td>NaN</td>\n",
       "      <td>NaN</td>\n",
       "      <td>NaN</td>\n",
       "      <td>NaN</td>\n",
       "      <td>NaN</td>\n",
       "      <td>NaN</td>\n",
       "      <td>NaN</td>\n",
       "      <td>NaN</td>\n",
       "      <td>NaN</td>\n",
       "    </tr>\n",
       "    <tr>\n",
       "      <th>3</th>\n",
       "      <td>IND</td>\n",
       "      <td>India</td>\n",
       "      <td>AGARTALA GT</td>\n",
       "      <td>IND0000001</td>\n",
       "      <td>135.0</td>\n",
       "      <td>23.8712</td>\n",
       "      <td>91.3602</td>\n",
       "      <td>Gas</td>\n",
       "      <td>NaN</td>\n",
       "      <td>NaN</td>\n",
       "      <td>...</td>\n",
       "      <td>WRI</td>\n",
       "      <td>NaN</td>\n",
       "      <td>2018.0</td>\n",
       "      <td>631.777928</td>\n",
       "      <td>617.789264</td>\n",
       "      <td>843.747</td>\n",
       "      <td>886.004428</td>\n",
       "      <td>663.774500</td>\n",
       "      <td>Central Electricity Authority</td>\n",
       "      <td>NaN</td>\n",
       "    </tr>\n",
       "    <tr>\n",
       "      <th>4</th>\n",
       "      <td>IND</td>\n",
       "      <td>India</td>\n",
       "      <td>AKALTARA TPP</td>\n",
       "      <td>IND0000002</td>\n",
       "      <td>1800.0</td>\n",
       "      <td>21.9603</td>\n",
       "      <td>82.4091</td>\n",
       "      <td>Coal</td>\n",
       "      <td>Oil</td>\n",
       "      <td>NaN</td>\n",
       "      <td>...</td>\n",
       "      <td>WRI</td>\n",
       "      <td>NaN</td>\n",
       "      <td>2018.0</td>\n",
       "      <td>1668.290000</td>\n",
       "      <td>3035.550000</td>\n",
       "      <td>5916.370</td>\n",
       "      <td>6243.000000</td>\n",
       "      <td>5385.579736</td>\n",
       "      <td>Central Electricity Authority</td>\n",
       "      <td>NaN</td>\n",
       "    </tr>\n",
       "  </tbody>\n",
       "</table>\n",
       "<p>5 rows × 25 columns</p>\n",
       "</div>"
      ],
      "text/plain": [
       "  country country_long                      name   gppd_idnr  capacity_mw  \\\n",
       "0     IND        India          ACME Solar Tower  WRI1020239          2.5   \n",
       "1     IND        India       ADITYA CEMENT WORKS  WRI1019881         98.0   \n",
       "2     IND        India  AES Saurashtra Windfarms  WRI1026669         39.2   \n",
       "3     IND        India               AGARTALA GT  IND0000001        135.0   \n",
       "4     IND        India              AKALTARA TPP  IND0000002       1800.0   \n",
       "\n",
       "   latitude  longitude primary_fuel other_fuel1 other_fuel2  ...  \\\n",
       "0   28.1839    73.2407        Solar         NaN         NaN  ...   \n",
       "1   24.7663    74.6090         Coal         NaN         NaN  ...   \n",
       "2   21.9038    69.3732         Wind         NaN         NaN  ...   \n",
       "3   23.8712    91.3602          Gas         NaN         NaN  ...   \n",
       "4   21.9603    82.4091         Coal         Oil         NaN  ...   \n",
       "\n",
       "                     geolocation_source  wepp_id year_of_capacity_data  \\\n",
       "0  National Renewable Energy Laboratory      NaN                   NaN   \n",
       "1                                   WRI      NaN                   NaN   \n",
       "2                                   WRI      NaN                   NaN   \n",
       "3                                   WRI      NaN                2018.0   \n",
       "4                                   WRI      NaN                2018.0   \n",
       "\n",
       "  generation_gwh_2013 generation_gwh_2014 generation_gwh_2015  \\\n",
       "0                 NaN                 NaN                 NaN   \n",
       "1                 NaN                 NaN                 NaN   \n",
       "2                 NaN                 NaN                 NaN   \n",
       "3          631.777928          617.789264             843.747   \n",
       "4         1668.290000         3035.550000            5916.370   \n",
       "\n",
       "   generation_gwh_2016  generation_gwh_2017         generation_data_source  \\\n",
       "0                  NaN                  NaN                            NaN   \n",
       "1                  NaN                  NaN                            NaN   \n",
       "2                  NaN                  NaN                            NaN   \n",
       "3           886.004428           663.774500  Central Electricity Authority   \n",
       "4          6243.000000          5385.579736  Central Electricity Authority   \n",
       "\n",
       "   estimated_generation_gwh  \n",
       "0                       NaN  \n",
       "1                       NaN  \n",
       "2                       NaN  \n",
       "3                       NaN  \n",
       "4                       NaN  \n",
       "\n",
       "[5 rows x 25 columns]"
      ]
     },
     "execution_count": 2,
     "metadata": {},
     "output_type": "execute_result"
    }
   ],
   "source": [
    "df=pd.read_csv('../Datasets/Database_IND.csv')\n",
    "df.head()"
   ]
  },
  {
   "cell_type": "markdown",
   "id": "3d7128fc",
   "metadata": {},
   "source": [
    "Dataset is having numeric and categorical type columns. Also it contains NaN values."
   ]
  },
  {
   "cell_type": "markdown",
   "id": "f731fced",
   "metadata": {},
   "source": [
    "### Project Description"
   ]
  },
  {
   "cell_type": "markdown",
   "id": "8292168e",
   "metadata": {},
   "source": [
    "The Global Power Plant Database is a comprehensive, open source database of power plants around the world. It centralizes power plant data to make it easier to navigate, compare and draw insights for one’s own analysis. The dataset covers approximately 35,000 power plants from 167 countries and includes thermal plants (e.g. coal, gas, oil, nuclear, biomass, waste, geothermal) and renewables (e.g. hydro, wind, solar). Each power plant is geolocated and entries contain information on plant capacity, generation, ownership, and fuel type.\n",
    "\n",
    "We define the \"Fuel Type\" attribute of our database based on common fuel categories. \n",
    "\n",
    "Prediction :   Make two prediction  \n",
    "1) Primary Fuel (text): energy source used in primary electricity generation or export   \n",
    "2) capacity_mw (number): electrical generating capacity in megawatts\n",
    "\n",
    "Hence, 1) is classification problem and 2) is a regression problem."
   ]
  },
  {
   "cell_type": "code",
   "execution_count": 3,
   "id": "1cb3fc16",
   "metadata": {},
   "outputs": [
    {
     "data": {
      "text/plain": [
       "Index(['country', 'country_long', 'name', 'gppd_idnr', 'capacity_mw',\n",
       "       'latitude', 'longitude', 'primary_fuel', 'other_fuel1', 'other_fuel2',\n",
       "       'other_fuel3', 'commissioning_year', 'owner', 'source', 'url',\n",
       "       'geolocation_source', 'wepp_id', 'year_of_capacity_data',\n",
       "       'generation_gwh_2013', 'generation_gwh_2014', 'generation_gwh_2015',\n",
       "       'generation_gwh_2016', 'generation_gwh_2017', 'generation_data_source',\n",
       "       'estimated_generation_gwh'],\n",
       "      dtype='object')"
      ]
     },
     "execution_count": 3,
     "metadata": {},
     "output_type": "execute_result"
    }
   ],
   "source": [
    "# Checking columns\n",
    "df.columns"
   ]
  },
  {
   "cell_type": "code",
   "execution_count": 4,
   "id": "c9eaa436",
   "metadata": {},
   "outputs": [
    {
     "data": {
      "text/plain": [
       "country                      object\n",
       "country_long                 object\n",
       "name                         object\n",
       "gppd_idnr                    object\n",
       "capacity_mw                 float64\n",
       "latitude                    float64\n",
       "longitude                   float64\n",
       "primary_fuel                 object\n",
       "other_fuel1                  object\n",
       "other_fuel2                  object\n",
       "other_fuel3                 float64\n",
       "commissioning_year          float64\n",
       "owner                        object\n",
       "source                       object\n",
       "url                          object\n",
       "geolocation_source           object\n",
       "wepp_id                     float64\n",
       "year_of_capacity_data       float64\n",
       "generation_gwh_2013         float64\n",
       "generation_gwh_2014         float64\n",
       "generation_gwh_2015         float64\n",
       "generation_gwh_2016         float64\n",
       "generation_gwh_2017         float64\n",
       "generation_data_source       object\n",
       "estimated_generation_gwh    float64\n",
       "dtype: object"
      ]
     },
     "execution_count": 4,
     "metadata": {},
     "output_type": "execute_result"
    }
   ],
   "source": [
    "# Checking datatypes\n",
    "df.dtypes"
   ]
  },
  {
   "cell_type": "markdown",
   "id": "571fae7d",
   "metadata": {},
   "source": [
    "Here, columns are of object and fload type."
   ]
  },
  {
   "cell_type": "code",
   "execution_count": 5,
   "id": "7bbfad1b",
   "metadata": {},
   "outputs": [
    {
     "data": {
      "text/plain": [
       "(908, 25)"
      ]
     },
     "execution_count": 5,
     "metadata": {},
     "output_type": "execute_result"
    }
   ],
   "source": [
    "#Checking the dataset shape\n",
    "df.shape"
   ]
  },
  {
   "cell_type": "markdown",
   "id": "675df9c8",
   "metadata": {},
   "source": [
    "Dataset is having 908 rows and 25 columns (905 input features and 25 output feature)."
   ]
  },
  {
   "cell_type": "code",
   "execution_count": 6,
   "id": "c227843b",
   "metadata": {},
   "outputs": [
    {
     "name": "stdout",
     "output_type": "stream",
     "text": [
      "<class 'pandas.core.frame.DataFrame'>\n",
      "RangeIndex: 908 entries, 0 to 907\n",
      "Data columns (total 25 columns):\n",
      " #   Column                    Non-Null Count  Dtype  \n",
      "---  ------                    --------------  -----  \n",
      " 0   country                   908 non-null    object \n",
      " 1   country_long              908 non-null    object \n",
      " 2   name                      908 non-null    object \n",
      " 3   gppd_idnr                 908 non-null    object \n",
      " 4   capacity_mw               908 non-null    float64\n",
      " 5   latitude                  862 non-null    float64\n",
      " 6   longitude                 862 non-null    float64\n",
      " 7   primary_fuel              908 non-null    object \n",
      " 8   other_fuel1               199 non-null    object \n",
      " 9   other_fuel2               1 non-null      object \n",
      " 10  other_fuel3               0 non-null      float64\n",
      " 11  commissioning_year        528 non-null    float64\n",
      " 12  owner                     342 non-null    object \n",
      " 13  source                    908 non-null    object \n",
      " 14  url                       908 non-null    object \n",
      " 15  geolocation_source        889 non-null    object \n",
      " 16  wepp_id                   0 non-null      float64\n",
      " 17  year_of_capacity_data     520 non-null    float64\n",
      " 18  generation_gwh_2013       384 non-null    float64\n",
      " 19  generation_gwh_2014       401 non-null    float64\n",
      " 20  generation_gwh_2015       425 non-null    float64\n",
      " 21  generation_gwh_2016       437 non-null    float64\n",
      " 22  generation_gwh_2017       443 non-null    float64\n",
      " 23  generation_data_source    450 non-null    object \n",
      " 24  estimated_generation_gwh  0 non-null      float64\n",
      "dtypes: float64(13), object(12)\n",
      "memory usage: 177.5+ KB\n"
     ]
    }
   ],
   "source": [
    "# Checking dataset schema\n",
    "df.info()"
   ]
  },
  {
   "cell_type": "markdown",
   "id": "7ad26769",
   "metadata": {},
   "source": [
    "It gives additional information regarding the dataset like RangeIndex, Data columns, datatypes. We can see there are many null values in the dataset. Datatype seems to be appropriate so there is no need of data conversion."
   ]
  },
  {
   "cell_type": "markdown",
   "id": "0e3b194f",
   "metadata": {},
   "source": [
    "### Data Preprocessing"
   ]
  },
  {
   "cell_type": "code",
   "execution_count": 7,
   "id": "8467494f",
   "metadata": {},
   "outputs": [
    {
     "name": "stdout",
     "output_type": "stream",
     "text": [
      "country\n",
      "Unique values :  1\n",
      "Value counts  :  IND    908\n",
      "Name: country, dtype: int64\n",
      "----------------------\n",
      "country_long\n",
      "Unique values :  1\n",
      "Value counts  :  India    908\n",
      "Name: country_long, dtype: int64\n",
      "----------------------\n",
      "name\n",
      "Unique values :  908\n",
      "Value counts  :  CHIBRO (YAMUNA)         1\n",
      "SANGLI MIRAJ BIOMASS    1\n",
      "GADEPAN WORKS           1\n",
      "ARVINDNAGAR SUGAR       1\n",
      "VARAHI                  1\n",
      "                       ..\n",
      "KAKKAD                  1\n",
      "SHRI MALAPRABHA         1\n",
      "PERIYAR                 1\n",
      "MAHI BAJAJ I&II         1\n",
      "TADALI SPONGE IRON      1\n",
      "Name: name, Length: 908, dtype: int64\n",
      "----------------------\n",
      "gppd_idnr\n",
      "Unique values :  908\n",
      "Value counts  :  IND0000122    1\n",
      "IND0000442    1\n",
      "WRI1019987    1\n",
      "WRI1026673    1\n",
      "WRI1020015    1\n",
      "             ..\n",
      "WRI1026069    1\n",
      "IND0000177    1\n",
      "IND0000298    1\n",
      "WRI1026091    1\n",
      "IND0000371    1\n",
      "Name: gppd_idnr, Length: 908, dtype: int64\n",
      "----------------------\n",
      "capacity_mw\n",
      "Unique values :  365\n",
      "Value counts  :  5.0       39\n",
      "10.0      22\n",
      "600.0     21\n",
      "15.0      20\n",
      "1200.0    19\n",
      "          ..\n",
      "26.4       1\n",
      "68.8       1\n",
      "91.8       1\n",
      "1.8        1\n",
      "816.4      1\n",
      "Name: capacity_mw, Length: 365, dtype: int64\n",
      "----------------------\n",
      "latitude\n",
      "Unique values :  837\n",
      "Value counts  :  24.1917    3\n",
      "19.0004    3\n",
      "16.5697    2\n",
      "23.4639    2\n",
      "13.2450    2\n",
      "          ..\n",
      "20.9099    1\n",
      "17.2387    1\n",
      "23.5594    1\n",
      "27.3426    1\n",
      "16.5973    1\n",
      "Name: latitude, Length: 837, dtype: int64\n",
      "----------------------\n",
      "longitude\n",
      "Unique values :  828\n",
      "Value counts  :  71.6917    4\n",
      "71.6918    3\n",
      "75.8988    3\n",
      "72.8983    3\n",
      "81.2875    3\n",
      "          ..\n",
      "80.1264    1\n",
      "76.1137    1\n",
      "74.6447    1\n",
      "86.0970    1\n",
      "79.5748    1\n",
      "Name: longitude, Length: 828, dtype: int64\n",
      "----------------------\n",
      "primary_fuel\n",
      "Unique values :  8\n",
      "Value counts  :  Coal       259\n",
      "Hydro      250\n",
      "Solar      127\n",
      "Wind       123\n",
      "Gas         69\n",
      "Biomass     50\n",
      "Oil         21\n",
      "Nuclear      9\n",
      "Name: primary_fuel, dtype: int64\n",
      "----------------------\n",
      "other_fuel1\n",
      "Unique values :  3\n",
      "Value counts  :  Oil             196\n",
      "Gas               2\n",
      "Cogeneration      1\n",
      "Name: other_fuel1, dtype: int64\n",
      "----------------------\n",
      "other_fuel2\n",
      "Unique values :  1\n",
      "Value counts  :  Oil    1\n",
      "Name: other_fuel2, dtype: int64\n",
      "----------------------\n",
      "other_fuel3\n",
      "Unique values :  0\n",
      "Value counts  :  Series([], Name: other_fuel3, dtype: int64)\n",
      "----------------------\n",
      "commissioning_year\n",
      "Unique values :  73\n",
      "Value counts  :  2013.0    28\n",
      "2015.0    26\n",
      "2012.0    23\n",
      "2016.0    21\n",
      "2014.0    17\n",
      "          ..\n",
      "1958.0     1\n",
      "1949.0     1\n",
      "1954.0     1\n",
      "1956.0     1\n",
      "1927.0     1\n",
      "Name: commissioning_year, Length: 73, dtype: int64\n",
      "----------------------\n",
      "owner\n",
      "Unique values :  280\n",
      "Value counts  :  Acc Acc ltd                                              4\n",
      "Jk Cement ltd                                            4\n",
      "Sterling Agro Industries ltd.                            4\n",
      "Maharashtra State Power Generation Co Ltd (MAHAGENCO)    3\n",
      "Hindustan Zinc ltd                                       3\n",
      "                                                        ..\n",
      "Newton Solar Private Limited                             1\n",
      "Datta Ssk ltd                                            1\n",
      "Raajratna Energy Holdings Private Limited (REHPL)        1\n",
      "Harsha Engineers Limited                                 1\n",
      "NMDC                                                     1\n",
      "Name: owner, Length: 280, dtype: int64\n",
      "----------------------\n",
      "source\n",
      "Unique values :  191\n",
      "Value counts  :  Central Electricity Authority                520\n",
      "CDM                                          124\n",
      "Lancosola                                     10\n",
      "National Renewable Energy Laboratory           8\n",
      "National Thermal Power Corporation (NTPC)      6\n",
      "                                            ... \n",
      "Reliance Petrochemicals                        1\n",
      "Purti Sugar ltd                                1\n",
      "S J Green Park Energy Private Limited          1\n",
      "Jain Solar                                     1\n",
      "Navbharat                                      1\n",
      "Name: source, Length: 191, dtype: int64\n",
      "----------------------\n",
      "url\n",
      "Unique values :  304\n",
      "Value counts  :  http://www.cea.nic.in/                                                                 520\n",
      "http://www.lancosolar.com/pdfs/rajasthan-pv-project-details.pdf                          7\n",
      "http://www.ntpc.co.in                                                                    6\n",
      "http://viainfotech.biz/Biomass/theme5/document/green_market/REC-project-list.pdf         5\n",
      "https://cdm.unfccc.int/Projects/DB/SGS-UKL1333450990.34/view                             4\n",
      "                                                                                      ... \n",
      "https://www.zaubacorp.com/company/MAHATMA-SUGAR-POWER-LIMITED/U15421MH1997PLC111855      1\n",
      "https://cdm.unfccc.int/Projects/DB/DNV-CUK1142448670.58/view                             1\n",
      "http://www.nrel.gov/csp/solarpaces/project_detail.cfm/projectID=254                      1\n",
      "http://www.jkcement.com/power-plants                                                     1\n",
      "https://cdm.unfccc.int/Projects/DB/PJR%20CDM1353582075.03/view                           1\n",
      "Name: url, Length: 304, dtype: int64\n",
      "----------------------\n",
      "geolocation_source\n",
      "Unique values :  3\n",
      "Value counts  :  WRI                                     766\n",
      "Industry About                          119\n",
      "National Renewable Energy Laboratory      4\n",
      "Name: geolocation_source, dtype: int64\n",
      "----------------------\n",
      "wepp_id\n",
      "Unique values :  0\n",
      "Value counts  :  Series([], Name: wepp_id, dtype: int64)\n",
      "----------------------\n",
      "year_of_capacity_data\n",
      "Unique values :  1\n",
      "Value counts  :  2018.0    520\n",
      "Name: year_of_capacity_data, dtype: int64\n",
      "----------------------\n",
      "generation_gwh_2013\n",
      "Unique values :  364\n",
      "Value counts  :  0.00000        21\n",
      "14881.88000     1\n",
      "42.49645        1\n",
      "2036.00000      1\n",
      "97.73885        1\n",
      "               ..\n",
      "7229.33000      1\n",
      "657.21740       1\n",
      "507.89775       1\n",
      "8556.42400      1\n",
      "8211.00000      1\n",
      "Name: generation_gwh_2013, Length: 364, dtype: int64\n",
      "----------------------\n",
      "generation_gwh_2014\n",
      "Unique values :  374\n",
      "Value counts  :  0.00000       28\n",
      "6803.31250     1\n",
      "4735.13000     1\n",
      "145.81400      1\n",
      "2022.57000     1\n",
      "              ..\n",
      "6224.00000     1\n",
      "268.48085      1\n",
      "1255.73200     1\n",
      "164.32425      1\n",
      "1153.65300     1\n",
      "Name: generation_gwh_2014, Length: 374, dtype: int64\n",
      "----------------------\n",
      "generation_gwh_2015\n",
      "Unique values :  398\n",
      "Value counts  :  0.00000       28\n",
      "5837.76600     1\n",
      "1297.97750     1\n",
      "8076.81050     1\n",
      "1.09395        1\n",
      "              ..\n",
      "2636.86400     1\n",
      "665.19730      1\n",
      "1516.36010     1\n",
      "741.86205      1\n",
      "7130.50700     1\n",
      "Name: generation_gwh_2015, Length: 398, dtype: int64\n",
      "----------------------\n",
      "generation_gwh_2016\n",
      "Unique values :  405\n",
      "Value counts  :  0.00000       31\n",
      "8470.57000     2\n",
      "1511.00000     2\n",
      "7.31325        1\n",
      "94.85500       1\n",
      "              ..\n",
      "433.84800      1\n",
      "283.74811      1\n",
      "259.94375      1\n",
      "403.96000      1\n",
      "307.87290      1\n",
      "Name: generation_gwh_2016, Length: 405, dtype: int64\n",
      "----------------------\n",
      "generation_gwh_2017\n",
      "Unique values :  410\n",
      "Value counts  :  0.00000       33\n",
      "170.08530      2\n",
      "344.35955      1\n",
      "2265.47000     1\n",
      "59.43135       1\n",
      "              ..\n",
      "214.48220      1\n",
      "272.73945      1\n",
      "2887.00000     1\n",
      "12.73600       1\n",
      "158.73235      1\n",
      "Name: generation_gwh_2017, Length: 410, dtype: int64\n",
      "----------------------\n",
      "generation_data_source\n",
      "Unique values :  1\n",
      "Value counts  :  Central Electricity Authority    450\n",
      "Name: generation_data_source, dtype: int64\n",
      "----------------------\n",
      "estimated_generation_gwh\n",
      "Unique values :  0\n",
      "Value counts  :  Series([], Name: estimated_generation_gwh, dtype: int64)\n",
      "----------------------\n"
     ]
    }
   ],
   "source": [
    "# Checking which all columns are relevant for model training\n",
    "for i in df.columns :\n",
    "    print(i)\n",
    "    print('Unique values : ',df[i].nunique())\n",
    "    print('Value counts  : ',df[i].value_counts())\n",
    "    print('----------------------')"
   ]
  },
  {
   "cell_type": "markdown",
   "id": "9d35c9dc",
   "metadata": {},
   "source": [
    "Column country has only 1 value i.e. IND for all the 908 records.\n",
    "\n",
    "country_long has only 1 value i.e. India for all the 908 records.\n",
    "\n",
    "name has 908 unique values that means either we can drop it or use it as index.\n",
    "\n",
    "gppd_idnr has 908 unique values i.e. different value for each column.\n",
    "\n",
    "other_fuel2 has only 1 value and rest all rows are null for this column.\n",
    "\n",
    "other_fuel3 column do not have any value. \n",
    "\n",
    "wepp_id column do not have any value.\n",
    "\n",
    "year_of_capacity_data has only 1 value i.e. 2018.0 and Null values in the column.\n",
    "\n",
    "generation_data_source has only 1 unique value in 450 rows and rest all rows are null.\n",
    "\n",
    "estimated_generation_gwh has 0 unique values i.e. do not have any value and all row values are null.\n",
    "\n",
    "Since these columns could not give any significant contribution to the model performance, we can drop these columns for better analysis."
   ]
  },
  {
   "cell_type": "code",
   "execution_count": 8,
   "id": "b9eff797",
   "metadata": {},
   "outputs": [
    {
     "data": {
      "text/html": [
       "<div>\n",
       "<style scoped>\n",
       "    .dataframe tbody tr th:only-of-type {\n",
       "        vertical-align: middle;\n",
       "    }\n",
       "\n",
       "    .dataframe tbody tr th {\n",
       "        vertical-align: top;\n",
       "    }\n",
       "\n",
       "    .dataframe thead th {\n",
       "        text-align: right;\n",
       "    }\n",
       "</style>\n",
       "<table border=\"1\" class=\"dataframe\">\n",
       "  <thead>\n",
       "    <tr style=\"text-align: right;\">\n",
       "      <th></th>\n",
       "      <th>capacity_mw</th>\n",
       "      <th>latitude</th>\n",
       "      <th>longitude</th>\n",
       "      <th>primary_fuel</th>\n",
       "      <th>other_fuel1</th>\n",
       "      <th>commissioning_year</th>\n",
       "      <th>owner</th>\n",
       "      <th>source</th>\n",
       "      <th>url</th>\n",
       "      <th>geolocation_source</th>\n",
       "      <th>generation_gwh_2013</th>\n",
       "      <th>generation_gwh_2014</th>\n",
       "      <th>generation_gwh_2015</th>\n",
       "      <th>generation_gwh_2016</th>\n",
       "      <th>generation_gwh_2017</th>\n",
       "    </tr>\n",
       "  </thead>\n",
       "  <tbody>\n",
       "    <tr>\n",
       "      <th>0</th>\n",
       "      <td>2.5</td>\n",
       "      <td>28.1839</td>\n",
       "      <td>73.2407</td>\n",
       "      <td>Solar</td>\n",
       "      <td>NaN</td>\n",
       "      <td>2011.0</td>\n",
       "      <td>Solar Paces</td>\n",
       "      <td>National Renewable Energy Laboratory</td>\n",
       "      <td>http://www.nrel.gov/csp/solarpaces/project_det...</td>\n",
       "      <td>National Renewable Energy Laboratory</td>\n",
       "      <td>NaN</td>\n",
       "      <td>NaN</td>\n",
       "      <td>NaN</td>\n",
       "      <td>NaN</td>\n",
       "      <td>NaN</td>\n",
       "    </tr>\n",
       "    <tr>\n",
       "      <th>1</th>\n",
       "      <td>98.0</td>\n",
       "      <td>24.7663</td>\n",
       "      <td>74.6090</td>\n",
       "      <td>Coal</td>\n",
       "      <td>NaN</td>\n",
       "      <td>NaN</td>\n",
       "      <td>Ultratech Cement ltd</td>\n",
       "      <td>Ultratech Cement ltd</td>\n",
       "      <td>http://www.ultratechcement.com/</td>\n",
       "      <td>WRI</td>\n",
       "      <td>NaN</td>\n",
       "      <td>NaN</td>\n",
       "      <td>NaN</td>\n",
       "      <td>NaN</td>\n",
       "      <td>NaN</td>\n",
       "    </tr>\n",
       "    <tr>\n",
       "      <th>2</th>\n",
       "      <td>39.2</td>\n",
       "      <td>21.9038</td>\n",
       "      <td>69.3732</td>\n",
       "      <td>Wind</td>\n",
       "      <td>NaN</td>\n",
       "      <td>NaN</td>\n",
       "      <td>AES</td>\n",
       "      <td>CDM</td>\n",
       "      <td>https://cdm.unfccc.int/Projects/DB/DNV-CUK1328...</td>\n",
       "      <td>WRI</td>\n",
       "      <td>NaN</td>\n",
       "      <td>NaN</td>\n",
       "      <td>NaN</td>\n",
       "      <td>NaN</td>\n",
       "      <td>NaN</td>\n",
       "    </tr>\n",
       "    <tr>\n",
       "      <th>3</th>\n",
       "      <td>135.0</td>\n",
       "      <td>23.8712</td>\n",
       "      <td>91.3602</td>\n",
       "      <td>Gas</td>\n",
       "      <td>NaN</td>\n",
       "      <td>2004.0</td>\n",
       "      <td>NaN</td>\n",
       "      <td>Central Electricity Authority</td>\n",
       "      <td>http://www.cea.nic.in/</td>\n",
       "      <td>WRI</td>\n",
       "      <td>631.777928</td>\n",
       "      <td>617.789264</td>\n",
       "      <td>843.747000</td>\n",
       "      <td>886.004428</td>\n",
       "      <td>663.774500</td>\n",
       "    </tr>\n",
       "    <tr>\n",
       "      <th>4</th>\n",
       "      <td>1800.0</td>\n",
       "      <td>21.9603</td>\n",
       "      <td>82.4091</td>\n",
       "      <td>Coal</td>\n",
       "      <td>Oil</td>\n",
       "      <td>2015.0</td>\n",
       "      <td>NaN</td>\n",
       "      <td>Central Electricity Authority</td>\n",
       "      <td>http://www.cea.nic.in/</td>\n",
       "      <td>WRI</td>\n",
       "      <td>1668.290000</td>\n",
       "      <td>3035.550000</td>\n",
       "      <td>5916.370000</td>\n",
       "      <td>6243.000000</td>\n",
       "      <td>5385.579736</td>\n",
       "    </tr>\n",
       "    <tr>\n",
       "      <th>...</th>\n",
       "      <td>...</td>\n",
       "      <td>...</td>\n",
       "      <td>...</td>\n",
       "      <td>...</td>\n",
       "      <td>...</td>\n",
       "      <td>...</td>\n",
       "      <td>...</td>\n",
       "      <td>...</td>\n",
       "      <td>...</td>\n",
       "      <td>...</td>\n",
       "      <td>...</td>\n",
       "      <td>...</td>\n",
       "      <td>...</td>\n",
       "      <td>...</td>\n",
       "      <td>...</td>\n",
       "    </tr>\n",
       "    <tr>\n",
       "      <th>903</th>\n",
       "      <td>1600.0</td>\n",
       "      <td>16.2949</td>\n",
       "      <td>77.3568</td>\n",
       "      <td>Coal</td>\n",
       "      <td>Oil</td>\n",
       "      <td>2016.0</td>\n",
       "      <td>NaN</td>\n",
       "      <td>Central Electricity Authority</td>\n",
       "      <td>http://www.cea.nic.in/</td>\n",
       "      <td>WRI</td>\n",
       "      <td>NaN</td>\n",
       "      <td>NaN</td>\n",
       "      <td>0.994875</td>\n",
       "      <td>233.596650</td>\n",
       "      <td>865.400000</td>\n",
       "    </tr>\n",
       "    <tr>\n",
       "      <th>904</th>\n",
       "      <td>3.0</td>\n",
       "      <td>12.8932</td>\n",
       "      <td>78.1654</td>\n",
       "      <td>Solar</td>\n",
       "      <td>NaN</td>\n",
       "      <td>NaN</td>\n",
       "      <td>Karnataka Power Corporation Limited</td>\n",
       "      <td>Karnataka Power Corporation Limited</td>\n",
       "      <td>http://karnatakapower.com</td>\n",
       "      <td>Industry About</td>\n",
       "      <td>NaN</td>\n",
       "      <td>NaN</td>\n",
       "      <td>NaN</td>\n",
       "      <td>NaN</td>\n",
       "      <td>NaN</td>\n",
       "    </tr>\n",
       "    <tr>\n",
       "      <th>905</th>\n",
       "      <td>25.5</td>\n",
       "      <td>15.2758</td>\n",
       "      <td>75.5811</td>\n",
       "      <td>Wind</td>\n",
       "      <td>NaN</td>\n",
       "      <td>NaN</td>\n",
       "      <td>NaN</td>\n",
       "      <td>CDM</td>\n",
       "      <td>https://cdm.unfccc.int/Projects/DB/TUEV-RHEIN1...</td>\n",
       "      <td>WRI</td>\n",
       "      <td>NaN</td>\n",
       "      <td>NaN</td>\n",
       "      <td>NaN</td>\n",
       "      <td>NaN</td>\n",
       "      <td>NaN</td>\n",
       "    </tr>\n",
       "    <tr>\n",
       "      <th>906</th>\n",
       "      <td>80.0</td>\n",
       "      <td>24.3500</td>\n",
       "      <td>73.7477</td>\n",
       "      <td>Coal</td>\n",
       "      <td>NaN</td>\n",
       "      <td>NaN</td>\n",
       "      <td>Hindustan Zinc ltd</td>\n",
       "      <td>Hindustan Zinc ltd</td>\n",
       "      <td>http://www.hzlindia.com/</td>\n",
       "      <td>WRI</td>\n",
       "      <td>NaN</td>\n",
       "      <td>NaN</td>\n",
       "      <td>NaN</td>\n",
       "      <td>NaN</td>\n",
       "      <td>NaN</td>\n",
       "    </tr>\n",
       "    <tr>\n",
       "      <th>907</th>\n",
       "      <td>16.5</td>\n",
       "      <td>9.9344</td>\n",
       "      <td>77.4768</td>\n",
       "      <td>Wind</td>\n",
       "      <td>NaN</td>\n",
       "      <td>NaN</td>\n",
       "      <td>iEnergy Wind Farms</td>\n",
       "      <td>CDM</td>\n",
       "      <td>https://cdm.unfccc.int/Projects/DB/RWTUV134503...</td>\n",
       "      <td>WRI</td>\n",
       "      <td>NaN</td>\n",
       "      <td>NaN</td>\n",
       "      <td>NaN</td>\n",
       "      <td>NaN</td>\n",
       "      <td>NaN</td>\n",
       "    </tr>\n",
       "  </tbody>\n",
       "</table>\n",
       "<p>908 rows × 15 columns</p>\n",
       "</div>"
      ],
      "text/plain": [
       "     capacity_mw  latitude  longitude primary_fuel other_fuel1  \\\n",
       "0            2.5   28.1839    73.2407        Solar         NaN   \n",
       "1           98.0   24.7663    74.6090         Coal         NaN   \n",
       "2           39.2   21.9038    69.3732         Wind         NaN   \n",
       "3          135.0   23.8712    91.3602          Gas         NaN   \n",
       "4         1800.0   21.9603    82.4091         Coal         Oil   \n",
       "..           ...       ...        ...          ...         ...   \n",
       "903       1600.0   16.2949    77.3568         Coal         Oil   \n",
       "904          3.0   12.8932    78.1654        Solar         NaN   \n",
       "905         25.5   15.2758    75.5811         Wind         NaN   \n",
       "906         80.0   24.3500    73.7477         Coal         NaN   \n",
       "907         16.5    9.9344    77.4768         Wind         NaN   \n",
       "\n",
       "     commissioning_year                                owner  \\\n",
       "0                2011.0                          Solar Paces   \n",
       "1                   NaN                 Ultratech Cement ltd   \n",
       "2                   NaN                                  AES   \n",
       "3                2004.0                                  NaN   \n",
       "4                2015.0                                  NaN   \n",
       "..                  ...                                  ...   \n",
       "903              2016.0                                  NaN   \n",
       "904                 NaN  Karnataka Power Corporation Limited   \n",
       "905                 NaN                                  NaN   \n",
       "906                 NaN                   Hindustan Zinc ltd   \n",
       "907                 NaN                   iEnergy Wind Farms   \n",
       "\n",
       "                                   source  \\\n",
       "0    National Renewable Energy Laboratory   \n",
       "1                    Ultratech Cement ltd   \n",
       "2                                     CDM   \n",
       "3           Central Electricity Authority   \n",
       "4           Central Electricity Authority   \n",
       "..                                    ...   \n",
       "903         Central Electricity Authority   \n",
       "904   Karnataka Power Corporation Limited   \n",
       "905                                   CDM   \n",
       "906                    Hindustan Zinc ltd   \n",
       "907                                   CDM   \n",
       "\n",
       "                                                   url  \\\n",
       "0    http://www.nrel.gov/csp/solarpaces/project_det...   \n",
       "1                      http://www.ultratechcement.com/   \n",
       "2    https://cdm.unfccc.int/Projects/DB/DNV-CUK1328...   \n",
       "3                               http://www.cea.nic.in/   \n",
       "4                               http://www.cea.nic.in/   \n",
       "..                                                 ...   \n",
       "903                             http://www.cea.nic.in/   \n",
       "904                          http://karnatakapower.com   \n",
       "905  https://cdm.unfccc.int/Projects/DB/TUEV-RHEIN1...   \n",
       "906                           http://www.hzlindia.com/   \n",
       "907  https://cdm.unfccc.int/Projects/DB/RWTUV134503...   \n",
       "\n",
       "                       geolocation_source  generation_gwh_2013  \\\n",
       "0    National Renewable Energy Laboratory                  NaN   \n",
       "1                                     WRI                  NaN   \n",
       "2                                     WRI                  NaN   \n",
       "3                                     WRI           631.777928   \n",
       "4                                     WRI          1668.290000   \n",
       "..                                    ...                  ...   \n",
       "903                                   WRI                  NaN   \n",
       "904                        Industry About                  NaN   \n",
       "905                                   WRI                  NaN   \n",
       "906                                   WRI                  NaN   \n",
       "907                                   WRI                  NaN   \n",
       "\n",
       "     generation_gwh_2014  generation_gwh_2015  generation_gwh_2016  \\\n",
       "0                    NaN                  NaN                  NaN   \n",
       "1                    NaN                  NaN                  NaN   \n",
       "2                    NaN                  NaN                  NaN   \n",
       "3             617.789264           843.747000           886.004428   \n",
       "4            3035.550000          5916.370000          6243.000000   \n",
       "..                   ...                  ...                  ...   \n",
       "903                  NaN             0.994875           233.596650   \n",
       "904                  NaN                  NaN                  NaN   \n",
       "905                  NaN                  NaN                  NaN   \n",
       "906                  NaN                  NaN                  NaN   \n",
       "907                  NaN                  NaN                  NaN   \n",
       "\n",
       "     generation_gwh_2017  \n",
       "0                    NaN  \n",
       "1                    NaN  \n",
       "2                    NaN  \n",
       "3             663.774500  \n",
       "4            5385.579736  \n",
       "..                   ...  \n",
       "903           865.400000  \n",
       "904                  NaN  \n",
       "905                  NaN  \n",
       "906                  NaN  \n",
       "907                  NaN  \n",
       "\n",
       "[908 rows x 15 columns]"
      ]
     },
     "execution_count": 8,
     "metadata": {},
     "output_type": "execute_result"
    }
   ],
   "source": [
    "df.drop(['country','country_long','name','gppd_idnr','other_fuel2','other_fuel3','wepp_id','year_of_capacity_data','generation_data_source','estimated_generation_gwh'],axis=1,inplace=True)\n",
    "df"
   ]
  },
  {
   "cell_type": "markdown",
   "id": "8ae48323",
   "metadata": {},
   "source": [
    "Dropped the irrelevant columns and now we will look at the NaN values present in the dataset."
   ]
  },
  {
   "cell_type": "code",
   "execution_count": 9,
   "id": "b8ecf9aa",
   "metadata": {},
   "outputs": [
    {
     "data": {
      "text/plain": [
       "capacity_mw              0\n",
       "latitude                46\n",
       "longitude               46\n",
       "primary_fuel             0\n",
       "other_fuel1            709\n",
       "commissioning_year     380\n",
       "owner                  566\n",
       "source                   0\n",
       "url                      0\n",
       "geolocation_source      19\n",
       "generation_gwh_2013    524\n",
       "generation_gwh_2014    507\n",
       "generation_gwh_2015    483\n",
       "generation_gwh_2016    471\n",
       "generation_gwh_2017    465\n",
       "dtype: int64"
      ]
     },
     "execution_count": 9,
     "metadata": {},
     "output_type": "execute_result"
    }
   ],
   "source": [
    "#Checking nulls in the dataset\n",
    "df.isnull().sum()"
   ]
  },
  {
   "cell_type": "markdown",
   "id": "f3d471e6",
   "metadata": {},
   "source": [
    "Columns other_fuel1,owner,generation_gwh_2013,generation_gwh_2014,generation_gwh_2015,generation_gwh_2016,generation_gwh_2017,commissioning_year are having null values more than 40%, hence removing the columns."
   ]
  },
  {
   "cell_type": "code",
   "execution_count": 10,
   "id": "3c43534f",
   "metadata": {},
   "outputs": [
    {
     "data": {
      "text/html": [
       "<div>\n",
       "<style scoped>\n",
       "    .dataframe tbody tr th:only-of-type {\n",
       "        vertical-align: middle;\n",
       "    }\n",
       "\n",
       "    .dataframe tbody tr th {\n",
       "        vertical-align: top;\n",
       "    }\n",
       "\n",
       "    .dataframe thead th {\n",
       "        text-align: right;\n",
       "    }\n",
       "</style>\n",
       "<table border=\"1\" class=\"dataframe\">\n",
       "  <thead>\n",
       "    <tr style=\"text-align: right;\">\n",
       "      <th></th>\n",
       "      <th>capacity_mw</th>\n",
       "      <th>latitude</th>\n",
       "      <th>longitude</th>\n",
       "      <th>primary_fuel</th>\n",
       "      <th>source</th>\n",
       "      <th>url</th>\n",
       "      <th>geolocation_source</th>\n",
       "    </tr>\n",
       "  </thead>\n",
       "  <tbody>\n",
       "    <tr>\n",
       "      <th>0</th>\n",
       "      <td>2.5</td>\n",
       "      <td>28.1839</td>\n",
       "      <td>73.2407</td>\n",
       "      <td>Solar</td>\n",
       "      <td>National Renewable Energy Laboratory</td>\n",
       "      <td>http://www.nrel.gov/csp/solarpaces/project_det...</td>\n",
       "      <td>National Renewable Energy Laboratory</td>\n",
       "    </tr>\n",
       "    <tr>\n",
       "      <th>1</th>\n",
       "      <td>98.0</td>\n",
       "      <td>24.7663</td>\n",
       "      <td>74.6090</td>\n",
       "      <td>Coal</td>\n",
       "      <td>Ultratech Cement ltd</td>\n",
       "      <td>http://www.ultratechcement.com/</td>\n",
       "      <td>WRI</td>\n",
       "    </tr>\n",
       "    <tr>\n",
       "      <th>2</th>\n",
       "      <td>39.2</td>\n",
       "      <td>21.9038</td>\n",
       "      <td>69.3732</td>\n",
       "      <td>Wind</td>\n",
       "      <td>CDM</td>\n",
       "      <td>https://cdm.unfccc.int/Projects/DB/DNV-CUK1328...</td>\n",
       "      <td>WRI</td>\n",
       "    </tr>\n",
       "    <tr>\n",
       "      <th>3</th>\n",
       "      <td>135.0</td>\n",
       "      <td>23.8712</td>\n",
       "      <td>91.3602</td>\n",
       "      <td>Gas</td>\n",
       "      <td>Central Electricity Authority</td>\n",
       "      <td>http://www.cea.nic.in/</td>\n",
       "      <td>WRI</td>\n",
       "    </tr>\n",
       "    <tr>\n",
       "      <th>4</th>\n",
       "      <td>1800.0</td>\n",
       "      <td>21.9603</td>\n",
       "      <td>82.4091</td>\n",
       "      <td>Coal</td>\n",
       "      <td>Central Electricity Authority</td>\n",
       "      <td>http://www.cea.nic.in/</td>\n",
       "      <td>WRI</td>\n",
       "    </tr>\n",
       "    <tr>\n",
       "      <th>...</th>\n",
       "      <td>...</td>\n",
       "      <td>...</td>\n",
       "      <td>...</td>\n",
       "      <td>...</td>\n",
       "      <td>...</td>\n",
       "      <td>...</td>\n",
       "      <td>...</td>\n",
       "    </tr>\n",
       "    <tr>\n",
       "      <th>903</th>\n",
       "      <td>1600.0</td>\n",
       "      <td>16.2949</td>\n",
       "      <td>77.3568</td>\n",
       "      <td>Coal</td>\n",
       "      <td>Central Electricity Authority</td>\n",
       "      <td>http://www.cea.nic.in/</td>\n",
       "      <td>WRI</td>\n",
       "    </tr>\n",
       "    <tr>\n",
       "      <th>904</th>\n",
       "      <td>3.0</td>\n",
       "      <td>12.8932</td>\n",
       "      <td>78.1654</td>\n",
       "      <td>Solar</td>\n",
       "      <td>Karnataka Power Corporation Limited</td>\n",
       "      <td>http://karnatakapower.com</td>\n",
       "      <td>Industry About</td>\n",
       "    </tr>\n",
       "    <tr>\n",
       "      <th>905</th>\n",
       "      <td>25.5</td>\n",
       "      <td>15.2758</td>\n",
       "      <td>75.5811</td>\n",
       "      <td>Wind</td>\n",
       "      <td>CDM</td>\n",
       "      <td>https://cdm.unfccc.int/Projects/DB/TUEV-RHEIN1...</td>\n",
       "      <td>WRI</td>\n",
       "    </tr>\n",
       "    <tr>\n",
       "      <th>906</th>\n",
       "      <td>80.0</td>\n",
       "      <td>24.3500</td>\n",
       "      <td>73.7477</td>\n",
       "      <td>Coal</td>\n",
       "      <td>Hindustan Zinc ltd</td>\n",
       "      <td>http://www.hzlindia.com/</td>\n",
       "      <td>WRI</td>\n",
       "    </tr>\n",
       "    <tr>\n",
       "      <th>907</th>\n",
       "      <td>16.5</td>\n",
       "      <td>9.9344</td>\n",
       "      <td>77.4768</td>\n",
       "      <td>Wind</td>\n",
       "      <td>CDM</td>\n",
       "      <td>https://cdm.unfccc.int/Projects/DB/RWTUV134503...</td>\n",
       "      <td>WRI</td>\n",
       "    </tr>\n",
       "  </tbody>\n",
       "</table>\n",
       "<p>908 rows × 7 columns</p>\n",
       "</div>"
      ],
      "text/plain": [
       "     capacity_mw  latitude  longitude primary_fuel  \\\n",
       "0            2.5   28.1839    73.2407        Solar   \n",
       "1           98.0   24.7663    74.6090         Coal   \n",
       "2           39.2   21.9038    69.3732         Wind   \n",
       "3          135.0   23.8712    91.3602          Gas   \n",
       "4         1800.0   21.9603    82.4091         Coal   \n",
       "..           ...       ...        ...          ...   \n",
       "903       1600.0   16.2949    77.3568         Coal   \n",
       "904          3.0   12.8932    78.1654        Solar   \n",
       "905         25.5   15.2758    75.5811         Wind   \n",
       "906         80.0   24.3500    73.7477         Coal   \n",
       "907         16.5    9.9344    77.4768         Wind   \n",
       "\n",
       "                                   source  \\\n",
       "0    National Renewable Energy Laboratory   \n",
       "1                    Ultratech Cement ltd   \n",
       "2                                     CDM   \n",
       "3           Central Electricity Authority   \n",
       "4           Central Electricity Authority   \n",
       "..                                    ...   \n",
       "903         Central Electricity Authority   \n",
       "904   Karnataka Power Corporation Limited   \n",
       "905                                   CDM   \n",
       "906                    Hindustan Zinc ltd   \n",
       "907                                   CDM   \n",
       "\n",
       "                                                   url  \\\n",
       "0    http://www.nrel.gov/csp/solarpaces/project_det...   \n",
       "1                      http://www.ultratechcement.com/   \n",
       "2    https://cdm.unfccc.int/Projects/DB/DNV-CUK1328...   \n",
       "3                               http://www.cea.nic.in/   \n",
       "4                               http://www.cea.nic.in/   \n",
       "..                                                 ...   \n",
       "903                             http://www.cea.nic.in/   \n",
       "904                          http://karnatakapower.com   \n",
       "905  https://cdm.unfccc.int/Projects/DB/TUEV-RHEIN1...   \n",
       "906                           http://www.hzlindia.com/   \n",
       "907  https://cdm.unfccc.int/Projects/DB/RWTUV134503...   \n",
       "\n",
       "                       geolocation_source  \n",
       "0    National Renewable Energy Laboratory  \n",
       "1                                     WRI  \n",
       "2                                     WRI  \n",
       "3                                     WRI  \n",
       "4                                     WRI  \n",
       "..                                    ...  \n",
       "903                                   WRI  \n",
       "904                        Industry About  \n",
       "905                                   WRI  \n",
       "906                                   WRI  \n",
       "907                                   WRI  \n",
       "\n",
       "[908 rows x 7 columns]"
      ]
     },
     "execution_count": 10,
     "metadata": {},
     "output_type": "execute_result"
    }
   ],
   "source": [
    "df.drop(['other_fuel1','owner','generation_gwh_2013','generation_gwh_2014','generation_gwh_2015','generation_gwh_2016','generation_gwh_2017','commissioning_year'],axis=1,inplace=True)\n",
    "df"
   ]
  },
  {
   "cell_type": "markdown",
   "id": "9478d769",
   "metadata": {},
   "source": [
    "Now we have dataset with 908 rows and 7 columns."
   ]
  },
  {
   "cell_type": "markdown",
   "id": "8e136c67",
   "metadata": {},
   "source": [
    "### EDA and Visualisations"
   ]
  },
  {
   "cell_type": "code",
   "execution_count": 11,
   "id": "f6b4f6b4",
   "metadata": {},
   "outputs": [
    {
     "data": {
      "text/plain": [
       "capacity_mw            0\n",
       "latitude              46\n",
       "longitude             46\n",
       "primary_fuel           0\n",
       "source                 0\n",
       "url                    0\n",
       "geolocation_source    19\n",
       "dtype: int64"
      ]
     },
     "execution_count": 11,
     "metadata": {},
     "output_type": "execute_result"
    }
   ],
   "source": [
    "# Checking for nulls\n",
    "df.isnull().sum()"
   ]
  },
  {
   "cell_type": "markdown",
   "id": "8f8ebd37",
   "metadata": {},
   "source": [
    "Columns latitude,longitude,commissioning_year,geolocation_source are still having null values. Let's treat these."
   ]
  },
  {
   "cell_type": "code",
   "execution_count": 12,
   "id": "ba8d1a12",
   "metadata": {},
   "outputs": [
    {
     "data": {
      "text/plain": [
       "<AxesSubplot:>"
      ]
     },
     "execution_count": 12,
     "metadata": {},
     "output_type": "execute_result"
    },
    {
     "data": {
      "image/png": "[encoded data removed]",
      "text/plain": [
       "<Figure size 432x288 with 2 Axes>"
      ]
     },
     "metadata": {
      "needs_background": "light"
     },
     "output_type": "display_data"
    }
   ],
   "source": [
    "# Visualising null values\n",
    "sns.heatmap(df.isnull())"
   ]
  },
  {
   "cell_type": "markdown",
   "id": "8da4196c",
   "metadata": {},
   "source": [
    "Multiple null values in above mentioned columns can be seen here in heatmap."
   ]
  },
  {
   "cell_type": "code",
   "execution_count": 13,
   "id": "5284cf77",
   "metadata": {},
   "outputs": [
    {
     "data": {
      "text/html": [
       "<div>\n",
       "<style scoped>\n",
       "    .dataframe tbody tr th:only-of-type {\n",
       "        vertical-align: middle;\n",
       "    }\n",
       "\n",
       "    .dataframe tbody tr th {\n",
       "        vertical-align: top;\n",
       "    }\n",
       "\n",
       "    .dataframe thead th {\n",
       "        text-align: right;\n",
       "    }\n",
       "</style>\n",
       "<table border=\"1\" class=\"dataframe\">\n",
       "  <thead>\n",
       "    <tr style=\"text-align: right;\">\n",
       "      <th></th>\n",
       "      <th>capacity_mw</th>\n",
       "      <th>latitude</th>\n",
       "      <th>longitude</th>\n",
       "      <th>primary_fuel</th>\n",
       "      <th>source</th>\n",
       "      <th>url</th>\n",
       "      <th>geolocation_source</th>\n",
       "    </tr>\n",
       "  </thead>\n",
       "  <tbody>\n",
       "    <tr>\n",
       "      <th>14</th>\n",
       "      <td>9.00</td>\n",
       "      <td>NaN</td>\n",
       "      <td>NaN</td>\n",
       "      <td>Hydro</td>\n",
       "      <td>Central Electricity Authority</td>\n",
       "      <td>http://www.cea.nic.in/</td>\n",
       "      <td>WRI</td>\n",
       "    </tr>\n",
       "    <tr>\n",
       "      <th>25</th>\n",
       "      <td>50.00</td>\n",
       "      <td>NaN</td>\n",
       "      <td>NaN</td>\n",
       "      <td>Solar</td>\n",
       "      <td>National Renewable Energy Laboratory</td>\n",
       "      <td>http://www.nrel.gov/csp/solarpaces/project_det...</td>\n",
       "      <td>NaN</td>\n",
       "    </tr>\n",
       "    <tr>\n",
       "      <th>43</th>\n",
       "      <td>450.00</td>\n",
       "      <td>NaN</td>\n",
       "      <td>NaN</td>\n",
       "      <td>Hydro</td>\n",
       "      <td>Central Electricity Authority</td>\n",
       "      <td>http://www.cea.nic.in/</td>\n",
       "      <td>WRI</td>\n",
       "    </tr>\n",
       "    <tr>\n",
       "      <th>46</th>\n",
       "      <td>600.00</td>\n",
       "      <td>NaN</td>\n",
       "      <td>NaN</td>\n",
       "      <td>Coal</td>\n",
       "      <td>Central Electricity Authority</td>\n",
       "      <td>http://www.cea.nic.in/</td>\n",
       "      <td>WRI</td>\n",
       "    </tr>\n",
       "    <tr>\n",
       "      <th>68</th>\n",
       "      <td>5.00</td>\n",
       "      <td>NaN</td>\n",
       "      <td>NaN</td>\n",
       "      <td>Wind</td>\n",
       "      <td>CDM</td>\n",
       "      <td>https://cdm.unfccc.int/Projects/DB/DNV-CUK1218...</td>\n",
       "      <td>NaN</td>\n",
       "    </tr>\n",
       "    <tr>\n",
       "      <th>73</th>\n",
       "      <td>25.20</td>\n",
       "      <td>NaN</td>\n",
       "      <td>NaN</td>\n",
       "      <td>Oil</td>\n",
       "      <td>Central Electricity Authority</td>\n",
       "      <td>http://www.cea.nic.in/</td>\n",
       "      <td>WRI</td>\n",
       "    </tr>\n",
       "    <tr>\n",
       "      <th>179</th>\n",
       "      <td>5.00</td>\n",
       "      <td>NaN</td>\n",
       "      <td>NaN</td>\n",
       "      <td>Hydro</td>\n",
       "      <td>Central Electricity Authority</td>\n",
       "      <td>http://www.cea.nic.in/</td>\n",
       "      <td>WRI</td>\n",
       "    </tr>\n",
       "    <tr>\n",
       "      <th>193</th>\n",
       "      <td>125.00</td>\n",
       "      <td>NaN</td>\n",
       "      <td>NaN</td>\n",
       "      <td>Wind</td>\n",
       "      <td>CDM</td>\n",
       "      <td>https://cdm.unfccc.int/Projects/DB/DNV-CUK1142...</td>\n",
       "      <td>NaN</td>\n",
       "    </tr>\n",
       "    <tr>\n",
       "      <th>202</th>\n",
       "      <td>15.00</td>\n",
       "      <td>NaN</td>\n",
       "      <td>NaN</td>\n",
       "      <td>Hydro</td>\n",
       "      <td>Central Electricity Authority</td>\n",
       "      <td>http://www.cea.nic.in/</td>\n",
       "      <td>WRI</td>\n",
       "    </tr>\n",
       "    <tr>\n",
       "      <th>209</th>\n",
       "      <td>75.00</td>\n",
       "      <td>NaN</td>\n",
       "      <td>NaN</td>\n",
       "      <td>Wind</td>\n",
       "      <td>CDM</td>\n",
       "      <td>https://cdm.unfccc.int/filestorage/O/6/L/O6LOW...</td>\n",
       "      <td>NaN</td>\n",
       "    </tr>\n",
       "    <tr>\n",
       "      <th>251</th>\n",
       "      <td>28.00</td>\n",
       "      <td>NaN</td>\n",
       "      <td>NaN</td>\n",
       "      <td>Solar</td>\n",
       "      <td>National Renewable Energy Laboratory</td>\n",
       "      <td>http://www.nrel.gov/csp/solarpaces/project_det...</td>\n",
       "      <td>NaN</td>\n",
       "    </tr>\n",
       "    <tr>\n",
       "      <th>330</th>\n",
       "      <td>195.00</td>\n",
       "      <td>NaN</td>\n",
       "      <td>NaN</td>\n",
       "      <td>Hydro</td>\n",
       "      <td>Central Electricity Authority</td>\n",
       "      <td>http://www.cea.nic.in/</td>\n",
       "      <td>WRI</td>\n",
       "    </tr>\n",
       "    <tr>\n",
       "      <th>331</th>\n",
       "      <td>225.00</td>\n",
       "      <td>NaN</td>\n",
       "      <td>NaN</td>\n",
       "      <td>Gas</td>\n",
       "      <td>Central Electricity Authority</td>\n",
       "      <td>http://www.cea.nic.in/</td>\n",
       "      <td>WRI</td>\n",
       "    </tr>\n",
       "    <tr>\n",
       "      <th>333</th>\n",
       "      <td>35.00</td>\n",
       "      <td>NaN</td>\n",
       "      <td>NaN</td>\n",
       "      <td>Coal</td>\n",
       "      <td>Central Electricity Authority</td>\n",
       "      <td>http://www.cea.nic.in/</td>\n",
       "      <td>WRI</td>\n",
       "    </tr>\n",
       "    <tr>\n",
       "      <th>387</th>\n",
       "      <td>100.00</td>\n",
       "      <td>NaN</td>\n",
       "      <td>NaN</td>\n",
       "      <td>Solar</td>\n",
       "      <td>National Renewable Energy Laboratory</td>\n",
       "      <td>http://www.nrel.gov/csp/solarpaces/project_det...</td>\n",
       "      <td>NaN</td>\n",
       "    </tr>\n",
       "    <tr>\n",
       "      <th>421</th>\n",
       "      <td>36.00</td>\n",
       "      <td>NaN</td>\n",
       "      <td>NaN</td>\n",
       "      <td>Oil</td>\n",
       "      <td>Central Electricity Authority</td>\n",
       "      <td>http://www.cea.nic.in/</td>\n",
       "      <td>WRI</td>\n",
       "    </tr>\n",
       "    <tr>\n",
       "      <th>423</th>\n",
       "      <td>24.00</td>\n",
       "      <td>NaN</td>\n",
       "      <td>NaN</td>\n",
       "      <td>Hydro</td>\n",
       "      <td>Central Electricity Authority</td>\n",
       "      <td>http://www.cea.nic.in/</td>\n",
       "      <td>WRI</td>\n",
       "    </tr>\n",
       "    <tr>\n",
       "      <th>431</th>\n",
       "      <td>12.00</td>\n",
       "      <td>NaN</td>\n",
       "      <td>NaN</td>\n",
       "      <td>Hydro</td>\n",
       "      <td>Central Electricity Authority</td>\n",
       "      <td>http://www.cea.nic.in/</td>\n",
       "      <td>WRI</td>\n",
       "    </tr>\n",
       "    <tr>\n",
       "      <th>436</th>\n",
       "      <td>36.80</td>\n",
       "      <td>NaN</td>\n",
       "      <td>NaN</td>\n",
       "      <td>Oil</td>\n",
       "      <td>Central Electricity Authority</td>\n",
       "      <td>http://www.cea.nic.in/</td>\n",
       "      <td>WRI</td>\n",
       "    </tr>\n",
       "    <tr>\n",
       "      <th>441</th>\n",
       "      <td>4.00</td>\n",
       "      <td>NaN</td>\n",
       "      <td>NaN</td>\n",
       "      <td>Wind</td>\n",
       "      <td>CDM</td>\n",
       "      <td>https://cdm.unfccc.int/Projects/DB/LRQA%20Ltd1...</td>\n",
       "      <td>NaN</td>\n",
       "    </tr>\n",
       "    <tr>\n",
       "      <th>467</th>\n",
       "      <td>90.00</td>\n",
       "      <td>NaN</td>\n",
       "      <td>NaN</td>\n",
       "      <td>Coal</td>\n",
       "      <td>Central Electricity Authority</td>\n",
       "      <td>http://www.cea.nic.in/</td>\n",
       "      <td>WRI</td>\n",
       "    </tr>\n",
       "    <tr>\n",
       "      <th>479</th>\n",
       "      <td>9.30</td>\n",
       "      <td>NaN</td>\n",
       "      <td>NaN</td>\n",
       "      <td>Hydro</td>\n",
       "      <td>Central Electricity Authority</td>\n",
       "      <td>http://www.cea.nic.in/</td>\n",
       "      <td>WRI</td>\n",
       "    </tr>\n",
       "    <tr>\n",
       "      <th>480</th>\n",
       "      <td>9.00</td>\n",
       "      <td>NaN</td>\n",
       "      <td>NaN</td>\n",
       "      <td>Hydro</td>\n",
       "      <td>Central Electricity Authority</td>\n",
       "      <td>http://www.cea.nic.in/</td>\n",
       "      <td>WRI</td>\n",
       "    </tr>\n",
       "    <tr>\n",
       "      <th>484</th>\n",
       "      <td>4.00</td>\n",
       "      <td>NaN</td>\n",
       "      <td>NaN</td>\n",
       "      <td>Hydro</td>\n",
       "      <td>Central Electricity Authority</td>\n",
       "      <td>http://www.cea.nic.in/</td>\n",
       "      <td>WRI</td>\n",
       "    </tr>\n",
       "    <tr>\n",
       "      <th>503</th>\n",
       "      <td>50.00</td>\n",
       "      <td>NaN</td>\n",
       "      <td>NaN</td>\n",
       "      <td>Solar</td>\n",
       "      <td>National Renewable Energy Laboratory</td>\n",
       "      <td>http://www.nrel.gov/csp/solarpaces/project_det...</td>\n",
       "      <td>NaN</td>\n",
       "    </tr>\n",
       "    <tr>\n",
       "      <th>539</th>\n",
       "      <td>5.00</td>\n",
       "      <td>NaN</td>\n",
       "      <td>NaN</td>\n",
       "      <td>Hydro</td>\n",
       "      <td>Central Electricity Authority</td>\n",
       "      <td>http://www.cea.nic.in/</td>\n",
       "      <td>WRI</td>\n",
       "    </tr>\n",
       "    <tr>\n",
       "      <th>541</th>\n",
       "      <td>45.00</td>\n",
       "      <td>NaN</td>\n",
       "      <td>NaN</td>\n",
       "      <td>Coal</td>\n",
       "      <td>Central Electricity Authority</td>\n",
       "      <td>http://www.cea.nic.in/</td>\n",
       "      <td>WRI</td>\n",
       "    </tr>\n",
       "    <tr>\n",
       "      <th>546</th>\n",
       "      <td>27.65</td>\n",
       "      <td>NaN</td>\n",
       "      <td>NaN</td>\n",
       "      <td>Wind</td>\n",
       "      <td>CDM</td>\n",
       "      <td>https://cdm.unfccc.int/Projects/DB/DNV-CUK1173...</td>\n",
       "      <td>NaN</td>\n",
       "    </tr>\n",
       "    <tr>\n",
       "      <th>656</th>\n",
       "      <td>22.50</td>\n",
       "      <td>NaN</td>\n",
       "      <td>NaN</td>\n",
       "      <td>Wind</td>\n",
       "      <td>CDM</td>\n",
       "      <td>https://cdm.unfccc.int/Projects/DB/BVQI1201770...</td>\n",
       "      <td>NaN</td>\n",
       "    </tr>\n",
       "    <tr>\n",
       "      <th>675</th>\n",
       "      <td>22.50</td>\n",
       "      <td>NaN</td>\n",
       "      <td>NaN</td>\n",
       "      <td>Wind</td>\n",
       "      <td>CDM</td>\n",
       "      <td>https://cdm.unfccc.int/Projects/DB/RWTUV128515...</td>\n",
       "      <td>NaN</td>\n",
       "    </tr>\n",
       "    <tr>\n",
       "      <th>681</th>\n",
       "      <td>100.00</td>\n",
       "      <td>NaN</td>\n",
       "      <td>NaN</td>\n",
       "      <td>Hydro</td>\n",
       "      <td>Central Electricity Authority</td>\n",
       "      <td>http://www.cea.nic.in/</td>\n",
       "      <td>WRI</td>\n",
       "    </tr>\n",
       "    <tr>\n",
       "      <th>706</th>\n",
       "      <td>6.60</td>\n",
       "      <td>NaN</td>\n",
       "      <td>NaN</td>\n",
       "      <td>Hydro</td>\n",
       "      <td>Central Electricity Authority</td>\n",
       "      <td>http://www.cea.nic.in/</td>\n",
       "      <td>WRI</td>\n",
       "    </tr>\n",
       "    <tr>\n",
       "      <th>712</th>\n",
       "      <td>150.00</td>\n",
       "      <td>NaN</td>\n",
       "      <td>NaN</td>\n",
       "      <td>Coal</td>\n",
       "      <td>Central Electricity Authority</td>\n",
       "      <td>http://www.cea.nic.in/</td>\n",
       "      <td>WRI</td>\n",
       "    </tr>\n",
       "    <tr>\n",
       "      <th>713</th>\n",
       "      <td>18.00</td>\n",
       "      <td>NaN</td>\n",
       "      <td>NaN</td>\n",
       "      <td>Hydro</td>\n",
       "      <td>Central Electricity Authority</td>\n",
       "      <td>http://www.cea.nic.in/</td>\n",
       "      <td>WRI</td>\n",
       "    </tr>\n",
       "    <tr>\n",
       "      <th>732</th>\n",
       "      <td>3.30</td>\n",
       "      <td>NaN</td>\n",
       "      <td>NaN</td>\n",
       "      <td>Hydro</td>\n",
       "      <td>Central Electricity Authority</td>\n",
       "      <td>http://www.cea.nic.in/</td>\n",
       "      <td>WRI</td>\n",
       "    </tr>\n",
       "    <tr>\n",
       "      <th>733</th>\n",
       "      <td>6.60</td>\n",
       "      <td>NaN</td>\n",
       "      <td>NaN</td>\n",
       "      <td>Hydro</td>\n",
       "      <td>Central Electricity Authority</td>\n",
       "      <td>http://www.cea.nic.in/</td>\n",
       "      <td>WRI</td>\n",
       "    </tr>\n",
       "    <tr>\n",
       "      <th>742</th>\n",
       "      <td>4.00</td>\n",
       "      <td>NaN</td>\n",
       "      <td>NaN</td>\n",
       "      <td>Hydro</td>\n",
       "      <td>Central Electricity Authority</td>\n",
       "      <td>http://www.cea.nic.in/</td>\n",
       "      <td>WRI</td>\n",
       "    </tr>\n",
       "    <tr>\n",
       "      <th>771</th>\n",
       "      <td>24.00</td>\n",
       "      <td>NaN</td>\n",
       "      <td>NaN</td>\n",
       "      <td>Wind</td>\n",
       "      <td>CDM</td>\n",
       "      <td>https://cdm.unfccc.int/Projects/DB/RWTUV135219...</td>\n",
       "      <td>NaN</td>\n",
       "    </tr>\n",
       "    <tr>\n",
       "      <th>774</th>\n",
       "      <td>3.00</td>\n",
       "      <td>NaN</td>\n",
       "      <td>NaN</td>\n",
       "      <td>Wind</td>\n",
       "      <td>CDM</td>\n",
       "      <td>https://cdm.unfccc.int/Projects/DB/SGS-UKL1333...</td>\n",
       "      <td>NaN</td>\n",
       "    </tr>\n",
       "    <tr>\n",
       "      <th>775</th>\n",
       "      <td>6.30</td>\n",
       "      <td>NaN</td>\n",
       "      <td>NaN</td>\n",
       "      <td>Wind</td>\n",
       "      <td>CDM</td>\n",
       "      <td>https://cdm.unfccc.int/Projects/DB/SGS-UKL1333...</td>\n",
       "      <td>NaN</td>\n",
       "    </tr>\n",
       "    <tr>\n",
       "      <th>776</th>\n",
       "      <td>6.25</td>\n",
       "      <td>NaN</td>\n",
       "      <td>NaN</td>\n",
       "      <td>Wind</td>\n",
       "      <td>CDM</td>\n",
       "      <td>https://cdm.unfccc.int/Projects/DB/SGS-UKL1333...</td>\n",
       "      <td>NaN</td>\n",
       "    </tr>\n",
       "    <tr>\n",
       "      <th>777</th>\n",
       "      <td>6.00</td>\n",
       "      <td>NaN</td>\n",
       "      <td>NaN</td>\n",
       "      <td>Wind</td>\n",
       "      <td>CDM</td>\n",
       "      <td>https://cdm.unfccc.int/Projects/DB/SGS-UKL1333...</td>\n",
       "      <td>NaN</td>\n",
       "    </tr>\n",
       "    <tr>\n",
       "      <th>785</th>\n",
       "      <td>4.50</td>\n",
       "      <td>NaN</td>\n",
       "      <td>NaN</td>\n",
       "      <td>Hydro</td>\n",
       "      <td>Central Electricity Authority</td>\n",
       "      <td>http://www.cea.nic.in/</td>\n",
       "      <td>WRI</td>\n",
       "    </tr>\n",
       "    <tr>\n",
       "      <th>829</th>\n",
       "      <td>74.00</td>\n",
       "      <td>NaN</td>\n",
       "      <td>NaN</td>\n",
       "      <td>Wind</td>\n",
       "      <td>CDM</td>\n",
       "      <td>https://cdm.unfccc.int/filestorage/2/F/R/2FRTL...</td>\n",
       "      <td>NaN</td>\n",
       "    </tr>\n",
       "    <tr>\n",
       "      <th>885</th>\n",
       "      <td>42.50</td>\n",
       "      <td>NaN</td>\n",
       "      <td>NaN</td>\n",
       "      <td>Wind</td>\n",
       "      <td>CDM</td>\n",
       "      <td>https://cdm.unfccc.int/Projects/DB/SGS-UKL1225...</td>\n",
       "      <td>NaN</td>\n",
       "    </tr>\n",
       "    <tr>\n",
       "      <th>887</th>\n",
       "      <td>21.00</td>\n",
       "      <td>NaN</td>\n",
       "      <td>NaN</td>\n",
       "      <td>Wind</td>\n",
       "      <td>CDM</td>\n",
       "      <td>https://cdm.unfccc.int/Projects/DB/DNV-CUK1172...</td>\n",
       "      <td>NaN</td>\n",
       "    </tr>\n",
       "  </tbody>\n",
       "</table>\n",
       "</div>"
      ],
      "text/plain": [
       "     capacity_mw  latitude  longitude primary_fuel  \\\n",
       "14          9.00       NaN        NaN        Hydro   \n",
       "25         50.00       NaN        NaN        Solar   \n",
       "43        450.00       NaN        NaN        Hydro   \n",
       "46        600.00       NaN        NaN         Coal   \n",
       "68          5.00       NaN        NaN         Wind   \n",
       "73         25.20       NaN        NaN          Oil   \n",
       "179         5.00       NaN        NaN        Hydro   \n",
       "193       125.00       NaN        NaN         Wind   \n",
       "202        15.00       NaN        NaN        Hydro   \n",
       "209        75.00       NaN        NaN         Wind   \n",
       "251        28.00       NaN        NaN        Solar   \n",
       "330       195.00       NaN        NaN        Hydro   \n",
       "331       225.00       NaN        NaN          Gas   \n",
       "333        35.00       NaN        NaN         Coal   \n",
       "387       100.00       NaN        NaN        Solar   \n",
       "421        36.00       NaN        NaN          Oil   \n",
       "423        24.00       NaN        NaN        Hydro   \n",
       "431        12.00       NaN        NaN        Hydro   \n",
       "436        36.80       NaN        NaN          Oil   \n",
       "441         4.00       NaN        NaN         Wind   \n",
       "467        90.00       NaN        NaN         Coal   \n",
       "479         9.30       NaN        NaN        Hydro   \n",
       "480         9.00       NaN        NaN        Hydro   \n",
       "484         4.00       NaN        NaN        Hydro   \n",
       "503        50.00       NaN        NaN        Solar   \n",
       "539         5.00       NaN        NaN        Hydro   \n",
       "541        45.00       NaN        NaN         Coal   \n",
       "546        27.65       NaN        NaN         Wind   \n",
       "656        22.50       NaN        NaN         Wind   \n",
       "675        22.50       NaN        NaN         Wind   \n",
       "681       100.00       NaN        NaN        Hydro   \n",
       "706         6.60       NaN        NaN        Hydro   \n",
       "712       150.00       NaN        NaN         Coal   \n",
       "713        18.00       NaN        NaN        Hydro   \n",
       "732         3.30       NaN        NaN        Hydro   \n",
       "733         6.60       NaN        NaN        Hydro   \n",
       "742         4.00       NaN        NaN        Hydro   \n",
       "771        24.00       NaN        NaN         Wind   \n",
       "774         3.00       NaN        NaN         Wind   \n",
       "775         6.30       NaN        NaN         Wind   \n",
       "776         6.25       NaN        NaN         Wind   \n",
       "777         6.00       NaN        NaN         Wind   \n",
       "785         4.50       NaN        NaN        Hydro   \n",
       "829        74.00       NaN        NaN         Wind   \n",
       "885        42.50       NaN        NaN         Wind   \n",
       "887        21.00       NaN        NaN         Wind   \n",
       "\n",
       "                                   source  \\\n",
       "14          Central Electricity Authority   \n",
       "25   National Renewable Energy Laboratory   \n",
       "43          Central Electricity Authority   \n",
       "46          Central Electricity Authority   \n",
       "68                                    CDM   \n",
       "73          Central Electricity Authority   \n",
       "179         Central Electricity Authority   \n",
       "193                                   CDM   \n",
       "202         Central Electricity Authority   \n",
       "209                                   CDM   \n",
       "251  National Renewable Energy Laboratory   \n",
       "330         Central Electricity Authority   \n",
       "331         Central Electricity Authority   \n",
       "333         Central Electricity Authority   \n",
       "387  National Renewable Energy Laboratory   \n",
       "421         Central Electricity Authority   \n",
       "423         Central Electricity Authority   \n",
       "431         Central Electricity Authority   \n",
       "436         Central Electricity Authority   \n",
       "441                                   CDM   \n",
       "467         Central Electricity Authority   \n",
       "479         Central Electricity Authority   \n",
       "480         Central Electricity Authority   \n",
       "484         Central Electricity Authority   \n",
       "503  National Renewable Energy Laboratory   \n",
       "539         Central Electricity Authority   \n",
       "541         Central Electricity Authority   \n",
       "546                                   CDM   \n",
       "656                                   CDM   \n",
       "675                                   CDM   \n",
       "681         Central Electricity Authority   \n",
       "706         Central Electricity Authority   \n",
       "712         Central Electricity Authority   \n",
       "713         Central Electricity Authority   \n",
       "732         Central Electricity Authority   \n",
       "733         Central Electricity Authority   \n",
       "742         Central Electricity Authority   \n",
       "771                                   CDM   \n",
       "774                                   CDM   \n",
       "775                                   CDM   \n",
       "776                                   CDM   \n",
       "777                                   CDM   \n",
       "785         Central Electricity Authority   \n",
       "829                                   CDM   \n",
       "885                                   CDM   \n",
       "887                                   CDM   \n",
       "\n",
       "                                                   url geolocation_source  \n",
       "14                              http://www.cea.nic.in/                WRI  \n",
       "25   http://www.nrel.gov/csp/solarpaces/project_det...                NaN  \n",
       "43                              http://www.cea.nic.in/                WRI  \n",
       "46                              http://www.cea.nic.in/                WRI  \n",
       "68   https://cdm.unfccc.int/Projects/DB/DNV-CUK1218...                NaN  \n",
       "73                              http://www.cea.nic.in/                WRI  \n",
       "179                             http://www.cea.nic.in/                WRI  \n",
       "193  https://cdm.unfccc.int/Projects/DB/DNV-CUK1142...                NaN  \n",
       "202                             http://www.cea.nic.in/                WRI  \n",
       "209  https://cdm.unfccc.int/filestorage/O/6/L/O6LOW...                NaN  \n",
       "251  http://www.nrel.gov/csp/solarpaces/project_det...                NaN  \n",
       "330                             http://www.cea.nic.in/                WRI  \n",
       "331                             http://www.cea.nic.in/                WRI  \n",
       "333                             http://www.cea.nic.in/                WRI  \n",
       "387  http://www.nrel.gov/csp/solarpaces/project_det...                NaN  \n",
       "421                             http://www.cea.nic.in/                WRI  \n",
       "423                             http://www.cea.nic.in/                WRI  \n",
       "431                             http://www.cea.nic.in/                WRI  \n",
       "436                             http://www.cea.nic.in/                WRI  \n",
       "441  https://cdm.unfccc.int/Projects/DB/LRQA%20Ltd1...                NaN  \n",
       "467                             http://www.cea.nic.in/                WRI  \n",
       "479                             http://www.cea.nic.in/                WRI  \n",
       "480                             http://www.cea.nic.in/                WRI  \n",
       "484                             http://www.cea.nic.in/                WRI  \n",
       "503  http://www.nrel.gov/csp/solarpaces/project_det...                NaN  \n",
       "539                             http://www.cea.nic.in/                WRI  \n",
       "541                             http://www.cea.nic.in/                WRI  \n",
       "546  https://cdm.unfccc.int/Projects/DB/DNV-CUK1173...                NaN  \n",
       "656  https://cdm.unfccc.int/Projects/DB/BVQI1201770...                NaN  \n",
       "675  https://cdm.unfccc.int/Projects/DB/RWTUV128515...                NaN  \n",
       "681                             http://www.cea.nic.in/                WRI  \n",
       "706                             http://www.cea.nic.in/                WRI  \n",
       "712                             http://www.cea.nic.in/                WRI  \n",
       "713                             http://www.cea.nic.in/                WRI  \n",
       "732                             http://www.cea.nic.in/                WRI  \n",
       "733                             http://www.cea.nic.in/                WRI  \n",
       "742                             http://www.cea.nic.in/                WRI  \n",
       "771  https://cdm.unfccc.int/Projects/DB/RWTUV135219...                NaN  \n",
       "774  https://cdm.unfccc.int/Projects/DB/SGS-UKL1333...                NaN  \n",
       "775  https://cdm.unfccc.int/Projects/DB/SGS-UKL1333...                NaN  \n",
       "776  https://cdm.unfccc.int/Projects/DB/SGS-UKL1333...                NaN  \n",
       "777  https://cdm.unfccc.int/Projects/DB/SGS-UKL1333...                NaN  \n",
       "785                             http://www.cea.nic.in/                WRI  \n",
       "829  https://cdm.unfccc.int/filestorage/2/F/R/2FRTL...                NaN  \n",
       "885  https://cdm.unfccc.int/Projects/DB/SGS-UKL1225...                NaN  \n",
       "887  https://cdm.unfccc.int/Projects/DB/DNV-CUK1172...                NaN  "
      ]
     },
     "execution_count": 13,
     "metadata": {},
     "output_type": "execute_result"
    }
   ],
   "source": [
    "df[df['latitude'].isnull() & df['latitude'].isna()]"
   ]
  },
  {
   "cell_type": "markdown",
   "id": "d2c56e06",
   "metadata": {},
   "source": [
    "For all NaNs in latitude, longitude is also NaN."
   ]
  },
  {
   "cell_type": "code",
   "execution_count": 14,
   "id": "4c52669a",
   "metadata": {
    "scrolled": true
   },
   "outputs": [
    {
     "data": {
      "text/html": [
       "<div>\n",
       "<style scoped>\n",
       "    .dataframe tbody tr th:only-of-type {\n",
       "        vertical-align: middle;\n",
       "    }\n",
       "\n",
       "    .dataframe tbody tr th {\n",
       "        vertical-align: top;\n",
       "    }\n",
       "\n",
       "    .dataframe thead th {\n",
       "        text-align: right;\n",
       "    }\n",
       "</style>\n",
       "<table border=\"1\" class=\"dataframe\">\n",
       "  <thead>\n",
       "    <tr style=\"text-align: right;\">\n",
       "      <th></th>\n",
       "      <th>capacity_mw</th>\n",
       "      <th>latitude</th>\n",
       "      <th>longitude</th>\n",
       "      <th>primary_fuel</th>\n",
       "      <th>source</th>\n",
       "      <th>url</th>\n",
       "      <th>geolocation_source</th>\n",
       "    </tr>\n",
       "  </thead>\n",
       "  <tbody>\n",
       "    <tr>\n",
       "      <th>25</th>\n",
       "      <td>50.00</td>\n",
       "      <td>NaN</td>\n",
       "      <td>NaN</td>\n",
       "      <td>Solar</td>\n",
       "      <td>National Renewable Energy Laboratory</td>\n",
       "      <td>http://www.nrel.gov/csp/solarpaces/project_det...</td>\n",
       "      <td>NaN</td>\n",
       "    </tr>\n",
       "    <tr>\n",
       "      <th>68</th>\n",
       "      <td>5.00</td>\n",
       "      <td>NaN</td>\n",
       "      <td>NaN</td>\n",
       "      <td>Wind</td>\n",
       "      <td>CDM</td>\n",
       "      <td>https://cdm.unfccc.int/Projects/DB/DNV-CUK1218...</td>\n",
       "      <td>NaN</td>\n",
       "    </tr>\n",
       "    <tr>\n",
       "      <th>193</th>\n",
       "      <td>125.00</td>\n",
       "      <td>NaN</td>\n",
       "      <td>NaN</td>\n",
       "      <td>Wind</td>\n",
       "      <td>CDM</td>\n",
       "      <td>https://cdm.unfccc.int/Projects/DB/DNV-CUK1142...</td>\n",
       "      <td>NaN</td>\n",
       "    </tr>\n",
       "    <tr>\n",
       "      <th>209</th>\n",
       "      <td>75.00</td>\n",
       "      <td>NaN</td>\n",
       "      <td>NaN</td>\n",
       "      <td>Wind</td>\n",
       "      <td>CDM</td>\n",
       "      <td>https://cdm.unfccc.int/filestorage/O/6/L/O6LOW...</td>\n",
       "      <td>NaN</td>\n",
       "    </tr>\n",
       "    <tr>\n",
       "      <th>251</th>\n",
       "      <td>28.00</td>\n",
       "      <td>NaN</td>\n",
       "      <td>NaN</td>\n",
       "      <td>Solar</td>\n",
       "      <td>National Renewable Energy Laboratory</td>\n",
       "      <td>http://www.nrel.gov/csp/solarpaces/project_det...</td>\n",
       "      <td>NaN</td>\n",
       "    </tr>\n",
       "    <tr>\n",
       "      <th>387</th>\n",
       "      <td>100.00</td>\n",
       "      <td>NaN</td>\n",
       "      <td>NaN</td>\n",
       "      <td>Solar</td>\n",
       "      <td>National Renewable Energy Laboratory</td>\n",
       "      <td>http://www.nrel.gov/csp/solarpaces/project_det...</td>\n",
       "      <td>NaN</td>\n",
       "    </tr>\n",
       "    <tr>\n",
       "      <th>441</th>\n",
       "      <td>4.00</td>\n",
       "      <td>NaN</td>\n",
       "      <td>NaN</td>\n",
       "      <td>Wind</td>\n",
       "      <td>CDM</td>\n",
       "      <td>https://cdm.unfccc.int/Projects/DB/LRQA%20Ltd1...</td>\n",
       "      <td>NaN</td>\n",
       "    </tr>\n",
       "    <tr>\n",
       "      <th>503</th>\n",
       "      <td>50.00</td>\n",
       "      <td>NaN</td>\n",
       "      <td>NaN</td>\n",
       "      <td>Solar</td>\n",
       "      <td>National Renewable Energy Laboratory</td>\n",
       "      <td>http://www.nrel.gov/csp/solarpaces/project_det...</td>\n",
       "      <td>NaN</td>\n",
       "    </tr>\n",
       "    <tr>\n",
       "      <th>546</th>\n",
       "      <td>27.65</td>\n",
       "      <td>NaN</td>\n",
       "      <td>NaN</td>\n",
       "      <td>Wind</td>\n",
       "      <td>CDM</td>\n",
       "      <td>https://cdm.unfccc.int/Projects/DB/DNV-CUK1173...</td>\n",
       "      <td>NaN</td>\n",
       "    </tr>\n",
       "    <tr>\n",
       "      <th>656</th>\n",
       "      <td>22.50</td>\n",
       "      <td>NaN</td>\n",
       "      <td>NaN</td>\n",
       "      <td>Wind</td>\n",
       "      <td>CDM</td>\n",
       "      <td>https://cdm.unfccc.int/Projects/DB/BVQI1201770...</td>\n",
       "      <td>NaN</td>\n",
       "    </tr>\n",
       "    <tr>\n",
       "      <th>675</th>\n",
       "      <td>22.50</td>\n",
       "      <td>NaN</td>\n",
       "      <td>NaN</td>\n",
       "      <td>Wind</td>\n",
       "      <td>CDM</td>\n",
       "      <td>https://cdm.unfccc.int/Projects/DB/RWTUV128515...</td>\n",
       "      <td>NaN</td>\n",
       "    </tr>\n",
       "    <tr>\n",
       "      <th>771</th>\n",
       "      <td>24.00</td>\n",
       "      <td>NaN</td>\n",
       "      <td>NaN</td>\n",
       "      <td>Wind</td>\n",
       "      <td>CDM</td>\n",
       "      <td>https://cdm.unfccc.int/Projects/DB/RWTUV135219...</td>\n",
       "      <td>NaN</td>\n",
       "    </tr>\n",
       "    <tr>\n",
       "      <th>774</th>\n",
       "      <td>3.00</td>\n",
       "      <td>NaN</td>\n",
       "      <td>NaN</td>\n",
       "      <td>Wind</td>\n",
       "      <td>CDM</td>\n",
       "      <td>https://cdm.unfccc.int/Projects/DB/SGS-UKL1333...</td>\n",
       "      <td>NaN</td>\n",
       "    </tr>\n",
       "    <tr>\n",
       "      <th>775</th>\n",
       "      <td>6.30</td>\n",
       "      <td>NaN</td>\n",
       "      <td>NaN</td>\n",
       "      <td>Wind</td>\n",
       "      <td>CDM</td>\n",
       "      <td>https://cdm.unfccc.int/Projects/DB/SGS-UKL1333...</td>\n",
       "      <td>NaN</td>\n",
       "    </tr>\n",
       "    <tr>\n",
       "      <th>776</th>\n",
       "      <td>6.25</td>\n",
       "      <td>NaN</td>\n",
       "      <td>NaN</td>\n",
       "      <td>Wind</td>\n",
       "      <td>CDM</td>\n",
       "      <td>https://cdm.unfccc.int/Projects/DB/SGS-UKL1333...</td>\n",
       "      <td>NaN</td>\n",
       "    </tr>\n",
       "    <tr>\n",
       "      <th>777</th>\n",
       "      <td>6.00</td>\n",
       "      <td>NaN</td>\n",
       "      <td>NaN</td>\n",
       "      <td>Wind</td>\n",
       "      <td>CDM</td>\n",
       "      <td>https://cdm.unfccc.int/Projects/DB/SGS-UKL1333...</td>\n",
       "      <td>NaN</td>\n",
       "    </tr>\n",
       "    <tr>\n",
       "      <th>829</th>\n",
       "      <td>74.00</td>\n",
       "      <td>NaN</td>\n",
       "      <td>NaN</td>\n",
       "      <td>Wind</td>\n",
       "      <td>CDM</td>\n",
       "      <td>https://cdm.unfccc.int/filestorage/2/F/R/2FRTL...</td>\n",
       "      <td>NaN</td>\n",
       "    </tr>\n",
       "    <tr>\n",
       "      <th>885</th>\n",
       "      <td>42.50</td>\n",
       "      <td>NaN</td>\n",
       "      <td>NaN</td>\n",
       "      <td>Wind</td>\n",
       "      <td>CDM</td>\n",
       "      <td>https://cdm.unfccc.int/Projects/DB/SGS-UKL1225...</td>\n",
       "      <td>NaN</td>\n",
       "    </tr>\n",
       "    <tr>\n",
       "      <th>887</th>\n",
       "      <td>21.00</td>\n",
       "      <td>NaN</td>\n",
       "      <td>NaN</td>\n",
       "      <td>Wind</td>\n",
       "      <td>CDM</td>\n",
       "      <td>https://cdm.unfccc.int/Projects/DB/DNV-CUK1172...</td>\n",
       "      <td>NaN</td>\n",
       "    </tr>\n",
       "  </tbody>\n",
       "</table>\n",
       "</div>"
      ],
      "text/plain": [
       "     capacity_mw  latitude  longitude primary_fuel  \\\n",
       "25         50.00       NaN        NaN        Solar   \n",
       "68          5.00       NaN        NaN         Wind   \n",
       "193       125.00       NaN        NaN         Wind   \n",
       "209        75.00       NaN        NaN         Wind   \n",
       "251        28.00       NaN        NaN        Solar   \n",
       "387       100.00       NaN        NaN        Solar   \n",
       "441         4.00       NaN        NaN         Wind   \n",
       "503        50.00       NaN        NaN        Solar   \n",
       "546        27.65       NaN        NaN         Wind   \n",
       "656        22.50       NaN        NaN         Wind   \n",
       "675        22.50       NaN        NaN         Wind   \n",
       "771        24.00       NaN        NaN         Wind   \n",
       "774         3.00       NaN        NaN         Wind   \n",
       "775         6.30       NaN        NaN         Wind   \n",
       "776         6.25       NaN        NaN         Wind   \n",
       "777         6.00       NaN        NaN         Wind   \n",
       "829        74.00       NaN        NaN         Wind   \n",
       "885        42.50       NaN        NaN         Wind   \n",
       "887        21.00       NaN        NaN         Wind   \n",
       "\n",
       "                                   source  \\\n",
       "25   National Renewable Energy Laboratory   \n",
       "68                                    CDM   \n",
       "193                                   CDM   \n",
       "209                                   CDM   \n",
       "251  National Renewable Energy Laboratory   \n",
       "387  National Renewable Energy Laboratory   \n",
       "441                                   CDM   \n",
       "503  National Renewable Energy Laboratory   \n",
       "546                                   CDM   \n",
       "656                                   CDM   \n",
       "675                                   CDM   \n",
       "771                                   CDM   \n",
       "774                                   CDM   \n",
       "775                                   CDM   \n",
       "776                                   CDM   \n",
       "777                                   CDM   \n",
       "829                                   CDM   \n",
       "885                                   CDM   \n",
       "887                                   CDM   \n",
       "\n",
       "                                                   url geolocation_source  \n",
       "25   http://www.nrel.gov/csp/solarpaces/project_det...                NaN  \n",
       "68   https://cdm.unfccc.int/Projects/DB/DNV-CUK1218...                NaN  \n",
       "193  https://cdm.unfccc.int/Projects/DB/DNV-CUK1142...                NaN  \n",
       "209  https://cdm.unfccc.int/filestorage/O/6/L/O6LOW...                NaN  \n",
       "251  http://www.nrel.gov/csp/solarpaces/project_det...                NaN  \n",
       "387  http://www.nrel.gov/csp/solarpaces/project_det...                NaN  \n",
       "441  https://cdm.unfccc.int/Projects/DB/LRQA%20Ltd1...                NaN  \n",
       "503  http://www.nrel.gov/csp/solarpaces/project_det...                NaN  \n",
       "546  https://cdm.unfccc.int/Projects/DB/DNV-CUK1173...                NaN  \n",
       "656  https://cdm.unfccc.int/Projects/DB/BVQI1201770...                NaN  \n",
       "675  https://cdm.unfccc.int/Projects/DB/RWTUV128515...                NaN  \n",
       "771  https://cdm.unfccc.int/Projects/DB/RWTUV135219...                NaN  \n",
       "774  https://cdm.unfccc.int/Projects/DB/SGS-UKL1333...                NaN  \n",
       "775  https://cdm.unfccc.int/Projects/DB/SGS-UKL1333...                NaN  \n",
       "776  https://cdm.unfccc.int/Projects/DB/SGS-UKL1333...                NaN  \n",
       "777  https://cdm.unfccc.int/Projects/DB/SGS-UKL1333...                NaN  \n",
       "829  https://cdm.unfccc.int/filestorage/2/F/R/2FRTL...                NaN  \n",
       "885  https://cdm.unfccc.int/Projects/DB/SGS-UKL1225...                NaN  \n",
       "887  https://cdm.unfccc.int/Projects/DB/DNV-CUK1172...                NaN  "
      ]
     },
     "execution_count": 14,
     "metadata": {},
     "output_type": "execute_result"
    }
   ],
   "source": [
    "df[df['geolocation_source'].isnull()]"
   ]
  },
  {
   "cell_type": "markdown",
   "id": "96f8014a",
   "metadata": {},
   "source": [
    "For all geolocation_source that are null, latitude & longitude are also null."
   ]
  },
  {
   "cell_type": "code",
   "execution_count": 18,
   "id": "db39b2e8",
   "metadata": {},
   "outputs": [
    {
     "data": {
      "text/html": [
       "<div>\n",
       "<style scoped>\n",
       "    .dataframe tbody tr th:only-of-type {\n",
       "        vertical-align: middle;\n",
       "    }\n",
       "\n",
       "    .dataframe tbody tr th {\n",
       "        vertical-align: top;\n",
       "    }\n",
       "\n",
       "    .dataframe thead th {\n",
       "        text-align: right;\n",
       "    }\n",
       "</style>\n",
       "<table border=\"1\" class=\"dataframe\">\n",
       "  <thead>\n",
       "    <tr style=\"text-align: right;\">\n",
       "      <th></th>\n",
       "      <th>capacity_mw</th>\n",
       "      <th>latitude</th>\n",
       "      <th>longitude</th>\n",
       "      <th>primary_fuel</th>\n",
       "      <th>source</th>\n",
       "      <th>url</th>\n",
       "      <th>geolocation_source</th>\n",
       "    </tr>\n",
       "  </thead>\n",
       "  <tbody>\n",
       "  </tbody>\n",
       "</table>\n",
       "</div>"
      ],
      "text/plain": [
       "Empty DataFrame\n",
       "Columns: [capacity_mw, latitude, longitude, primary_fuel, source, url, geolocation_source]\n",
       "Index: []"
      ]
     },
     "execution_count": 18,
     "metadata": {},
     "output_type": "execute_result"
    }
   ],
   "source": [
    "# Checking rows with nulls in all 4 columns\n",
    "df[df['latitude'].isnull() & df['longitude'].isnull() & df['geolocation_source'].isnull()]"
   ]
  },
  {
   "cell_type": "markdown",
   "id": "67d806a5",
   "metadata": {},
   "source": [
    "This data is having approx 43% null values rowise, hence we can drop these rows."
   ]
  },
  {
   "cell_type": "code",
   "execution_count": 19,
   "id": "2d695164",
   "metadata": {},
   "outputs": [
    {
     "data": {
      "text/html": [
       "<div>\n",
       "<style scoped>\n",
       "    .dataframe tbody tr th:only-of-type {\n",
       "        vertical-align: middle;\n",
       "    }\n",
       "\n",
       "    .dataframe tbody tr th {\n",
       "        vertical-align: top;\n",
       "    }\n",
       "\n",
       "    .dataframe thead th {\n",
       "        text-align: right;\n",
       "    }\n",
       "</style>\n",
       "<table border=\"1\" class=\"dataframe\">\n",
       "  <thead>\n",
       "    <tr style=\"text-align: right;\">\n",
       "      <th></th>\n",
       "      <th>capacity_mw</th>\n",
       "      <th>latitude</th>\n",
       "      <th>longitude</th>\n",
       "      <th>primary_fuel</th>\n",
       "      <th>source</th>\n",
       "      <th>url</th>\n",
       "      <th>geolocation_source</th>\n",
       "    </tr>\n",
       "  </thead>\n",
       "  <tbody>\n",
       "    <tr>\n",
       "      <th>0</th>\n",
       "      <td>2.5</td>\n",
       "      <td>28.1839</td>\n",
       "      <td>73.2407</td>\n",
       "      <td>Solar</td>\n",
       "      <td>National Renewable Energy Laboratory</td>\n",
       "      <td>http://www.nrel.gov/csp/solarpaces/project_det...</td>\n",
       "      <td>National Renewable Energy Laboratory</td>\n",
       "    </tr>\n",
       "    <tr>\n",
       "      <th>1</th>\n",
       "      <td>98.0</td>\n",
       "      <td>24.7663</td>\n",
       "      <td>74.6090</td>\n",
       "      <td>Coal</td>\n",
       "      <td>Ultratech Cement ltd</td>\n",
       "      <td>http://www.ultratechcement.com/</td>\n",
       "      <td>WRI</td>\n",
       "    </tr>\n",
       "    <tr>\n",
       "      <th>2</th>\n",
       "      <td>39.2</td>\n",
       "      <td>21.9038</td>\n",
       "      <td>69.3732</td>\n",
       "      <td>Wind</td>\n",
       "      <td>CDM</td>\n",
       "      <td>https://cdm.unfccc.int/Projects/DB/DNV-CUK1328...</td>\n",
       "      <td>WRI</td>\n",
       "    </tr>\n",
       "    <tr>\n",
       "      <th>3</th>\n",
       "      <td>135.0</td>\n",
       "      <td>23.8712</td>\n",
       "      <td>91.3602</td>\n",
       "      <td>Gas</td>\n",
       "      <td>Central Electricity Authority</td>\n",
       "      <td>http://www.cea.nic.in/</td>\n",
       "      <td>WRI</td>\n",
       "    </tr>\n",
       "    <tr>\n",
       "      <th>4</th>\n",
       "      <td>1800.0</td>\n",
       "      <td>21.9603</td>\n",
       "      <td>82.4091</td>\n",
       "      <td>Coal</td>\n",
       "      <td>Central Electricity Authority</td>\n",
       "      <td>http://www.cea.nic.in/</td>\n",
       "      <td>WRI</td>\n",
       "    </tr>\n",
       "    <tr>\n",
       "      <th>...</th>\n",
       "      <td>...</td>\n",
       "      <td>...</td>\n",
       "      <td>...</td>\n",
       "      <td>...</td>\n",
       "      <td>...</td>\n",
       "      <td>...</td>\n",
       "      <td>...</td>\n",
       "    </tr>\n",
       "    <tr>\n",
       "      <th>903</th>\n",
       "      <td>1600.0</td>\n",
       "      <td>16.2949</td>\n",
       "      <td>77.3568</td>\n",
       "      <td>Coal</td>\n",
       "      <td>Central Electricity Authority</td>\n",
       "      <td>http://www.cea.nic.in/</td>\n",
       "      <td>WRI</td>\n",
       "    </tr>\n",
       "    <tr>\n",
       "      <th>904</th>\n",
       "      <td>3.0</td>\n",
       "      <td>12.8932</td>\n",
       "      <td>78.1654</td>\n",
       "      <td>Solar</td>\n",
       "      <td>Karnataka Power Corporation Limited</td>\n",
       "      <td>http://karnatakapower.com</td>\n",
       "      <td>Industry About</td>\n",
       "    </tr>\n",
       "    <tr>\n",
       "      <th>905</th>\n",
       "      <td>25.5</td>\n",
       "      <td>15.2758</td>\n",
       "      <td>75.5811</td>\n",
       "      <td>Wind</td>\n",
       "      <td>CDM</td>\n",
       "      <td>https://cdm.unfccc.int/Projects/DB/TUEV-RHEIN1...</td>\n",
       "      <td>WRI</td>\n",
       "    </tr>\n",
       "    <tr>\n",
       "      <th>906</th>\n",
       "      <td>80.0</td>\n",
       "      <td>24.3500</td>\n",
       "      <td>73.7477</td>\n",
       "      <td>Coal</td>\n",
       "      <td>Hindustan Zinc ltd</td>\n",
       "      <td>http://www.hzlindia.com/</td>\n",
       "      <td>WRI</td>\n",
       "    </tr>\n",
       "    <tr>\n",
       "      <th>907</th>\n",
       "      <td>16.5</td>\n",
       "      <td>9.9344</td>\n",
       "      <td>77.4768</td>\n",
       "      <td>Wind</td>\n",
       "      <td>CDM</td>\n",
       "      <td>https://cdm.unfccc.int/Projects/DB/RWTUV134503...</td>\n",
       "      <td>WRI</td>\n",
       "    </tr>\n",
       "  </tbody>\n",
       "</table>\n",
       "<p>889 rows × 7 columns</p>\n",
       "</div>"
      ],
      "text/plain": [
       "     capacity_mw  latitude  longitude primary_fuel  \\\n",
       "0            2.5   28.1839    73.2407        Solar   \n",
       "1           98.0   24.7663    74.6090         Coal   \n",
       "2           39.2   21.9038    69.3732         Wind   \n",
       "3          135.0   23.8712    91.3602          Gas   \n",
       "4         1800.0   21.9603    82.4091         Coal   \n",
       "..           ...       ...        ...          ...   \n",
       "903       1600.0   16.2949    77.3568         Coal   \n",
       "904          3.0   12.8932    78.1654        Solar   \n",
       "905         25.5   15.2758    75.5811         Wind   \n",
       "906         80.0   24.3500    73.7477         Coal   \n",
       "907         16.5    9.9344    77.4768         Wind   \n",
       "\n",
       "                                   source  \\\n",
       "0    National Renewable Energy Laboratory   \n",
       "1                    Ultratech Cement ltd   \n",
       "2                                     CDM   \n",
       "3           Central Electricity Authority   \n",
       "4           Central Electricity Authority   \n",
       "..                                    ...   \n",
       "903         Central Electricity Authority   \n",
       "904   Karnataka Power Corporation Limited   \n",
       "905                                   CDM   \n",
       "906                    Hindustan Zinc ltd   \n",
       "907                                   CDM   \n",
       "\n",
       "                                                   url  \\\n",
       "0    http://www.nrel.gov/csp/solarpaces/project_det...   \n",
       "1                      http://www.ultratechcement.com/   \n",
       "2    https://cdm.unfccc.int/Projects/DB/DNV-CUK1328...   \n",
       "3                               http://www.cea.nic.in/   \n",
       "4                               http://www.cea.nic.in/   \n",
       "..                                                 ...   \n",
       "903                             http://www.cea.nic.in/   \n",
       "904                          http://karnatakapower.com   \n",
       "905  https://cdm.unfccc.int/Projects/DB/TUEV-RHEIN1...   \n",
       "906                           http://www.hzlindia.com/   \n",
       "907  https://cdm.unfccc.int/Projects/DB/RWTUV134503...   \n",
       "\n",
       "                       geolocation_source  \n",
       "0    National Renewable Energy Laboratory  \n",
       "1                                     WRI  \n",
       "2                                     WRI  \n",
       "3                                     WRI  \n",
       "4                                     WRI  \n",
       "..                                    ...  \n",
       "903                                   WRI  \n",
       "904                        Industry About  \n",
       "905                                   WRI  \n",
       "906                                   WRI  \n",
       "907                                   WRI  \n",
       "\n",
       "[889 rows x 7 columns]"
      ]
     },
     "execution_count": 19,
     "metadata": {},
     "output_type": "execute_result"
    }
   ],
   "source": [
    "# Dropping rows\n",
    "df.dropna(subset=['latitude','longitude','geolocation_source'],thresh=1,axis=0,inplace=True)\n",
    "df"
   ]
  },
  {
   "cell_type": "code",
   "execution_count": 20,
   "id": "f7853f6e",
   "metadata": {},
   "outputs": [
    {
     "data": {
      "text/plain": [
       "capacity_mw            0\n",
       "latitude              27\n",
       "longitude             27\n",
       "primary_fuel           0\n",
       "source                 0\n",
       "url                    0\n",
       "geolocation_source     0\n",
       "dtype: int64"
      ]
     },
     "execution_count": 20,
     "metadata": {},
     "output_type": "execute_result"
    }
   ],
   "source": [
    "df.isnull().sum()"
   ]
  },
  {
   "cell_type": "markdown",
   "id": "fceca214",
   "metadata": {},
   "source": [
    "Now we will NaN with some statistic value according to the datatypes."
   ]
  },
  {
   "cell_type": "code",
   "execution_count": 21,
   "id": "27caf25f",
   "metadata": {},
   "outputs": [
    {
     "name": "stdout",
     "output_type": "stream",
     "text": [
      "latitude -0.1436221673907982\n"
     ]
    },
    {
     "data": {
      "image/png": "[encoded data removed]",
      "text/plain": [
       "<Figure size 432x288 with 1 Axes>"
      ]
     },
     "metadata": {
      "needs_background": "light"
     },
     "output_type": "display_data"
    },
    {
     "name": "stdout",
     "output_type": "stream",
     "text": [
      "longitude 1.1009421966310267\n"
     ]
    },
    {
     "data": {
      "image/png": "[encoded data removed]",
      "text/plain": [
       "<Figure size 432x288 with 1 Axes>"
      ]
     },
     "metadata": {
      "needs_background": "light"
     },
     "output_type": "display_data"
    }
   ],
   "source": [
    "col=['latitude','longitude']\n",
    "for i in col :\n",
    "    if df[i].dtypes!='object':\n",
    "        print(i, df[i].skew())\n",
    "        sns.distplot(df[i])\n",
    "        plt.show()"
   ]
  },
  {
   "cell_type": "markdown",
   "id": "487da648",
   "metadata": {},
   "source": [
    "Columns latitude,longitude,commissioning_year are of float type and not having normal distribution, hence NaN values will be filled by median. Column geolocation_source is object type whose NaN values will be filled by mode."
   ]
  },
  {
   "cell_type": "code",
   "execution_count": 22,
   "id": "e2eb142f",
   "metadata": {},
   "outputs": [],
   "source": [
    "# Treating null values\n",
    "df['latitude'].fillna(df['latitude'].median(),inplace=True)\n",
    "df['longitude'].fillna(df['longitude'].median(),inplace=True)\n",
    "#df['commissioning_year'].fillna(df['commissioning_year'].median(),inplace=True)\n",
    "#df['geolocation_source'].fillna('WRI',inplace=True)"
   ]
  },
  {
   "cell_type": "code",
   "execution_count": 23,
   "id": "0d30d778",
   "metadata": {},
   "outputs": [
    {
     "data": {
      "text/plain": [
       "capacity_mw           0\n",
       "latitude              0\n",
       "longitude             0\n",
       "primary_fuel          0\n",
       "source                0\n",
       "url                   0\n",
       "geolocation_source    0\n",
       "dtype: int64"
      ]
     },
     "execution_count": 23,
     "metadata": {},
     "output_type": "execute_result"
    }
   ],
   "source": [
    "# Checking the null values after treatment\n",
    "df.isnull().sum()"
   ]
  },
  {
   "cell_type": "code",
   "execution_count": 24,
   "id": "66b11d82",
   "metadata": {},
   "outputs": [
    {
     "data": {
      "text/plain": [
       "<AxesSubplot:>"
      ]
     },
     "execution_count": 24,
     "metadata": {},
     "output_type": "execute_result"
    },
    {
     "data": {
      "image/png": "[encoded data removed]",
      "text/plain": [
       "<Figure size 432x288 with 2 Axes>"
      ]
     },
     "metadata": {
      "needs_background": "light"
     },
     "output_type": "display_data"
    }
   ],
   "source": [
    "# Visualizing nulls\n",
    "sns.heatmap(df.isnull())"
   ]
  },
  {
   "cell_type": "markdown",
   "id": "db248465",
   "metadata": {},
   "source": [
    "We have treated all the null values in dataset."
   ]
  },
  {
   "cell_type": "code",
   "execution_count": 25,
   "id": "f71e6835",
   "metadata": {},
   "outputs": [
    {
     "data": {
      "text/plain": [
       "capacity_mw           6\n",
       "latitude              6\n",
       "longitude             6\n",
       "primary_fuel          6\n",
       "source                6\n",
       "url                   6\n",
       "geolocation_source    6\n",
       "dtype: int64"
      ]
     },
     "execution_count": 25,
     "metadata": {},
     "output_type": "execute_result"
    }
   ],
   "source": [
    "# Checking for the duplicates in the dataset\n",
    "df[df.duplicated()==True].count()"
   ]
  },
  {
   "cell_type": "markdown",
   "id": "3cf68906",
   "metadata": {},
   "source": [
    "There are 6 duplicate row in the dataset."
   ]
  },
  {
   "cell_type": "code",
   "execution_count": 26,
   "id": "6cf4b663",
   "metadata": {},
   "outputs": [
    {
     "name": "stdout",
     "output_type": "stream",
     "text": [
      "Duplicate Row :\n"
     ]
    },
    {
     "data": {
      "text/html": [
       "<div>\n",
       "<style scoped>\n",
       "    .dataframe tbody tr th:only-of-type {\n",
       "        vertical-align: middle;\n",
       "    }\n",
       "\n",
       "    .dataframe tbody tr th {\n",
       "        vertical-align: top;\n",
       "    }\n",
       "\n",
       "    .dataframe thead th {\n",
       "        text-align: right;\n",
       "    }\n",
       "</style>\n",
       "<table border=\"1\" class=\"dataframe\">\n",
       "  <thead>\n",
       "    <tr style=\"text-align: right;\">\n",
       "      <th></th>\n",
       "      <th>capacity_mw</th>\n",
       "      <th>latitude</th>\n",
       "      <th>longitude</th>\n",
       "      <th>primary_fuel</th>\n",
       "      <th>source</th>\n",
       "      <th>url</th>\n",
       "      <th>geolocation_source</th>\n",
       "    </tr>\n",
       "  </thead>\n",
       "  <tbody>\n",
       "    <tr>\n",
       "      <th>372</th>\n",
       "      <td>77.65</td>\n",
       "      <td>31.2680</td>\n",
       "      <td>76.49200</td>\n",
       "      <td>Hydro</td>\n",
       "      <td>Central Electricity Authority</td>\n",
       "      <td>http://www.cea.nic.in/</td>\n",
       "      <td>WRI</td>\n",
       "    </tr>\n",
       "    <tr>\n",
       "      <th>480</th>\n",
       "      <td>9.00</td>\n",
       "      <td>21.7783</td>\n",
       "      <td>76.71925</td>\n",
       "      <td>Hydro</td>\n",
       "      <td>Central Electricity Authority</td>\n",
       "      <td>http://www.cea.nic.in/</td>\n",
       "      <td>WRI</td>\n",
       "    </tr>\n",
       "    <tr>\n",
       "      <th>539</th>\n",
       "      <td>5.00</td>\n",
       "      <td>21.7783</td>\n",
       "      <td>76.71925</td>\n",
       "      <td>Hydro</td>\n",
       "      <td>Central Electricity Authority</td>\n",
       "      <td>http://www.cea.nic.in/</td>\n",
       "      <td>WRI</td>\n",
       "    </tr>\n",
       "    <tr>\n",
       "      <th>733</th>\n",
       "      <td>6.60</td>\n",
       "      <td>21.7783</td>\n",
       "      <td>76.71925</td>\n",
       "      <td>Hydro</td>\n",
       "      <td>Central Electricity Authority</td>\n",
       "      <td>http://www.cea.nic.in/</td>\n",
       "      <td>WRI</td>\n",
       "    </tr>\n",
       "    <tr>\n",
       "      <th>742</th>\n",
       "      <td>4.00</td>\n",
       "      <td>21.7783</td>\n",
       "      <td>76.71925</td>\n",
       "      <td>Hydro</td>\n",
       "      <td>Central Electricity Authority</td>\n",
       "      <td>http://www.cea.nic.in/</td>\n",
       "      <td>WRI</td>\n",
       "    </tr>\n",
       "    <tr>\n",
       "      <th>782</th>\n",
       "      <td>36.00</td>\n",
       "      <td>15.2615</td>\n",
       "      <td>76.33790</td>\n",
       "      <td>Hydro</td>\n",
       "      <td>Central Electricity Authority</td>\n",
       "      <td>http://www.cea.nic.in/</td>\n",
       "      <td>WRI</td>\n",
       "    </tr>\n",
       "  </tbody>\n",
       "</table>\n",
       "</div>"
      ],
      "text/plain": [
       "     capacity_mw  latitude  longitude primary_fuel  \\\n",
       "372        77.65   31.2680   76.49200        Hydro   \n",
       "480         9.00   21.7783   76.71925        Hydro   \n",
       "539         5.00   21.7783   76.71925        Hydro   \n",
       "733         6.60   21.7783   76.71925        Hydro   \n",
       "742         4.00   21.7783   76.71925        Hydro   \n",
       "782        36.00   15.2615   76.33790        Hydro   \n",
       "\n",
       "                            source                     url geolocation_source  \n",
       "372  Central Electricity Authority  http://www.cea.nic.in/                WRI  \n",
       "480  Central Electricity Authority  http://www.cea.nic.in/                WRI  \n",
       "539  Central Electricity Authority  http://www.cea.nic.in/                WRI  \n",
       "733  Central Electricity Authority  http://www.cea.nic.in/                WRI  \n",
       "742  Central Electricity Authority  http://www.cea.nic.in/                WRI  \n",
       "782  Central Electricity Authority  http://www.cea.nic.in/                WRI  "
      ]
     },
     "execution_count": 26,
     "metadata": {},
     "output_type": "execute_result"
    }
   ],
   "source": [
    "# Checking duplicate row\n",
    "duplicate = df[df.duplicated()]\n",
    "print(\"Duplicate Row :\")\n",
    "duplicate"
   ]
  },
  {
   "cell_type": "code",
   "execution_count": 27,
   "id": "f759ab5d",
   "metadata": {},
   "outputs": [
    {
     "data": {
      "text/html": [
       "<div>\n",
       "<style scoped>\n",
       "    .dataframe tbody tr th:only-of-type {\n",
       "        vertical-align: middle;\n",
       "    }\n",
       "\n",
       "    .dataframe tbody tr th {\n",
       "        vertical-align: top;\n",
       "    }\n",
       "\n",
       "    .dataframe thead th {\n",
       "        text-align: right;\n",
       "    }\n",
       "</style>\n",
       "<table border=\"1\" class=\"dataframe\">\n",
       "  <thead>\n",
       "    <tr style=\"text-align: right;\">\n",
       "      <th></th>\n",
       "      <th>capacity_mw</th>\n",
       "      <th>latitude</th>\n",
       "      <th>longitude</th>\n",
       "      <th>primary_fuel</th>\n",
       "      <th>source</th>\n",
       "      <th>url</th>\n",
       "      <th>geolocation_source</th>\n",
       "    </tr>\n",
       "  </thead>\n",
       "  <tbody>\n",
       "    <tr>\n",
       "      <th>222</th>\n",
       "      <td>77.65</td>\n",
       "      <td>31.268</td>\n",
       "      <td>76.492</td>\n",
       "      <td>Hydro</td>\n",
       "      <td>Central Electricity Authority</td>\n",
       "      <td>http://www.cea.nic.in/</td>\n",
       "      <td>WRI</td>\n",
       "    </tr>\n",
       "    <tr>\n",
       "      <th>372</th>\n",
       "      <td>77.65</td>\n",
       "      <td>31.268</td>\n",
       "      <td>76.492</td>\n",
       "      <td>Hydro</td>\n",
       "      <td>Central Electricity Authority</td>\n",
       "      <td>http://www.cea.nic.in/</td>\n",
       "      <td>WRI</td>\n",
       "    </tr>\n",
       "  </tbody>\n",
       "</table>\n",
       "</div>"
      ],
      "text/plain": [
       "     capacity_mw  latitude  longitude primary_fuel  \\\n",
       "222        77.65    31.268     76.492        Hydro   \n",
       "372        77.65    31.268     76.492        Hydro   \n",
       "\n",
       "                            source                     url geolocation_source  \n",
       "222  Central Electricity Authority  http://www.cea.nic.in/                WRI  \n",
       "372  Central Electricity Authority  http://www.cea.nic.in/                WRI  "
      ]
     },
     "execution_count": 27,
     "metadata": {},
     "output_type": "execute_result"
    }
   ],
   "source": [
    "# Duplicates\n",
    "df[(df['capacity_mw']==77.65) & (df['primary_fuel']=='Hydro') & (df['geolocation_source']=='WRI')]"
   ]
  },
  {
   "cell_type": "markdown",
   "id": "f562924f",
   "metadata": {},
   "source": [
    "Let's delete this duplicate row for proceeding with the analysis."
   ]
  },
  {
   "cell_type": "code",
   "execution_count": 29,
   "id": "92f364df",
   "metadata": {},
   "outputs": [
    {
     "data": {
      "text/html": [
       "<div>\n",
       "<style scoped>\n",
       "    .dataframe tbody tr th:only-of-type {\n",
       "        vertical-align: middle;\n",
       "    }\n",
       "\n",
       "    .dataframe tbody tr th {\n",
       "        vertical-align: top;\n",
       "    }\n",
       "\n",
       "    .dataframe thead th {\n",
       "        text-align: right;\n",
       "    }\n",
       "</style>\n",
       "<table border=\"1\" class=\"dataframe\">\n",
       "  <thead>\n",
       "    <tr style=\"text-align: right;\">\n",
       "      <th></th>\n",
       "      <th>capacity_mw</th>\n",
       "      <th>latitude</th>\n",
       "      <th>longitude</th>\n",
       "      <th>primary_fuel</th>\n",
       "      <th>source</th>\n",
       "      <th>url</th>\n",
       "      <th>geolocation_source</th>\n",
       "    </tr>\n",
       "  </thead>\n",
       "  <tbody>\n",
       "    <tr>\n",
       "      <th>0</th>\n",
       "      <td>2.5</td>\n",
       "      <td>28.1839</td>\n",
       "      <td>73.2407</td>\n",
       "      <td>Solar</td>\n",
       "      <td>National Renewable Energy Laboratory</td>\n",
       "      <td>http://www.nrel.gov/csp/solarpaces/project_det...</td>\n",
       "      <td>National Renewable Energy Laboratory</td>\n",
       "    </tr>\n",
       "    <tr>\n",
       "      <th>1</th>\n",
       "      <td>98.0</td>\n",
       "      <td>24.7663</td>\n",
       "      <td>74.6090</td>\n",
       "      <td>Coal</td>\n",
       "      <td>Ultratech Cement ltd</td>\n",
       "      <td>http://www.ultratechcement.com/</td>\n",
       "      <td>WRI</td>\n",
       "    </tr>\n",
       "    <tr>\n",
       "      <th>2</th>\n",
       "      <td>39.2</td>\n",
       "      <td>21.9038</td>\n",
       "      <td>69.3732</td>\n",
       "      <td>Wind</td>\n",
       "      <td>CDM</td>\n",
       "      <td>https://cdm.unfccc.int/Projects/DB/DNV-CUK1328...</td>\n",
       "      <td>WRI</td>\n",
       "    </tr>\n",
       "    <tr>\n",
       "      <th>3</th>\n",
       "      <td>135.0</td>\n",
       "      <td>23.8712</td>\n",
       "      <td>91.3602</td>\n",
       "      <td>Gas</td>\n",
       "      <td>Central Electricity Authority</td>\n",
       "      <td>http://www.cea.nic.in/</td>\n",
       "      <td>WRI</td>\n",
       "    </tr>\n",
       "    <tr>\n",
       "      <th>4</th>\n",
       "      <td>1800.0</td>\n",
       "      <td>21.9603</td>\n",
       "      <td>82.4091</td>\n",
       "      <td>Coal</td>\n",
       "      <td>Central Electricity Authority</td>\n",
       "      <td>http://www.cea.nic.in/</td>\n",
       "      <td>WRI</td>\n",
       "    </tr>\n",
       "    <tr>\n",
       "      <th>...</th>\n",
       "      <td>...</td>\n",
       "      <td>...</td>\n",
       "      <td>...</td>\n",
       "      <td>...</td>\n",
       "      <td>...</td>\n",
       "      <td>...</td>\n",
       "      <td>...</td>\n",
       "    </tr>\n",
       "    <tr>\n",
       "      <th>903</th>\n",
       "      <td>1600.0</td>\n",
       "      <td>16.2949</td>\n",
       "      <td>77.3568</td>\n",
       "      <td>Coal</td>\n",
       "      <td>Central Electricity Authority</td>\n",
       "      <td>http://www.cea.nic.in/</td>\n",
       "      <td>WRI</td>\n",
       "    </tr>\n",
       "    <tr>\n",
       "      <th>904</th>\n",
       "      <td>3.0</td>\n",
       "      <td>12.8932</td>\n",
       "      <td>78.1654</td>\n",
       "      <td>Solar</td>\n",
       "      <td>Karnataka Power Corporation Limited</td>\n",
       "      <td>http://karnatakapower.com</td>\n",
       "      <td>Industry About</td>\n",
       "    </tr>\n",
       "    <tr>\n",
       "      <th>905</th>\n",
       "      <td>25.5</td>\n",
       "      <td>15.2758</td>\n",
       "      <td>75.5811</td>\n",
       "      <td>Wind</td>\n",
       "      <td>CDM</td>\n",
       "      <td>https://cdm.unfccc.int/Projects/DB/TUEV-RHEIN1...</td>\n",
       "      <td>WRI</td>\n",
       "    </tr>\n",
       "    <tr>\n",
       "      <th>906</th>\n",
       "      <td>80.0</td>\n",
       "      <td>24.3500</td>\n",
       "      <td>73.7477</td>\n",
       "      <td>Coal</td>\n",
       "      <td>Hindustan Zinc ltd</td>\n",
       "      <td>http://www.hzlindia.com/</td>\n",
       "      <td>WRI</td>\n",
       "    </tr>\n",
       "    <tr>\n",
       "      <th>907</th>\n",
       "      <td>16.5</td>\n",
       "      <td>9.9344</td>\n",
       "      <td>77.4768</td>\n",
       "      <td>Wind</td>\n",
       "      <td>CDM</td>\n",
       "      <td>https://cdm.unfccc.int/Projects/DB/RWTUV134503...</td>\n",
       "      <td>WRI</td>\n",
       "    </tr>\n",
       "  </tbody>\n",
       "</table>\n",
       "<p>883 rows × 7 columns</p>\n",
       "</div>"
      ],
      "text/plain": [
       "     capacity_mw  latitude  longitude primary_fuel  \\\n",
       "0            2.5   28.1839    73.2407        Solar   \n",
       "1           98.0   24.7663    74.6090         Coal   \n",
       "2           39.2   21.9038    69.3732         Wind   \n",
       "3          135.0   23.8712    91.3602          Gas   \n",
       "4         1800.0   21.9603    82.4091         Coal   \n",
       "..           ...       ...        ...          ...   \n",
       "903       1600.0   16.2949    77.3568         Coal   \n",
       "904          3.0   12.8932    78.1654        Solar   \n",
       "905         25.5   15.2758    75.5811         Wind   \n",
       "906         80.0   24.3500    73.7477         Coal   \n",
       "907         16.5    9.9344    77.4768         Wind   \n",
       "\n",
       "                                   source  \\\n",
       "0    National Renewable Energy Laboratory   \n",
       "1                    Ultratech Cement ltd   \n",
       "2                                     CDM   \n",
       "3           Central Electricity Authority   \n",
       "4           Central Electricity Authority   \n",
       "..                                    ...   \n",
       "903         Central Electricity Authority   \n",
       "904   Karnataka Power Corporation Limited   \n",
       "905                                   CDM   \n",
       "906                    Hindustan Zinc ltd   \n",
       "907                                   CDM   \n",
       "\n",
       "                                                   url  \\\n",
       "0    http://www.nrel.gov/csp/solarpaces/project_det...   \n",
       "1                      http://www.ultratechcement.com/   \n",
       "2    https://cdm.unfccc.int/Projects/DB/DNV-CUK1328...   \n",
       "3                               http://www.cea.nic.in/   \n",
       "4                               http://www.cea.nic.in/   \n",
       "..                                                 ...   \n",
       "903                             http://www.cea.nic.in/   \n",
       "904                          http://karnatakapower.com   \n",
       "905  https://cdm.unfccc.int/Projects/DB/TUEV-RHEIN1...   \n",
       "906                           http://www.hzlindia.com/   \n",
       "907  https://cdm.unfccc.int/Projects/DB/RWTUV134503...   \n",
       "\n",
       "                       geolocation_source  \n",
       "0    National Renewable Energy Laboratory  \n",
       "1                                     WRI  \n",
       "2                                     WRI  \n",
       "3                                     WRI  \n",
       "4                                     WRI  \n",
       "..                                    ...  \n",
       "903                                   WRI  \n",
       "904                        Industry About  \n",
       "905                                   WRI  \n",
       "906                                   WRI  \n",
       "907                                   WRI  \n",
       "\n",
       "[883 rows x 7 columns]"
      ]
     },
     "execution_count": 29,
     "metadata": {},
     "output_type": "execute_result"
    }
   ],
   "source": [
    "# Dropping the duplicates\n",
    "df.drop_duplicates(inplace=True)\n",
    "df"
   ]
  },
  {
   "cell_type": "markdown",
   "id": "5096b733",
   "metadata": {},
   "source": [
    "Out dataset is now having no nulls and no duplicates. Dataset is of 892*8 dimension."
   ]
  },
  {
   "cell_type": "code",
   "execution_count": 30,
   "id": "b173b40c",
   "metadata": {},
   "outputs": [
    {
     "data": {
      "image/png": "[encoded data removed]",
      "text/plain": [
       "<Figure size 432x288 with 1 Axes>"
      ]
     },
     "metadata": {
      "needs_background": "light"
     },
     "output_type": "display_data"
    },
    {
     "data": {
      "image/png": "[encoded data removed]",
      "text/plain": [
       "<Figure size 432x288 with 1 Axes>"
      ]
     },
     "metadata": {
      "needs_background": "light"
     },
     "output_type": "display_data"
    }
   ],
   "source": [
    "# Visualizing value counts for object type the columns\n",
    "for i in df.columns :\n",
    "    if (df[i].nunique()<25) :\n",
    "        sns.countplot(df[i])\n",
    "        plt.show()"
   ]
  },
  {
   "cell_type": "markdown",
   "id": "23220ae2",
   "metadata": {},
   "source": [
    "Primary_fuel coal followed by Hydro is highly comsumed. Geolocation_source WRI is in majority."
   ]
  },
  {
   "cell_type": "code",
   "execution_count": 31,
   "id": "e46dbbfb",
   "metadata": {},
   "outputs": [
    {
     "data": {
      "text/plain": [
       "primary_fuel  source                                                     \n",
       "Biomass       Shree Sugars ltd                                                 3\n",
       "              Shri Ssk ltd                                                     3\n",
       "              Nsl Sugars ltd                                                   2\n",
       "              Ashok Ssk ltd                                                    1\n",
       "              Bannari Sugars ltd                                               1\n",
       "                                                                            ... \n",
       "Solar         Urja Private edEr                                                1\n",
       "              Videocon Industries Limited                                      1\n",
       "              Welspun Solar AP Private Limited                                 1\n",
       "              West Bengal Energy Development Corporation Limited (WBEDCL)      1\n",
       "Wind          CDM                                                            108\n",
       "Name: source, Length: 199, dtype: int64"
      ]
     },
     "execution_count": 31,
     "metadata": {},
     "output_type": "execute_result"
    }
   ],
   "source": [
    "df.groupby('primary_fuel')['source'].value_counts()"
   ]
  },
  {
   "cell_type": "markdown",
   "id": "63fb3541",
   "metadata": {},
   "source": [
    "Different primary_fuel have different sources just Wnd has CDM as source."
   ]
  },
  {
   "cell_type": "code",
   "execution_count": 32,
   "id": "5d295b27",
   "metadata": {},
   "outputs": [
    {
     "data": {
      "text/plain": [
       "primary_fuel\n",
       "Biomass     20.065200\n",
       "Coal       777.695830\n",
       "Gas        364.114072\n",
       "Hydro      189.316885\n",
       "Nuclear    975.555556\n",
       "Oil         94.230476\n",
       "Solar       20.565041\n",
       "Wind        33.769907\n",
       "Name: capacity_mw, dtype: float64"
      ]
     },
     "execution_count": 32,
     "metadata": {},
     "output_type": "execute_result"
    }
   ],
   "source": [
    "df.groupby('primary_fuel')['capacity_mw'].mean()"
   ]
  },
  {
   "cell_type": "markdown",
   "id": "796139fe",
   "metadata": {},
   "source": [
    "'primary_fuel' Nuclear has the highest capacity_mw mean, followed by Coal and Biomass has least capacity_mw mean."
   ]
  },
  {
   "cell_type": "code",
   "execution_count": 33,
   "id": "dacbb167",
   "metadata": {},
   "outputs": [
    {
     "name": "stdout",
     "output_type": "stream",
     "text": [
      "geolocation_source\n",
      "Industry About                            2252.000\n",
      "National Renewable Energy Laboratory       277.500\n",
      "WRI                                     288149.661\n",
      "Name: capacity_mw, dtype: float64\n",
      "geolocation_source\n",
      "Industry About                           18.924370\n",
      "National Renewable Energy Laboratory     69.375000\n",
      "WRI                                     379.144291\n",
      "Name: capacity_mw, dtype: float64\n"
     ]
    }
   ],
   "source": [
    "print(df.groupby('geolocation_source')['capacity_mw'].sum())\n",
    "print(df.groupby('geolocation_source')['capacity_mw'].mean())"
   ]
  },
  {
   "cell_type": "markdown",
   "id": "bed3466a",
   "metadata": {},
   "source": [
    "geolocation_source 'WRI' has the highest sum and mean capacity_mw."
   ]
  },
  {
   "cell_type": "code",
   "execution_count": 34,
   "id": "714c649e",
   "metadata": {},
   "outputs": [
    {
     "data": {
      "text/plain": [
       "primary_fuel\n",
       "Biomass    17.460458\n",
       "Coal       21.707110\n",
       "Gas        20.075190\n",
       "Hydro      22.202273\n",
       "Nuclear    18.081478\n",
       "Oil        17.749238\n",
       "Solar      24.095380\n",
       "Wind       17.857224\n",
       "Name: latitude, dtype: float64"
      ]
     },
     "execution_count": 34,
     "metadata": {},
     "output_type": "execute_result"
    }
   ],
   "source": [
    "df.groupby('primary_fuel')['latitude'].mean()"
   ]
  },
  {
   "cell_type": "markdown",
   "id": "418dd3f6",
   "metadata": {},
   "source": [
    "primary_fuel Solar has the highest mean of latitude."
   ]
  },
  {
   "cell_type": "code",
   "execution_count": 35,
   "id": "8666bd49",
   "metadata": {},
   "outputs": [
    {
     "data": {
      "text/html": [
       "<div>\n",
       "<style scoped>\n",
       "    .dataframe tbody tr th:only-of-type {\n",
       "        vertical-align: middle;\n",
       "    }\n",
       "\n",
       "    .dataframe tbody tr th {\n",
       "        vertical-align: top;\n",
       "    }\n",
       "\n",
       "    .dataframe thead th {\n",
       "        text-align: right;\n",
       "    }\n",
       "</style>\n",
       "<table border=\"1\" class=\"dataframe\">\n",
       "  <thead>\n",
       "    <tr style=\"text-align: right;\">\n",
       "      <th>primary_fuel</th>\n",
       "      <th>Biomass</th>\n",
       "      <th>Coal</th>\n",
       "      <th>Gas</th>\n",
       "      <th>Hydro</th>\n",
       "      <th>Nuclear</th>\n",
       "      <th>Oil</th>\n",
       "      <th>Solar</th>\n",
       "      <th>Wind</th>\n",
       "    </tr>\n",
       "    <tr>\n",
       "      <th>geolocation_source</th>\n",
       "      <th></th>\n",
       "      <th></th>\n",
       "      <th></th>\n",
       "      <th></th>\n",
       "      <th></th>\n",
       "      <th></th>\n",
       "      <th></th>\n",
       "      <th></th>\n",
       "    </tr>\n",
       "  </thead>\n",
       "  <tbody>\n",
       "    <tr>\n",
       "      <th>Industry About</th>\n",
       "      <td>0</td>\n",
       "      <td>0</td>\n",
       "      <td>0</td>\n",
       "      <td>0</td>\n",
       "      <td>0</td>\n",
       "      <td>0</td>\n",
       "      <td>119</td>\n",
       "      <td>0</td>\n",
       "    </tr>\n",
       "    <tr>\n",
       "      <th>National Renewable Energy Laboratory</th>\n",
       "      <td>0</td>\n",
       "      <td>0</td>\n",
       "      <td>0</td>\n",
       "      <td>0</td>\n",
       "      <td>0</td>\n",
       "      <td>0</td>\n",
       "      <td>4</td>\n",
       "      <td>0</td>\n",
       "    </tr>\n",
       "    <tr>\n",
       "      <th>WRI</th>\n",
       "      <td>50</td>\n",
       "      <td>259</td>\n",
       "      <td>69</td>\n",
       "      <td>244</td>\n",
       "      <td>9</td>\n",
       "      <td>21</td>\n",
       "      <td>0</td>\n",
       "      <td>108</td>\n",
       "    </tr>\n",
       "  </tbody>\n",
       "</table>\n",
       "</div>"
      ],
      "text/plain": [
       "primary_fuel                          Biomass  Coal  Gas  Hydro  Nuclear  Oil  \\\n",
       "geolocation_source                                                              \n",
       "Industry About                              0     0    0      0        0    0   \n",
       "National Renewable Energy Laboratory        0     0    0      0        0    0   \n",
       "WRI                                        50   259   69    244        9   21   \n",
       "\n",
       "primary_fuel                          Solar  Wind  \n",
       "geolocation_source                                 \n",
       "Industry About                          119     0  \n",
       "National Renewable Energy Laboratory      4     0  \n",
       "WRI                                       0   108  "
      ]
     },
     "execution_count": 35,
     "metadata": {},
     "output_type": "execute_result"
    }
   ],
   "source": [
    "# Pivot table showing counts\n",
    "pd.crosstab(df['geolocation_source'],df['primary_fuel'])"
   ]
  },
  {
   "cell_type": "markdown",
   "id": "d15a20b0",
   "metadata": {},
   "source": [
    "primary_fuel:Biomass,Coal,Gas,Hydro,Nuclear,Oil,Wind are mostly in WRI(geolocation_source). primary_fuel:Solar is mostly in geolocation_source:Industry About. A few primary_fuel:Solar are in geolocation_source:National Renewable Energy Laboratory."
   ]
  },
  {
   "cell_type": "code",
   "execution_count": 36,
   "id": "d3729e64",
   "metadata": {},
   "outputs": [
    {
     "data": {
      "text/plain": [
       "{'bodies': [<matplotlib.collections.PolyCollection at 0x239b0a460d0>],\n",
       " 'cmaxes': <matplotlib.collections.LineCollection at 0x239b09756d0>,\n",
       " 'cmins': <matplotlib.collections.LineCollection at 0x239b0a46580>,\n",
       " 'cbars': <matplotlib.collections.LineCollection at 0x239b0a46880>}"
      ]
     },
     "execution_count": 36,
     "metadata": {},
     "output_type": "execute_result"
    },
    {
     "data": {
      "image/png": "[encoded data removed]",
      "text/plain": [
       "<Figure size 432x288 with 1 Axes>"
      ]
     },
     "metadata": {
      "needs_background": "light"
     },
     "output_type": "display_data"
    }
   ],
   "source": [
    "#violinplot\n",
    "plt.violinplot(df['capacity_mw'])"
   ]
  },
  {
   "cell_type": "markdown",
   "id": "3a4abba5",
   "metadata": {},
   "source": [
    "Majority of capacity_mw value lies below 500."
   ]
  },
  {
   "cell_type": "markdown",
   "id": "f21b8f67",
   "metadata": {},
   "source": [
    "Consumption of fuel has highly taken place in and around commissioning_year 2020 and above."
   ]
  },
  {
   "cell_type": "code",
   "execution_count": 37,
   "id": "64ceec71",
   "metadata": {},
   "outputs": [
    {
     "data": {
      "text/plain": [
       "{'bodies': [<matplotlib.collections.PolyCollection at 0x239b0aa0670>],\n",
       " 'cmaxes': <matplotlib.collections.LineCollection at 0x239b0a86d90>,\n",
       " 'cmins': <matplotlib.collections.LineCollection at 0x239b0aa0b20>,\n",
       " 'cbars': <matplotlib.collections.LineCollection at 0x239b0aa0e20>}"
      ]
     },
     "execution_count": 37,
     "metadata": {},
     "output_type": "execute_result"
    },
    {
     "data": {
      "image/png": "[encoded data removed]",
      "text/plain": [
       "<Figure size 432x288 with 1 Axes>"
      ]
     },
     "metadata": {
      "needs_background": "light"
     },
     "output_type": "display_data"
    }
   ],
   "source": [
    "#violinplot\n",
    "plt.violinplot(df['latitude'])"
   ]
  },
  {
   "cell_type": "markdown",
   "id": "e76b3792",
   "metadata": {},
   "source": [
    "latitude distribution is highly in the range of 15-30."
   ]
  },
  {
   "cell_type": "code",
   "execution_count": 38,
   "id": "3e7d67b8",
   "metadata": {},
   "outputs": [
    {
     "data": {
      "text/plain": [
       "{'bodies': [<matplotlib.collections.PolyCollection at 0x239b0b041c0>],\n",
       " 'cmaxes': <matplotlib.collections.LineCollection at 0x239b0ab9d60>,\n",
       " 'cmins': <matplotlib.collections.LineCollection at 0x239b0b04670>,\n",
       " 'cbars': <matplotlib.collections.LineCollection at 0x239b0b04970>}"
      ]
     },
     "execution_count": 38,
     "metadata": {},
     "output_type": "execute_result"
    },
    {
     "data": {
      "image/png": "[encoded data removed]",
      "text/plain": [
       "<Figure size 432x288 with 1 Axes>"
      ]
     },
     "metadata": {
      "needs_background": "light"
     },
     "output_type": "display_data"
    }
   ],
   "source": [
    "#violinplot\n",
    "plt.violinplot(df['longitude'])"
   ]
  },
  {
   "cell_type": "markdown",
   "id": "19e0e3df",
   "metadata": {},
   "source": [
    "latitude distribution is highly in the range of 73-80."
   ]
  },
  {
   "cell_type": "code",
   "execution_count": 39,
   "id": "ac6b38fc",
   "metadata": {},
   "outputs": [
    {
     "data": {
      "text/plain": [
       "<seaborn.axisgrid.FacetGrid at 0x239b1b427c0>"
      ]
     },
     "execution_count": 39,
     "metadata": {},
     "output_type": "execute_result"
    },
    {
     "data": {
      "image/png": "[encoded data removed]",
      "text/plain": [
       "<Figure size 438x360 with 1 Axes>"
      ]
     },
     "metadata": {
      "needs_background": "light"
     },
     "output_type": "display_data"
    }
   ],
   "source": [
    "# Swarmplot\n",
    "sns.catplot('geolocation_source','capacity_mw',data=df,kind='swarm',hue='primary_fuel')"
   ]
  },
  {
   "cell_type": "markdown",
   "id": "82c5f1af",
   "metadata": {},
   "source": [
    "Only primary_fuel:Solar is there in geolocation_source:Industry About & National Renewable Energy Laboratory with capacity_mw below 500. In geolocation_source:WRI, all primary_fuels are there but Coal is in abundance with capacity_mw above 4000."
   ]
  },
  {
   "cell_type": "code",
   "execution_count": 40,
   "id": "4094ad7b",
   "metadata": {},
   "outputs": [
    {
     "data": {
      "text/plain": [
       "<seaborn.axisgrid.FacetGrid at 0x239b0adb730>"
      ]
     },
     "execution_count": 40,
     "metadata": {},
     "output_type": "execute_result"
    },
    {
     "data": {
      "image/png": "[encoded data removed]",
      "text/plain": [
       "<Figure size 438x360 with 1 Axes>"
      ]
     },
     "metadata": {
      "needs_background": "light"
     },
     "output_type": "display_data"
    }
   ],
   "source": [
    "# Swarmplot\n",
    "sns.catplot('geolocation_source','latitude',data=df,kind='swarm',hue='primary_fuel')"
   ]
  },
  {
   "cell_type": "markdown",
   "id": "98d84b21",
   "metadata": {},
   "source": [
    "geolocation_source:Industry About has comsumption details of only Solar primary_fuel that is in latitude range of 9-31. geolocation_source:National Renewable Energy Laboratory has comsumption details of only Solar primary_fuel that is in the latitude range of 71-73.\n",
    "geolocation_source:WRI has comsumption details of all the primary_fuels distributed in latitude range of 8-34."
   ]
  },
  {
   "cell_type": "code",
   "execution_count": 41,
   "id": "6c614ee6",
   "metadata": {},
   "outputs": [
    {
     "data": {
      "text/plain": [
       "<seaborn.axisgrid.FacetGrid at 0x239b09759a0>"
      ]
     },
     "execution_count": 41,
     "metadata": {},
     "output_type": "execute_result"
    },
    {
     "data": {
      "image/png": "[encoded data removed]",
      "text/plain": [
       "<Figure size 438x360 with 1 Axes>"
      ]
     },
     "metadata": {
      "needs_background": "light"
     },
     "output_type": "display_data"
    }
   ],
   "source": [
    "# Swarmplot\n",
    "sns.catplot('geolocation_source','longitude',data=df,kind='swarm',hue='primary_fuel')"
   ]
  },
  {
   "cell_type": "markdown",
   "id": "74a6e102",
   "metadata": {},
   "source": [
    "geolocation_source:Industry About has comsumption details of only Solar primary_fuel that is in latitude range of 69-93. geolocation_source:National Renewable Energy Laboratory has comsumption details of only Solar primary_fuel that is in the latitude range of 71-73.\n",
    "geolocation_source:WRI has comsumption details of all the primary_fuels distributed in latitude range of 68-96."
   ]
  },
  {
   "cell_type": "markdown",
   "id": "6d628ea1",
   "metadata": {},
   "source": [
    "## Let's take the Regression Problem first with target variable capacity_mw"
   ]
  },
  {
   "cell_type": "markdown",
   "id": "b94fe1df",
   "metadata": {},
   "source": [
    "### Dividing dataset in continuous and categorical"
   ]
  },
  {
   "cell_type": "code",
   "execution_count": 42,
   "id": "57fafe07",
   "metadata": {},
   "outputs": [
    {
     "data": {
      "text/html": [
       "<div>\n",
       "<style scoped>\n",
       "    .dataframe tbody tr th:only-of-type {\n",
       "        vertical-align: middle;\n",
       "    }\n",
       "\n",
       "    .dataframe tbody tr th {\n",
       "        vertical-align: top;\n",
       "    }\n",
       "\n",
       "    .dataframe thead th {\n",
       "        text-align: right;\n",
       "    }\n",
       "</style>\n",
       "<table border=\"1\" class=\"dataframe\">\n",
       "  <thead>\n",
       "    <tr style=\"text-align: right;\">\n",
       "      <th></th>\n",
       "      <th>primary_fuel</th>\n",
       "      <th>source</th>\n",
       "      <th>url</th>\n",
       "      <th>geolocation_source</th>\n",
       "    </tr>\n",
       "  </thead>\n",
       "  <tbody>\n",
       "    <tr>\n",
       "      <th>0</th>\n",
       "      <td>Solar</td>\n",
       "      <td>National Renewable Energy Laboratory</td>\n",
       "      <td>http://www.nrel.gov/csp/solarpaces/project_det...</td>\n",
       "      <td>National Renewable Energy Laboratory</td>\n",
       "    </tr>\n",
       "    <tr>\n",
       "      <th>1</th>\n",
       "      <td>Coal</td>\n",
       "      <td>Ultratech Cement ltd</td>\n",
       "      <td>http://www.ultratechcement.com/</td>\n",
       "      <td>WRI</td>\n",
       "    </tr>\n",
       "    <tr>\n",
       "      <th>2</th>\n",
       "      <td>Wind</td>\n",
       "      <td>CDM</td>\n",
       "      <td>https://cdm.unfccc.int/Projects/DB/DNV-CUK1328...</td>\n",
       "      <td>WRI</td>\n",
       "    </tr>\n",
       "    <tr>\n",
       "      <th>3</th>\n",
       "      <td>Gas</td>\n",
       "      <td>Central Electricity Authority</td>\n",
       "      <td>http://www.cea.nic.in/</td>\n",
       "      <td>WRI</td>\n",
       "    </tr>\n",
       "    <tr>\n",
       "      <th>4</th>\n",
       "      <td>Coal</td>\n",
       "      <td>Central Electricity Authority</td>\n",
       "      <td>http://www.cea.nic.in/</td>\n",
       "      <td>WRI</td>\n",
       "    </tr>\n",
       "    <tr>\n",
       "      <th>...</th>\n",
       "      <td>...</td>\n",
       "      <td>...</td>\n",
       "      <td>...</td>\n",
       "      <td>...</td>\n",
       "    </tr>\n",
       "    <tr>\n",
       "      <th>903</th>\n",
       "      <td>Coal</td>\n",
       "      <td>Central Electricity Authority</td>\n",
       "      <td>http://www.cea.nic.in/</td>\n",
       "      <td>WRI</td>\n",
       "    </tr>\n",
       "    <tr>\n",
       "      <th>904</th>\n",
       "      <td>Solar</td>\n",
       "      <td>Karnataka Power Corporation Limited</td>\n",
       "      <td>http://karnatakapower.com</td>\n",
       "      <td>Industry About</td>\n",
       "    </tr>\n",
       "    <tr>\n",
       "      <th>905</th>\n",
       "      <td>Wind</td>\n",
       "      <td>CDM</td>\n",
       "      <td>https://cdm.unfccc.int/Projects/DB/TUEV-RHEIN1...</td>\n",
       "      <td>WRI</td>\n",
       "    </tr>\n",
       "    <tr>\n",
       "      <th>906</th>\n",
       "      <td>Coal</td>\n",
       "      <td>Hindustan Zinc ltd</td>\n",
       "      <td>http://www.hzlindia.com/</td>\n",
       "      <td>WRI</td>\n",
       "    </tr>\n",
       "    <tr>\n",
       "      <th>907</th>\n",
       "      <td>Wind</td>\n",
       "      <td>CDM</td>\n",
       "      <td>https://cdm.unfccc.int/Projects/DB/RWTUV134503...</td>\n",
       "      <td>WRI</td>\n",
       "    </tr>\n",
       "  </tbody>\n",
       "</table>\n",
       "<p>883 rows × 4 columns</p>\n",
       "</div>"
      ],
      "text/plain": [
       "    primary_fuel                                source  \\\n",
       "0          Solar  National Renewable Energy Laboratory   \n",
       "1           Coal                  Ultratech Cement ltd   \n",
       "2           Wind                                   CDM   \n",
       "3            Gas         Central Electricity Authority   \n",
       "4           Coal         Central Electricity Authority   \n",
       "..           ...                                   ...   \n",
       "903         Coal         Central Electricity Authority   \n",
       "904        Solar   Karnataka Power Corporation Limited   \n",
       "905         Wind                                   CDM   \n",
       "906         Coal                    Hindustan Zinc ltd   \n",
       "907         Wind                                   CDM   \n",
       "\n",
       "                                                   url  \\\n",
       "0    http://www.nrel.gov/csp/solarpaces/project_det...   \n",
       "1                      http://www.ultratechcement.com/   \n",
       "2    https://cdm.unfccc.int/Projects/DB/DNV-CUK1328...   \n",
       "3                               http://www.cea.nic.in/   \n",
       "4                               http://www.cea.nic.in/   \n",
       "..                                                 ...   \n",
       "903                             http://www.cea.nic.in/   \n",
       "904                          http://karnatakapower.com   \n",
       "905  https://cdm.unfccc.int/Projects/DB/TUEV-RHEIN1...   \n",
       "906                           http://www.hzlindia.com/   \n",
       "907  https://cdm.unfccc.int/Projects/DB/RWTUV134503...   \n",
       "\n",
       "                       geolocation_source  \n",
       "0    National Renewable Energy Laboratory  \n",
       "1                                     WRI  \n",
       "2                                     WRI  \n",
       "3                                     WRI  \n",
       "4                                     WRI  \n",
       "..                                    ...  \n",
       "903                                   WRI  \n",
       "904                        Industry About  \n",
       "905                                   WRI  \n",
       "906                                   WRI  \n",
       "907                                   WRI  \n",
       "\n",
       "[883 rows x 4 columns]"
      ]
     },
     "execution_count": 42,
     "metadata": {},
     "output_type": "execute_result"
    }
   ],
   "source": [
    "# Dividing the data in categorical and numeric columns\n",
    "# Categorical data\n",
    "df_cat=df.select_dtypes(include='object')\n",
    "df_cat"
   ]
  },
  {
   "cell_type": "code",
   "execution_count": 43,
   "id": "6ef4305f",
   "metadata": {},
   "outputs": [],
   "source": [
    "# Continuous data\n",
    "df_con=df.select_dtypes(exclude='object')\n",
    "df_con.drop('capacity_mw',axis=1,inplace=True)\n",
    "df_col=df['capacity_mw']"
   ]
  },
  {
   "cell_type": "code",
   "execution_count": 44,
   "id": "dfa71272",
   "metadata": {},
   "outputs": [
    {
     "data": {
      "text/plain": [
       "(array([178, 182, 241, 319, 329, 336, 356, 410, 421, 491, 510, 535, 627,\n",
       "        797], dtype=int64),\n",
       " array([1, 1, 1, 1, 1, 1, 1, 1, 1, 1, 1, 1, 1, 1], dtype=int64))"
      ]
     },
     "execution_count": 44,
     "metadata": {},
     "output_type": "execute_result"
    }
   ],
   "source": [
    "# Checking outliers\n",
    "from scipy.stats import zscore\n",
    "z=np.abs(zscore(df_con))\n",
    "np.where(z>3)"
   ]
  },
  {
   "cell_type": "code",
   "execution_count": 45,
   "id": "c06f46ce",
   "metadata": {},
   "outputs": [
    {
     "data": {
      "text/plain": [
       "3.206694230576235"
      ]
     },
     "execution_count": 45,
     "metadata": {},
     "output_type": "execute_result"
    }
   ],
   "source": [
    "# Checking the outlier in the dataset\n",
    "z[178][1]"
   ]
  },
  {
   "cell_type": "code",
   "execution_count": 46,
   "id": "0905d705",
   "metadata": {},
   "outputs": [
    {
     "data": {
      "image/png": "[encoded data removed]",
      "text/plain": [
       "<Figure size 1440x720 with 24 Axes>"
      ]
     },
     "metadata": {
      "needs_background": "light"
     },
     "output_type": "display_data"
    }
   ],
   "source": [
    "# Visualising outliers\n",
    "df_con.plot(kind='box',subplots=True,layout=(3,8), figsize=(20,10))\n",
    "plt.show()"
   ]
  },
  {
   "cell_type": "markdown",
   "id": "4d7c68ec",
   "metadata": {},
   "source": [
    "Plot showing there are presence of outliers in the columns."
   ]
  },
  {
   "cell_type": "code",
   "execution_count": 47,
   "id": "1f582967",
   "metadata": {},
   "outputs": [
    {
     "data": {
      "text/plain": [
       "latitude    -0.155233\n",
       "longitude    1.123685\n",
       "dtype: float64"
      ]
     },
     "execution_count": 47,
     "metadata": {},
     "output_type": "execute_result"
    }
   ],
   "source": [
    "# Checking skewness\n",
    "df_con.skew()"
   ]
  },
  {
   "cell_type": "markdown",
   "id": "6fa060a4",
   "metadata": {},
   "source": [
    "Skewness is present in the dataset as acceptable range is +/-5."
   ]
  },
  {
   "cell_type": "code",
   "execution_count": 48,
   "id": "5e99f713",
   "metadata": {},
   "outputs": [
    {
     "data": {
      "image/png": "[encoded data removed]",
      "text/plain": [
       "<Figure size 432x288 with 1 Axes>"
      ]
     },
     "metadata": {
      "needs_background": "light"
     },
     "output_type": "display_data"
    },
    {
     "data": {
      "image/png": "[encoded data removed]",
      "text/plain": [
       "<Figure size 432x288 with 1 Axes>"
      ]
     },
     "metadata": {
      "needs_background": "light"
     },
     "output_type": "display_data"
    }
   ],
   "source": [
    "# Visualizing skewness\n",
    "for i in df_con.columns :\n",
    "    sns.distplot(df_con[i])\n",
    "    plt.show()"
   ]
  },
  {
   "cell_type": "markdown",
   "id": "a9e07b27",
   "metadata": {},
   "source": [
    "Data is skewed in all the columns."
   ]
  },
  {
   "cell_type": "markdown",
   "id": "a4ef8d1e",
   "metadata": {},
   "source": [
    "### Data Cleaning"
   ]
  },
  {
   "cell_type": "code",
   "execution_count": 49,
   "id": "679cf1a9",
   "metadata": {},
   "outputs": [
    {
     "data": {
      "text/html": [
       "<div>\n",
       "<style scoped>\n",
       "    .dataframe tbody tr th:only-of-type {\n",
       "        vertical-align: middle;\n",
       "    }\n",
       "\n",
       "    .dataframe tbody tr th {\n",
       "        vertical-align: top;\n",
       "    }\n",
       "\n",
       "    .dataframe thead th {\n",
       "        text-align: right;\n",
       "    }\n",
       "</style>\n",
       "<table border=\"1\" class=\"dataframe\">\n",
       "  <thead>\n",
       "    <tr style=\"text-align: right;\">\n",
       "      <th></th>\n",
       "      <th>latitude</th>\n",
       "      <th>longitude</th>\n",
       "    </tr>\n",
       "  </thead>\n",
       "  <tbody>\n",
       "    <tr>\n",
       "      <th>0</th>\n",
       "      <td>28.1839</td>\n",
       "      <td>73.2407</td>\n",
       "    </tr>\n",
       "    <tr>\n",
       "      <th>1</th>\n",
       "      <td>24.7663</td>\n",
       "      <td>74.6090</td>\n",
       "    </tr>\n",
       "    <tr>\n",
       "      <th>2</th>\n",
       "      <td>21.9038</td>\n",
       "      <td>69.3732</td>\n",
       "    </tr>\n",
       "    <tr>\n",
       "      <th>3</th>\n",
       "      <td>23.8712</td>\n",
       "      <td>91.3602</td>\n",
       "    </tr>\n",
       "    <tr>\n",
       "      <th>4</th>\n",
       "      <td>21.9603</td>\n",
       "      <td>82.4091</td>\n",
       "    </tr>\n",
       "    <tr>\n",
       "      <th>...</th>\n",
       "      <td>...</td>\n",
       "      <td>...</td>\n",
       "    </tr>\n",
       "    <tr>\n",
       "      <th>903</th>\n",
       "      <td>16.2949</td>\n",
       "      <td>77.3568</td>\n",
       "    </tr>\n",
       "    <tr>\n",
       "      <th>904</th>\n",
       "      <td>12.8932</td>\n",
       "      <td>78.1654</td>\n",
       "    </tr>\n",
       "    <tr>\n",
       "      <th>905</th>\n",
       "      <td>15.2758</td>\n",
       "      <td>75.5811</td>\n",
       "    </tr>\n",
       "    <tr>\n",
       "      <th>906</th>\n",
       "      <td>24.3500</td>\n",
       "      <td>73.7477</td>\n",
       "    </tr>\n",
       "    <tr>\n",
       "      <th>907</th>\n",
       "      <td>9.9344</td>\n",
       "      <td>77.4768</td>\n",
       "    </tr>\n",
       "  </tbody>\n",
       "</table>\n",
       "<p>869 rows × 2 columns</p>\n",
       "</div>"
      ],
      "text/plain": [
       "     latitude  longitude\n",
       "0     28.1839    73.2407\n",
       "1     24.7663    74.6090\n",
       "2     21.9038    69.3732\n",
       "3     23.8712    91.3602\n",
       "4     21.9603    82.4091\n",
       "..        ...        ...\n",
       "903   16.2949    77.3568\n",
       "904   12.8932    78.1654\n",
       "905   15.2758    75.5811\n",
       "906   24.3500    73.7477\n",
       "907    9.9344    77.4768\n",
       "\n",
       "[869 rows x 2 columns]"
      ]
     },
     "execution_count": 49,
     "metadata": {},
     "output_type": "execute_result"
    }
   ],
   "source": [
    "# Removing outliers\n",
    "df1=df_con.copy()\n",
    "df1=df_con[(z<3).all(axis=1)]\n",
    "df1"
   ]
  },
  {
   "cell_type": "code",
   "execution_count": 50,
   "id": "f7969328",
   "metadata": {},
   "outputs": [
    {
     "name": "stdout",
     "output_type": "stream",
     "text": [
      "Shape of original dataset :  (883, 2)\n",
      "Shape of dataset after removing outliers :  (869, 2)\n"
     ]
    }
   ],
   "source": [
    "# Printing shape of dataset before and after removing outliers\n",
    "print('Shape of original dataset : ',df_con.shape)\n",
    "print('Shape of dataset after removing outliers : ',df1.shape)"
   ]
  },
  {
   "cell_type": "code",
   "execution_count": 51,
   "id": "9b6aa77e",
   "metadata": {},
   "outputs": [
    {
     "data": {
      "text/plain": [
       "1.5855039637599093"
      ]
     },
     "execution_count": 51,
     "metadata": {},
     "output_type": "execute_result"
    }
   ],
   "source": [
    "# Percentage Data lost\n",
    "data_percent=(883-869)/883*100\n",
    "data_percent"
   ]
  },
  {
   "cell_type": "markdown",
   "id": "2d69a5fb",
   "metadata": {},
   "source": [
    "Approx 2% data is lost after removing the outliers."
   ]
  },
  {
   "cell_type": "code",
   "execution_count": 52,
   "id": "ed55be03",
   "metadata": {},
   "outputs": [
    {
     "data": {
      "text/plain": [
       "latitude    -0.131024\n",
       "longitude    0.896869\n",
       "dtype: float64"
      ]
     },
     "execution_count": 52,
     "metadata": {},
     "output_type": "execute_result"
    }
   ],
   "source": [
    "# Checking skewness after removing outliers\n",
    "df1.skew()"
   ]
  },
  {
   "cell_type": "markdown",
   "id": "4bfbbac1",
   "metadata": {},
   "source": [
    "We can still see skewness in longitude & commissioning_year columns."
   ]
  },
  {
   "cell_type": "code",
   "execution_count": 53,
   "id": "4b79adc7",
   "metadata": {},
   "outputs": [
    {
     "name": "stdout",
     "output_type": "stream",
     "text": [
      "latitude    -0.131024\n",
      "longitude    0.721963\n",
      "dtype: float64\n"
     ]
    }
   ],
   "source": [
    "# Removing skewness\n",
    "df2=df1.copy()\n",
    "for i in df2.columns :\n",
    "    if df2[i].skew()>0.5 :\n",
    "        df2[i]=np.log(df1[i]+1)\n",
    "print(df2.skew())"
   ]
  },
  {
   "cell_type": "code",
   "execution_count": 54,
   "id": "ecb03d5b",
   "metadata": {},
   "outputs": [
    {
     "data": {
      "text/plain": [
       "latitude    -0.131024\n",
       "longitude   -0.643143\n",
       "dtype: float64"
      ]
     },
     "execution_count": 54,
     "metadata": {},
     "output_type": "execute_result"
    }
   ],
   "source": [
    "#from scipy.stats import yeojohnson,boxcox\n",
    "df2['longitude']=1/(df2['longitude'])\n",
    "df2.skew()"
   ]
  },
  {
   "cell_type": "markdown",
   "id": "06fbbf0b",
   "metadata": {},
   "source": [
    "Removed skewness and for column commissioning_year skewness is increasing on further applying any transformations. Hence we consider the present values as skewness threshold based on the kind of data distribution in respective columns."
   ]
  },
  {
   "cell_type": "code",
   "execution_count": 55,
   "id": "b58a26f5",
   "metadata": {},
   "outputs": [
    {
     "data": {
      "text/html": [
       "<div>\n",
       "<style scoped>\n",
       "    .dataframe tbody tr th:only-of-type {\n",
       "        vertical-align: middle;\n",
       "    }\n",
       "\n",
       "    .dataframe tbody tr th {\n",
       "        vertical-align: top;\n",
       "    }\n",
       "\n",
       "    .dataframe thead th {\n",
       "        text-align: right;\n",
       "    }\n",
       "</style>\n",
       "<table border=\"1\" class=\"dataframe\">\n",
       "  <thead>\n",
       "    <tr style=\"text-align: right;\">\n",
       "      <th></th>\n",
       "      <th>latitude</th>\n",
       "      <th>longitude</th>\n",
       "    </tr>\n",
       "  </thead>\n",
       "  <tbody>\n",
       "    <tr>\n",
       "      <th>0</th>\n",
       "      <td>28.1839</td>\n",
       "      <td>0.232163</td>\n",
       "    </tr>\n",
       "    <tr>\n",
       "      <th>1</th>\n",
       "      <td>24.7663</td>\n",
       "      <td>0.231183</td>\n",
       "    </tr>\n",
       "    <tr>\n",
       "      <th>2</th>\n",
       "      <td>21.9038</td>\n",
       "      <td>0.235083</td>\n",
       "    </tr>\n",
       "    <tr>\n",
       "      <th>3</th>\n",
       "      <td>23.8712</td>\n",
       "      <td>0.220960</td>\n",
       "    </tr>\n",
       "    <tr>\n",
       "      <th>4</th>\n",
       "      <td>21.9603</td>\n",
       "      <td>0.226052</td>\n",
       "    </tr>\n",
       "    <tr>\n",
       "      <th>...</th>\n",
       "      <td>...</td>\n",
       "      <td>...</td>\n",
       "    </tr>\n",
       "    <tr>\n",
       "      <th>903</th>\n",
       "      <td>16.2949</td>\n",
       "      <td>0.229291</td>\n",
       "    </tr>\n",
       "    <tr>\n",
       "      <th>904</th>\n",
       "      <td>12.8932</td>\n",
       "      <td>0.228752</td>\n",
       "    </tr>\n",
       "    <tr>\n",
       "      <th>905</th>\n",
       "      <td>15.2758</td>\n",
       "      <td>0.230502</td>\n",
       "    </tr>\n",
       "    <tr>\n",
       "      <th>906</th>\n",
       "      <td>24.3500</td>\n",
       "      <td>0.231797</td>\n",
       "    </tr>\n",
       "    <tr>\n",
       "      <th>907</th>\n",
       "      <td>9.9344</td>\n",
       "      <td>0.229210</td>\n",
       "    </tr>\n",
       "  </tbody>\n",
       "</table>\n",
       "<p>869 rows × 2 columns</p>\n",
       "</div>"
      ],
      "text/plain": [
       "     latitude  longitude\n",
       "0     28.1839   0.232163\n",
       "1     24.7663   0.231183\n",
       "2     21.9038   0.235083\n",
       "3     23.8712   0.220960\n",
       "4     21.9603   0.226052\n",
       "..        ...        ...\n",
       "903   16.2949   0.229291\n",
       "904   12.8932   0.228752\n",
       "905   15.2758   0.230502\n",
       "906   24.3500   0.231797\n",
       "907    9.9344   0.229210\n",
       "\n",
       "[869 rows x 2 columns]"
      ]
     },
     "execution_count": 55,
     "metadata": {},
     "output_type": "execute_result"
    }
   ],
   "source": [
    "# Checking the new dataset\n",
    "df2"
   ]
  },
  {
   "cell_type": "code",
   "execution_count": 56,
   "id": "99448336",
   "metadata": {},
   "outputs": [],
   "source": [
    "# Plotting Q-Q plot for showing gaussian distribution\n",
    "def diagnostic_plot(df,col) :\n",
    "    \n",
    "    plt.figure(figsize=(10,4))\n",
    "    plt.subplot(1,2,1)\n",
    "    df[col].hist()\n",
    "    \n",
    "    plt.subplot(1,2,2)\n",
    "    stats.probplot(df[col],dist='norm',plot=plt)\n",
    "    \n",
    "    plt.show()"
   ]
  },
  {
   "cell_type": "code",
   "execution_count": 57,
   "id": "712ec885",
   "metadata": {},
   "outputs": [
    {
     "name": "stdout",
     "output_type": "stream",
     "text": [
      "latitude\n"
     ]
    },
    {
     "data": {
      "image/png": "[encoded data removed]",
      "text/plain": [
       "<Figure size 720x288 with 2 Axes>"
      ]
     },
     "metadata": {
      "needs_background": "light"
     },
     "output_type": "display_data"
    },
    {
     "name": "stdout",
     "output_type": "stream",
     "text": [
      "longitude\n"
     ]
    },
    {
     "data": {
      "image/png": "[encoded data removed]",
      "text/plain": [
       "<Figure size 720x288 with 2 Axes>"
      ]
     },
     "metadata": {
      "needs_background": "light"
     },
     "output_type": "display_data"
    }
   ],
   "source": [
    "for i in df2.columns :\n",
    "    print(i)\n",
    "    diagnostic_plot(df2,i)"
   ]
  },
  {
   "cell_type": "markdown",
   "id": "1a1150a8",
   "metadata": {},
   "source": [
    "Data is now seem to be good fit on line implies skewness is reduced."
   ]
  },
  {
   "cell_type": "markdown",
   "id": "becc57ca",
   "metadata": {},
   "source": [
    "### Apply encoding on categorical columns"
   ]
  },
  {
   "cell_type": "code",
   "execution_count": 58,
   "id": "6e34fac1",
   "metadata": {},
   "outputs": [
    {
     "name": "stdout",
     "output_type": "stream",
     "text": [
      "primary_fuel\n",
      "['Solar' 'Coal' 'Wind' 'Gas' 'Hydro' 'Biomass' 'Oil' 'Nuclear']\n",
      "source\n",
      "['National Renewable Energy Laboratory' 'Ultratech Cement ltd' 'CDM'\n",
      " 'Central Electricity Authority' 'Hindustan Pvt lt' 'Dr Ssk ltd'\n",
      " 'Ashok Ssk ltd' 'Shree Sugars ltd' 'Navbharat' 'Meil.In/P' 'Lancosola'\n",
      " 'Indian Power ltd' 'Ballarpur Industries ltd' 'Jk Cement ltd'\n",
      " 'India Ltd icl)' 'Ideal Projects ltd' 'Ugar Works ltd'\n",
      " 'Vishwanath Sugars ltd' 'Hothur Pvt ltd' 'Janki Corp ltd'\n",
      " 'Mysore Mills ltd' 'Sunflag Co ltd' 'Varam Pvt ltd' 'Sangam Spinners ltd'\n",
      " 'Bharat Refinery ltd' 'Binani Industries ltd' 'Indo Synthetics ltd'\n",
      " 'Ambed K Sugar' 'AES Winfra' 'Sembcorp' 'Punj Lloyd' 'Hiraco India'\n",
      " 'Moserbaer Solar' 'Lingandwi' 'LEPL' 'CleanEnerg teLeanenergy'\n",
      " 'Adani Power Limite r Er' 'Madhav Group' 'Power Private edM/Pdf'\n",
      " 'Acc Acc ltd' 'Birla Corp ltd' 'Hindustan Zinc ltd' 'Gupta Ltd gepl)'\n",
      " 'Manikghar Cement co' 'Core Fuels ltd'\n",
      " 'Maharashtra State Power Generation Co Ltd (MAHAGENCO)' 'Solar for India'\n",
      " 'P3 Green' 'Reliance Power Ltd' 'Bmm Pvt ltd' 'Daund Sugar ltd'\n",
      " 'Davangere Co ltd' 'Mukand Mukand ltd' 'Shri Ssk ltd' 'Jsw Steel ltd'\n",
      " 'Shamanur Sugars ltd' 'Jai Industries ltd'\n",
      " 'National Thermal Power Corporation (NTPC)' 'West Coast Paper Mills Ltd.'\n",
      " 'Ujaas Energy Limited' 'Est vt Arind'\n",
      " 'Aravali Infrapower Private Limited (AIPL)'\n",
      " 'Sovox Renewables Private Limited' 'Chambal & chem'\n",
      " 'Lloyds Industries ltd' 'Grace Industries ltd' 'Orient Cement ltd'\n",
      " 'SunBorne Energy Gujarat One Private Limited'\n",
      " 'Pandit Deendayal Petrolium University (PDPU)'\n",
      " 'Ministry of New and Renewable Energy'\n",
      " 'Rajasthan Renewable Energy Corporation Limited (RREC)' 'Solaer'\n",
      " 'Amrit Energy Private Limited' 'Jawahar Ssk ltd' 'Purna Ssk ltd'\n",
      " 'Rk Pvt ltd' 'Essel MP Energy Limited' 'Harsha Engineers Limited'\n",
      " 'Karnataka Power Corporation Limited' 'Godawari Energy ltd'\n",
      " 'Jaypee Ltd jccl)' 'Sunkon Energy Private Limited'\n",
      " 'West Bengal Energy Development Corporation Limited (WBEDCL)'\n",
      " 'Chettinad Corp ltd' 'Kjs Ahluwalia group' 'Ym Ssk ltd'\n",
      " 'Maral Overseas ltd' 'Gm Energy ltd' 'Uttam Steels ltd' 'Sri Sugars ltd'\n",
      " 'Hemarus Technologies ltd' 'Shri Vedganga ssk' 'Kumbhi Ssk ltd'\n",
      " 'Bannari Sugars ltd' 'Nsl Sugars ltd' 'Hare Pvt ltd' 'Dcm & chem'\n",
      " 'Gem Sugars ltd' 'Azure Power (Rajasthan) Private Limited'\n",
      " 'Real Estate e' 'Sepset Constructio te'\n",
      " 'Gujarat Urja Vikas Nigam Limited' 'Firestone Trading Private Limited'\n",
      " 'Solairedirect' 'ACME Solar Energy' 'Unity Power Limite r World'\n",
      " 'Urja India edEnewables' 'Infratech e M/Pdf' 'S Limited Rsolar' 'IAEA'\n",
      " 'Tata Co ltd' 'Lokmangal Lokmangal group' 'Powers Private'\n",
      " 'Clean Energy edOjects.Com' 'PEDA' 'Mahatma Power ltd' 'Bharat Corp ltd'\n",
      " 'Maihar Cement ltd' 'Mangalore & petrochem' 'Manglam Cement ltd'\n",
      " 'Manikgarh Manikgarh cement' 'Ambuja Cements ltd' 'Rswm Rswm ltd'\n",
      " 'Greta Energy ltd' 'Ongc Gas corp' 'Technocraft Technocraft group'\n",
      " 'Tata Power Solar' 'Grasim Industries ltd' 'Reliance Petrochemicals'\n",
      " 'Gmt Pvt ltd' 'Purti Sugar ltd' 'Topworth Metals ltd' 'Orient Power ltd'\n",
      " 'Rattanindia Power ltd' 'National And paper' 'Nitin Spinners ltd'\n",
      " 'EMC Limited' 'Hira Group' 'Precision Technik Private Limited'\n",
      " 'Gangakhed Energy ltd' 'Sinarmas Paper ltd'\n",
      " 'Gujarat Mineral Development Corporation Limited (GMDC)' 'Coal Mi ICM'\n",
      " 'Se Pvt Rsolar' 'Urja Private edEr' 'Surana Industries ltd'\n",
      " 'Grasim Cement ltd' 'Spr Pvt ltd' 'Natural Alliend indust'\n",
      " 'Shree Cement ltd' 'Astonfield Management Limited'\n",
      " 'Welspun Solar Punjab Private Limited'\n",
      " 'Taxus Infrastructure and Power Projects Pvt Ltd'\n",
      " 'Indian Oil Corporation (IOC)' 'Sterling and Wilson'\n",
      " 'SEI Solar Energy Private Limited' 'Welspun Solar AP Private Limited'\n",
      " 'Sahakar Shiromani vasantrao' 'Godavari Mills ltd' 'Kranti Ssk ltd'\n",
      " 'Sinewave Pvt ltd' 'Vasantdada Ssk ltd' 'Shri Hiranyakeshi ssk'\n",
      " 'Sahakarmaharshi Bhausaheb thor' 'Datta Ssk ltd' 'Shri Malaprabha ssk'\n",
      " 'Dcm Industries ltd' 'Mula Ssk ltd' 'Aftaab Solar Private Limited (ASPL)'\n",
      " 'Raajratna Energy Holdings Private Limited (REHPL)'\n",
      " 'Mono Steel (India) Ltd' 'Jain Solar' 'Backbone Enterprises Limited'\n",
      " 'S J Green Park Energy Private Limited' 'Konark Gujarat Private Limited'\n",
      " 'Moser Baer Clean Energy Limited (MBCEL)'\n",
      " 'Clover Solar Private Limited (CSPL)' 'Dhariwal Pvt ltd'\n",
      " 'Mukesh Gupta group' 'Rashtriya & fert' 'Nocil Nocil rubber'\n",
      " 'Tata BP Solar India Limited' 'Moser Baer Solar Limited (MBSL)'\n",
      " 'Vardham Vardham group' 'Kesoram Industries ltd' 'National Ltd nfl)'\n",
      " 'Vikram Vikram cement' 'Gujarat Industries Power Company Limited (GIPCL)'\n",
      " 'ACME Cleantech Solutions Private Limited' 'Videocon Industries Limited'\n",
      " 'Yashwantrao Krishna ssk']\n",
      "url\n",
      "['http://www.nrel.gov/csp/solarpaces/project_detail.cfm/projectID=262'\n",
      " 'http://www.ultratechcement.com/'\n",
      " 'https://cdm.unfccc.int/Projects/DB/DNV-CUK1328700673.83/view'\n",
      " 'http://www.cea.nic.in/' 'http://www.hindustanpowerprojects.com/'\n",
      " 'http://www.ambedkarsugar.com/'\n",
      " 'http://www.mapsofindia.com/whitepages/foods-and-beverages/food-processors-and-manufacturers/ashokssklimited'\n",
      " 'http://www.renukasugars.com/'\n",
      " 'http://www.navbharatbuildcon.com/windmill--solar-plant.html'\n",
      " 'https://cdm.unfccc.int/Projects/DB/DNV-CUK1216117082.43/view'\n",
      " 'http://www.meil.in/power-projects'\n",
      " 'https://cdm.unfccc.int/Projects/DB/LRQA%20Ltd1348755977.79/view'\n",
      " 'https://cdm.unfccc.int/Projects/DB/BVQI1379744232.36/viewhttps://cdm.unfccc.int/Projects/DB/LRQA%20Ltd1278588174.29/view'\n",
      " 'http://www.lancosolar.com/pdfs/rajasthan-pv-project-details.pdf'\n",
      " 'http://www.icpluttur.com/' 'http://bilt.com/' 'http://www.jkcement.com/'\n",
      " 'http://www.indiacements.co.in/'\n",
      " 'https://cdm.unfccc.int/Projects/DB/RINA1416216844.8/view'\n",
      " 'http://www.idealenergysolar.com/' 'http://www.ugarsugar.com/'\n",
      " 'http://www.vssil.co.in/' 'http://hothurindia.com/'\n",
      " 'http://jankicorp.com/' 'http://www.mpm.co.in/'\n",
      " 'http://www.sunflagsteel.com/'\n",
      " 'http://www.bloomberg.com/profiles/companies/4115076Z:IN-varam-bio-energy-pvt-ltd'\n",
      " 'http://www.sangamgroup.com/' 'http://borl.in/'\n",
      " 'http://binaniindustries.com/'\n",
      " 'https://cdm.unfccc.int/filestorage/T/0/C/T0CJ85FSL1WN9VEXID67ZOBMQRGAPH/Revised%20PDD%20-%20Clean.pdf?t=UE58b2pkZGN1fDC4di78ksdJWNuCM4aKL4xu'\n",
      " 'http://www.indoramaindia.com/'\n",
      " 'http://www.ambedkarsugar.com/solar_power.php'\n",
      " 'http://www.aewinfra.com/solar.html'\n",
      " 'https://cdm.unfccc.int/filestorage/S/7/J/S7JBL0QFRHWA1DEZ2O4NUTG5Y6VKMP/PDD%20BASML%20Version%2003.pdf?t=Mmh8b2pxZWR0fDDj8zCpobgUeh2ry3t0r5N5'\n",
      " 'http://www.sembcorp.com/en/media/features?Id=9179'\n",
      " 'https://cdm.unfccc.int/filestorage/Jyh1M'\n",
      " 'http://www.punjlloyd.com/energy/renewables' 'http://www.hiracoindia.com'\n",
      " 'http://www.moserbaersolar.com'\n",
      " 'http://sterlingandwilson.com/giriraj-enterprises-solar-rajasthan'\n",
      " 'http://www.lepl.in'\n",
      " 'https://cdm.unfccc.int/filestorage/7/l/SG76AFZB9EYTJ4321MOWIKQ8PCDNXR.pdf/9684%20PDD.pdf?t=emF8b2pibm5jfDCvkTnPwzrrv5OWSd79JKVI'\n",
      " 'https://cdm.unfccc.int/filestorage/t/h/3ZTDL1JSY8F96X7WM05GQEOBHVCRKU.pdf/PDD_0.85%20MW%20x%202%20Wind?t=OUd8b2pibmtifDA3QWPDKTd9w1VzFuhHzr3p'\n",
      " 'https://cdm.unfccc.int/Projects/DB/DNV-CUK1204705646.68/view'\n",
      " 'https://cdm.unfccc.int/filestorage/K/H/4/KH4609PBJU1SRCMD8W7FNQ2LTZGIO5/ENRE%20PDD%20version%205_0_21_12_2010%20Clean%20Mode.pdf?t=dWt8b2picnVxfDDdBloH5bI-0qA-0I--EtaE'\n",
      " 'https://cdm.unfccc.int/filestorage/z/g/GHX720LOZTBENA6IVS1PJCWF8YMKUD.pdf/2347%20Revised%20PDD.pdf?t=YUh8b2picHN3fDCY1tP_B8ik_E25vGal7UR-'\n",
      " 'http://www.lancosolar.com'\n",
      " 'https://cdm.unfccc.int/filestorage/h/l/W9FUXHOTR0Y5V2KQBIS4MPN17JEZLC.pdf/PDD%20-%2098.7%20MW%20wind%20power%20project%20at%20Ratlam%20in%20Madhya%20Pradesh%20by%20DJ%20Energy%20Private%20Limited.pdf?t=R2x8b2picWpsfDACMivhrOTU62i3hfmcbopg'\n",
      " 'http://www.abelloncleanenergy.com' 'http://www.adanipower.com'\n",
      " 'http://www.madhavcorp.com'\n",
      " 'http://www.rrecl.com/PDF/Details%20of%20Rajasthan.pdf'\n",
      " 'http://www.acclimited.com/' 'http://www.birlacorporation.com/'\n",
      " 'http://www.hzlindia.com/' 'http://guptacoal.com/'\n",
      " 'http://www.manikgarhcement.com/' 'http://www.coregreen.in/'\n",
      " 'http://mahagenco.in' 'https://natgrp.org/charanka-gujarat-solar-park/'\n",
      " 'https://cdm.unfccc.int/Projects/DB/DNV-CUK1304071464.49/view'\n",
      " 'http://www.p3green.com' 'http://www.reliancepower.co.in/'\n",
      " 'http://jobs.cari.co.in/jobs/bmm-ispat-ltd' 'http://www.daundsugar.com/'\n",
      " 'http://biomass-power.industry-focus.net/karnataka-biomass-projects/148-davangere-sugar-co-to-set-up-30-mw-biomass-power-project-davangere-sugar-co-to-set-up-30-mw-biomass-power-project.html'\n",
      " 'http://www.mukand.com/' 'http://dssk.co.in/' 'http://www.jsw.in/'\n",
      " 'http://www.tradeindia.com/Seller-5380843-SHAMANUR-SUGARS-LIMITED/'\n",
      " 'https://www.jaibalajigroup.com/power.html' 'http://www.ntpc.co.in'\n",
      " 'http://www.westcoastpaper.com/infrastructure/'\n",
      " 'https://natgrp.files.wordpress.com/solar-power-rajasthan-upto-march-2013.pdf'\n",
      " 'https://cdm.unfccc.int/filestorage/Y/I/R/YIR8M4NQJKLW63H1OZCGBTSA729PU5/37.5_MW_PDD_-_37.5_MW_Wind_power_project_at_Pratapgarh%2C_Rajasthan?t=WTF8b2pkZHAyfDApG31asZJ6b9TuTgaPGJDE'\n",
      " 'http://ujaas.com' 'http://www.firstsolarind.com' 'http://www.aipl.in'\n",
      " 'http://www.nrel.gov/csp/solarpaces/project_detail.cfm/projectID=272'\n",
      " 'http://www.nrel.gov/csp/solarpaces/project_detail.cfm/projectID=258'\n",
      " 'http://www.rrecl.com/PDF/Details%20of20Rajasthan.pdf'\n",
      " 'https://cdm.unfccc.int/Projects/DB/PJR%20CDM1328594375.93/view'\n",
      " 'https://cdm.unfccc.int/Projects/DB/URSCert1371557111.17/view'\n",
      " 'https://cdm.unfccc.int/Projects/DB/DNV-CUK1185356859.49/view'\n",
      " 'https://cdm.unfccc.int/Projects/DB/DNV-CUK1279516994.31/view'\n",
      " 'https://cdm.unfccc.int/Projects/DB/BVQI1354554757.67/view'\n",
      " 'https://cdm.unfccc.int/Projects/DB/RWTUV1346053136.1/view'\n",
      " 'http://chambalfertilisers.com/'\n",
      " 'https://cdm.unfccc.int/Projects/DB/RWTUV1202913883.06/view'\n",
      " 'http://www.lloyds.in/'\n",
      " 'https://cdm.unfccc.int/Projects/DB/RWTUV1323884772.8/view'\n",
      " 'http://www.graceindustries.com/' 'http://www.orientcement.com/'\n",
      " 'https://cdm.unfccc.int/Projects/DB/BVQI1239021527.94/view'\n",
      " 'http://sunborneenergy.com' 'http://www.pdpu.ac.in'\n",
      " 'http://www.nrel.gov/csp/solarpaces/project_detail.cfm/projectID=247'\n",
      " 'http://mnre.gov.in/file-manager/UserFiles/State%20wise%20commissioning%20status%20of%20grid%20connected%20solar%20power%20projects/Rajasthan.pdf'\n",
      " 'http://energy.rajasthan.gov.in/content/dam/raj/energy/common/Details%20of%20commissioned%20Solar%20Projects%20.pdf'\n",
      " 'https://cdm.unfccc.int/filestorage/d/d/56KO8FQND07Y3H12PBALXWG9MRC4JV.pdf/PDD_-_GMDC_V05.pdf?t=bGh8b2pkZDEwfDAxL3Mrj_s1ZpnXL5ljSdCb'\n",
      " 'https://www.google.com/maps/d/embed?mid=1bXiXRcLRnBCUfpkHM2J5EVryhG4&ll=31.06035315253383%2C35.02284616406246&z=8'\n",
      " 'http://www.rrecl.com/PDF/Details%0Rajasthan.pdf'\n",
      " 'http://www.mnre.gov.in' 'http://www.shamrajenercon.com/cer16.htm'\n",
      " 'http://www.purnasakhar.com/' 'http://rkmpowergen.in/'\n",
      " 'https://cdm.unfccc.int/Projects/DB/BVQI1208874936.63/view'\n",
      " 'https://cdm.unfccc.int/Projects/DB/DNV-CUK1351776938.73/view'\n",
      " 'https://cdm.unfccc.int/Projects/DB/DNV-CUK1352807242.64/view'\n",
      " 'https://cdm.unfccc.int/filestorage/x/_/BYO3D0NJE4W2ZULSAXTQC61IM5HV9R.pdf/7873-PDD-25%20Oct%2012.pdf?t=ZGh8b2pkZ3A5fDB5_GTLkYcWdSL2xW6rf1F3'\n",
      " 'https://cdm.unfccc.int/Projects/DB/BVQI1211956663.14/view'\n",
      " 'https://cdm.unfccc.int/filestorage/s/x/8LZ62R4VIOK570F3AWSBNTUECYJ9XD.pdf/3_Revsied_PDD_JAL_2013_01_08_Clean_mode.pdf?t=VkZ8b2pkY2xwfDD7-5fVv-HnyeV-IOsi3cee'\n",
      " 'http://www.esselgroup.com'\n",
      " 'https://cdm.unfccc.int/Projects/DB/LRQA%20Ltd1346322352.66/view'\n",
      " 'https://cdm.unfccc.int/Projects/DB/DNV-CUK1351166669.28/view'\n",
      " 'http://harshaengineers.com' 'http://karnatakapower.com'\n",
      " 'http://hiragroup.com/companies/godawari-green-energy-limited/'\n",
      " 'http://www.jklakshmicement.com/'\n",
      " 'http://www.jalindia.com/subsidiaries.html'\n",
      " 'http://www.jinkosolar.com/press_detail_568.html?lan=en'\n",
      " 'http://wbpdcl.co.in'\n",
      " 'https://cdm.unfccc.int/Projects/DB/RWTUV1342443620.03/view'\n",
      " 'https://cdm.unfccc.int/Projects/DB/RWTUV1279520653.8/view'\n",
      " 'https://cdm.unfccc.int/Projects/DB/BVQI1312546277.77/view'\n",
      " 'https://cdm.unfccc.int/Projects/DB/BVQI1351922842.98/view'\n",
      " 'http://www.chettinad.com/' 'http://www.kjsahluwaliagroup.com/'\n",
      " 'http://www.kcpsugar.com/index.html' 'http://maraloverseas.com/'\n",
      " 'http://www.gmsugars.com/' 'http://www.uttamgalva.com/'\n",
      " 'http://www.chamundeswarisugars.in/'\n",
      " 'http://www.hemarus.co.in/facilities.html'\n",
      " 'http://www.tradeindia.com/Seller-6835496-Shri-Dudhganga-Vedganga-SSK-Ltd-/'\n",
      " 'http://www.kumbhisugar.com/' 'http://www.bannari.com/sugar.html'\n",
      " 'http://www.nslsugars.com/'\n",
      " 'http://www.tradeindia.com/Seller-2020295-HARE-KRISHNA-METALLICS-PVT-LTD-/'\n",
      " 'http://www.dcmshriram.com/'\n",
      " 'https://cdm.unfccc.int/Projects/DB/SGS-UKL1300103078.33/view'\n",
      " 'http://www.gemgroup.in/gem-sugar.html'\n",
      " 'https://cdm.unfccc.int/Projects/DB/RWTUV1356681143.52/view'\n",
      " 'https://cdm.unfccc.int/Projects/DB/RWTUV1297334588.3/view'\n",
      " 'http://www.azurepower.com'\n",
      " 'http://www.mahaurja.com/PDF/PG2_GridConnSPPCommissioned.pdf'\n",
      " 'http://www.solairedirect.com' 'http://www.acme.in'\n",
      " 'http://www.backboneworld.com' 'http://www.welspunrenewables.com'\n",
      " 'http://www.rrecl.com/PDF/Details%20of%Rajasthan.pdf'\n",
      " 'https://cdm.unfccc.int/filestorage/L/V/Q/LVQ9ANSCJX8164E5H7PWYIB3O0RZ2U/Revised%20PDD%20Version%2006%20dated%205th%20June%202012%20-%20Clean%20mode.pdf?t=akx8b2pxZm9ufDC6M3RsDeQKejKPRFouqWsR'\n",
      " 'https://cdm.unfccc.int/Projects/DB/BVQI1302691944.71/view'\n",
      " 'http://www.tatapowersolar.com'\n",
      " 'https://cdm.unfccc.int/filestorage/w/m/64TXH0Y1V9ZCISBKO3F758PEQNUJDR.pdf/PDD__V-2_5_19_10_2012.pdf?t=akh8b2pkZTFtfDAP0pu4sjZSao0P-GV-Qzqn'\n",
      " 'https://cdm.unfccc.int/filestorage/a/1/0JPNG5S4A821KD6IUHWBOEYRVFTL3X.pdf/ALWE%20PDD_Ver%206%20_06.03.2013_%20Clean%20.pdf?t=dlV8b2picjMyfDAQ_TbHluMZz9jMHYOK8XbU'\n",
      " 'https://cdm.unfccc.int/Projects/DB/BVQI1315830379.2/view'\n",
      " 'https://www.iaea.org/PRIS/CountryStatistics/ReactorDetails.aspx?current=853'\n",
      " 'https://cdm.unfccc.int/Projects/DB/SGS-UKL1200600517.28/view'\n",
      " 'https://cdm.unfccc.int/Projects/DB/KBS_Cert1356901378.31/view'\n",
      " 'http://www.tatapower.com/' 'http://lokmangal.com/site/agro.html'\n",
      " 'https://cdm.unfccc.int/Projects/DB/RINA1359562234.41/view'\n",
      " 'http://www.peda.gov.in/main/SPVPowerProjects.html'\n",
      " 'http://esselinfraprojects.com'\n",
      " 'https://cdm.unfccc.int/Projects/DB/LRQA%20Ltd1354282051.48/view'\n",
      " 'http://www.lancogroup.com'\n",
      " 'https://cdm.unfccc.int/Projects/DB/Applus1436171071.3/view'\n",
      " 'https://www.zaubacorp.com/company/MAHATMA-SUGAR-POWER-LIMITED/U15421MH1997PLC111855'\n",
      " 'https://bharatpetroleum.com/' 'http://www.maiharcement.co.in/'\n",
      " 'https://mrpl.co.in/' 'http://www.mangalamcement.com/'\n",
      " 'http://www.ambujacement.com/' 'http://rswm.in/'\n",
      " 'https://cdm.unfccc.int/Projects/DB/LRQA%20Ltd1278588174.29/view'\n",
      " 'https://cdm.unfccc.int/filestorage/I/M/8/IM82KOV79XD6W1FSRY0APUBQT5HNG3/PDD%20Version%203.1?t=eXJ8b2pkY3A3fDDe6Zq2yZtRMfXDrbXuYkLx'\n",
      " 'http://www.jkcement.com/power-plants' 'http://www.gretagroup.com/'\n",
      " 'http://www.ongcindia.com/' 'http://www.technocraftgroup.com/'\n",
      " 'https://cdm.unfccc.int/filestorage/A/R/Q/ARQ8TKW54JBLF1U3E6OXVHCDSN9M70/PDD-CEM-0792-27-09.pdf?t=V0d8b2pibmNpfDBisKvrZGRCvGuhGr5W8zZF'\n",
      " 'https://cdm.unfccc.int/filestorage/o/t/LOE8KY3952J1UZAFN6CHMPQBVD7RS0.pdf/PDD_RSMML.pdf?t=QUZ8b2pkZzRzfDAgGCgKw2iEeb78bqr1DaV0'\n",
      " 'https://cdm.unfccc.int/filestorage/_/r/F932EYQBPVM7IXZ4KWRUG5HT6S0ACL.pdf/7895-PDD-26%20Oct%2012.pdf?t=aEJ8b2picjhvfDAyiJ_x---be015MnlJwvjn'\n",
      " 'https://www.solairedirect.com' 'http://www.grasim.com/'\n",
      " 'http://www.ril.com/OurBusinesses/Petrochemicals.aspx'\n",
      " 'http://purtigroup.com/gmt-mining.html' 'http://purtigroup.com/'\n",
      " 'http://www.topworthgroup.com/' 'http://www.orientgreenpower.com/'\n",
      " 'http://www.rattanindia.com/'\n",
      " 'http://www.epw.in/journal/1962/42/chair-uncategorised/national-newsprint-and-paper-mills-ltd-nepanagar-mp.html'\n",
      " 'http://www.moneycontrol.com/india/stockpricequote/cement-major/jkcement/JKC03'\n",
      " 'http://www.nitinspinners.com/'\n",
      " 'https://cdm.unfccc.int/Projects/DB/RWTUV1323884913.69/view'\n",
      " 'https://cdm.unfccc.int/Projects/DB/RWTUV1135356510.37/view'\n",
      " 'https://cdm.unfccc.int/filestorage/5/D/0/5D0I7GCWXZ1VFNS6ROQKHTMYL8JA39/Nagercoil%20PDD%20Corrected_c.pdf?t=bkl8b2pkZGlofDAiW_GZYG7HXm3tF_Ie-IsH'\n",
      " 'http://www.emcpower.com'\n",
      " 'https://cdm.unfccc.int/Projects/DB/LRQA%20Ltd1355495522.4/view'\n",
      " 'https://cdm.unfccc.int/Projects/DB/PJR%20CDM1353582075.03/view'\n",
      " 'http://hiragroup.com'\n",
      " 'https://cdm.unfccc.int/filestorage/3/x/NUSA0ZGPJRT6YXIMEVOB74WDHQ5KF8.pdf/Final%20PDD.pdf?t=QzV8b2picHExfDDzqlVY2T6pSjzHeaKJVjyC'\n",
      " 'https://cdm.unfccc.int/filestorage/L/M/Z/LMZG56NYST19Q7IHD4EPXJRF2VB03W/PDD.pdf?t=R1p8b2picTYxfDApzXyA-gGP8NbbOgKvi68C'\n",
      " 'https://cdm.unfccc.int/filestorage/F/X/W/FXWNHT2DU5RV3BGL7YA8ZKPI46OS9E/2856_PDD_clean.pdf?t=RGp8b2picmp5fDB2P7QGVKqmOvLt7pNBaIqW'\n",
      " 'http://www.gangakhedicpp.com/' 'http://www.ril.com/'\n",
      " 'http://www.sinarmas.com/en/business-units/' 'http://www.gmdcltd.com'\n",
      " 'https://cdm.unfccc.int/Projects/DB/SIRIM1355276782.28/view'\n",
      " 'https://cdm.unfccc.int/Projects/DB/RWTUV1306214743.43/view'\n",
      " 'https://cdm.unfccc.int/Projects/DB/RWTUV1288029478.94/view'\n",
      " 'http://www.reliancepower.co.in'\n",
      " 'https://cdm.unfccc.int/Projects/DB/RWTUV1411994965.49/view'\n",
      " 'https://cdm.unfccc.int/Projects/DB/LRQA%20Ltd1270819651.34/view'\n",
      " 'https://cdm.unfccc.int/Projects/DB/LRQA%20Ltd1300097036.88/view'\n",
      " 'https://cdm.unfccc.int/Projects/DB/LRQA%20Ltd1264590823.08/view'\n",
      " 'http://icmlindia.com' 'http://www.suranaind.com/'\n",
      " 'http://www.mapsofindia.com/whitepages/foods-and-beverages/food-processors-and-manufacturers/sprsugars'\n",
      " 'http://naturalsugar.in/' 'http://www.shreecement.in/'\n",
      " 'http://astonfield.com' 'http://taxusgroup.com'\n",
      " 'https://cdm.unfccc.int/Projects/DB/RINA1354700454.05/view'\n",
      " 'https://www.iocl.com'\n",
      " 'http://sterlingandwilson.com/northwest-energy-pvt-ltd'\n",
      " 'http://ifcext.ifc.org/ifcext/91'\n",
      " 'https://cdm.unfccc.int/Projects/DB/SGS-UKL1316100537.64/view'\n",
      " 'https://cdm.unfccc.int/Projects/DB/DNV-CUK1263981578.63/view'\n",
      " 'https://cdm.unfccc.int/filestorage/z/4/H6BE40Q3YPZ7ULD8OWFR1AIT5V2SXM.pdf/8592%20PDD.pdf?t=Sjd8b2pkZHV0fDDHMHx5kl40-cCl4qrFlA08'\n",
      " 'http://www.sitsonindia.com/pdf/EPC%20power%20projects.pdf'\n",
      " 'http://www.somaiya.com/'\n",
      " 'http://food.industry-focus.net/sugar/379-kranti-ssk-to-expand-its-sugar-mill-in-kundal-village-kranti-ssk-to-expand-its-sugar-mill-in-kundal-village.html'\n",
      " 'https://cdm.unfccc.int/Projects/redirector?ref=4063'\n",
      " 'http://viainfotech.biz/Biomass/theme5/document/green_market/REC-project-list.pdf'\n",
      " 'http://www.belgaum.nic.in/english/Heerasugarfactory.html'\n",
      " 'http://www.thoratsugar.com/' 'http://dattasugar.co.in/'\n",
      " 'http://www.mapsofindia.com/whitepages/foods-and-beverages/wine-and-beer/shrimassk'\n",
      " 'http://www.dcmsr.com/'\n",
      " 'https://cdm.unfccc.int/Projects/DB/LRQA%20Ltd1340102581.62/view'\n",
      " 'https://cdm.unfccc.int/Projects/DB/BVQI1351312018.91/view'\n",
      " 'http://www.cdmindia.gov.in/project_details_view.php?id=1511'\n",
      " 'http://rehpl.co.in'\n",
      " 'https://cdm.unfccc.int/Projects/DB/DNV-CUK1318484242.75/view'\n",
      " 'https://cdm.unfccc.int/filestorage/0/5/A/05AYCZFT4LWMHD216PU9SV7XO8BENR/PDD%20Version%201.2?t=U2Z8b2picWJsfDAiEl4MxIcSh1urnyFbvIy_'\n",
      " 'http://www.monosteel.in'\n",
      " 'http://www.jains.com/Solar/Renewable%20energy.htm'\n",
      " 'http://www.madhavgrp.co.in/SJ_solar.html' 'http://www.konarkgroup.co.in'\n",
      " 'https://cdm.unfccc.int/filestorage/D/O/R/DORZF791H8K4NWACPQ5IMTUYLG2VXE/CDM_PDD_v6.pdf?t=WGN8b2sxbDRnfDDF8h6MT3w9DKjkxFa903Mt'\n",
      " 'http://www.moserbaerprojects.com'\n",
      " 'https://cdm.unfccc.int/Projects/DB/LRQA%20Ltd1321971513.67/view'\n",
      " 'https://cdm.unfccc.int/Projects/DB/KBS_Cert1356901324.44/view'\n",
      " 'http://www.cloversolar.com'\n",
      " 'https://cdm.unfccc.int/filestorage/M/7/A/M7ACU21YQXKW5HF8R03TPIJZENO4B9/PDD_30MW_Gujarat_MSPL%20Limited_rev.pdf?t=NlZ8b2pkZ2FofDBI3_hXb8zCdgFEZVKDwM4F'\n",
      " 'http://cescnewinitiatives.com/contents/view/DHARIWALINFRASTRUCTURELIMITED/T'\n",
      " 'http://sanvijay.com/gil.html' 'http://www.rcfltd.com/'\n",
      " 'http://www.nocil.com/'\n",
      " 'http://documents.worldbank.org/curated/en/442061468041961880/pdf/multi-page.pdf'\n",
      " 'https://cdm.unfccc.int/Projects/DB/BVQI1331114727.08/view'\n",
      " 'https://cdm.unfccc.int/Projects/DB/BVQI1336676184.92/view'\n",
      " 'https://cdm.unfccc.int/Projects/DB/DNV-CUK1354626555.71/view'\n",
      " 'https://cdm.unfccc.int/Projects/DB/RINA1356126148.87/view'\n",
      " 'http://www.tatabpsolar.com'\n",
      " 'https://cdm.unfccc.int/Projects/DB/RWTUV1352368180.64/view'\n",
      " 'https://cdm.unfccc.int/filestorage/i/o/Z9N7VXYJ5LIE8WRQM1SB3H4FDA6U2K.pdf/PDD%20with%20revised%20MP%20(ver%2010.0)(Clean%20mode).pdf?t=Qmt8b2picnBrfDBPz_lFTjdrigpAyplKqoQb'\n",
      " 'https://cdm.unfccc.int/Projects/DB/SGS-UKL1374760004.52/view'\n",
      " 'https://cdm.unfccc.int/Projects/DB/DNV-CUK1351859167.83/view'\n",
      " 'https://cdm.unfccc.int/Projects/DB/PJR%20CDM1355461708.47/view'\n",
      " 'https://cdm.unfccc.int/Projects/DB/SGS-UKL1353506542.98/view'\n",
      " 'https://cdm.unfccc.int/Projects/DB/RWTUV1351718801.6/view'\n",
      " 'https://cdm.unfccc.int/Projects/DB/DNV-CUK1174563974.61/view'\n",
      " 'https://www.vardhman.com/' 'https://www.kesocorp.com/'\n",
      " 'http://www.nationalfertilizers.com/'\n",
      " 'http://www.adityabirla.com/about/Grey-cement'\n",
      " 'https://cdm.unfccc.int/Projects/DB/DNV-CUK1350385874.53/view'\n",
      " 'http://www.gipcl.com'\n",
      " 'http://www.gmrgroup.in/energy-gmr-gujarat-solar-power-ltd.aspx'\n",
      " 'https://cdm.unfccc.int/Projects/DB/LRQA%20Ltd1323254431.52/view'\n",
      " 'https://cdm.unfccc.int/Projects/DB/LRQA%20Ltd1356711565.56/view'\n",
      " 'https://cdm.unfccc.int/Projects/DB/DNV-CUK1354785555.66/view'\n",
      " 'https://cdm.unfccc.int/Projects/DB/TUEV-RHEIN1351077305.18/view'\n",
      " 'https://cdm.unfccc.int/Projects/DB/RWTUV1345031355.85/view']\n",
      "geolocation_source\n",
      "['National Renewable Energy Laboratory' 'WRI' 'Industry About']\n"
     ]
    }
   ],
   "source": [
    "# Checking for the unique values\n",
    "for i in df_cat.columns :\n",
    "    print(i)\n",
    "    print(df_cat[i].unique())"
   ]
  },
  {
   "cell_type": "code",
   "execution_count": 59,
   "id": "ef34ed0b",
   "metadata": {},
   "outputs": [
    {
     "data": {
      "text/html": [
       "<div>\n",
       "<style scoped>\n",
       "    .dataframe tbody tr th:only-of-type {\n",
       "        vertical-align: middle;\n",
       "    }\n",
       "\n",
       "    .dataframe tbody tr th {\n",
       "        vertical-align: top;\n",
       "    }\n",
       "\n",
       "    .dataframe thead th {\n",
       "        text-align: right;\n",
       "    }\n",
       "</style>\n",
       "<table border=\"1\" class=\"dataframe\">\n",
       "  <thead>\n",
       "    <tr style=\"text-align: right;\">\n",
       "      <th></th>\n",
       "      <th>primary_fuel</th>\n",
       "      <th>source</th>\n",
       "      <th>url</th>\n",
       "      <th>geolocation_source</th>\n",
       "    </tr>\n",
       "  </thead>\n",
       "  <tbody>\n",
       "    <tr>\n",
       "      <th>0</th>\n",
       "      <td>6</td>\n",
       "      <td>109</td>\n",
       "      <td>126</td>\n",
       "      <td>1</td>\n",
       "    </tr>\n",
       "    <tr>\n",
       "      <th>1</th>\n",
       "      <td>1</td>\n",
       "      <td>174</td>\n",
       "      <td>169</td>\n",
       "      <td>2</td>\n",
       "    </tr>\n",
       "    <tr>\n",
       "      <th>2</th>\n",
       "      <td>7</td>\n",
       "      <td>21</td>\n",
       "      <td>196</td>\n",
       "      <td>2</td>\n",
       "    </tr>\n",
       "    <tr>\n",
       "      <th>3</th>\n",
       "      <td>2</td>\n",
       "      <td>22</td>\n",
       "      <td>58</td>\n",
       "      <td>2</td>\n",
       "    </tr>\n",
       "    <tr>\n",
       "      <th>4</th>\n",
       "      <td>1</td>\n",
       "      <td>22</td>\n",
       "      <td>58</td>\n",
       "      <td>2</td>\n",
       "    </tr>\n",
       "    <tr>\n",
       "      <th>...</th>\n",
       "      <td>...</td>\n",
       "      <td>...</td>\n",
       "      <td>...</td>\n",
       "      <td>...</td>\n",
       "    </tr>\n",
       "    <tr>\n",
       "      <th>903</th>\n",
       "      <td>1</td>\n",
       "      <td>22</td>\n",
       "      <td>58</td>\n",
       "      <td>2</td>\n",
       "    </tr>\n",
       "    <tr>\n",
       "      <th>904</th>\n",
       "      <td>6</td>\n",
       "      <td>77</td>\n",
       "      <td>22</td>\n",
       "      <td>0</td>\n",
       "    </tr>\n",
       "    <tr>\n",
       "      <th>905</th>\n",
       "      <td>7</td>\n",
       "      <td>21</td>\n",
       "      <td>246</td>\n",
       "      <td>2</td>\n",
       "    </tr>\n",
       "    <tr>\n",
       "      <th>906</th>\n",
       "      <td>1</td>\n",
       "      <td>59</td>\n",
       "      <td>82</td>\n",
       "      <td>2</td>\n",
       "    </tr>\n",
       "    <tr>\n",
       "      <th>907</th>\n",
       "      <td>7</td>\n",
       "      <td>21</td>\n",
       "      <td>234</td>\n",
       "      <td>2</td>\n",
       "    </tr>\n",
       "  </tbody>\n",
       "</table>\n",
       "<p>883 rows × 4 columns</p>\n",
       "</div>"
      ],
      "text/plain": [
       "     primary_fuel  source  url  geolocation_source\n",
       "0               6     109  126                   1\n",
       "1               1     174  169                   2\n",
       "2               7      21  196                   2\n",
       "3               2      22   58                   2\n",
       "4               1      22   58                   2\n",
       "..            ...     ...  ...                 ...\n",
       "903             1      22   58                   2\n",
       "904             6      77   22                   0\n",
       "905             7      21  246                   2\n",
       "906             1      59   82                   2\n",
       "907             7      21  234                   2\n",
       "\n",
       "[883 rows x 4 columns]"
      ]
     },
     "execution_count": 59,
     "metadata": {},
     "output_type": "execute_result"
    }
   ],
   "source": [
    "# Applying label encoder\n",
    "from sklearn.preprocessing import LabelEncoder\n",
    "df_cat_enc=df_cat.copy()\n",
    "le=LabelEncoder()\n",
    "for i in df_cat_enc.columns :\n",
    "    df_cat_enc[i]=le.fit_transform(df_cat[i])\n",
    "df_cat_enc"
   ]
  },
  {
   "cell_type": "markdown",
   "id": "bce76db4",
   "metadata": {},
   "source": [
    "Categorical columns with object datatypes are now encoded having 883 rows and 4 columns."
   ]
  },
  {
   "cell_type": "markdown",
   "id": "2c1d009a",
   "metadata": {},
   "source": [
    "### Combining numerical and categorical data for further analysis"
   ]
  },
  {
   "cell_type": "code",
   "execution_count": 60,
   "id": "868ec6a1",
   "metadata": {},
   "outputs": [
    {
     "data": {
      "text/plain": [
       "capacity_mw           0\n",
       "latitude              0\n",
       "longitude             0\n",
       "primary_fuel          0\n",
       "source                0\n",
       "url                   0\n",
       "geolocation_source    0\n",
       "dtype: int64"
      ]
     },
     "execution_count": 60,
     "metadata": {},
     "output_type": "execute_result"
    }
   ],
   "source": [
    "dff=pd.concat([df_col,df2,df_cat_enc],axis=1)\n",
    "dff.dropna(inplace=True)\n",
    "dff.isnull().sum()"
   ]
  },
  {
   "cell_type": "markdown",
   "id": "cd88af31",
   "metadata": {},
   "source": [
    "Combined all the columns and removed nulls."
   ]
  },
  {
   "cell_type": "code",
   "execution_count": 61,
   "id": "50dd8621",
   "metadata": {},
   "outputs": [
    {
     "data": {
      "text/plain": [
       "(869, 7)"
      ]
     },
     "execution_count": 61,
     "metadata": {},
     "output_type": "execute_result"
    }
   ],
   "source": [
    "# Checking shape of new dataset\n",
    "dff.shape"
   ]
  },
  {
   "cell_type": "code",
   "execution_count": 62,
   "id": "3fe295bb",
   "metadata": {},
   "outputs": [
    {
     "data": {
      "text/plain": [
       "capacity_mw           float64\n",
       "latitude              float64\n",
       "longitude             float64\n",
       "primary_fuel            int32\n",
       "source                  int32\n",
       "url                     int32\n",
       "geolocation_source      int32\n",
       "dtype: object"
      ]
     },
     "execution_count": 62,
     "metadata": {},
     "output_type": "execute_result"
    }
   ],
   "source": [
    "dff.dtypes"
   ]
  },
  {
   "cell_type": "markdown",
   "id": "68cbc8b4",
   "metadata": {},
   "source": [
    "All the datatypes are numeric."
   ]
  },
  {
   "cell_type": "code",
   "execution_count": 63,
   "id": "17d98957",
   "metadata": {},
   "outputs": [
    {
     "data": {
      "text/html": [
       "<div>\n",
       "<style scoped>\n",
       "    .dataframe tbody tr th:only-of-type {\n",
       "        vertical-align: middle;\n",
       "    }\n",
       "\n",
       "    .dataframe tbody tr th {\n",
       "        vertical-align: top;\n",
       "    }\n",
       "\n",
       "    .dataframe thead th {\n",
       "        text-align: right;\n",
       "    }\n",
       "</style>\n",
       "<table border=\"1\" class=\"dataframe\">\n",
       "  <thead>\n",
       "    <tr style=\"text-align: right;\">\n",
       "      <th></th>\n",
       "      <th>capacity_mw</th>\n",
       "      <th>latitude</th>\n",
       "      <th>longitude</th>\n",
       "      <th>primary_fuel</th>\n",
       "      <th>source</th>\n",
       "      <th>url</th>\n",
       "      <th>geolocation_source</th>\n",
       "    </tr>\n",
       "  </thead>\n",
       "  <tbody>\n",
       "    <tr>\n",
       "      <th>0</th>\n",
       "      <td>2.5</td>\n",
       "      <td>28.1839</td>\n",
       "      <td>0.232163</td>\n",
       "      <td>6</td>\n",
       "      <td>109</td>\n",
       "      <td>126</td>\n",
       "      <td>1</td>\n",
       "    </tr>\n",
       "    <tr>\n",
       "      <th>1</th>\n",
       "      <td>98.0</td>\n",
       "      <td>24.7663</td>\n",
       "      <td>0.231183</td>\n",
       "      <td>1</td>\n",
       "      <td>174</td>\n",
       "      <td>169</td>\n",
       "      <td>2</td>\n",
       "    </tr>\n",
       "    <tr>\n",
       "      <th>2</th>\n",
       "      <td>39.2</td>\n",
       "      <td>21.9038</td>\n",
       "      <td>0.235083</td>\n",
       "      <td>7</td>\n",
       "      <td>21</td>\n",
       "      <td>196</td>\n",
       "      <td>2</td>\n",
       "    </tr>\n",
       "    <tr>\n",
       "      <th>3</th>\n",
       "      <td>135.0</td>\n",
       "      <td>23.8712</td>\n",
       "      <td>0.220960</td>\n",
       "      <td>2</td>\n",
       "      <td>22</td>\n",
       "      <td>58</td>\n",
       "      <td>2</td>\n",
       "    </tr>\n",
       "    <tr>\n",
       "      <th>4</th>\n",
       "      <td>1800.0</td>\n",
       "      <td>21.9603</td>\n",
       "      <td>0.226052</td>\n",
       "      <td>1</td>\n",
       "      <td>22</td>\n",
       "      <td>58</td>\n",
       "      <td>2</td>\n",
       "    </tr>\n",
       "    <tr>\n",
       "      <th>...</th>\n",
       "      <td>...</td>\n",
       "      <td>...</td>\n",
       "      <td>...</td>\n",
       "      <td>...</td>\n",
       "      <td>...</td>\n",
       "      <td>...</td>\n",
       "      <td>...</td>\n",
       "    </tr>\n",
       "    <tr>\n",
       "      <th>903</th>\n",
       "      <td>1600.0</td>\n",
       "      <td>16.2949</td>\n",
       "      <td>0.229291</td>\n",
       "      <td>1</td>\n",
       "      <td>22</td>\n",
       "      <td>58</td>\n",
       "      <td>2</td>\n",
       "    </tr>\n",
       "    <tr>\n",
       "      <th>904</th>\n",
       "      <td>3.0</td>\n",
       "      <td>12.8932</td>\n",
       "      <td>0.228752</td>\n",
       "      <td>6</td>\n",
       "      <td>77</td>\n",
       "      <td>22</td>\n",
       "      <td>0</td>\n",
       "    </tr>\n",
       "    <tr>\n",
       "      <th>905</th>\n",
       "      <td>25.5</td>\n",
       "      <td>15.2758</td>\n",
       "      <td>0.230502</td>\n",
       "      <td>7</td>\n",
       "      <td>21</td>\n",
       "      <td>246</td>\n",
       "      <td>2</td>\n",
       "    </tr>\n",
       "    <tr>\n",
       "      <th>906</th>\n",
       "      <td>80.0</td>\n",
       "      <td>24.3500</td>\n",
       "      <td>0.231797</td>\n",
       "      <td>1</td>\n",
       "      <td>59</td>\n",
       "      <td>82</td>\n",
       "      <td>2</td>\n",
       "    </tr>\n",
       "    <tr>\n",
       "      <th>907</th>\n",
       "      <td>16.5</td>\n",
       "      <td>9.9344</td>\n",
       "      <td>0.229210</td>\n",
       "      <td>7</td>\n",
       "      <td>21</td>\n",
       "      <td>234</td>\n",
       "      <td>2</td>\n",
       "    </tr>\n",
       "  </tbody>\n",
       "</table>\n",
       "<p>869 rows × 7 columns</p>\n",
       "</div>"
      ],
      "text/plain": [
       "     capacity_mw  latitude  longitude  primary_fuel  source  url  \\\n",
       "0            2.5   28.1839   0.232163             6     109  126   \n",
       "1           98.0   24.7663   0.231183             1     174  169   \n",
       "2           39.2   21.9038   0.235083             7      21  196   \n",
       "3          135.0   23.8712   0.220960             2      22   58   \n",
       "4         1800.0   21.9603   0.226052             1      22   58   \n",
       "..           ...       ...        ...           ...     ...  ...   \n",
       "903       1600.0   16.2949   0.229291             1      22   58   \n",
       "904          3.0   12.8932   0.228752             6      77   22   \n",
       "905         25.5   15.2758   0.230502             7      21  246   \n",
       "906         80.0   24.3500   0.231797             1      59   82   \n",
       "907         16.5    9.9344   0.229210             7      21  234   \n",
       "\n",
       "     geolocation_source  \n",
       "0                     1  \n",
       "1                     2  \n",
       "2                     2  \n",
       "3                     2  \n",
       "4                     2  \n",
       "..                  ...  \n",
       "903                   2  \n",
       "904                   0  \n",
       "905                   2  \n",
       "906                   2  \n",
       "907                   2  \n",
       "\n",
       "[869 rows x 7 columns]"
      ]
     },
     "execution_count": 63,
     "metadata": {},
     "output_type": "execute_result"
    }
   ],
   "source": [
    "# Checking final dataset\n",
    "dff"
   ]
  },
  {
   "cell_type": "markdown",
   "id": "ef86d861",
   "metadata": {},
   "source": [
    "All the columns are of numeric type in new dataset."
   ]
  },
  {
   "cell_type": "code",
   "execution_count": 64,
   "id": "27dc6ee5",
   "metadata": {},
   "outputs": [
    {
     "data": {
      "text/html": [
       "<div>\n",
       "<style scoped>\n",
       "    .dataframe tbody tr th:only-of-type {\n",
       "        vertical-align: middle;\n",
       "    }\n",
       "\n",
       "    .dataframe tbody tr th {\n",
       "        vertical-align: top;\n",
       "    }\n",
       "\n",
       "    .dataframe thead th {\n",
       "        text-align: right;\n",
       "    }\n",
       "</style>\n",
       "<table border=\"1\" class=\"dataframe\">\n",
       "  <thead>\n",
       "    <tr style=\"text-align: right;\">\n",
       "      <th></th>\n",
       "      <th>capacity_mw</th>\n",
       "      <th>latitude</th>\n",
       "      <th>longitude</th>\n",
       "      <th>primary_fuel</th>\n",
       "      <th>source</th>\n",
       "      <th>url</th>\n",
       "      <th>geolocation_source</th>\n",
       "    </tr>\n",
       "  </thead>\n",
       "  <tbody>\n",
       "    <tr>\n",
       "      <th>capacity_mw</th>\n",
       "      <td>1.000000</td>\n",
       "      <td>0.052392</td>\n",
       "      <td>-0.241097</td>\n",
       "      <td>-0.373947</td>\n",
       "      <td>-0.250079</td>\n",
       "      <td>-0.240316</td>\n",
       "      <td>0.213118</td>\n",
       "    </tr>\n",
       "    <tr>\n",
       "      <th>latitude</th>\n",
       "      <td>0.052392</td>\n",
       "      <td>1.000000</td>\n",
       "      <td>0.018075</td>\n",
       "      <td>-0.009567</td>\n",
       "      <td>0.064592</td>\n",
       "      <td>-0.130596</td>\n",
       "      <td>-0.195348</td>\n",
       "    </tr>\n",
       "    <tr>\n",
       "      <th>longitude</th>\n",
       "      <td>-0.241097</td>\n",
       "      <td>0.018075</td>\n",
       "      <td>1.000000</td>\n",
       "      <td>0.400352</td>\n",
       "      <td>0.245867</td>\n",
       "      <td>0.328595</td>\n",
       "      <td>-0.276933</td>\n",
       "    </tr>\n",
       "    <tr>\n",
       "      <th>primary_fuel</th>\n",
       "      <td>-0.373947</td>\n",
       "      <td>-0.009567</td>\n",
       "      <td>0.400352</td>\n",
       "      <td>1.000000</td>\n",
       "      <td>0.058533</td>\n",
       "      <td>0.565142</td>\n",
       "      <td>-0.509241</td>\n",
       "    </tr>\n",
       "    <tr>\n",
       "      <th>source</th>\n",
       "      <td>-0.250079</td>\n",
       "      <td>0.064592</td>\n",
       "      <td>0.245867</td>\n",
       "      <td>0.058533</td>\n",
       "      <td>1.000000</td>\n",
       "      <td>0.182111</td>\n",
       "      <td>-0.505559</td>\n",
       "    </tr>\n",
       "    <tr>\n",
       "      <th>url</th>\n",
       "      <td>-0.240316</td>\n",
       "      <td>-0.130596</td>\n",
       "      <td>0.328595</td>\n",
       "      <td>0.565142</td>\n",
       "      <td>0.182111</td>\n",
       "      <td>1.000000</td>\n",
       "      <td>-0.030873</td>\n",
       "    </tr>\n",
       "    <tr>\n",
       "      <th>geolocation_source</th>\n",
       "      <td>0.213118</td>\n",
       "      <td>-0.195348</td>\n",
       "      <td>-0.276933</td>\n",
       "      <td>-0.509241</td>\n",
       "      <td>-0.505559</td>\n",
       "      <td>-0.030873</td>\n",
       "      <td>1.000000</td>\n",
       "    </tr>\n",
       "  </tbody>\n",
       "</table>\n",
       "</div>"
      ],
      "text/plain": [
       "                    capacity_mw  latitude  longitude  primary_fuel    source  \\\n",
       "capacity_mw            1.000000  0.052392  -0.241097     -0.373947 -0.250079   \n",
       "latitude               0.052392  1.000000   0.018075     -0.009567  0.064592   \n",
       "longitude             -0.241097  0.018075   1.000000      0.400352  0.245867   \n",
       "primary_fuel          -0.373947 -0.009567   0.400352      1.000000  0.058533   \n",
       "source                -0.250079  0.064592   0.245867      0.058533  1.000000   \n",
       "url                   -0.240316 -0.130596   0.328595      0.565142  0.182111   \n",
       "geolocation_source     0.213118 -0.195348  -0.276933     -0.509241 -0.505559   \n",
       "\n",
       "                         url  geolocation_source  \n",
       "capacity_mw        -0.240316            0.213118  \n",
       "latitude           -0.130596           -0.195348  \n",
       "longitude           0.328595           -0.276933  \n",
       "primary_fuel        0.565142           -0.509241  \n",
       "source              0.182111           -0.505559  \n",
       "url                 1.000000           -0.030873  \n",
       "geolocation_source -0.030873            1.000000  "
      ]
     },
     "execution_count": 64,
     "metadata": {},
     "output_type": "execute_result"
    }
   ],
   "source": [
    "# Checking correlation\n",
    "dff.corr()"
   ]
  },
  {
   "cell_type": "code",
   "execution_count": 65,
   "id": "1cb8492a",
   "metadata": {},
   "outputs": [
    {
     "data": {
      "text/plain": [
       "<AxesSubplot:>"
      ]
     },
     "execution_count": 65,
     "metadata": {},
     "output_type": "execute_result"
    },
    {
     "data": {
      "image/png": "[encoded data removed]",
      "text/plain": [
       "<Figure size 720x216 with 2 Axes>"
      ]
     },
     "metadata": {
      "needs_background": "light"
     },
     "output_type": "display_data"
    }
   ],
   "source": [
    "# Visualizing correlation\n",
    "plt.figure(figsize=(10,3))\n",
    "sns.heatmap(dff.corr(),annot=True,linewidths=0.5,linecolor='b',fmt='.2f')"
   ]
  },
  {
   "cell_type": "markdown",
   "id": "1a838901",
   "metadata": {},
   "source": [
    "Columns longitude,primary_fuel,source,url has a good negative linear correlation with Target:capacity_mw and column geolocation_source & commissioning_year has good positive linear correlation with the target column and latitude is least correlated withh the target.geolocation_source has good correlation with latitude. primary_fuel,source,url,geolocation_source has good correlation with longitude. url,geolocation_source has good correlation with primary fuel. geolocation_source and source are strongly negatively correlated."
   ]
  },
  {
   "cell_type": "markdown",
   "id": "cdadffdb",
   "metadata": {},
   "source": [
    "### Dividing dataset in x and y"
   ]
  },
  {
   "cell_type": "code",
   "execution_count": 66,
   "id": "faca60b3",
   "metadata": {},
   "outputs": [
    {
     "data": {
      "text/html": [
       "<div>\n",
       "<style scoped>\n",
       "    .dataframe tbody tr th:only-of-type {\n",
       "        vertical-align: middle;\n",
       "    }\n",
       "\n",
       "    .dataframe tbody tr th {\n",
       "        vertical-align: top;\n",
       "    }\n",
       "\n",
       "    .dataframe thead th {\n",
       "        text-align: right;\n",
       "    }\n",
       "</style>\n",
       "<table border=\"1\" class=\"dataframe\">\n",
       "  <thead>\n",
       "    <tr style=\"text-align: right;\">\n",
       "      <th></th>\n",
       "      <th>latitude</th>\n",
       "      <th>longitude</th>\n",
       "      <th>primary_fuel</th>\n",
       "      <th>source</th>\n",
       "      <th>url</th>\n",
       "      <th>geolocation_source</th>\n",
       "    </tr>\n",
       "  </thead>\n",
       "  <tbody>\n",
       "    <tr>\n",
       "      <th>0</th>\n",
       "      <td>28.1839</td>\n",
       "      <td>0.232163</td>\n",
       "      <td>6</td>\n",
       "      <td>109</td>\n",
       "      <td>126</td>\n",
       "      <td>1</td>\n",
       "    </tr>\n",
       "    <tr>\n",
       "      <th>1</th>\n",
       "      <td>24.7663</td>\n",
       "      <td>0.231183</td>\n",
       "      <td>1</td>\n",
       "      <td>174</td>\n",
       "      <td>169</td>\n",
       "      <td>2</td>\n",
       "    </tr>\n",
       "    <tr>\n",
       "      <th>2</th>\n",
       "      <td>21.9038</td>\n",
       "      <td>0.235083</td>\n",
       "      <td>7</td>\n",
       "      <td>21</td>\n",
       "      <td>196</td>\n",
       "      <td>2</td>\n",
       "    </tr>\n",
       "    <tr>\n",
       "      <th>3</th>\n",
       "      <td>23.8712</td>\n",
       "      <td>0.220960</td>\n",
       "      <td>2</td>\n",
       "      <td>22</td>\n",
       "      <td>58</td>\n",
       "      <td>2</td>\n",
       "    </tr>\n",
       "    <tr>\n",
       "      <th>4</th>\n",
       "      <td>21.9603</td>\n",
       "      <td>0.226052</td>\n",
       "      <td>1</td>\n",
       "      <td>22</td>\n",
       "      <td>58</td>\n",
       "      <td>2</td>\n",
       "    </tr>\n",
       "    <tr>\n",
       "      <th>...</th>\n",
       "      <td>...</td>\n",
       "      <td>...</td>\n",
       "      <td>...</td>\n",
       "      <td>...</td>\n",
       "      <td>...</td>\n",
       "      <td>...</td>\n",
       "    </tr>\n",
       "    <tr>\n",
       "      <th>903</th>\n",
       "      <td>16.2949</td>\n",
       "      <td>0.229291</td>\n",
       "      <td>1</td>\n",
       "      <td>22</td>\n",
       "      <td>58</td>\n",
       "      <td>2</td>\n",
       "    </tr>\n",
       "    <tr>\n",
       "      <th>904</th>\n",
       "      <td>12.8932</td>\n",
       "      <td>0.228752</td>\n",
       "      <td>6</td>\n",
       "      <td>77</td>\n",
       "      <td>22</td>\n",
       "      <td>0</td>\n",
       "    </tr>\n",
       "    <tr>\n",
       "      <th>905</th>\n",
       "      <td>15.2758</td>\n",
       "      <td>0.230502</td>\n",
       "      <td>7</td>\n",
       "      <td>21</td>\n",
       "      <td>246</td>\n",
       "      <td>2</td>\n",
       "    </tr>\n",
       "    <tr>\n",
       "      <th>906</th>\n",
       "      <td>24.3500</td>\n",
       "      <td>0.231797</td>\n",
       "      <td>1</td>\n",
       "      <td>59</td>\n",
       "      <td>82</td>\n",
       "      <td>2</td>\n",
       "    </tr>\n",
       "    <tr>\n",
       "      <th>907</th>\n",
       "      <td>9.9344</td>\n",
       "      <td>0.229210</td>\n",
       "      <td>7</td>\n",
       "      <td>21</td>\n",
       "      <td>234</td>\n",
       "      <td>2</td>\n",
       "    </tr>\n",
       "  </tbody>\n",
       "</table>\n",
       "<p>869 rows × 6 columns</p>\n",
       "</div>"
      ],
      "text/plain": [
       "     latitude  longitude  primary_fuel  source  url  geolocation_source\n",
       "0     28.1839   0.232163             6     109  126                   1\n",
       "1     24.7663   0.231183             1     174  169                   2\n",
       "2     21.9038   0.235083             7      21  196                   2\n",
       "3     23.8712   0.220960             2      22   58                   2\n",
       "4     21.9603   0.226052             1      22   58                   2\n",
       "..        ...        ...           ...     ...  ...                 ...\n",
       "903   16.2949   0.229291             1      22   58                   2\n",
       "904   12.8932   0.228752             6      77   22                   0\n",
       "905   15.2758   0.230502             7      21  246                   2\n",
       "906   24.3500   0.231797             1      59   82                   2\n",
       "907    9.9344   0.229210             7      21  234                   2\n",
       "\n",
       "[869 rows x 6 columns]"
      ]
     },
     "execution_count": 66,
     "metadata": {},
     "output_type": "execute_result"
    }
   ],
   "source": [
    "x=dff.drop(['capacity_mw'],axis=1)\n",
    "x"
   ]
  },
  {
   "cell_type": "code",
   "execution_count": 67,
   "id": "8e5e9a2f",
   "metadata": {},
   "outputs": [
    {
     "data": {
      "text/plain": [
       "0         2.5\n",
       "1        98.0\n",
       "2        39.2\n",
       "3       135.0\n",
       "4      1800.0\n",
       "        ...  \n",
       "903    1600.0\n",
       "904       3.0\n",
       "905      25.5\n",
       "906      80.0\n",
       "907      16.5\n",
       "Name: capacity_mw, Length: 869, dtype: float64"
      ]
     },
     "execution_count": 67,
     "metadata": {},
     "output_type": "execute_result"
    }
   ],
   "source": [
    "y=dff['capacity_mw']\n",
    "y"
   ]
  },
  {
   "cell_type": "code",
   "execution_count": 68,
   "id": "1ad04e0b",
   "metadata": {},
   "outputs": [
    {
     "name": "stdout",
     "output_type": "stream",
     "text": [
      "Orginal dataset shape:  (869, 7)\n",
      "Shape of data in x :  (869, 6)\n",
      "Shape of data in x :  (869,)\n"
     ]
    }
   ],
   "source": [
    "print('Orginal dataset shape: ',dff.shape)\n",
    "print('Shape of data in x : ',x.shape)\n",
    "print('Shape of data in x : ',y.shape)"
   ]
  },
  {
   "cell_type": "code",
   "execution_count": 69,
   "id": "44f2a3f3",
   "metadata": {},
   "outputs": [
    {
     "data": {
      "text/plain": [
       "361"
      ]
     },
     "execution_count": 69,
     "metadata": {},
     "output_type": "execute_result"
    }
   ],
   "source": [
    "# Checking total unique values in target\n",
    "df['capacity_mw'].nunique()"
   ]
  },
  {
   "cell_type": "markdown",
   "id": "32b27279",
   "metadata": {},
   "source": [
    "### Multicollinearity with VIF"
   ]
  },
  {
   "cell_type": "code",
   "execution_count": 70,
   "id": "e7ed61e9",
   "metadata": {},
   "outputs": [],
   "source": [
    "# Importing libraries\n",
    "import statsmodels.api as sm\n",
    "from scipy import stats\n",
    "from statsmodels.stats.outliers_influence import variance_inflation_factor"
   ]
  },
  {
   "cell_type": "code",
   "execution_count": 71,
   "id": "eed4bdf6",
   "metadata": {},
   "outputs": [
    {
     "data": {
      "text/html": [
       "<div>\n",
       "<style scoped>\n",
       "    .dataframe tbody tr th:only-of-type {\n",
       "        vertical-align: middle;\n",
       "    }\n",
       "\n",
       "    .dataframe tbody tr th {\n",
       "        vertical-align: top;\n",
       "    }\n",
       "\n",
       "    .dataframe thead th {\n",
       "        text-align: right;\n",
       "    }\n",
       "</style>\n",
       "<table border=\"1\" class=\"dataframe\">\n",
       "  <thead>\n",
       "    <tr style=\"text-align: right;\">\n",
       "      <th></th>\n",
       "      <th>Variables</th>\n",
       "      <th>VIF Factors</th>\n",
       "    </tr>\n",
       "  </thead>\n",
       "  <tbody>\n",
       "    <tr>\n",
       "      <th>0</th>\n",
       "      <td>latitude</td>\n",
       "      <td>13.584034</td>\n",
       "    </tr>\n",
       "    <tr>\n",
       "      <th>1</th>\n",
       "      <td>longitude</td>\n",
       "      <td>59.479600</td>\n",
       "    </tr>\n",
       "    <tr>\n",
       "      <th>2</th>\n",
       "      <td>primary_fuel</td>\n",
       "      <td>9.323427</td>\n",
       "    </tr>\n",
       "    <tr>\n",
       "      <th>3</th>\n",
       "      <td>source</td>\n",
       "      <td>3.815348</td>\n",
       "    </tr>\n",
       "    <tr>\n",
       "      <th>4</th>\n",
       "      <td>url</td>\n",
       "      <td>6.527210</td>\n",
       "    </tr>\n",
       "    <tr>\n",
       "      <th>5</th>\n",
       "      <td>geolocation_source</td>\n",
       "      <td>21.410701</td>\n",
       "    </tr>\n",
       "  </tbody>\n",
       "</table>\n",
       "</div>"
      ],
      "text/plain": [
       "            Variables  VIF Factors\n",
       "0            latitude    13.584034\n",
       "1           longitude    59.479600\n",
       "2        primary_fuel     9.323427\n",
       "3              source     3.815348\n",
       "4                 url     6.527210\n",
       "5  geolocation_source    21.410701"
      ]
     },
     "execution_count": 71,
     "metadata": {},
     "output_type": "execute_result"
    }
   ],
   "source": [
    "# Checking multicollinearity of every column\n",
    "def calc_vif(x) :\n",
    "    vif=pd.DataFrame()\n",
    "    vif['Variables'] = x.columns\n",
    "    vif['VIF Factors']=[variance_inflation_factor(x.values,i) for i in range(x.shape[1])]\n",
    "    return vif\n",
    "\n",
    "calc_vif(x)"
   ]
  },
  {
   "cell_type": "markdown",
   "id": "7890f714",
   "metadata": {},
   "source": [
    "Collinearity in data seems fine after removing highly multicollinear column."
   ]
  },
  {
   "cell_type": "markdown",
   "id": "0bc0707f",
   "metadata": {},
   "source": [
    "### Scaling : Standard Scaler / Min-Max Scaler"
   ]
  },
  {
   "cell_type": "code",
   "execution_count": 72,
   "id": "e3329d45",
   "metadata": {},
   "outputs": [
    {
     "data": {
      "text/html": [
       "<div>\n",
       "<style scoped>\n",
       "    .dataframe tbody tr th:only-of-type {\n",
       "        vertical-align: middle;\n",
       "    }\n",
       "\n",
       "    .dataframe tbody tr th {\n",
       "        vertical-align: top;\n",
       "    }\n",
       "\n",
       "    .dataframe thead th {\n",
       "        text-align: right;\n",
       "    }\n",
       "</style>\n",
       "<table border=\"1\" class=\"dataframe\">\n",
       "  <thead>\n",
       "    <tr style=\"text-align: right;\">\n",
       "      <th></th>\n",
       "      <th>0</th>\n",
       "      <th>1</th>\n",
       "      <th>2</th>\n",
       "      <th>3</th>\n",
       "      <th>4</th>\n",
       "      <th>5</th>\n",
       "    </tr>\n",
       "  </thead>\n",
       "  <tbody>\n",
       "    <tr>\n",
       "      <th>0</th>\n",
       "      <td>1.140959</td>\n",
       "      <td>0.906630</td>\n",
       "      <td>1.266087</td>\n",
       "      <td>1.434127</td>\n",
       "      <td>0.542088</td>\n",
       "      <td>-1.054141</td>\n",
       "    </tr>\n",
       "    <tr>\n",
       "      <th>1</th>\n",
       "      <td>0.586974</td>\n",
       "      <td>0.568718</td>\n",
       "      <td>-0.942323</td>\n",
       "      <td>2.875321</td>\n",
       "      <td>1.202459</td>\n",
       "      <td>0.402216</td>\n",
       "    </tr>\n",
       "    <tr>\n",
       "      <th>2</th>\n",
       "      <td>0.122970</td>\n",
       "      <td>1.913225</td>\n",
       "      <td>1.707769</td>\n",
       "      <td>-0.517029</td>\n",
       "      <td>1.617111</td>\n",
       "      <td>0.402216</td>\n",
       "    </tr>\n",
       "    <tr>\n",
       "      <th>3</th>\n",
       "      <td>0.441881</td>\n",
       "      <td>-2.955384</td>\n",
       "      <td>-0.500641</td>\n",
       "      <td>-0.494856</td>\n",
       "      <td>-0.502219</td>\n",
       "      <td>0.402216</td>\n",
       "    </tr>\n",
       "    <tr>\n",
       "      <th>4</th>\n",
       "      <td>0.132129</td>\n",
       "      <td>-1.200098</td>\n",
       "      <td>-0.942323</td>\n",
       "      <td>-0.494856</td>\n",
       "      <td>-0.502219</td>\n",
       "      <td>0.402216</td>\n",
       "    </tr>\n",
       "    <tr>\n",
       "      <th>...</th>\n",
       "      <td>...</td>\n",
       "      <td>...</td>\n",
       "      <td>...</td>\n",
       "      <td>...</td>\n",
       "      <td>...</td>\n",
       "      <td>...</td>\n",
       "    </tr>\n",
       "    <tr>\n",
       "      <th>864</th>\n",
       "      <td>-0.786219</td>\n",
       "      <td>-0.083609</td>\n",
       "      <td>-0.942323</td>\n",
       "      <td>-0.494856</td>\n",
       "      <td>-0.502219</td>\n",
       "      <td>0.402216</td>\n",
       "    </tr>\n",
       "    <tr>\n",
       "      <th>865</th>\n",
       "      <td>-1.337627</td>\n",
       "      <td>-0.269245</td>\n",
       "      <td>1.266087</td>\n",
       "      <td>0.724616</td>\n",
       "      <td>-1.055088</td>\n",
       "      <td>-2.510499</td>\n",
       "    </tr>\n",
       "    <tr>\n",
       "      <th>866</th>\n",
       "      <td>-0.951413</td>\n",
       "      <td>0.334038</td>\n",
       "      <td>1.707769</td>\n",
       "      <td>-0.517029</td>\n",
       "      <td>2.384984</td>\n",
       "      <td>0.402216</td>\n",
       "    </tr>\n",
       "    <tr>\n",
       "      <th>867</th>\n",
       "      <td>0.519493</td>\n",
       "      <td>0.780367</td>\n",
       "      <td>-0.942323</td>\n",
       "      <td>0.325516</td>\n",
       "      <td>-0.133640</td>\n",
       "      <td>0.402216</td>\n",
       "    </tr>\n",
       "    <tr>\n",
       "      <th>868</th>\n",
       "      <td>-1.817241</td>\n",
       "      <td>-0.111334</td>\n",
       "      <td>1.707769</td>\n",
       "      <td>-0.517029</td>\n",
       "      <td>2.200694</td>\n",
       "      <td>0.402216</td>\n",
       "    </tr>\n",
       "  </tbody>\n",
       "</table>\n",
       "<p>869 rows × 6 columns</p>\n",
       "</div>"
      ],
      "text/plain": [
       "            0         1         2         3         4         5\n",
       "0    1.140959  0.906630  1.266087  1.434127  0.542088 -1.054141\n",
       "1    0.586974  0.568718 -0.942323  2.875321  1.202459  0.402216\n",
       "2    0.122970  1.913225  1.707769 -0.517029  1.617111  0.402216\n",
       "3    0.441881 -2.955384 -0.500641 -0.494856 -0.502219  0.402216\n",
       "4    0.132129 -1.200098 -0.942323 -0.494856 -0.502219  0.402216\n",
       "..        ...       ...       ...       ...       ...       ...\n",
       "864 -0.786219 -0.083609 -0.942323 -0.494856 -0.502219  0.402216\n",
       "865 -1.337627 -0.269245  1.266087  0.724616 -1.055088 -2.510499\n",
       "866 -0.951413  0.334038  1.707769 -0.517029  2.384984  0.402216\n",
       "867  0.519493  0.780367 -0.942323  0.325516 -0.133640  0.402216\n",
       "868 -1.817241 -0.111334  1.707769 -0.517029  2.200694  0.402216\n",
       "\n",
       "[869 rows x 6 columns]"
      ]
     },
     "execution_count": 72,
     "metadata": {},
     "output_type": "execute_result"
    }
   ],
   "source": [
    "# Performing Normalization\n",
    "from sklearn.preprocessing import StandardScaler\n",
    "#xn=x.copy()\n",
    "sc=StandardScaler()\n",
    "x1=sc.fit_transform(x)\n",
    "x1=pd.DataFrame(x1)\n",
    "x1"
   ]
  },
  {
   "cell_type": "markdown",
   "id": "335408ca",
   "metadata": {},
   "source": [
    "Scaling is done and difference between the low and high values has been minimized."
   ]
  },
  {
   "cell_type": "markdown",
   "id": "d6f59d0a",
   "metadata": {},
   "source": [
    "### Find best randon state for Train-Test Split"
   ]
  },
  {
   "cell_type": "code",
   "execution_count": 73,
   "id": "ab8fec1b",
   "metadata": {},
   "outputs": [],
   "source": [
    "#Importing required libraries\n",
    "from sklearn.model_selection import train_test_split\n",
    "\n",
    "from sklearn.linear_model import LinearRegression\n",
    "from sklearn.tree import DecisionTreeRegressor\n",
    "from sklearn.neighbors import KNeighborsRegressor\n",
    "from sklearn.ensemble import RandomForestRegressor\n",
    "from sklearn.ensemble import AdaBoostRegressor\n",
    "from sklearn.ensemble import GradientBoostingRegressor\n",
    "\n",
    "from sklearn.metrics import r2_score, mean_squared_error, mean_absolute_error\n",
    "import time"
   ]
  },
  {
   "cell_type": "code",
   "execution_count": 77,
   "id": "e29cc521",
   "metadata": {},
   "outputs": [
    {
     "name": "stdout",
     "output_type": "stream",
     "text": [
      "Final Best random state :  90  Accuracy(Training) :  99.3219881576003  Accuracy(Testing) :  59.90192577058227\n"
     ]
    }
   ],
   "source": [
    "#Finding out the best random state\n",
    "\n",
    "maxAcc=0\n",
    "rs=0\n",
    "for i in range(0,100) :\n",
    "    x_train,x_test,y_train,y_test=train_test_split(x1,y,test_size=0.2,random_state=i)\n",
    "    \n",
    "    dtr=DecisionTreeRegressor()\n",
    "    dtr.fit(x_train,y_train)\n",
    "    predtrain=dtr.predict(x_train)\n",
    "    predtest=dtr.predict(x_test)\n",
    "    acctrain=r2_score(y_train,predtrain)\n",
    "    acctest=r2_score(y_test,predtest)\n",
    "    if round(acctrain,1)==round(acctest,1) :\n",
    "        print('Best random state : ',i,' Accuracy(Training) : ',acctrain*100,' Accuracy(Testing) : ',acctest*100)\n",
    "        \n",
    "    if acctest>maxAcc :\n",
    "        maxAcc=acctest\n",
    "        rs=i      \n",
    "print('Final Best random state : ',rs,' Accuracy(Training) : ',acctrain*100,' Accuracy(Testing) : ',maxAcc*100)"
   ]
  },
  {
   "cell_type": "markdown",
   "id": "56ccc943",
   "metadata": {},
   "source": [
    "Here, testing accuracy is maximum for random state=90. So, lets take 90 as our best random state."
   ]
  },
  {
   "cell_type": "code",
   "execution_count": 78,
   "id": "658f42b7",
   "metadata": {},
   "outputs": [
    {
     "name": "stdout",
     "output_type": "stream",
     "text": [
      "(695, 6)\n",
      "(174, 6)\n",
      "(695,)\n",
      "(174,)\n"
     ]
    }
   ],
   "source": [
    "# train-test split with best randon state and finding the train and test set shape after splittng\n",
    "x_train,x_test,y_train,y_test=train_test_split(x1,y,test_size=0.2,random_state=90)\n",
    "print(x_train.shape)\n",
    "print(x_test.shape)\n",
    "print(y_train.shape)\n",
    "print(y_test.shape)"
   ]
  },
  {
   "cell_type": "markdown",
   "id": "4cf0413a",
   "metadata": {},
   "source": [
    "### Finding the best algorithm"
   ]
  },
  {
   "cell_type": "code",
   "execution_count": 79,
   "id": "51a163e7",
   "metadata": {},
   "outputs": [],
   "source": [
    "# Making instance of regressors\n",
    "lr=LinearRegression()\n",
    "dtr=DecisionTreeRegressor()\n",
    "knn=KNeighborsRegressor()\n",
    "rf=RandomForestRegressor()\n",
    "ad=AdaBoostRegressor()\n",
    "gd=GradientBoostingRegressor()"
   ]
  },
  {
   "cell_type": "code",
   "execution_count": 80,
   "id": "5a25cd05",
   "metadata": {},
   "outputs": [
    {
     "name": "stdout",
     "output_type": "stream",
     "text": [
      "DecisionTreeRegressor()\n",
      "Accuracy(Training) :  99.09292939328259  Accuracy(Test)  64.08891680737877\n",
      "mean_absolute_error 213.43047892720307\n",
      "mean_squared_error 183809.18896257275\n",
      "\n",
      "\n",
      "KNeighborsRegressor()\n",
      "Accuracy(Training) :  54.408166625552504  Accuracy(Test)  40.104333326443786\n",
      "mean_absolute_error 291.12243563218385\n",
      "mean_squared_error 306573.15053924895\n",
      "\n",
      "\n",
      "RandomForestRegressor()\n",
      "Accuracy(Training) :  90.02633998378064  Accuracy(Test)  63.21504484386453\n",
      "mean_absolute_error 218.71383597185704\n",
      "mean_squared_error 188282.06147407874\n",
      "\n",
      "\n",
      "GradientBoostingRegressor()\n",
      "Accuracy(Training) :  72.1268588223141  Accuracy(Test)  57.06024313289515\n",
      "mean_absolute_error 245.37441375519415\n",
      "mean_squared_error 219785.12432101596\n",
      "\n",
      "\n"
     ]
    }
   ],
   "source": [
    "#Executing all algorithms in a single for loop\n",
    "\n",
    "algo_list=[dtr,knn,rf,gd]\n",
    "svr_kernel=['rbf','poly','linear']\n",
    "Acc=0\n",
    "kv=''\n",
    "for i in algo_list :\n",
    "    print(i)\n",
    "    i.fit(x_train,y_train)\n",
    "    predtrain=i.predict(x_train)\n",
    "    predtest=i.predict(x_test)\n",
    "    acctrain=r2_score(y_train,predtrain)\n",
    "    acctest=r2_score(y_test,predtest)\n",
    "    err1=mean_absolute_error(y_test,predtest)\n",
    "    err2=mean_squared_error(y_test,predtest)\n",
    "    \n",
    "    print('Accuracy(Training) : ',acctrain*100,' Accuracy(Test) ',acctest*100)\n",
    "    print('mean_absolute_error',mean_absolute_error(y_test,predtest))\n",
    "    print('mean_squared_error',mean_squared_error(y_test,predtest))\n",
    "    print('\\n')"
   ]
  },
  {
   "cell_type": "markdown",
   "id": "de25b59f",
   "metadata": {},
   "source": [
    "RandomForestRegressor has the highest accuracy and least error."
   ]
  },
  {
   "cell_type": "markdown",
   "id": "1ee95a40",
   "metadata": {},
   "source": [
    "### Cross Validation"
   ]
  },
  {
   "cell_type": "code",
   "execution_count": 82,
   "id": "6c93b206",
   "metadata": {},
   "outputs": [
    {
     "name": "stdout",
     "output_type": "stream",
     "text": [
      "CV mean of  DecisionTreeRegressor()  is  0.7759426998607244\n",
      "CV mean of  KNeighborsRegressor()  is  0.34119924397741896\n",
      "CV mean of  RandomForestRegressor()  is  0.5953508767862865\n",
      "CV mean of  GradientBoostingRegressor()  is  0.7354995200985261\n"
     ]
    }
   ],
   "source": [
    "# Computing cross validation score of all the models\n",
    "from sklearn.model_selection import cross_val_score\n",
    "\n",
    "for i in algo_list :\n",
    "    print('CV mean of ',i,' is ',np.abs(cross_val_score(i,x1,y,cv=80).mean()))"
   ]
  },
  {
   "cell_type": "raw",
   "id": "e15ffe69",
   "metadata": {},
   "source": [
    "# Finding out the difference of Accuracy and Cross validation mean of all the models used\n",
    "   Accuracy CVmean Diff\n",
    "DTC  64       77    13\n",
    "KNN  40       34    6\n",
    "RFC  63       59    4\n",
    "GBR  57       73    16"
   ]
  },
  {
   "cell_type": "markdown",
   "id": "e97dd69c",
   "metadata": {},
   "source": [
    "Looking at difference of accuracy and cv mean, opting for RandomForestRegressor as our best model with accuracy of 63%, also having least difference between accuracy and cv mean."
   ]
  },
  {
   "cell_type": "markdown",
   "id": "be9fd0f2",
   "metadata": {},
   "source": [
    "### Hyperparameter Tuning"
   ]
  },
  {
   "cell_type": "code",
   "execution_count": 137,
   "id": "48167afb",
   "metadata": {},
   "outputs": [
    {
     "data": {
      "text/plain": [
       "{'criterion': 'poisson',\n",
       " 'max_depth': 10,\n",
       " 'max_features': 'sqrt',\n",
       " 'n_estimators': 5}"
      ]
     },
     "execution_count": 137,
     "metadata": {},
     "output_type": "execute_result"
    }
   ],
   "source": [
    "from sklearn.model_selection import GridSearchCV\n",
    "\n",
    "parameters = {'criterion':['squared_error', 'absolute_error','poisson'],\n",
    "              'max_features':['auto', 'sqrt', 'log2'],\n",
    "              'max_depth': [5, 10, None],\n",
    "              'n_estimators': [5, 10, 15]}\n",
    "\n",
    "rf=RandomForestRegressor()\n",
    "GCV=GridSearchCV(rf,parameters,cv=5)\n",
    "GCV.fit(x_train,y_train)\n",
    "GCV.best_params_"
   ]
  },
  {
   "cell_type": "code",
   "execution_count": 165,
   "id": "0f660d8a",
   "metadata": {},
   "outputs": [
    {
     "name": "stdout",
     "output_type": "stream",
     "text": [
      "R2_score :  0.6046620906690902\n"
     ]
    }
   ],
   "source": [
    "rf=RandomForestRegressor(criterion='poisson', max_features='sqrt', max_depth=10, n_estimators=5)\n",
    "rf.fit(x_train,y_train)\n",
    "pred=rf.predict(x_test)\n",
    "acc=r2_score(y_test,pred)\n",
    "#cv=cross_val_score(rf,x1,y,cv=70).mean()\n",
    "print('R2_score : ',acc)"
   ]
  },
  {
   "cell_type": "markdown",
   "id": "baccdf6b",
   "metadata": {},
   "source": [
    "Using hyper parameter tuning for better accuracy and to avoid overfitting issues with best parameters on selected model."
   ]
  },
  {
   "cell_type": "markdown",
   "id": "b3e92a19",
   "metadata": {},
   "source": [
    "### AUC-ROC Curve"
   ]
  },
  {
   "cell_type": "markdown",
   "id": "aaa1c116",
   "metadata": {},
   "source": [
    "AUC-ROC is not available for regression problems, because there is no cut-off value for this algorithm, and ROC AUC is only calculable in the case if the algorithm returns a continuous probability value (and only 1 value) for an unseen element."
   ]
  },
  {
   "cell_type": "markdown",
   "id": "641fd33d",
   "metadata": {},
   "source": [
    "### Saving the model"
   ]
  },
  {
   "cell_type": "code",
   "execution_count": 166,
   "id": "92ef20ab",
   "metadata": {},
   "outputs": [],
   "source": [
    "# Saved the model in .pkl file\n",
    "import pickle\n",
    "file='global_power_regression.pkl'\n",
    "pickle.dump(rf,open(file,'wb'))"
   ]
  },
  {
   "cell_type": "markdown",
   "id": "9ecc65fe",
   "metadata": {},
   "source": [
    "### Conclusion"
   ]
  },
  {
   "cell_type": "code",
   "execution_count": 167,
   "id": "56bdd353",
   "metadata": {},
   "outputs": [
    {
     "data": {
      "text/plain": [
       "0.6046620906690902"
      ]
     },
     "execution_count": 167,
     "metadata": {},
     "output_type": "execute_result"
    }
   ],
   "source": [
    "# Loading the model for checking score on actual and predicted test sets\n",
    "load_model=pickle.load(open(file,'rb'))\n",
    "result=load_model.score(x_test,y_test)\n",
    "result"
   ]
  },
  {
   "cell_type": "markdown",
   "id": "a58eca76",
   "metadata": {},
   "source": [
    "We are getting 60.4% accuracy with trained model on test data."
   ]
  },
  {
   "cell_type": "code",
   "execution_count": 170,
   "id": "be0a27cf",
   "metadata": {},
   "outputs": [
    {
     "name": "stdout",
     "output_type": "stream",
     "text": [
      "(174, 6)\n",
      "(174,)\n"
     ]
    }
   ],
   "source": [
    "#Printing the shapes of test sets to make comparison dataframe\n",
    "print(x_test.shape)\n",
    "print(y_test.shape)"
   ]
  },
  {
   "cell_type": "code",
   "execution_count": 171,
   "id": "44c3a14e",
   "metadata": {},
   "outputs": [
    {
     "data": {
      "text/html": [
       "<div>\n",
       "<style scoped>\n",
       "    .dataframe tbody tr th:only-of-type {\n",
       "        vertical-align: middle;\n",
       "    }\n",
       "\n",
       "    .dataframe tbody tr th {\n",
       "        vertical-align: top;\n",
       "    }\n",
       "\n",
       "    .dataframe thead th {\n",
       "        text-align: right;\n",
       "    }\n",
       "</style>\n",
       "<table border=\"1\" class=\"dataframe\">\n",
       "  <thead>\n",
       "    <tr style=\"text-align: right;\">\n",
       "      <th></th>\n",
       "      <th>Orignal</th>\n",
       "      <th>Predicted</th>\n",
       "    </tr>\n",
       "  </thead>\n",
       "  <tbody>\n",
       "    <tr>\n",
       "      <th>0</th>\n",
       "      <td>126.0</td>\n",
       "      <td>171.8</td>\n",
       "    </tr>\n",
       "    <tr>\n",
       "      <th>1</th>\n",
       "      <td>11.2</td>\n",
       "      <td>20.9</td>\n",
       "    </tr>\n",
       "    <tr>\n",
       "      <th>2</th>\n",
       "      <td>96.0</td>\n",
       "      <td>121.6</td>\n",
       "    </tr>\n",
       "    <tr>\n",
       "      <th>3</th>\n",
       "      <td>2400.0</td>\n",
       "      <td>763.8</td>\n",
       "    </tr>\n",
       "    <tr>\n",
       "      <th>4</th>\n",
       "      <td>16.0</td>\n",
       "      <td>140.2</td>\n",
       "    </tr>\n",
       "    <tr>\n",
       "      <th>...</th>\n",
       "      <td>...</td>\n",
       "      <td>...</td>\n",
       "    </tr>\n",
       "    <tr>\n",
       "      <th>169</th>\n",
       "      <td>331.5</td>\n",
       "      <td>175.6</td>\n",
       "    </tr>\n",
       "    <tr>\n",
       "      <th>170</th>\n",
       "      <td>1200.0</td>\n",
       "      <td>946.6</td>\n",
       "    </tr>\n",
       "    <tr>\n",
       "      <th>171</th>\n",
       "      <td>27.0</td>\n",
       "      <td>147.6</td>\n",
       "    </tr>\n",
       "    <tr>\n",
       "      <th>172</th>\n",
       "      <td>50.4</td>\n",
       "      <td>22.5</td>\n",
       "    </tr>\n",
       "    <tr>\n",
       "      <th>173</th>\n",
       "      <td>24.8</td>\n",
       "      <td>26.5</td>\n",
       "    </tr>\n",
       "  </tbody>\n",
       "</table>\n",
       "<p>174 rows × 2 columns</p>\n",
       "</div>"
      ],
      "text/plain": [
       "     Orignal  Predicted\n",
       "0      126.0      171.8\n",
       "1       11.2       20.9\n",
       "2       96.0      121.6\n",
       "3     2400.0      763.8\n",
       "4       16.0      140.2\n",
       "..       ...        ...\n",
       "169    331.5      175.6\n",
       "170   1200.0      946.6\n",
       "171     27.0      147.6\n",
       "172     50.4       22.5\n",
       "173     24.8       26.5\n",
       "\n",
       "[174 rows x 2 columns]"
      ]
     },
     "execution_count": 171,
     "metadata": {},
     "output_type": "execute_result"
    }
   ],
   "source": [
    "# Comparison dataframe having Original and Predicted values\n",
    "actual=np.array(y_test)\n",
    "predicted=np.array(rf.predict(x_test))\n",
    "conclusion=pd.DataFrame({'Orignal':actual,'Predicted':np.round(predicted,1)})\n",
    "conclusion"
   ]
  },
  {
   "cell_type": "markdown",
   "id": "8419d984",
   "metadata": {},
   "source": [
    "## Now let's take the Classification Problem with target variable as Region"
   ]
  },
  {
   "cell_type": "markdown",
   "id": "49388cfd",
   "metadata": {},
   "source": [
    "### Dividing dataset in continuous and categorical"
   ]
  },
  {
   "cell_type": "code",
   "execution_count": 172,
   "id": "cc8c1c42",
   "metadata": {},
   "outputs": [
    {
     "data": {
      "text/html": [
       "<div>\n",
       "<style scoped>\n",
       "    .dataframe tbody tr th:only-of-type {\n",
       "        vertical-align: middle;\n",
       "    }\n",
       "\n",
       "    .dataframe tbody tr th {\n",
       "        vertical-align: top;\n",
       "    }\n",
       "\n",
       "    .dataframe thead th {\n",
       "        text-align: right;\n",
       "    }\n",
       "</style>\n",
       "<table border=\"1\" class=\"dataframe\">\n",
       "  <thead>\n",
       "    <tr style=\"text-align: right;\">\n",
       "      <th></th>\n",
       "      <th>primary_fuel</th>\n",
       "      <th>source</th>\n",
       "      <th>url</th>\n",
       "      <th>geolocation_source</th>\n",
       "    </tr>\n",
       "  </thead>\n",
       "  <tbody>\n",
       "    <tr>\n",
       "      <th>0</th>\n",
       "      <td>6</td>\n",
       "      <td>109</td>\n",
       "      <td>126</td>\n",
       "      <td>1</td>\n",
       "    </tr>\n",
       "    <tr>\n",
       "      <th>1</th>\n",
       "      <td>1</td>\n",
       "      <td>174</td>\n",
       "      <td>169</td>\n",
       "      <td>2</td>\n",
       "    </tr>\n",
       "    <tr>\n",
       "      <th>2</th>\n",
       "      <td>7</td>\n",
       "      <td>21</td>\n",
       "      <td>196</td>\n",
       "      <td>2</td>\n",
       "    </tr>\n",
       "    <tr>\n",
       "      <th>3</th>\n",
       "      <td>2</td>\n",
       "      <td>22</td>\n",
       "      <td>58</td>\n",
       "      <td>2</td>\n",
       "    </tr>\n",
       "    <tr>\n",
       "      <th>4</th>\n",
       "      <td>1</td>\n",
       "      <td>22</td>\n",
       "      <td>58</td>\n",
       "      <td>2</td>\n",
       "    </tr>\n",
       "    <tr>\n",
       "      <th>...</th>\n",
       "      <td>...</td>\n",
       "      <td>...</td>\n",
       "      <td>...</td>\n",
       "      <td>...</td>\n",
       "    </tr>\n",
       "    <tr>\n",
       "      <th>903</th>\n",
       "      <td>1</td>\n",
       "      <td>22</td>\n",
       "      <td>58</td>\n",
       "      <td>2</td>\n",
       "    </tr>\n",
       "    <tr>\n",
       "      <th>904</th>\n",
       "      <td>6</td>\n",
       "      <td>77</td>\n",
       "      <td>22</td>\n",
       "      <td>0</td>\n",
       "    </tr>\n",
       "    <tr>\n",
       "      <th>905</th>\n",
       "      <td>7</td>\n",
       "      <td>21</td>\n",
       "      <td>246</td>\n",
       "      <td>2</td>\n",
       "    </tr>\n",
       "    <tr>\n",
       "      <th>906</th>\n",
       "      <td>1</td>\n",
       "      <td>59</td>\n",
       "      <td>82</td>\n",
       "      <td>2</td>\n",
       "    </tr>\n",
       "    <tr>\n",
       "      <th>907</th>\n",
       "      <td>7</td>\n",
       "      <td>21</td>\n",
       "      <td>234</td>\n",
       "      <td>2</td>\n",
       "    </tr>\n",
       "  </tbody>\n",
       "</table>\n",
       "<p>883 rows × 4 columns</p>\n",
       "</div>"
      ],
      "text/plain": [
       "     primary_fuel  source  url  geolocation_source\n",
       "0               6     109  126                   1\n",
       "1               1     174  169                   2\n",
       "2               7      21  196                   2\n",
       "3               2      22   58                   2\n",
       "4               1      22   58                   2\n",
       "..            ...     ...  ...                 ...\n",
       "903             1      22   58                   2\n",
       "904             6      77   22                   0\n",
       "905             7      21  246                   2\n",
       "906             1      59   82                   2\n",
       "907             7      21  234                   2\n",
       "\n",
       "[883 rows x 4 columns]"
      ]
     },
     "execution_count": 172,
     "metadata": {},
     "output_type": "execute_result"
    }
   ],
   "source": [
    "# Dividing the data in categorical and numeric columns\n",
    "# Encoded Categorical data\n",
    "df_cat_enc"
   ]
  },
  {
   "cell_type": "markdown",
   "id": "3b4284f7",
   "metadata": {},
   "source": [
    "Categorical columns with object datatypes are already encoded having 892 rows and 4 columns."
   ]
  },
  {
   "cell_type": "code",
   "execution_count": 173,
   "id": "0139e77d",
   "metadata": {},
   "outputs": [
    {
     "data": {
      "text/html": [
       "<div>\n",
       "<style scoped>\n",
       "    .dataframe tbody tr th:only-of-type {\n",
       "        vertical-align: middle;\n",
       "    }\n",
       "\n",
       "    .dataframe tbody tr th {\n",
       "        vertical-align: top;\n",
       "    }\n",
       "\n",
       "    .dataframe thead th {\n",
       "        text-align: right;\n",
       "    }\n",
       "</style>\n",
       "<table border=\"1\" class=\"dataframe\">\n",
       "  <thead>\n",
       "    <tr style=\"text-align: right;\">\n",
       "      <th></th>\n",
       "      <th>capacity_mw</th>\n",
       "      <th>latitude</th>\n",
       "      <th>longitude</th>\n",
       "    </tr>\n",
       "  </thead>\n",
       "  <tbody>\n",
       "    <tr>\n",
       "      <th>0</th>\n",
       "      <td>2.5</td>\n",
       "      <td>28.1839</td>\n",
       "      <td>73.2407</td>\n",
       "    </tr>\n",
       "    <tr>\n",
       "      <th>1</th>\n",
       "      <td>98.0</td>\n",
       "      <td>24.7663</td>\n",
       "      <td>74.6090</td>\n",
       "    </tr>\n",
       "    <tr>\n",
       "      <th>2</th>\n",
       "      <td>39.2</td>\n",
       "      <td>21.9038</td>\n",
       "      <td>69.3732</td>\n",
       "    </tr>\n",
       "    <tr>\n",
       "      <th>3</th>\n",
       "      <td>135.0</td>\n",
       "      <td>23.8712</td>\n",
       "      <td>91.3602</td>\n",
       "    </tr>\n",
       "    <tr>\n",
       "      <th>4</th>\n",
       "      <td>1800.0</td>\n",
       "      <td>21.9603</td>\n",
       "      <td>82.4091</td>\n",
       "    </tr>\n",
       "    <tr>\n",
       "      <th>...</th>\n",
       "      <td>...</td>\n",
       "      <td>...</td>\n",
       "      <td>...</td>\n",
       "    </tr>\n",
       "    <tr>\n",
       "      <th>903</th>\n",
       "      <td>1600.0</td>\n",
       "      <td>16.2949</td>\n",
       "      <td>77.3568</td>\n",
       "    </tr>\n",
       "    <tr>\n",
       "      <th>904</th>\n",
       "      <td>3.0</td>\n",
       "      <td>12.8932</td>\n",
       "      <td>78.1654</td>\n",
       "    </tr>\n",
       "    <tr>\n",
       "      <th>905</th>\n",
       "      <td>25.5</td>\n",
       "      <td>15.2758</td>\n",
       "      <td>75.5811</td>\n",
       "    </tr>\n",
       "    <tr>\n",
       "      <th>906</th>\n",
       "      <td>80.0</td>\n",
       "      <td>24.3500</td>\n",
       "      <td>73.7477</td>\n",
       "    </tr>\n",
       "    <tr>\n",
       "      <th>907</th>\n",
       "      <td>16.5</td>\n",
       "      <td>9.9344</td>\n",
       "      <td>77.4768</td>\n",
       "    </tr>\n",
       "  </tbody>\n",
       "</table>\n",
       "<p>883 rows × 3 columns</p>\n",
       "</div>"
      ],
      "text/plain": [
       "     capacity_mw  latitude  longitude\n",
       "0            2.5   28.1839    73.2407\n",
       "1           98.0   24.7663    74.6090\n",
       "2           39.2   21.9038    69.3732\n",
       "3          135.0   23.8712    91.3602\n",
       "4         1800.0   21.9603    82.4091\n",
       "..           ...       ...        ...\n",
       "903       1600.0   16.2949    77.3568\n",
       "904          3.0   12.8932    78.1654\n",
       "905         25.5   15.2758    75.5811\n",
       "906         80.0   24.3500    73.7477\n",
       "907         16.5    9.9344    77.4768\n",
       "\n",
       "[883 rows x 3 columns]"
      ]
     },
     "execution_count": 173,
     "metadata": {},
     "output_type": "execute_result"
    }
   ],
   "source": [
    "# Continuous data\n",
    "df_con2=df.select_dtypes(exclude='object')\n",
    "df_con2"
   ]
  },
  {
   "cell_type": "code",
   "execution_count": 174,
   "id": "4f259711",
   "metadata": {},
   "outputs": [
    {
     "data": {
      "text/plain": [
       "(array([ 15, 142, 178, 182, 206, 241, 304, 319, 329, 336, 356, 359, 360,\n",
       "        370, 410, 421, 474, 485, 486, 491, 510, 535, 627, 637, 645, 682,\n",
       "        713, 765, 767, 787, 797, 858], dtype=int64),\n",
       " array([0, 0, 2, 2, 0, 2, 0, 2, 2, 2, 2, 0, 0, 0, 2, 2, 0, 0, 0, 2, 2, 2,\n",
       "        2, 0, 0, 0, 0, 0, 0, 0, 2, 0], dtype=int64))"
      ]
     },
     "execution_count": 174,
     "metadata": {},
     "output_type": "execute_result"
    }
   ],
   "source": [
    "# Checking outliers\n",
    "from scipy.stats import zscore\n",
    "z=np.abs(zscore(df_con2))\n",
    "np.where(z>3)"
   ]
  },
  {
   "cell_type": "markdown",
   "id": "932db7e5",
   "metadata": {},
   "source": [
    "Outliers are present in the dataset."
   ]
  },
  {
   "cell_type": "code",
   "execution_count": 175,
   "id": "7c930344",
   "metadata": {},
   "outputs": [
    {
     "data": {
      "text/plain": [
       "3.926464019221767"
      ]
     },
     "execution_count": 175,
     "metadata": {},
     "output_type": "execute_result"
    }
   ],
   "source": [
    "# Checking the outlier in the dataset\n",
    "z[15][0]"
   ]
  },
  {
   "cell_type": "code",
   "execution_count": 176,
   "id": "fddfad71",
   "metadata": {},
   "outputs": [
    {
     "data": {
      "image/png": "[encoded data removed]",
      "text/plain": [
       "<Figure size 1440x720 with 24 Axes>"
      ]
     },
     "metadata": {
      "needs_background": "light"
     },
     "output_type": "display_data"
    }
   ],
   "source": [
    "# Visualising outliers\n",
    "df_con2.plot(kind='box',subplots=True,layout=(3,8), figsize=(20,10))\n",
    "plt.show()"
   ]
  },
  {
   "cell_type": "markdown",
   "id": "fef23e5e",
   "metadata": {},
   "source": [
    "Plot showing there are presence of outliers in the columns."
   ]
  },
  {
   "cell_type": "code",
   "execution_count": 177,
   "id": "c8e61880",
   "metadata": {},
   "outputs": [
    {
     "data": {
      "text/plain": [
       "capacity_mw    3.144492\n",
       "latitude      -0.155233\n",
       "longitude      1.123685\n",
       "dtype: float64"
      ]
     },
     "execution_count": 177,
     "metadata": {},
     "output_type": "execute_result"
    }
   ],
   "source": [
    "# Checking skewness\n",
    "df_con2.skew()"
   ]
  },
  {
   "cell_type": "markdown",
   "id": "2fd08636",
   "metadata": {},
   "source": [
    "Skewness is present in the dataset as acceptable range is +/-5."
   ]
  },
  {
   "cell_type": "code",
   "execution_count": 178,
   "id": "501c6c3b",
   "metadata": {},
   "outputs": [
    {
     "data": {
      "image/png": "[encoded data removed]",
      "text/plain": [
       "<Figure size 432x288 with 1 Axes>"
      ]
     },
     "metadata": {
      "needs_background": "light"
     },
     "output_type": "display_data"
    },
    {
     "data": {
      "image/png": "[encoded data removed]",
      "text/plain": [
       "<Figure size 432x288 with 1 Axes>"
      ]
     },
     "metadata": {
      "needs_background": "light"
     },
     "output_type": "display_data"
    },
    {
     "data": {
      "image/png": "[encoded data removed]",
      "text/plain": [
       "<Figure size 432x288 with 1 Axes>"
      ]
     },
     "metadata": {
      "needs_background": "light"
     },
     "output_type": "display_data"
    }
   ],
   "source": [
    "# Visualizing skewness\n",
    "for i in df_con2.columns :\n",
    "    sns.distplot(df_con2[i])\n",
    "    plt.show()"
   ]
  },
  {
   "cell_type": "markdown",
   "id": "5c4623f2",
   "metadata": {},
   "source": [
    "Data is skewed in all the columns."
   ]
  },
  {
   "cell_type": "markdown",
   "id": "ac5cb9ce",
   "metadata": {},
   "source": [
    "### Data Cleaning"
   ]
  },
  {
   "cell_type": "code",
   "execution_count": 179,
   "id": "8c2d73c6",
   "metadata": {},
   "outputs": [
    {
     "data": {
      "text/html": [
       "<div>\n",
       "<style scoped>\n",
       "    .dataframe tbody tr th:only-of-type {\n",
       "        vertical-align: middle;\n",
       "    }\n",
       "\n",
       "    .dataframe tbody tr th {\n",
       "        vertical-align: top;\n",
       "    }\n",
       "\n",
       "    .dataframe thead th {\n",
       "        text-align: right;\n",
       "    }\n",
       "</style>\n",
       "<table border=\"1\" class=\"dataframe\">\n",
       "  <thead>\n",
       "    <tr style=\"text-align: right;\">\n",
       "      <th></th>\n",
       "      <th>capacity_mw</th>\n",
       "      <th>latitude</th>\n",
       "      <th>longitude</th>\n",
       "    </tr>\n",
       "  </thead>\n",
       "  <tbody>\n",
       "    <tr>\n",
       "      <th>0</th>\n",
       "      <td>2.5</td>\n",
       "      <td>28.1839</td>\n",
       "      <td>73.2407</td>\n",
       "    </tr>\n",
       "    <tr>\n",
       "      <th>1</th>\n",
       "      <td>98.0</td>\n",
       "      <td>24.7663</td>\n",
       "      <td>74.6090</td>\n",
       "    </tr>\n",
       "    <tr>\n",
       "      <th>2</th>\n",
       "      <td>39.2</td>\n",
       "      <td>21.9038</td>\n",
       "      <td>69.3732</td>\n",
       "    </tr>\n",
       "    <tr>\n",
       "      <th>3</th>\n",
       "      <td>135.0</td>\n",
       "      <td>23.8712</td>\n",
       "      <td>91.3602</td>\n",
       "    </tr>\n",
       "    <tr>\n",
       "      <th>4</th>\n",
       "      <td>1800.0</td>\n",
       "      <td>21.9603</td>\n",
       "      <td>82.4091</td>\n",
       "    </tr>\n",
       "    <tr>\n",
       "      <th>...</th>\n",
       "      <td>...</td>\n",
       "      <td>...</td>\n",
       "      <td>...</td>\n",
       "    </tr>\n",
       "    <tr>\n",
       "      <th>903</th>\n",
       "      <td>1600.0</td>\n",
       "      <td>16.2949</td>\n",
       "      <td>77.3568</td>\n",
       "    </tr>\n",
       "    <tr>\n",
       "      <th>904</th>\n",
       "      <td>3.0</td>\n",
       "      <td>12.8932</td>\n",
       "      <td>78.1654</td>\n",
       "    </tr>\n",
       "    <tr>\n",
       "      <th>905</th>\n",
       "      <td>25.5</td>\n",
       "      <td>15.2758</td>\n",
       "      <td>75.5811</td>\n",
       "    </tr>\n",
       "    <tr>\n",
       "      <th>906</th>\n",
       "      <td>80.0</td>\n",
       "      <td>24.3500</td>\n",
       "      <td>73.7477</td>\n",
       "    </tr>\n",
       "    <tr>\n",
       "      <th>907</th>\n",
       "      <td>16.5</td>\n",
       "      <td>9.9344</td>\n",
       "      <td>77.4768</td>\n",
       "    </tr>\n",
       "  </tbody>\n",
       "</table>\n",
       "<p>851 rows × 3 columns</p>\n",
       "</div>"
      ],
      "text/plain": [
       "     capacity_mw  latitude  longitude\n",
       "0            2.5   28.1839    73.2407\n",
       "1           98.0   24.7663    74.6090\n",
       "2           39.2   21.9038    69.3732\n",
       "3          135.0   23.8712    91.3602\n",
       "4         1800.0   21.9603    82.4091\n",
       "..           ...       ...        ...\n",
       "903       1600.0   16.2949    77.3568\n",
       "904          3.0   12.8932    78.1654\n",
       "905         25.5   15.2758    75.5811\n",
       "906         80.0   24.3500    73.7477\n",
       "907         16.5    9.9344    77.4768\n",
       "\n",
       "[851 rows x 3 columns]"
      ]
     },
     "execution_count": 179,
     "metadata": {},
     "output_type": "execute_result"
    }
   ],
   "source": [
    "# Removing outliers\n",
    "\n",
    "df1=df_con2.copy()\n",
    "df1=df_con2[(z<3).all(axis=1)]\n",
    "df1"
   ]
  },
  {
   "cell_type": "code",
   "execution_count": 180,
   "id": "58097e7e",
   "metadata": {},
   "outputs": [
    {
     "name": "stdout",
     "output_type": "stream",
     "text": [
      "Shape of original dataset :  (883, 2)\n",
      "Shape of dataset after removing outliers :  (851, 3)\n"
     ]
    }
   ],
   "source": [
    "# Printing shape of dataset before and after removing outliers\n",
    "print('Shape of original dataset : ',df_con.shape)\n",
    "print('Shape of dataset after removing outliers : ',df1.shape)"
   ]
  },
  {
   "cell_type": "code",
   "execution_count": 181,
   "id": "94dba530",
   "metadata": {},
   "outputs": [
    {
     "data": {
      "text/plain": [
       "3.6240090600226504"
      ]
     },
     "execution_count": 181,
     "metadata": {},
     "output_type": "execute_result"
    }
   ],
   "source": [
    "# Percentage Data lost\n",
    "data_percent=(883-851)/883*100\n",
    "data_percent"
   ]
  },
  {
   "cell_type": "markdown",
   "id": "02f2567d",
   "metadata": {},
   "source": [
    "Approx 4% data is lost after removing the outliers."
   ]
  },
  {
   "cell_type": "code",
   "execution_count": 182,
   "id": "655ac420",
   "metadata": {},
   "outputs": [
    {
     "data": {
      "text/plain": [
       "capacity_mw    1.986329\n",
       "latitude      -0.120533\n",
       "longitude      0.947028\n",
       "dtype: float64"
      ]
     },
     "execution_count": 182,
     "metadata": {},
     "output_type": "execute_result"
    }
   ],
   "source": [
    "# Checking skewness after removing outliers\n",
    "df1.skew()"
   ]
  },
  {
   "cell_type": "markdown",
   "id": "d50a3594",
   "metadata": {},
   "source": [
    "We can still see skewness in capacity_mw, longitude & commissioning_year columns."
   ]
  },
  {
   "cell_type": "code",
   "execution_count": 184,
   "id": "bdb21bd7",
   "metadata": {},
   "outputs": [
    {
     "name": "stdout",
     "output_type": "stream",
     "text": [
      "capacity_mw    1.986329\n",
      "latitude      -0.120533\n",
      "longitude      0.768288\n",
      "dtype: float64\n"
     ]
    }
   ],
   "source": [
    "# Removing skewness\n",
    "df2=df1.copy()\n",
    "df2['longitude']=np.log(df1['longitude']+1)\n",
    "print(df2.skew())"
   ]
  },
  {
   "cell_type": "code",
   "execution_count": 185,
   "id": "3ee3312b",
   "metadata": {},
   "outputs": [
    {
     "data": {
      "text/plain": [
       "capacity_mw    1.986329\n",
       "latitude      -0.120533\n",
       "longitude     -0.687776\n",
       "dtype: float64"
      ]
     },
     "execution_count": 185,
     "metadata": {},
     "output_type": "execute_result"
    }
   ],
   "source": [
    "#from scipy.stats import yeojohnson,boxcox\n",
    "df2['longitude']=1/(df2['longitude'])\n",
    "df2.skew()"
   ]
  },
  {
   "cell_type": "markdown",
   "id": "5f4c6b99",
   "metadata": {},
   "source": [
    "Removed skewness and considering the present values as skewness threshold based on the kind of data distribution in respective columns."
   ]
  },
  {
   "cell_type": "code",
   "execution_count": 186,
   "id": "97eededb",
   "metadata": {},
   "outputs": [
    {
     "data": {
      "text/html": [
       "<div>\n",
       "<style scoped>\n",
       "    .dataframe tbody tr th:only-of-type {\n",
       "        vertical-align: middle;\n",
       "    }\n",
       "\n",
       "    .dataframe tbody tr th {\n",
       "        vertical-align: top;\n",
       "    }\n",
       "\n",
       "    .dataframe thead th {\n",
       "        text-align: right;\n",
       "    }\n",
       "</style>\n",
       "<table border=\"1\" class=\"dataframe\">\n",
       "  <thead>\n",
       "    <tr style=\"text-align: right;\">\n",
       "      <th></th>\n",
       "      <th>capacity_mw</th>\n",
       "      <th>latitude</th>\n",
       "      <th>longitude</th>\n",
       "    </tr>\n",
       "  </thead>\n",
       "  <tbody>\n",
       "    <tr>\n",
       "      <th>0</th>\n",
       "      <td>2.5</td>\n",
       "      <td>28.1839</td>\n",
       "      <td>0.232163</td>\n",
       "    </tr>\n",
       "    <tr>\n",
       "      <th>1</th>\n",
       "      <td>98.0</td>\n",
       "      <td>24.7663</td>\n",
       "      <td>0.231183</td>\n",
       "    </tr>\n",
       "    <tr>\n",
       "      <th>2</th>\n",
       "      <td>39.2</td>\n",
       "      <td>21.9038</td>\n",
       "      <td>0.235083</td>\n",
       "    </tr>\n",
       "    <tr>\n",
       "      <th>3</th>\n",
       "      <td>135.0</td>\n",
       "      <td>23.8712</td>\n",
       "      <td>0.220960</td>\n",
       "    </tr>\n",
       "    <tr>\n",
       "      <th>4</th>\n",
       "      <td>1800.0</td>\n",
       "      <td>21.9603</td>\n",
       "      <td>0.226052</td>\n",
       "    </tr>\n",
       "    <tr>\n",
       "      <th>...</th>\n",
       "      <td>...</td>\n",
       "      <td>...</td>\n",
       "      <td>...</td>\n",
       "    </tr>\n",
       "    <tr>\n",
       "      <th>903</th>\n",
       "      <td>1600.0</td>\n",
       "      <td>16.2949</td>\n",
       "      <td>0.229291</td>\n",
       "    </tr>\n",
       "    <tr>\n",
       "      <th>904</th>\n",
       "      <td>3.0</td>\n",
       "      <td>12.8932</td>\n",
       "      <td>0.228752</td>\n",
       "    </tr>\n",
       "    <tr>\n",
       "      <th>905</th>\n",
       "      <td>25.5</td>\n",
       "      <td>15.2758</td>\n",
       "      <td>0.230502</td>\n",
       "    </tr>\n",
       "    <tr>\n",
       "      <th>906</th>\n",
       "      <td>80.0</td>\n",
       "      <td>24.3500</td>\n",
       "      <td>0.231797</td>\n",
       "    </tr>\n",
       "    <tr>\n",
       "      <th>907</th>\n",
       "      <td>16.5</td>\n",
       "      <td>9.9344</td>\n",
       "      <td>0.229210</td>\n",
       "    </tr>\n",
       "  </tbody>\n",
       "</table>\n",
       "<p>851 rows × 3 columns</p>\n",
       "</div>"
      ],
      "text/plain": [
       "     capacity_mw  latitude  longitude\n",
       "0            2.5   28.1839   0.232163\n",
       "1           98.0   24.7663   0.231183\n",
       "2           39.2   21.9038   0.235083\n",
       "3          135.0   23.8712   0.220960\n",
       "4         1800.0   21.9603   0.226052\n",
       "..           ...       ...        ...\n",
       "903       1600.0   16.2949   0.229291\n",
       "904          3.0   12.8932   0.228752\n",
       "905         25.5   15.2758   0.230502\n",
       "906         80.0   24.3500   0.231797\n",
       "907         16.5    9.9344   0.229210\n",
       "\n",
       "[851 rows x 3 columns]"
      ]
     },
     "execution_count": 186,
     "metadata": {},
     "output_type": "execute_result"
    }
   ],
   "source": [
    "# Checking the new dataset\n",
    "df2"
   ]
  },
  {
   "cell_type": "code",
   "execution_count": 187,
   "id": "ce979d30",
   "metadata": {},
   "outputs": [
    {
     "name": "stdout",
     "output_type": "stream",
     "text": [
      "capacity_mw\n"
     ]
    },
    {
     "data": {
      "image/png": "[encoded data removed]",
      "text/plain": [
       "<Figure size 720x288 with 2 Axes>"
      ]
     },
     "metadata": {
      "needs_background": "light"
     },
     "output_type": "display_data"
    },
    {
     "name": "stdout",
     "output_type": "stream",
     "text": [
      "latitude\n"
     ]
    },
    {
     "data": {
      "image/png": "[encoded data removed]",
      "text/plain": [
       "<Figure size 720x288 with 2 Axes>"
      ]
     },
     "metadata": {
      "needs_background": "light"
     },
     "output_type": "display_data"
    },
    {
     "name": "stdout",
     "output_type": "stream",
     "text": [
      "longitude\n"
     ]
    },
    {
     "data": {
      "image/png": "[encoded data removed]",
      "text/plain": [
       "<Figure size 720x288 with 2 Axes>"
      ]
     },
     "metadata": {
      "needs_background": "light"
     },
     "output_type": "display_data"
    }
   ],
   "source": [
    "# Plotting Q-Q plot for showing gaussian distribution\n",
    "for i in df2.columns :\n",
    "    print(i)\n",
    "    diagnostic_plot(df2,i)"
   ]
  },
  {
   "cell_type": "markdown",
   "id": "8bb246d0",
   "metadata": {},
   "source": [
    "Data is now seem to be good fit on line implies skewness is reduced."
   ]
  },
  {
   "cell_type": "markdown",
   "id": "46e2f9db",
   "metadata": {},
   "source": [
    "### Combining numerical and categorical data for further analysis"
   ]
  },
  {
   "cell_type": "code",
   "execution_count": 188,
   "id": "afd1805d",
   "metadata": {},
   "outputs": [
    {
     "data": {
      "text/plain": [
       "capacity_mw           0\n",
       "latitude              0\n",
       "longitude             0\n",
       "primary_fuel          0\n",
       "source                0\n",
       "url                   0\n",
       "geolocation_source    0\n",
       "dtype: int64"
      ]
     },
     "execution_count": 188,
     "metadata": {},
     "output_type": "execute_result"
    }
   ],
   "source": [
    "dff=pd.concat([df2,df_cat_enc],axis=1)\n",
    "dff.dropna(inplace=True)\n",
    "dff.isnull().sum()"
   ]
  },
  {
   "cell_type": "markdown",
   "id": "b56c11e6",
   "metadata": {},
   "source": [
    "Combined all the columns and removed nulls."
   ]
  },
  {
   "cell_type": "code",
   "execution_count": 189,
   "id": "09ce434a",
   "metadata": {},
   "outputs": [
    {
     "data": {
      "text/plain": [
       "(851, 7)"
      ]
     },
     "execution_count": 189,
     "metadata": {},
     "output_type": "execute_result"
    }
   ],
   "source": [
    "# Checking shape of new dataset\n",
    "dff.shape"
   ]
  },
  {
   "cell_type": "code",
   "execution_count": 190,
   "id": "ad12833f",
   "metadata": {},
   "outputs": [
    {
     "data": {
      "text/html": [
       "<div>\n",
       "<style scoped>\n",
       "    .dataframe tbody tr th:only-of-type {\n",
       "        vertical-align: middle;\n",
       "    }\n",
       "\n",
       "    .dataframe tbody tr th {\n",
       "        vertical-align: top;\n",
       "    }\n",
       "\n",
       "    .dataframe thead th {\n",
       "        text-align: right;\n",
       "    }\n",
       "</style>\n",
       "<table border=\"1\" class=\"dataframe\">\n",
       "  <thead>\n",
       "    <tr style=\"text-align: right;\">\n",
       "      <th></th>\n",
       "      <th>capacity_mw</th>\n",
       "      <th>latitude</th>\n",
       "      <th>longitude</th>\n",
       "      <th>primary_fuel</th>\n",
       "      <th>source</th>\n",
       "      <th>url</th>\n",
       "      <th>geolocation_source</th>\n",
       "    </tr>\n",
       "  </thead>\n",
       "  <tbody>\n",
       "    <tr>\n",
       "      <th>0</th>\n",
       "      <td>2.5</td>\n",
       "      <td>28.1839</td>\n",
       "      <td>0.232163</td>\n",
       "      <td>6</td>\n",
       "      <td>109</td>\n",
       "      <td>126</td>\n",
       "      <td>1</td>\n",
       "    </tr>\n",
       "    <tr>\n",
       "      <th>1</th>\n",
       "      <td>98.0</td>\n",
       "      <td>24.7663</td>\n",
       "      <td>0.231183</td>\n",
       "      <td>1</td>\n",
       "      <td>174</td>\n",
       "      <td>169</td>\n",
       "      <td>2</td>\n",
       "    </tr>\n",
       "    <tr>\n",
       "      <th>2</th>\n",
       "      <td>39.2</td>\n",
       "      <td>21.9038</td>\n",
       "      <td>0.235083</td>\n",
       "      <td>7</td>\n",
       "      <td>21</td>\n",
       "      <td>196</td>\n",
       "      <td>2</td>\n",
       "    </tr>\n",
       "    <tr>\n",
       "      <th>3</th>\n",
       "      <td>135.0</td>\n",
       "      <td>23.8712</td>\n",
       "      <td>0.220960</td>\n",
       "      <td>2</td>\n",
       "      <td>22</td>\n",
       "      <td>58</td>\n",
       "      <td>2</td>\n",
       "    </tr>\n",
       "    <tr>\n",
       "      <th>4</th>\n",
       "      <td>1800.0</td>\n",
       "      <td>21.9603</td>\n",
       "      <td>0.226052</td>\n",
       "      <td>1</td>\n",
       "      <td>22</td>\n",
       "      <td>58</td>\n",
       "      <td>2</td>\n",
       "    </tr>\n",
       "    <tr>\n",
       "      <th>...</th>\n",
       "      <td>...</td>\n",
       "      <td>...</td>\n",
       "      <td>...</td>\n",
       "      <td>...</td>\n",
       "      <td>...</td>\n",
       "      <td>...</td>\n",
       "      <td>...</td>\n",
       "    </tr>\n",
       "    <tr>\n",
       "      <th>903</th>\n",
       "      <td>1600.0</td>\n",
       "      <td>16.2949</td>\n",
       "      <td>0.229291</td>\n",
       "      <td>1</td>\n",
       "      <td>22</td>\n",
       "      <td>58</td>\n",
       "      <td>2</td>\n",
       "    </tr>\n",
       "    <tr>\n",
       "      <th>904</th>\n",
       "      <td>3.0</td>\n",
       "      <td>12.8932</td>\n",
       "      <td>0.228752</td>\n",
       "      <td>6</td>\n",
       "      <td>77</td>\n",
       "      <td>22</td>\n",
       "      <td>0</td>\n",
       "    </tr>\n",
       "    <tr>\n",
       "      <th>905</th>\n",
       "      <td>25.5</td>\n",
       "      <td>15.2758</td>\n",
       "      <td>0.230502</td>\n",
       "      <td>7</td>\n",
       "      <td>21</td>\n",
       "      <td>246</td>\n",
       "      <td>2</td>\n",
       "    </tr>\n",
       "    <tr>\n",
       "      <th>906</th>\n",
       "      <td>80.0</td>\n",
       "      <td>24.3500</td>\n",
       "      <td>0.231797</td>\n",
       "      <td>1</td>\n",
       "      <td>59</td>\n",
       "      <td>82</td>\n",
       "      <td>2</td>\n",
       "    </tr>\n",
       "    <tr>\n",
       "      <th>907</th>\n",
       "      <td>16.5</td>\n",
       "      <td>9.9344</td>\n",
       "      <td>0.229210</td>\n",
       "      <td>7</td>\n",
       "      <td>21</td>\n",
       "      <td>234</td>\n",
       "      <td>2</td>\n",
       "    </tr>\n",
       "  </tbody>\n",
       "</table>\n",
       "<p>851 rows × 7 columns</p>\n",
       "</div>"
      ],
      "text/plain": [
       "     capacity_mw  latitude  longitude  primary_fuel  source  url  \\\n",
       "0            2.5   28.1839   0.232163             6     109  126   \n",
       "1           98.0   24.7663   0.231183             1     174  169   \n",
       "2           39.2   21.9038   0.235083             7      21  196   \n",
       "3          135.0   23.8712   0.220960             2      22   58   \n",
       "4         1800.0   21.9603   0.226052             1      22   58   \n",
       "..           ...       ...        ...           ...     ...  ...   \n",
       "903       1600.0   16.2949   0.229291             1      22   58   \n",
       "904          3.0   12.8932   0.228752             6      77   22   \n",
       "905         25.5   15.2758   0.230502             7      21  246   \n",
       "906         80.0   24.3500   0.231797             1      59   82   \n",
       "907         16.5    9.9344   0.229210             7      21  234   \n",
       "\n",
       "     geolocation_source  \n",
       "0                     1  \n",
       "1                     2  \n",
       "2                     2  \n",
       "3                     2  \n",
       "4                     2  \n",
       "..                  ...  \n",
       "903                   2  \n",
       "904                   0  \n",
       "905                   2  \n",
       "906                   2  \n",
       "907                   2  \n",
       "\n",
       "[851 rows x 7 columns]"
      ]
     },
     "execution_count": 190,
     "metadata": {},
     "output_type": "execute_result"
    }
   ],
   "source": [
    "# Checking the dataset\n",
    "dff"
   ]
  },
  {
   "cell_type": "code",
   "execution_count": 191,
   "id": "84b854e0",
   "metadata": {},
   "outputs": [
    {
     "data": {
      "text/html": [
       "<div>\n",
       "<style scoped>\n",
       "    .dataframe tbody tr th:only-of-type {\n",
       "        vertical-align: middle;\n",
       "    }\n",
       "\n",
       "    .dataframe tbody tr th {\n",
       "        vertical-align: top;\n",
       "    }\n",
       "\n",
       "    .dataframe thead th {\n",
       "        text-align: right;\n",
       "    }\n",
       "</style>\n",
       "<table border=\"1\" class=\"dataframe\">\n",
       "  <thead>\n",
       "    <tr style=\"text-align: right;\">\n",
       "      <th></th>\n",
       "      <th>capacity_mw</th>\n",
       "      <th>latitude</th>\n",
       "      <th>longitude</th>\n",
       "      <th>primary_fuel</th>\n",
       "      <th>source</th>\n",
       "      <th>url</th>\n",
       "      <th>geolocation_source</th>\n",
       "    </tr>\n",
       "  </thead>\n",
       "  <tbody>\n",
       "    <tr>\n",
       "      <th>capacity_mw</th>\n",
       "      <td>1.000000</td>\n",
       "      <td>0.047322</td>\n",
       "      <td>-0.255447</td>\n",
       "      <td>-0.394479</td>\n",
       "      <td>-0.280028</td>\n",
       "      <td>-0.265562</td>\n",
       "      <td>0.241026</td>\n",
       "    </tr>\n",
       "    <tr>\n",
       "      <th>latitude</th>\n",
       "      <td>0.047322</td>\n",
       "      <td>1.000000</td>\n",
       "      <td>0.024129</td>\n",
       "      <td>-0.006380</td>\n",
       "      <td>0.066578</td>\n",
       "      <td>-0.129405</td>\n",
       "      <td>-0.197382</td>\n",
       "    </tr>\n",
       "    <tr>\n",
       "      <th>longitude</th>\n",
       "      <td>-0.255447</td>\n",
       "      <td>0.024129</td>\n",
       "      <td>1.000000</td>\n",
       "      <td>0.396284</td>\n",
       "      <td>0.243101</td>\n",
       "      <td>0.327588</td>\n",
       "      <td>-0.276172</td>\n",
       "    </tr>\n",
       "    <tr>\n",
       "      <th>primary_fuel</th>\n",
       "      <td>-0.394479</td>\n",
       "      <td>-0.006380</td>\n",
       "      <td>0.396284</td>\n",
       "      <td>1.000000</td>\n",
       "      <td>0.049261</td>\n",
       "      <td>0.561920</td>\n",
       "      <td>-0.506866</td>\n",
       "    </tr>\n",
       "    <tr>\n",
       "      <th>source</th>\n",
       "      <td>-0.280028</td>\n",
       "      <td>0.066578</td>\n",
       "      <td>0.243101</td>\n",
       "      <td>0.049261</td>\n",
       "      <td>1.000000</td>\n",
       "      <td>0.177789</td>\n",
       "      <td>-0.503515</td>\n",
       "    </tr>\n",
       "    <tr>\n",
       "      <th>url</th>\n",
       "      <td>-0.265562</td>\n",
       "      <td>-0.129405</td>\n",
       "      <td>0.327588</td>\n",
       "      <td>0.561920</td>\n",
       "      <td>0.177789</td>\n",
       "      <td>1.000000</td>\n",
       "      <td>-0.026717</td>\n",
       "    </tr>\n",
       "    <tr>\n",
       "      <th>geolocation_source</th>\n",
       "      <td>0.241026</td>\n",
       "      <td>-0.197382</td>\n",
       "      <td>-0.276172</td>\n",
       "      <td>-0.506866</td>\n",
       "      <td>-0.503515</td>\n",
       "      <td>-0.026717</td>\n",
       "      <td>1.000000</td>\n",
       "    </tr>\n",
       "  </tbody>\n",
       "</table>\n",
       "</div>"
      ],
      "text/plain": [
       "                    capacity_mw  latitude  longitude  primary_fuel    source  \\\n",
       "capacity_mw            1.000000  0.047322  -0.255447     -0.394479 -0.280028   \n",
       "latitude               0.047322  1.000000   0.024129     -0.006380  0.066578   \n",
       "longitude             -0.255447  0.024129   1.000000      0.396284  0.243101   \n",
       "primary_fuel          -0.394479 -0.006380   0.396284      1.000000  0.049261   \n",
       "source                -0.280028  0.066578   0.243101      0.049261  1.000000   \n",
       "url                   -0.265562 -0.129405   0.327588      0.561920  0.177789   \n",
       "geolocation_source     0.241026 -0.197382  -0.276172     -0.506866 -0.503515   \n",
       "\n",
       "                         url  geolocation_source  \n",
       "capacity_mw        -0.265562            0.241026  \n",
       "latitude           -0.129405           -0.197382  \n",
       "longitude           0.327588           -0.276172  \n",
       "primary_fuel        0.561920           -0.506866  \n",
       "source              0.177789           -0.503515  \n",
       "url                 1.000000           -0.026717  \n",
       "geolocation_source -0.026717            1.000000  "
      ]
     },
     "execution_count": 191,
     "metadata": {},
     "output_type": "execute_result"
    }
   ],
   "source": [
    "# Checking correlation\n",
    "dff.corr()"
   ]
  },
  {
   "cell_type": "code",
   "execution_count": 192,
   "id": "5c9d1386",
   "metadata": {},
   "outputs": [
    {
     "data": {
      "text/plain": [
       "<AxesSubplot:>"
      ]
     },
     "execution_count": 192,
     "metadata": {},
     "output_type": "execute_result"
    },
    {
     "data": {
      "image/png": "[encoded data removed]",
      "text/plain": [
       "<Figure size 720x216 with 2 Axes>"
      ]
     },
     "metadata": {
      "needs_background": "light"
     },
     "output_type": "display_data"
    }
   ],
   "source": [
    "# Visualizing correlation\n",
    "plt.figure(figsize=(10,3))\n",
    "sns.heatmap(dff.corr(),annot=True,linewidths=0.5,linecolor='b',fmt='.2f')"
   ]
  },
  {
   "cell_type": "markdown",
   "id": "ae1a2596",
   "metadata": {},
   "source": [
    "Columns longitude,primary_fuel,source,url has a good negative linear correlation with Target:capacity_mw and column geolocation_source has good positive linear correlation with the target column and latitude is least correlated with the target. primary_fuel,source,url,geolocation_source has good correlation with longitude. url,geolocation_source has good correlation with primary fuel. geolocation_source and source are strongly negatively correlated."
   ]
  },
  {
   "cell_type": "markdown",
   "id": "1bbe566b",
   "metadata": {},
   "source": [
    "### Dividing dataset in x and y"
   ]
  },
  {
   "cell_type": "code",
   "execution_count": 193,
   "id": "e151d74b",
   "metadata": {},
   "outputs": [
    {
     "data": {
      "text/html": [
       "<div>\n",
       "<style scoped>\n",
       "    .dataframe tbody tr th:only-of-type {\n",
       "        vertical-align: middle;\n",
       "    }\n",
       "\n",
       "    .dataframe tbody tr th {\n",
       "        vertical-align: top;\n",
       "    }\n",
       "\n",
       "    .dataframe thead th {\n",
       "        text-align: right;\n",
       "    }\n",
       "</style>\n",
       "<table border=\"1\" class=\"dataframe\">\n",
       "  <thead>\n",
       "    <tr style=\"text-align: right;\">\n",
       "      <th></th>\n",
       "      <th>capacity_mw</th>\n",
       "      <th>latitude</th>\n",
       "      <th>longitude</th>\n",
       "      <th>source</th>\n",
       "      <th>url</th>\n",
       "      <th>geolocation_source</th>\n",
       "    </tr>\n",
       "  </thead>\n",
       "  <tbody>\n",
       "    <tr>\n",
       "      <th>0</th>\n",
       "      <td>2.5</td>\n",
       "      <td>28.1839</td>\n",
       "      <td>0.232163</td>\n",
       "      <td>109</td>\n",
       "      <td>126</td>\n",
       "      <td>1</td>\n",
       "    </tr>\n",
       "    <tr>\n",
       "      <th>1</th>\n",
       "      <td>98.0</td>\n",
       "      <td>24.7663</td>\n",
       "      <td>0.231183</td>\n",
       "      <td>174</td>\n",
       "      <td>169</td>\n",
       "      <td>2</td>\n",
       "    </tr>\n",
       "    <tr>\n",
       "      <th>2</th>\n",
       "      <td>39.2</td>\n",
       "      <td>21.9038</td>\n",
       "      <td>0.235083</td>\n",
       "      <td>21</td>\n",
       "      <td>196</td>\n",
       "      <td>2</td>\n",
       "    </tr>\n",
       "    <tr>\n",
       "      <th>3</th>\n",
       "      <td>135.0</td>\n",
       "      <td>23.8712</td>\n",
       "      <td>0.220960</td>\n",
       "      <td>22</td>\n",
       "      <td>58</td>\n",
       "      <td>2</td>\n",
       "    </tr>\n",
       "    <tr>\n",
       "      <th>4</th>\n",
       "      <td>1800.0</td>\n",
       "      <td>21.9603</td>\n",
       "      <td>0.226052</td>\n",
       "      <td>22</td>\n",
       "      <td>58</td>\n",
       "      <td>2</td>\n",
       "    </tr>\n",
       "    <tr>\n",
       "      <th>...</th>\n",
       "      <td>...</td>\n",
       "      <td>...</td>\n",
       "      <td>...</td>\n",
       "      <td>...</td>\n",
       "      <td>...</td>\n",
       "      <td>...</td>\n",
       "    </tr>\n",
       "    <tr>\n",
       "      <th>903</th>\n",
       "      <td>1600.0</td>\n",
       "      <td>16.2949</td>\n",
       "      <td>0.229291</td>\n",
       "      <td>22</td>\n",
       "      <td>58</td>\n",
       "      <td>2</td>\n",
       "    </tr>\n",
       "    <tr>\n",
       "      <th>904</th>\n",
       "      <td>3.0</td>\n",
       "      <td>12.8932</td>\n",
       "      <td>0.228752</td>\n",
       "      <td>77</td>\n",
       "      <td>22</td>\n",
       "      <td>0</td>\n",
       "    </tr>\n",
       "    <tr>\n",
       "      <th>905</th>\n",
       "      <td>25.5</td>\n",
       "      <td>15.2758</td>\n",
       "      <td>0.230502</td>\n",
       "      <td>21</td>\n",
       "      <td>246</td>\n",
       "      <td>2</td>\n",
       "    </tr>\n",
       "    <tr>\n",
       "      <th>906</th>\n",
       "      <td>80.0</td>\n",
       "      <td>24.3500</td>\n",
       "      <td>0.231797</td>\n",
       "      <td>59</td>\n",
       "      <td>82</td>\n",
       "      <td>2</td>\n",
       "    </tr>\n",
       "    <tr>\n",
       "      <th>907</th>\n",
       "      <td>16.5</td>\n",
       "      <td>9.9344</td>\n",
       "      <td>0.229210</td>\n",
       "      <td>21</td>\n",
       "      <td>234</td>\n",
       "      <td>2</td>\n",
       "    </tr>\n",
       "  </tbody>\n",
       "</table>\n",
       "<p>851 rows × 6 columns</p>\n",
       "</div>"
      ],
      "text/plain": [
       "     capacity_mw  latitude  longitude  source  url  geolocation_source\n",
       "0            2.5   28.1839   0.232163     109  126                   1\n",
       "1           98.0   24.7663   0.231183     174  169                   2\n",
       "2           39.2   21.9038   0.235083      21  196                   2\n",
       "3          135.0   23.8712   0.220960      22   58                   2\n",
       "4         1800.0   21.9603   0.226052      22   58                   2\n",
       "..           ...       ...        ...     ...  ...                 ...\n",
       "903       1600.0   16.2949   0.229291      22   58                   2\n",
       "904          3.0   12.8932   0.228752      77   22                   0\n",
       "905         25.5   15.2758   0.230502      21  246                   2\n",
       "906         80.0   24.3500   0.231797      59   82                   2\n",
       "907         16.5    9.9344   0.229210      21  234                   2\n",
       "\n",
       "[851 rows x 6 columns]"
      ]
     },
     "execution_count": 193,
     "metadata": {},
     "output_type": "execute_result"
    }
   ],
   "source": [
    "x=dff.drop(['primary_fuel'],axis=1)\n",
    "x"
   ]
  },
  {
   "cell_type": "code",
   "execution_count": 194,
   "id": "4d43cc76",
   "metadata": {},
   "outputs": [
    {
     "data": {
      "text/plain": [
       "0      6\n",
       "1      1\n",
       "2      7\n",
       "3      2\n",
       "4      1\n",
       "      ..\n",
       "903    1\n",
       "904    6\n",
       "905    7\n",
       "906    1\n",
       "907    7\n",
       "Name: primary_fuel, Length: 851, dtype: int32"
      ]
     },
     "execution_count": 194,
     "metadata": {},
     "output_type": "execute_result"
    }
   ],
   "source": [
    "y=dff['primary_fuel']\n",
    "y"
   ]
  },
  {
   "cell_type": "code",
   "execution_count": 195,
   "id": "dbb2b31f",
   "metadata": {},
   "outputs": [
    {
     "name": "stdout",
     "output_type": "stream",
     "text": [
      "Orginal dataset shape:  (851, 7)\n",
      "Shape of data in x :  (851, 6)\n",
      "Shape of data in x :  (851,)\n"
     ]
    }
   ],
   "source": [
    "print('Orginal dataset shape: ',dff.shape)\n",
    "print('Shape of data in x : ',x.shape)\n",
    "print('Shape of data in x : ',y.shape)"
   ]
  },
  {
   "cell_type": "markdown",
   "id": "3d943930",
   "metadata": {},
   "source": [
    "### Multicollinearity with VIF"
   ]
  },
  {
   "cell_type": "code",
   "execution_count": 196,
   "id": "d1257128",
   "metadata": {},
   "outputs": [
    {
     "data": {
      "text/html": [
       "<div>\n",
       "<style scoped>\n",
       "    .dataframe tbody tr th:only-of-type {\n",
       "        vertical-align: middle;\n",
       "    }\n",
       "\n",
       "    .dataframe tbody tr th {\n",
       "        vertical-align: top;\n",
       "    }\n",
       "\n",
       "    .dataframe thead th {\n",
       "        text-align: right;\n",
       "    }\n",
       "</style>\n",
       "<table border=\"1\" class=\"dataframe\">\n",
       "  <thead>\n",
       "    <tr style=\"text-align: right;\">\n",
       "      <th></th>\n",
       "      <th>Variables</th>\n",
       "      <th>VIF Factors</th>\n",
       "    </tr>\n",
       "  </thead>\n",
       "  <tbody>\n",
       "    <tr>\n",
       "      <th>0</th>\n",
       "      <td>capacity_mw</td>\n",
       "      <td>1.648435</td>\n",
       "    </tr>\n",
       "    <tr>\n",
       "      <th>1</th>\n",
       "      <td>latitude</td>\n",
       "      <td>13.333527</td>\n",
       "    </tr>\n",
       "    <tr>\n",
       "      <th>2</th>\n",
       "      <td>longitude</td>\n",
       "      <td>32.809038</td>\n",
       "    </tr>\n",
       "    <tr>\n",
       "      <th>3</th>\n",
       "      <td>source</td>\n",
       "      <td>2.804911</td>\n",
       "    </tr>\n",
       "    <tr>\n",
       "      <th>4</th>\n",
       "      <td>url</td>\n",
       "      <td>3.316521</td>\n",
       "    </tr>\n",
       "    <tr>\n",
       "      <th>5</th>\n",
       "      <td>geolocation_source</td>\n",
       "      <td>9.999978</td>\n",
       "    </tr>\n",
       "  </tbody>\n",
       "</table>\n",
       "</div>"
      ],
      "text/plain": [
       "            Variables  VIF Factors\n",
       "0         capacity_mw     1.648435\n",
       "1            latitude    13.333527\n",
       "2           longitude    32.809038\n",
       "3              source     2.804911\n",
       "4                 url     3.316521\n",
       "5  geolocation_source     9.999978"
      ]
     },
     "execution_count": 196,
     "metadata": {},
     "output_type": "execute_result"
    }
   ],
   "source": [
    "# Checking multicollinearity of every column\n",
    "def calc_vif(x) :\n",
    "    vif=pd.DataFrame()\n",
    "    vif['Variables'] = x.columns\n",
    "    vif['VIF Factors']=[variance_inflation_factor(x.values,i) for i in range(x.shape[1])]\n",
    "    return vif\n",
    "\n",
    "calc_vif(x)"
   ]
  },
  {
   "cell_type": "markdown",
   "id": "21aaa8c7",
   "metadata": {},
   "source": [
    "Collinearity in data seems fine after removing highly multicollinear column."
   ]
  },
  {
   "cell_type": "markdown",
   "id": "6bcf3452",
   "metadata": {},
   "source": [
    "### Scaling : Standard Scaler / Min-Max Scaler"
   ]
  },
  {
   "cell_type": "code",
   "execution_count": 197,
   "id": "56b7ecdf",
   "metadata": {},
   "outputs": [
    {
     "data": {
      "text/html": [
       "<div>\n",
       "<style scoped>\n",
       "    .dataframe tbody tr th:only-of-type {\n",
       "        vertical-align: middle;\n",
       "    }\n",
       "\n",
       "    .dataframe tbody tr th {\n",
       "        vertical-align: top;\n",
       "    }\n",
       "\n",
       "    .dataframe thead th {\n",
       "        text-align: right;\n",
       "    }\n",
       "</style>\n",
       "<table border=\"1\" class=\"dataframe\">\n",
       "  <thead>\n",
       "    <tr style=\"text-align: right;\">\n",
       "      <th></th>\n",
       "      <th>0</th>\n",
       "      <th>1</th>\n",
       "      <th>2</th>\n",
       "      <th>3</th>\n",
       "      <th>4</th>\n",
       "      <th>5</th>\n",
       "    </tr>\n",
       "  </thead>\n",
       "  <tbody>\n",
       "    <tr>\n",
       "      <th>0</th>\n",
       "      <td>-0.632219</td>\n",
       "      <td>1.134258</td>\n",
       "      <td>0.898422</td>\n",
       "      <td>1.412501</td>\n",
       "      <td>0.527341</td>\n",
       "      <td>-1.036523</td>\n",
       "    </tr>\n",
       "    <tr>\n",
       "      <th>1</th>\n",
       "      <td>-0.411183</td>\n",
       "      <td>0.585190</td>\n",
       "      <td>0.557414</td>\n",
       "      <td>2.842399</td>\n",
       "      <td>1.182587</td>\n",
       "      <td>0.407145</td>\n",
       "    </tr>\n",
       "    <tr>\n",
       "      <th>2</th>\n",
       "      <td>-0.547277</td>\n",
       "      <td>0.125305</td>\n",
       "      <td>1.914242</td>\n",
       "      <td>-0.523361</td>\n",
       "      <td>1.594021</td>\n",
       "      <td>0.407145</td>\n",
       "    </tr>\n",
       "    <tr>\n",
       "      <th>3</th>\n",
       "      <td>-0.325546</td>\n",
       "      <td>0.441385</td>\n",
       "      <td>-2.998985</td>\n",
       "      <td>-0.501363</td>\n",
       "      <td>-0.508862</td>\n",
       "      <td>0.407145</td>\n",
       "    </tr>\n",
       "    <tr>\n",
       "      <th>4</th>\n",
       "      <td>3.528120</td>\n",
       "      <td>0.134382</td>\n",
       "      <td>-1.227612</td>\n",
       "      <td>-0.501363</td>\n",
       "      <td>-0.508862</td>\n",
       "      <td>0.407145</td>\n",
       "    </tr>\n",
       "    <tr>\n",
       "      <th>...</th>\n",
       "      <td>...</td>\n",
       "      <td>...</td>\n",
       "      <td>...</td>\n",
       "      <td>...</td>\n",
       "      <td>...</td>\n",
       "      <td>...</td>\n",
       "    </tr>\n",
       "    <tr>\n",
       "      <th>846</th>\n",
       "      <td>3.065217</td>\n",
       "      <td>-0.775815</td>\n",
       "      <td>-0.100891</td>\n",
       "      <td>-0.501363</td>\n",
       "      <td>-0.508862</td>\n",
       "      <td>0.407145</td>\n",
       "    </tr>\n",
       "    <tr>\n",
       "      <th>847</th>\n",
       "      <td>-0.631062</td>\n",
       "      <td>-1.322328</td>\n",
       "      <td>-0.288229</td>\n",
       "      <td>0.708551</td>\n",
       "      <td>-1.057440</td>\n",
       "      <td>-2.480190</td>\n",
       "    </tr>\n",
       "    <tr>\n",
       "      <th>848</th>\n",
       "      <td>-0.578985</td>\n",
       "      <td>-0.939542</td>\n",
       "      <td>0.320583</td>\n",
       "      <td>-0.523361</td>\n",
       "      <td>2.355935</td>\n",
       "      <td>0.407145</td>\n",
       "    </tr>\n",
       "    <tr>\n",
       "      <th>849</th>\n",
       "      <td>-0.452844</td>\n",
       "      <td>0.518308</td>\n",
       "      <td>0.771003</td>\n",
       "      <td>0.312579</td>\n",
       "      <td>-0.143143</td>\n",
       "      <td>0.407145</td>\n",
       "    </tr>\n",
       "    <tr>\n",
       "      <th>850</th>\n",
       "      <td>-0.599816</td>\n",
       "      <td>-1.797685</td>\n",
       "      <td>-0.128871</td>\n",
       "      <td>-0.523361</td>\n",
       "      <td>2.173075</td>\n",
       "      <td>0.407145</td>\n",
       "    </tr>\n",
       "  </tbody>\n",
       "</table>\n",
       "<p>851 rows × 6 columns</p>\n",
       "</div>"
      ],
      "text/plain": [
       "            0         1         2         3         4         5\n",
       "0   -0.632219  1.134258  0.898422  1.412501  0.527341 -1.036523\n",
       "1   -0.411183  0.585190  0.557414  2.842399  1.182587  0.407145\n",
       "2   -0.547277  0.125305  1.914242 -0.523361  1.594021  0.407145\n",
       "3   -0.325546  0.441385 -2.998985 -0.501363 -0.508862  0.407145\n",
       "4    3.528120  0.134382 -1.227612 -0.501363 -0.508862  0.407145\n",
       "..        ...       ...       ...       ...       ...       ...\n",
       "846  3.065217 -0.775815 -0.100891 -0.501363 -0.508862  0.407145\n",
       "847 -0.631062 -1.322328 -0.288229  0.708551 -1.057440 -2.480190\n",
       "848 -0.578985 -0.939542  0.320583 -0.523361  2.355935  0.407145\n",
       "849 -0.452844  0.518308  0.771003  0.312579 -0.143143  0.407145\n",
       "850 -0.599816 -1.797685 -0.128871 -0.523361  2.173075  0.407145\n",
       "\n",
       "[851 rows x 6 columns]"
      ]
     },
     "execution_count": 197,
     "metadata": {},
     "output_type": "execute_result"
    }
   ],
   "source": [
    "# Performing Normalization\n",
    "from sklearn.preprocessing import StandardScaler\n",
    "sc=StandardScaler()\n",
    "x2=sc.fit_transform(x)\n",
    "x2=pd.DataFrame(x2)\n",
    "x2"
   ]
  },
  {
   "cell_type": "markdown",
   "id": "6023b4e6",
   "metadata": {},
   "source": [
    "Scaling is done and difference between the low and high values has been minimized."
   ]
  },
  {
   "cell_type": "markdown",
   "id": "d2692d55",
   "metadata": {},
   "source": [
    "### Find best random state for Train-Test Split"
   ]
  },
  {
   "cell_type": "code",
   "execution_count": 198,
   "id": "54d80e44",
   "metadata": {},
   "outputs": [],
   "source": [
    "#Importing required libraries\n",
    "from sklearn.tree import DecisionTreeClassifier\n",
    "from sklearn.neighbors import KNeighborsClassifier\n",
    "from sklearn.svm import SVC\n",
    "from sklearn.ensemble import RandomForestClassifier\n",
    "from sklearn.ensemble import AdaBoostClassifier\n",
    "\n",
    "from sklearn.model_selection import train_test_split\n",
    "from sklearn.metrics import accuracy_score, confusion_matrix, classification_report\n",
    "from sklearn.metrics import mean_absolute_error"
   ]
  },
  {
   "cell_type": "code",
   "execution_count": 199,
   "id": "4cc06963",
   "metadata": {},
   "outputs": [
    {
     "name": "stdout",
     "output_type": "stream",
     "text": [
      "Final Best random state :  55  Accuracy(Training) :  83.36134453781513  Accuracy(Testing) :  82.8125\n"
     ]
    }
   ],
   "source": [
    "#Finding out the best random state\n",
    "\n",
    "maxAcc=0\n",
    "rs=0\n",
    "for i in range(0,100) :\n",
    "    x_train,x_test,y_train,y_test=train_test_split(x2,y,test_size=0.3,random_state=i)\n",
    "    \n",
    "    knn=KNeighborsClassifier()\n",
    "    knn.fit(x_train,y_train)\n",
    "    predtrain=knn.predict(x_train)\n",
    "    predtest=knn.predict(x_test)\n",
    "    acctrain=accuracy_score(y_train,predtrain)\n",
    "    acctest=accuracy_score(y_test,predtest)\n",
    "    if round(acctrain,2)==round(acctest,2) :\n",
    "        print('Best random state : ',i,' Accuracy(Training) : ',acctrain*100,' Accuracy(Testing) : ',acctest*100)\n",
    "        \n",
    "    if acctest>maxAcc :\n",
    "        maxAcc=acctest\n",
    "        rs=i      \n",
    "print('Final Best random state : ',rs,' Accuracy(Training) : ',acctrain*100,' Accuracy(Testing) : ',maxAcc*100)"
   ]
  },
  {
   "cell_type": "markdown",
   "id": "082eb6bd",
   "metadata": {},
   "source": [
    "Here, training & testing accuracies are good for random state=55. So, lets take 55 as our best random state."
   ]
  },
  {
   "cell_type": "code",
   "execution_count": 202,
   "id": "c6636f99",
   "metadata": {},
   "outputs": [
    {
     "name": "stdout",
     "output_type": "stream",
     "text": [
      "(680, 6)\n",
      "(171, 6)\n",
      "(680,)\n",
      "(171,)\n"
     ]
    }
   ],
   "source": [
    "# train-test split with best randon state and finding the train and test set shape after splittng\n",
    "x_train,x_test,y_train,y_test=train_test_split(x2,y,test_size=0.2,random_state=55)\n",
    "print(x_train.shape)\n",
    "print(x_test.shape)\n",
    "print(y_train.shape)\n",
    "print(y_test.shape)"
   ]
  },
  {
   "cell_type": "code",
   "execution_count": 203,
   "id": "fd0ed822",
   "metadata": {},
   "outputs": [
    {
     "data": {
      "text/plain": [
       "3    200\n",
       "1    189\n",
       "6     90\n",
       "7     79\n",
       "2     56\n",
       "0     42\n",
       "5     15\n",
       "4      9\n",
       "Name: primary_fuel, dtype: int64"
      ]
     },
     "execution_count": 203,
     "metadata": {},
     "output_type": "execute_result"
    }
   ],
   "source": [
    "# Checking value counts in target column\n",
    "y_train.value_counts()"
   ]
  },
  {
   "cell_type": "markdown",
   "id": "9156d3ce",
   "metadata": {},
   "source": [
    "Class imbalance issue exists, hence need to resample the training data set."
   ]
  },
  {
   "cell_type": "markdown",
   "id": "9cdf4ef6",
   "metadata": {},
   "source": [
    "### Class Imbalance"
   ]
  },
  {
   "cell_type": "code",
   "execution_count": 204,
   "id": "32b2d178",
   "metadata": {},
   "outputs": [],
   "source": [
    "from imblearn.over_sampling import SMOTE\n",
    "sm=SMOTE()\n",
    "trainx,trainy=sm.fit_resample(x_train,y_train)"
   ]
  },
  {
   "cell_type": "markdown",
   "id": "f22b0ed4",
   "metadata": {},
   "source": [
    "Resampling is done on training dataset as samplng on whole dataset will create unnecessary testing and validation sets which will give misleading results."
   ]
  },
  {
   "cell_type": "code",
   "execution_count": 205,
   "id": "65b7cb16",
   "metadata": {},
   "outputs": [
    {
     "data": {
      "text/plain": [
       "0    200\n",
       "1    200\n",
       "2    200\n",
       "3    200\n",
       "4    200\n",
       "5    200\n",
       "6    200\n",
       "7    200\n",
       "Name: primary_fuel, dtype: int64"
      ]
     },
     "execution_count": 205,
     "metadata": {},
     "output_type": "execute_result"
    }
   ],
   "source": [
    "trainy.value_counts()"
   ]
  },
  {
   "cell_type": "markdown",
   "id": "dac7a549",
   "metadata": {},
   "source": [
    "Classes are now balanced."
   ]
  },
  {
   "cell_type": "markdown",
   "id": "a57d7764",
   "metadata": {},
   "source": [
    "### Finding the best algorithm"
   ]
  },
  {
   "cell_type": "code",
   "execution_count": 206,
   "id": "dcf439ab",
   "metadata": {},
   "outputs": [],
   "source": [
    "# Making instance of classifiers\n",
    "dtc=DecisionTreeClassifier()\n",
    "knn=KNeighborsClassifier()\n",
    "svc=SVC()\n",
    "rf=RandomForestClassifier()\n",
    "ad=AdaBoostClassifier()"
   ]
  },
  {
   "cell_type": "code",
   "execution_count": 207,
   "id": "45c36129",
   "metadata": {},
   "outputs": [
    {
     "name": "stdout",
     "output_type": "stream",
     "text": [
      "DecisionTreeClassifier()\n",
      "Accuracy(Training) :  100.0  Accuracy(Test)  80.11695906432749  Mean absolute error :  0.3391812865497076\n",
      "[[ 7  1  0  0  0  0  0]\n",
      " [ 5 36  5  6  0  0  0]\n",
      " [ 1  2  4  2  0  0  0]\n",
      " [ 0  5  2 28  0  0  0]\n",
      " [ 1  0  4  0  1  0  0]\n",
      " [ 0  0  0  0  0 32  0]\n",
      " [ 0  0  0  0  0  0 29]]\n",
      "              precision    recall  f1-score   support\n",
      "\n",
      "           0       0.50      0.88      0.64         8\n",
      "           1       0.82      0.69      0.75        52\n",
      "           2       0.27      0.44      0.33         9\n",
      "           3       0.78      0.80      0.79        35\n",
      "           5       1.00      0.17      0.29         6\n",
      "           6       1.00      1.00      1.00        32\n",
      "           7       1.00      1.00      1.00        29\n",
      "\n",
      "    accuracy                           0.80       171\n",
      "   macro avg       0.77      0.71      0.68       171\n",
      "weighted avg       0.84      0.80      0.80       171\n",
      "\n",
      "\n",
      "\n",
      "KNeighborsClassifier()\n",
      "Accuracy(Training) :  82.6470588235294  Accuracy(Test)  79.53216374269006  Mean absolute error :  0.4093567251461988\n",
      "[[ 5  0  0  3  0  0  0]\n",
      " [ 2 36  3 11  0  0  0]\n",
      " [ 0  2  4  3  0  0  0]\n",
      " [ 0  4  1 30  0  0  0]\n",
      " [ 2  0  2  1  0  0  1]\n",
      " [ 0  0  0  0  0 32  0]\n",
      " [ 0  0  0  0  0  0 29]]\n",
      "              precision    recall  f1-score   support\n",
      "\n",
      "           0       0.56      0.62      0.59         8\n",
      "           1       0.86      0.69      0.77        52\n",
      "           2       0.40      0.44      0.42         9\n",
      "           3       0.62      0.86      0.72        35\n",
      "           5       0.00      0.00      0.00         6\n",
      "           6       1.00      1.00      1.00        32\n",
      "           7       0.97      1.00      0.98        29\n",
      "\n",
      "    accuracy                           0.80       171\n",
      "   macro avg       0.63      0.66      0.64       171\n",
      "weighted avg       0.79      0.80      0.78       171\n",
      "\n",
      "\n",
      "\n",
      "SVC(kernel='linear')\n",
      "Accuracy(Training) :  74.41176470588235  Accuracy(Test)  77.77777777777779  Mean absolute error :  0.4619883040935672\n",
      "[[ 5  1  0  2  0  0  0]\n",
      " [ 2 35  0 15  0  0  0]\n",
      " [ 1  1  0  7  0  0  0]\n",
      " [ 0  3  0 32  0  0  0]\n",
      " [ 4  0  0  1  0  0  1]\n",
      " [ 0  0  0  0  0 32  0]\n",
      " [ 0  0  0  0  0  0 29]]\n",
      "              precision    recall  f1-score   support\n",
      "\n",
      "           0       0.42      0.62      0.50         8\n",
      "           1       0.88      0.67      0.76        52\n",
      "           2       0.00      0.00      0.00         9\n",
      "           3       0.56      0.91      0.70        35\n",
      "           5       0.00      0.00      0.00         6\n",
      "           6       1.00      1.00      1.00        32\n",
      "           7       0.97      1.00      0.98        29\n",
      "\n",
      "    accuracy                           0.78       171\n",
      "   macro avg       0.55      0.60      0.56       171\n",
      "weighted avg       0.75      0.78      0.75       171\n",
      "\n",
      "\n",
      "\n",
      "RandomForestClassifier()\n",
      "Accuracy(Training) :  100.0  Accuracy(Test)  87.13450292397661  Mean absolute error :  0.22807017543859648\n",
      "[[ 7  1  0  0  0  0  0]\n",
      " [ 1 44  3  4  0  0  0]\n",
      " [ 1  2  3  2  1  0  0]\n",
      " [ 0  3  0 32  0  0  0]\n",
      " [ 0  0  3  1  2  0  0]\n",
      " [ 0  0  0  0  0 32  0]\n",
      " [ 0  0  0  0  0  0 29]]\n",
      "              precision    recall  f1-score   support\n",
      "\n",
      "           0       0.78      0.88      0.82         8\n",
      "           1       0.88      0.85      0.86        52\n",
      "           2       0.33      0.33      0.33         9\n",
      "           3       0.82      0.91      0.86        35\n",
      "           5       0.67      0.33      0.44         6\n",
      "           6       1.00      1.00      1.00        32\n",
      "           7       1.00      1.00      1.00        29\n",
      "\n",
      "    accuracy                           0.87       171\n",
      "   macro avg       0.78      0.76      0.76       171\n",
      "weighted avg       0.87      0.87      0.87       171\n",
      "\n",
      "\n",
      "\n"
     ]
    }
   ],
   "source": [
    "#Executing all algorithms in a single for loop\n",
    "\n",
    "algo_list=[dtc,knn,svc,rf]\n",
    "svc_kernel=['rbf','poly','linear']\n",
    "Acc=0\n",
    "kv=''\n",
    "for i in algo_list :    \n",
    "    if i==svc :\n",
    "        for j in svc_kernel :\n",
    "            svc=SVC(kernel=j)\n",
    "            svc.fit(x_train,y_train)\n",
    "            pred=svc.predict(x_test)\n",
    "            acc=accuracy_score(y_test,pred)\n",
    "            if acc>Acc :\n",
    "                Acc=acc\n",
    "                kv=j\n",
    "        svc1=SVC(kernel=j)\n",
    "        print(svc1)\n",
    "        svc1.fit(x_train,y_train)\n",
    "        predtrain=svc1.predict(x_train)\n",
    "        predtest=svc1.predict(x_test)\n",
    "        acctrain=accuracy_score(y_train,predtrain)\n",
    "        acctest=accuracy_score(y_test,predtest)\n",
    "        err=mean_absolute_error(y_test,predtest)\n",
    "    \n",
    "    else :\n",
    "        print(i)\n",
    "        i.fit(x_train,y_train)\n",
    "        predtrain=i.predict(x_train)\n",
    "        predtest=i.predict(x_test)\n",
    "        acctrain=accuracy_score(y_train,predtrain)\n",
    "        acctest=accuracy_score(y_test,predtest)\n",
    "        err=mean_absolute_error(y_test,predtest)\n",
    "    \n",
    "    print('Accuracy(Training) : ',acctrain*100,' Accuracy(Test) ',acctest*100,' Mean absolute error : ',err)\n",
    "    print(confusion_matrix(y_test,predtest))\n",
    "    print(classification_report(y_test,predtest))\n",
    "    print('\\n')"
   ]
  },
  {
   "cell_type": "markdown",
   "id": "2fe88649",
   "metadata": {},
   "source": [
    "RandomForestClassifier has the highest accuracy but let's go for cross validation for models with good accuracy score."
   ]
  },
  {
   "cell_type": "code",
   "execution_count": 208,
   "id": "1eeac8ee",
   "metadata": {},
   "outputs": [
    {
     "name": "stdout",
     "output_type": "stream",
     "text": [
      "CV mean of  DecisionTreeClassifier()  is  0.7719753086419753\n",
      "CV mean of  KNeighborsClassifier()  is  0.801111111111111\n",
      "CV mean of  SVC()  is  0.7585185185185185\n",
      "CV mean of  RandomForestClassifier()  is  0.8360493827160493\n"
     ]
    }
   ],
   "source": [
    "# Computing cross validation score of all the models used\n",
    "from sklearn.model_selection import cross_val_score\n",
    "\n",
    "for i in algo_list :\n",
    "    print('CV mean of ',i,' is ',cross_val_score(i,x2,y,cv=90,scoring='accuracy').mean())"
   ]
  },
  {
   "cell_type": "raw",
   "id": "7fa15175",
   "metadata": {},
   "source": [
    "# Finding out the difference of Accuracy and Cross validation mean of all the models used\n",
    "   Accuracy CVmean Diff\n",
    "DTC  80        77    3\n",
    "KNN  80        80    0\n",
    "SVC  78        76    2\n",
    "RFC  87        84    3"
   ]
  },
  {
   "cell_type": "markdown",
   "id": "c3429e54",
   "metadata": {},
   "source": [
    "Looking at difference of accuracy and cv mean, opting for KNeighborsClassifier as our best model with good accuracy and least cv mean."
   ]
  },
  {
   "cell_type": "markdown",
   "id": "56a12087",
   "metadata": {},
   "source": [
    "### Hyperparameter Tuning"
   ]
  },
  {
   "cell_type": "code",
   "execution_count": 216,
   "id": "bbb58cd6",
   "metadata": {},
   "outputs": [
    {
     "data": {
      "text/plain": [
       "{'algorithm': 'auto',\n",
       " 'metric': 'minkowski',\n",
       " 'n_neighbors': 5,\n",
       " 'weights': 'distance'}"
      ]
     },
     "execution_count": 216,
     "metadata": {},
     "output_type": "execute_result"
    }
   ],
   "source": [
    "# Using dfferent parameters for hyper parameter tuning on selected model for better accuracy and to avoid overfitting issues\n",
    "from sklearn.model_selection import GridSearchCV\n",
    "\n",
    "parameters = {'weights':['uniform', 'distance'],\n",
    "              'algorithm':['auto', 'ball_tree', 'kd_tree','brute'],\n",
    "              'metric':['minkowski'],\n",
    "              'n_neighbors':[2,5,10]}\n",
    "\n",
    "knn=KNeighborsClassifier()\n",
    "GCV=GridSearchCV(knn,parameters,cv=5)\n",
    "GCV.fit(x_train,y_train)\n",
    "GCV.best_params_"
   ]
  },
  {
   "cell_type": "markdown",
   "id": "b7b24624",
   "metadata": {},
   "source": [
    "Using hyper parameter tuning for better accuracy and to avoid overfitting issues with best parameters on selected model."
   ]
  },
  {
   "cell_type": "code",
   "execution_count": 221,
   "id": "9b840f8f",
   "metadata": {},
   "outputs": [
    {
     "name": "stdout",
     "output_type": "stream",
     "text": [
      "Accuracy :  0.8304093567251462  CV mean :  0.8002777777777778\n"
     ]
    }
   ],
   "source": [
    "knn=KNeighborsClassifier(algorithm='auto',metric='minkowski',weights='distance',n_neighbors=5)\n",
    "knn.fit(x_train,y_train)\n",
    "pred=knn.predict(x_test)\n",
    "acc=accuracy_score(y_test,pred)\n",
    "cv=cross_val_score(knn,x2,y,cv=100).mean()\n",
    "\n",
    "print('Accuracy : ',acc,' CV mean : ',cv)"
   ]
  },
  {
   "cell_type": "markdown",
   "id": "8c460f19",
   "metadata": {},
   "source": [
    "#### We are getting model accuracy as 83% and cv mean as approx 0.80 for the parameter set defined, this shows our model is performing good."
   ]
  },
  {
   "cell_type": "markdown",
   "id": "59fb4f76",
   "metadata": {},
   "source": [
    "### AUC-ROC Curve"
   ]
  },
  {
   "cell_type": "markdown",
   "id": "d87e10bb",
   "metadata": {},
   "source": [
    "Multiclass format is not supported by AUC-ROC curve."
   ]
  },
  {
   "cell_type": "markdown",
   "id": "543721ec",
   "metadata": {},
   "source": [
    "### Saving the model"
   ]
  },
  {
   "cell_type": "code",
   "execution_count": 226,
   "id": "d5551d6d",
   "metadata": {},
   "outputs": [],
   "source": [
    "# Saved the model in .pkl file\n",
    "import pickle\n",
    "file='global_power_classification.pkl'\n",
    "pickle.dump(knn,open(file,'wb'))"
   ]
  },
  {
   "cell_type": "markdown",
   "id": "2368e2ef",
   "metadata": {},
   "source": [
    "### Conclusion"
   ]
  },
  {
   "cell_type": "code",
   "execution_count": 227,
   "id": "bca4b612",
   "metadata": {},
   "outputs": [
    {
     "data": {
      "text/plain": [
       "0.8304093567251462"
      ]
     },
     "execution_count": 227,
     "metadata": {},
     "output_type": "execute_result"
    }
   ],
   "source": [
    "# Loading the model for checking score on actual and predicted test sets\n",
    "load_model=pickle.load(open(file,'rb'))\n",
    "result=load_model.score(x_test,y_test)\n",
    "result"
   ]
  },
  {
   "cell_type": "code",
   "execution_count": 228,
   "id": "909ce64a",
   "metadata": {},
   "outputs": [
    {
     "name": "stdout",
     "output_type": "stream",
     "text": [
      "(171, 6)\n",
      "(171,)\n"
     ]
    }
   ],
   "source": [
    "#Printing the shapes of test sets to make comparison dataframe\n",
    "print(x_test.shape)\n",
    "print(y_test.shape)"
   ]
  },
  {
   "cell_type": "code",
   "execution_count": 229,
   "id": "9bcd4eec",
   "metadata": {},
   "outputs": [
    {
     "data": {
      "text/html": [
       "<div>\n",
       "<style scoped>\n",
       "    .dataframe tbody tr th:only-of-type {\n",
       "        vertical-align: middle;\n",
       "    }\n",
       "\n",
       "    .dataframe tbody tr th {\n",
       "        vertical-align: top;\n",
       "    }\n",
       "\n",
       "    .dataframe thead th {\n",
       "        text-align: right;\n",
       "    }\n",
       "</style>\n",
       "<table border=\"1\" class=\"dataframe\">\n",
       "  <thead>\n",
       "    <tr style=\"text-align: right;\">\n",
       "      <th></th>\n",
       "      <th>Orignal</th>\n",
       "      <th>Predicted</th>\n",
       "    </tr>\n",
       "  </thead>\n",
       "  <tbody>\n",
       "    <tr>\n",
       "      <th>0</th>\n",
       "      <td>7</td>\n",
       "      <td>7</td>\n",
       "    </tr>\n",
       "    <tr>\n",
       "      <th>1</th>\n",
       "      <td>1</td>\n",
       "      <td>1</td>\n",
       "    </tr>\n",
       "    <tr>\n",
       "      <th>2</th>\n",
       "      <td>6</td>\n",
       "      <td>6</td>\n",
       "    </tr>\n",
       "    <tr>\n",
       "      <th>3</th>\n",
       "      <td>7</td>\n",
       "      <td>7</td>\n",
       "    </tr>\n",
       "    <tr>\n",
       "      <th>4</th>\n",
       "      <td>1</td>\n",
       "      <td>0</td>\n",
       "    </tr>\n",
       "    <tr>\n",
       "      <th>5</th>\n",
       "      <td>1</td>\n",
       "      <td>1</td>\n",
       "    </tr>\n",
       "    <tr>\n",
       "      <th>6</th>\n",
       "      <td>1</td>\n",
       "      <td>1</td>\n",
       "    </tr>\n",
       "    <tr>\n",
       "      <th>7</th>\n",
       "      <td>3</td>\n",
       "      <td>3</td>\n",
       "    </tr>\n",
       "    <tr>\n",
       "      <th>8</th>\n",
       "      <td>6</td>\n",
       "      <td>6</td>\n",
       "    </tr>\n",
       "    <tr>\n",
       "      <th>9</th>\n",
       "      <td>3</td>\n",
       "      <td>3</td>\n",
       "    </tr>\n",
       "    <tr>\n",
       "      <th>10</th>\n",
       "      <td>7</td>\n",
       "      <td>7</td>\n",
       "    </tr>\n",
       "    <tr>\n",
       "      <th>11</th>\n",
       "      <td>0</td>\n",
       "      <td>0</td>\n",
       "    </tr>\n",
       "    <tr>\n",
       "      <th>12</th>\n",
       "      <td>3</td>\n",
       "      <td>3</td>\n",
       "    </tr>\n",
       "    <tr>\n",
       "      <th>13</th>\n",
       "      <td>2</td>\n",
       "      <td>1</td>\n",
       "    </tr>\n",
       "    <tr>\n",
       "      <th>14</th>\n",
       "      <td>6</td>\n",
       "      <td>6</td>\n",
       "    </tr>\n",
       "    <tr>\n",
       "      <th>15</th>\n",
       "      <td>1</td>\n",
       "      <td>1</td>\n",
       "    </tr>\n",
       "    <tr>\n",
       "      <th>16</th>\n",
       "      <td>3</td>\n",
       "      <td>3</td>\n",
       "    </tr>\n",
       "    <tr>\n",
       "      <th>17</th>\n",
       "      <td>3</td>\n",
       "      <td>3</td>\n",
       "    </tr>\n",
       "    <tr>\n",
       "      <th>18</th>\n",
       "      <td>1</td>\n",
       "      <td>1</td>\n",
       "    </tr>\n",
       "    <tr>\n",
       "      <th>19</th>\n",
       "      <td>7</td>\n",
       "      <td>7</td>\n",
       "    </tr>\n",
       "    <tr>\n",
       "      <th>20</th>\n",
       "      <td>6</td>\n",
       "      <td>6</td>\n",
       "    </tr>\n",
       "    <tr>\n",
       "      <th>21</th>\n",
       "      <td>6</td>\n",
       "      <td>6</td>\n",
       "    </tr>\n",
       "    <tr>\n",
       "      <th>22</th>\n",
       "      <td>3</td>\n",
       "      <td>3</td>\n",
       "    </tr>\n",
       "    <tr>\n",
       "      <th>23</th>\n",
       "      <td>2</td>\n",
       "      <td>2</td>\n",
       "    </tr>\n",
       "    <tr>\n",
       "      <th>24</th>\n",
       "      <td>6</td>\n",
       "      <td>6</td>\n",
       "    </tr>\n",
       "    <tr>\n",
       "      <th>25</th>\n",
       "      <td>3</td>\n",
       "      <td>3</td>\n",
       "    </tr>\n",
       "    <tr>\n",
       "      <th>26</th>\n",
       "      <td>1</td>\n",
       "      <td>1</td>\n",
       "    </tr>\n",
       "    <tr>\n",
       "      <th>27</th>\n",
       "      <td>1</td>\n",
       "      <td>1</td>\n",
       "    </tr>\n",
       "    <tr>\n",
       "      <th>28</th>\n",
       "      <td>7</td>\n",
       "      <td>7</td>\n",
       "    </tr>\n",
       "    <tr>\n",
       "      <th>29</th>\n",
       "      <td>0</td>\n",
       "      <td>0</td>\n",
       "    </tr>\n",
       "  </tbody>\n",
       "</table>\n",
       "</div>"
      ],
      "text/plain": [
       "    Orignal  Predicted\n",
       "0         7          7\n",
       "1         1          1\n",
       "2         6          6\n",
       "3         7          7\n",
       "4         1          0\n",
       "5         1          1\n",
       "6         1          1\n",
       "7         3          3\n",
       "8         6          6\n",
       "9         3          3\n",
       "10        7          7\n",
       "11        0          0\n",
       "12        3          3\n",
       "13        2          1\n",
       "14        6          6\n",
       "15        1          1\n",
       "16        3          3\n",
       "17        3          3\n",
       "18        1          1\n",
       "19        7          7\n",
       "20        6          6\n",
       "21        6          6\n",
       "22        3          3\n",
       "23        2          2\n",
       "24        6          6\n",
       "25        3          3\n",
       "26        1          1\n",
       "27        1          1\n",
       "28        7          7\n",
       "29        0          0"
      ]
     },
     "execution_count": 229,
     "metadata": {},
     "output_type": "execute_result"
    }
   ],
   "source": [
    "# Comparison dataframe having Original and Predicted values\n",
    "actual=np.array(y_test)\n",
    "predicted=np.array(rf.predict(x_test))\n",
    "conclusion=pd.DataFrame({'Orignal':actual,'Predicted':predicted})\n",
    "conclusion[:30]"
   ]
  },
  {
   "cell_type": "code",
   "execution_count": null,
   "id": "28efeb5c",
   "metadata": {},
   "outputs": [],
   "source": []
  }
 ],
 "metadata": {
  "kernelspec": {
   "display_name": "Python 3",
   "language": "python",
   "name": "python3"
  },
  "language_info": {
   "codemirror_mode": {
    "name": "ipython",
    "version": 3
   },
   "file_extension": ".py",
   "mimetype": "text/x-python",
   "name": "python",
   "nbconvert_exporter": "python",
   "pygments_lexer": "ipython3",
   "version": "3.8.8"
  }
 },
 "nbformat": 4,
 "nbformat_minor": 5
}
