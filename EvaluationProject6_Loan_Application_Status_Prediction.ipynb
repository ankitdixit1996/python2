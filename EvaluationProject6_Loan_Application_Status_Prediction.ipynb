{
 "cells": [
  {
   "cell_type": "markdown",
   "id": "c8c338c4",
   "metadata": {},
   "source": [
    "# Loan Application Status Prediction"
   ]
  },
  {
   "cell_type": "markdown",
   "id": "1e954077",
   "metadata": {},
   "source": [
    "### Import Libraries"
   ]
  },
  {
   "cell_type": "code",
   "execution_count": 1,
   "id": "273ed760",
   "metadata": {},
   "outputs": [],
   "source": [
    "# Data processing packages\n",
    "import pandas as pd\n",
    "import numpy as np\n",
    "import scipy.stats as stats\n",
    "\n",
    "# Visualization packages\n",
    "import matplotlib.pyplot as plt\n",
    "import seaborn as sns\n",
    "\n",
    "# Import warnings\n",
    "import warnings\n",
    "warnings.filterwarnings('ignore')"
   ]
  },
  {
   "cell_type": "markdown",
   "id": "cc1d2188",
   "metadata": {},
   "source": [
    "### Import Dataset"
   ]
  },
  {
   "cell_type": "code",
   "execution_count": 2,
   "id": "b92bd626",
   "metadata": {},
   "outputs": [
    {
     "data": {
      "text/html": [
       "<div>\n",
       "<style scoped>\n",
       "    .dataframe tbody tr th:only-of-type {\n",
       "        vertical-align: middle;\n",
       "    }\n",
       "\n",
       "    .dataframe tbody tr th {\n",
       "        vertical-align: top;\n",
       "    }\n",
       "\n",
       "    .dataframe thead th {\n",
       "        text-align: right;\n",
       "    }\n",
       "</style>\n",
       "<table border=\"1\" class=\"dataframe\">\n",
       "  <thead>\n",
       "    <tr style=\"text-align: right;\">\n",
       "      <th></th>\n",
       "      <th>Loan_ID</th>\n",
       "      <th>Gender</th>\n",
       "      <th>Married</th>\n",
       "      <th>Dependents</th>\n",
       "      <th>Education</th>\n",
       "      <th>Self_Employed</th>\n",
       "      <th>ApplicantIncome</th>\n",
       "      <th>CoapplicantIncome</th>\n",
       "      <th>LoanAmount</th>\n",
       "      <th>Loan_Amount_Term</th>\n",
       "      <th>Credit_History</th>\n",
       "      <th>Property_Area</th>\n",
       "      <th>Loan_Status</th>\n",
       "    </tr>\n",
       "  </thead>\n",
       "  <tbody>\n",
       "    <tr>\n",
       "      <th>0</th>\n",
       "      <td>LP001002</td>\n",
       "      <td>Male</td>\n",
       "      <td>No</td>\n",
       "      <td>0</td>\n",
       "      <td>Graduate</td>\n",
       "      <td>No</td>\n",
       "      <td>5849</td>\n",
       "      <td>0.0</td>\n",
       "      <td>NaN</td>\n",
       "      <td>360.0</td>\n",
       "      <td>1.0</td>\n",
       "      <td>Urban</td>\n",
       "      <td>Y</td>\n",
       "    </tr>\n",
       "    <tr>\n",
       "      <th>1</th>\n",
       "      <td>LP001003</td>\n",
       "      <td>Male</td>\n",
       "      <td>Yes</td>\n",
       "      <td>1</td>\n",
       "      <td>Graduate</td>\n",
       "      <td>No</td>\n",
       "      <td>4583</td>\n",
       "      <td>1508.0</td>\n",
       "      <td>128.0</td>\n",
       "      <td>360.0</td>\n",
       "      <td>1.0</td>\n",
       "      <td>Rural</td>\n",
       "      <td>N</td>\n",
       "    </tr>\n",
       "    <tr>\n",
       "      <th>2</th>\n",
       "      <td>LP001005</td>\n",
       "      <td>Male</td>\n",
       "      <td>Yes</td>\n",
       "      <td>0</td>\n",
       "      <td>Graduate</td>\n",
       "      <td>Yes</td>\n",
       "      <td>3000</td>\n",
       "      <td>0.0</td>\n",
       "      <td>66.0</td>\n",
       "      <td>360.0</td>\n",
       "      <td>1.0</td>\n",
       "      <td>Urban</td>\n",
       "      <td>Y</td>\n",
       "    </tr>\n",
       "    <tr>\n",
       "      <th>3</th>\n",
       "      <td>LP001006</td>\n",
       "      <td>Male</td>\n",
       "      <td>Yes</td>\n",
       "      <td>0</td>\n",
       "      <td>Not Graduate</td>\n",
       "      <td>No</td>\n",
       "      <td>2583</td>\n",
       "      <td>2358.0</td>\n",
       "      <td>120.0</td>\n",
       "      <td>360.0</td>\n",
       "      <td>1.0</td>\n",
       "      <td>Urban</td>\n",
       "      <td>Y</td>\n",
       "    </tr>\n",
       "    <tr>\n",
       "      <th>4</th>\n",
       "      <td>LP001008</td>\n",
       "      <td>Male</td>\n",
       "      <td>No</td>\n",
       "      <td>0</td>\n",
       "      <td>Graduate</td>\n",
       "      <td>No</td>\n",
       "      <td>6000</td>\n",
       "      <td>0.0</td>\n",
       "      <td>141.0</td>\n",
       "      <td>360.0</td>\n",
       "      <td>1.0</td>\n",
       "      <td>Urban</td>\n",
       "      <td>Y</td>\n",
       "    </tr>\n",
       "    <tr>\n",
       "      <th>...</th>\n",
       "      <td>...</td>\n",
       "      <td>...</td>\n",
       "      <td>...</td>\n",
       "      <td>...</td>\n",
       "      <td>...</td>\n",
       "      <td>...</td>\n",
       "      <td>...</td>\n",
       "      <td>...</td>\n",
       "      <td>...</td>\n",
       "      <td>...</td>\n",
       "      <td>...</td>\n",
       "      <td>...</td>\n",
       "      <td>...</td>\n",
       "    </tr>\n",
       "    <tr>\n",
       "      <th>609</th>\n",
       "      <td>LP002978</td>\n",
       "      <td>Female</td>\n",
       "      <td>No</td>\n",
       "      <td>0</td>\n",
       "      <td>Graduate</td>\n",
       "      <td>No</td>\n",
       "      <td>2900</td>\n",
       "      <td>0.0</td>\n",
       "      <td>71.0</td>\n",
       "      <td>360.0</td>\n",
       "      <td>1.0</td>\n",
       "      <td>Rural</td>\n",
       "      <td>Y</td>\n",
       "    </tr>\n",
       "    <tr>\n",
       "      <th>610</th>\n",
       "      <td>LP002979</td>\n",
       "      <td>Male</td>\n",
       "      <td>Yes</td>\n",
       "      <td>3+</td>\n",
       "      <td>Graduate</td>\n",
       "      <td>No</td>\n",
       "      <td>4106</td>\n",
       "      <td>0.0</td>\n",
       "      <td>40.0</td>\n",
       "      <td>180.0</td>\n",
       "      <td>1.0</td>\n",
       "      <td>Rural</td>\n",
       "      <td>Y</td>\n",
       "    </tr>\n",
       "    <tr>\n",
       "      <th>611</th>\n",
       "      <td>LP002983</td>\n",
       "      <td>Male</td>\n",
       "      <td>Yes</td>\n",
       "      <td>1</td>\n",
       "      <td>Graduate</td>\n",
       "      <td>No</td>\n",
       "      <td>8072</td>\n",
       "      <td>240.0</td>\n",
       "      <td>253.0</td>\n",
       "      <td>360.0</td>\n",
       "      <td>1.0</td>\n",
       "      <td>Urban</td>\n",
       "      <td>Y</td>\n",
       "    </tr>\n",
       "    <tr>\n",
       "      <th>612</th>\n",
       "      <td>LP002984</td>\n",
       "      <td>Male</td>\n",
       "      <td>Yes</td>\n",
       "      <td>2</td>\n",
       "      <td>Graduate</td>\n",
       "      <td>No</td>\n",
       "      <td>7583</td>\n",
       "      <td>0.0</td>\n",
       "      <td>187.0</td>\n",
       "      <td>360.0</td>\n",
       "      <td>1.0</td>\n",
       "      <td>Urban</td>\n",
       "      <td>Y</td>\n",
       "    </tr>\n",
       "    <tr>\n",
       "      <th>613</th>\n",
       "      <td>LP002990</td>\n",
       "      <td>Female</td>\n",
       "      <td>No</td>\n",
       "      <td>0</td>\n",
       "      <td>Graduate</td>\n",
       "      <td>Yes</td>\n",
       "      <td>4583</td>\n",
       "      <td>0.0</td>\n",
       "      <td>133.0</td>\n",
       "      <td>360.0</td>\n",
       "      <td>0.0</td>\n",
       "      <td>Semiurban</td>\n",
       "      <td>N</td>\n",
       "    </tr>\n",
       "  </tbody>\n",
       "</table>\n",
       "<p>614 rows × 13 columns</p>\n",
       "</div>"
      ],
      "text/plain": [
       "      Loan_ID  Gender Married Dependents     Education Self_Employed  \\\n",
       "0    LP001002    Male      No          0      Graduate            No   \n",
       "1    LP001003    Male     Yes          1      Graduate            No   \n",
       "2    LP001005    Male     Yes          0      Graduate           Yes   \n",
       "3    LP001006    Male     Yes          0  Not Graduate            No   \n",
       "4    LP001008    Male      No          0      Graduate            No   \n",
       "..        ...     ...     ...        ...           ...           ...   \n",
       "609  LP002978  Female      No          0      Graduate            No   \n",
       "610  LP002979    Male     Yes         3+      Graduate            No   \n",
       "611  LP002983    Male     Yes          1      Graduate            No   \n",
       "612  LP002984    Male     Yes          2      Graduate            No   \n",
       "613  LP002990  Female      No          0      Graduate           Yes   \n",
       "\n",
       "     ApplicantIncome  CoapplicantIncome  LoanAmount  Loan_Amount_Term  \\\n",
       "0               5849                0.0         NaN             360.0   \n",
       "1               4583             1508.0       128.0             360.0   \n",
       "2               3000                0.0        66.0             360.0   \n",
       "3               2583             2358.0       120.0             360.0   \n",
       "4               6000                0.0       141.0             360.0   \n",
       "..               ...                ...         ...               ...   \n",
       "609             2900                0.0        71.0             360.0   \n",
       "610             4106                0.0        40.0             180.0   \n",
       "611             8072              240.0       253.0             360.0   \n",
       "612             7583                0.0       187.0             360.0   \n",
       "613             4583                0.0       133.0             360.0   \n",
       "\n",
       "     Credit_History Property_Area Loan_Status  \n",
       "0               1.0         Urban           Y  \n",
       "1               1.0         Rural           N  \n",
       "2               1.0         Urban           Y  \n",
       "3               1.0         Urban           Y  \n",
       "4               1.0         Urban           Y  \n",
       "..              ...           ...         ...  \n",
       "609             1.0         Rural           Y  \n",
       "610             1.0         Rural           Y  \n",
       "611             1.0         Urban           Y  \n",
       "612             1.0         Urban           Y  \n",
       "613             0.0     Semiurban           N  \n",
       "\n",
       "[614 rows x 13 columns]"
      ]
     },
     "execution_count": 2,
     "metadata": {},
     "output_type": "execute_result"
    }
   ],
   "source": [
    "df=pd.read_csv('../datasets/loan_prediction.csv')\n",
    "df"
   ]
  },
  {
   "cell_type": "markdown",
   "id": "2d5bf77c",
   "metadata": {},
   "source": [
    "In the dataset there are both types of columns numeric and categorical. Target column is also categorical here with binary values."
   ]
  },
  {
   "cell_type": "markdown",
   "id": "a7b0d598",
   "metadata": {},
   "source": [
    "### Project Description"
   ]
  },
  {
   "cell_type": "markdown",
   "id": "1f2f9a06",
   "metadata": {},
   "source": [
    "Above dataset includes details of applicants who have applied for loan. The dataset includes Independent Variables: Loan_ID,Gender,Married,Dependents,Education,Self_Employed,ApplicantIncome,CoapplicantIncome,Loan_Amount,Loan_Amount_Term,Credit History,Property_Area\n",
    "\n",
    "Loan_Status is the target column having binary values for loan should be approved or not on the basis of the details provided in the dataset. Hence, this is a classification problem."
   ]
  },
  {
   "cell_type": "code",
   "execution_count": 3,
   "id": "cbad240c",
   "metadata": {},
   "outputs": [
    {
     "data": {
      "text/plain": [
       "(614, 13)"
      ]
     },
     "execution_count": 3,
     "metadata": {},
     "output_type": "execute_result"
    }
   ],
   "source": [
    "#Checking the dataset shape\n",
    "df.shape"
   ]
  },
  {
   "cell_type": "markdown",
   "id": "14941c3e",
   "metadata": {},
   "source": [
    "Dataset is having 614 rows and 13 columns (12 input features and 1 output feature)."
   ]
  },
  {
   "cell_type": "code",
   "execution_count": 4,
   "id": "30571d7a",
   "metadata": {},
   "outputs": [
    {
     "data": {
      "text/plain": [
       "Index(['Loan_ID', 'Gender', 'Married', 'Dependents', 'Education',\n",
       "       'Self_Employed', 'ApplicantIncome', 'CoapplicantIncome', 'LoanAmount',\n",
       "       'Loan_Amount_Term', 'Credit_History', 'Property_Area', 'Loan_Status'],\n",
       "      dtype='object')"
      ]
     },
     "execution_count": 4,
     "metadata": {},
     "output_type": "execute_result"
    }
   ],
   "source": [
    "# Checking columns\n",
    "df.columns"
   ]
  },
  {
   "cell_type": "markdown",
   "id": "62cd713f",
   "metadata": {},
   "source": [
    "Columns names are displayed where 'Loan_Status' is the target variable and all other are independent variables."
   ]
  },
  {
   "cell_type": "code",
   "execution_count": 5,
   "id": "b259e5b8",
   "metadata": {},
   "outputs": [
    {
     "data": {
      "text/plain": [
       "Loan_ID               object\n",
       "Gender                object\n",
       "Married               object\n",
       "Dependents            object\n",
       "Education             object\n",
       "Self_Employed         object\n",
       "ApplicantIncome        int64\n",
       "CoapplicantIncome    float64\n",
       "LoanAmount           float64\n",
       "Loan_Amount_Term     float64\n",
       "Credit_History       float64\n",
       "Property_Area         object\n",
       "Loan_Status           object\n",
       "dtype: object"
      ]
     },
     "execution_count": 5,
     "metadata": {},
     "output_type": "execute_result"
    }
   ],
   "source": [
    "# Checking datatypes\n",
    "df.dtypes"
   ]
  },
  {
   "cell_type": "markdown",
   "id": "889bc9ca",
   "metadata": {},
   "source": [
    "Here, we can see columns are of type object,integer and float i.e. both categorical and numeric columns are there."
   ]
  },
  {
   "cell_type": "code",
   "execution_count": 6,
   "id": "441a414a",
   "metadata": {},
   "outputs": [
    {
     "name": "stdout",
     "output_type": "stream",
     "text": [
      "<class 'pandas.core.frame.DataFrame'>\n",
      "RangeIndex: 614 entries, 0 to 613\n",
      "Data columns (total 13 columns):\n",
      " #   Column             Non-Null Count  Dtype  \n",
      "---  ------             --------------  -----  \n",
      " 0   Loan_ID            614 non-null    object \n",
      " 1   Gender             601 non-null    object \n",
      " 2   Married            611 non-null    object \n",
      " 3   Dependents         599 non-null    object \n",
      " 4   Education          614 non-null    object \n",
      " 5   Self_Employed      582 non-null    object \n",
      " 6   ApplicantIncome    614 non-null    int64  \n",
      " 7   CoapplicantIncome  614 non-null    float64\n",
      " 8   LoanAmount         592 non-null    float64\n",
      " 9   Loan_Amount_Term   600 non-null    float64\n",
      " 10  Credit_History     564 non-null    float64\n",
      " 11  Property_Area      614 non-null    object \n",
      " 12  Loan_Status        614 non-null    object \n",
      "dtypes: float64(4), int64(1), object(8)\n",
      "memory usage: 62.5+ KB\n"
     ]
    }
   ],
   "source": [
    "# Checking dataset schema\n",
    "df.info()"
   ]
  },
  {
   "cell_type": "markdown",
   "id": "7e96ce03",
   "metadata": {},
   "source": [
    "It gives schema information regarding the dataset like RangeIndex, Data columns, datatypes. We can see there are null values in the dataset."
   ]
  },
  {
   "cell_type": "markdown",
   "id": "0e9a4763",
   "metadata": {},
   "source": [
    "### Data Preprocessing"
   ]
  },
  {
   "cell_type": "code",
   "execution_count": 7,
   "id": "44368ec9",
   "metadata": {},
   "outputs": [
    {
     "name": "stdout",
     "output_type": "stream",
     "text": [
      "Loan_ID\n",
      "Unique values :  614\n",
      "Value counts  :  LP002626    1\n",
      "LP002784    1\n",
      "LP002447    1\n",
      "LP002524    1\n",
      "LP002602    1\n",
      "           ..\n",
      "LP002444    1\n",
      "LP001990    1\n",
      "LP002544    1\n",
      "LP002236    1\n",
      "LP001024    1\n",
      "Name: Loan_ID, Length: 614, dtype: int64\n",
      "----------------------\n",
      "Gender\n",
      "Unique values :  2\n",
      "Value counts  :  Male      489\n",
      "Female    112\n",
      "Name: Gender, dtype: int64\n",
      "----------------------\n",
      "Married\n",
      "Unique values :  2\n",
      "Value counts  :  Yes    398\n",
      "No     213\n",
      "Name: Married, dtype: int64\n",
      "----------------------\n",
      "Dependents\n",
      "Unique values :  4\n",
      "Value counts  :  0     345\n",
      "1     102\n",
      "2     101\n",
      "3+     51\n",
      "Name: Dependents, dtype: int64\n",
      "----------------------\n",
      "Education\n",
      "Unique values :  2\n",
      "Value counts  :  Graduate        480\n",
      "Not Graduate    134\n",
      "Name: Education, dtype: int64\n",
      "----------------------\n",
      "Self_Employed\n",
      "Unique values :  2\n",
      "Value counts  :  No     500\n",
      "Yes     82\n",
      "Name: Self_Employed, dtype: int64\n",
      "----------------------\n",
      "ApplicantIncome\n",
      "Unique values :  505\n",
      "Value counts  :  2500    9\n",
      "6000    6\n",
      "2600    6\n",
      "4583    6\n",
      "4166    5\n",
      "       ..\n",
      "5503    1\n",
      "3450    1\n",
      "2425    1\n",
      "2423    1\n",
      "4095    1\n",
      "Name: ApplicantIncome, Length: 505, dtype: int64\n",
      "----------------------\n",
      "CoapplicantIncome\n",
      "Unique values :  287\n",
      "Value counts  :  0.0       273\n",
      "2500.0      5\n",
      "2083.0      5\n",
      "1666.0      5\n",
      "1625.0      3\n",
      "         ... \n",
      "2365.0      1\n",
      "1695.0      1\n",
      "2466.0      1\n",
      "2375.0      1\n",
      "1700.0      1\n",
      "Name: CoapplicantIncome, Length: 287, dtype: int64\n",
      "----------------------\n",
      "LoanAmount\n",
      "Unique values :  203\n",
      "Value counts  :  120.0    20\n",
      "110.0    17\n",
      "100.0    15\n",
      "160.0    12\n",
      "187.0    12\n",
      "         ..\n",
      "211.0     1\n",
      "250.0     1\n",
      "62.0      1\n",
      "85.0      1\n",
      "436.0     1\n",
      "Name: LoanAmount, Length: 203, dtype: int64\n",
      "----------------------\n",
      "Loan_Amount_Term\n",
      "Unique values :  10\n",
      "Value counts  :  360.0    512\n",
      "180.0     44\n",
      "480.0     15\n",
      "300.0     13\n",
      "84.0       4\n",
      "240.0      4\n",
      "120.0      3\n",
      "36.0       2\n",
      "60.0       2\n",
      "12.0       1\n",
      "Name: Loan_Amount_Term, dtype: int64\n",
      "----------------------\n",
      "Credit_History\n",
      "Unique values :  2\n",
      "Value counts  :  1.0    475\n",
      "0.0     89\n",
      "Name: Credit_History, dtype: int64\n",
      "----------------------\n",
      "Property_Area\n",
      "Unique values :  3\n",
      "Value counts  :  Semiurban    233\n",
      "Urban        202\n",
      "Rural        179\n",
      "Name: Property_Area, dtype: int64\n",
      "----------------------\n",
      "Loan_Status\n",
      "Unique values :  2\n",
      "Value counts  :  Y    422\n",
      "N    192\n",
      "Name: Loan_Status, dtype: int64\n",
      "----------------------\n"
     ]
    }
   ],
   "source": [
    "# Checking which all column values are relevant for model training\n",
    "for i in df.columns :\n",
    "    print(i)\n",
    "    print('Unique values : ',df[i].nunique())\n",
    "    print('Value counts  : ',df[i].value_counts())\n",
    "    print('----------------------')"
   ]
  },
  {
   "cell_type": "markdown",
   "id": "9c4d2ca2",
   "metadata": {},
   "source": [
    "We have total number of rows as 614 and column 'Loan_ID' has 614 unique values means it will not contribute in model learning or performance hence we can either drop this columnor make it as index. Gender has 2 unique values with 'Male' in majority. 'CoapplicantIncome' has a high count with value 0.0 as compared to others hence it is having skewness. Target column 'Loan_Status' has a huge difference in Y and N value_counts, hence class imbalance is required here."
   ]
  },
  {
   "cell_type": "code",
   "execution_count": 8,
   "id": "f0861dae",
   "metadata": {},
   "outputs": [
    {
     "data": {
      "text/html": [
       "<div>\n",
       "<style scoped>\n",
       "    .dataframe tbody tr th:only-of-type {\n",
       "        vertical-align: middle;\n",
       "    }\n",
       "\n",
       "    .dataframe tbody tr th {\n",
       "        vertical-align: top;\n",
       "    }\n",
       "\n",
       "    .dataframe thead th {\n",
       "        text-align: right;\n",
       "    }\n",
       "</style>\n",
       "<table border=\"1\" class=\"dataframe\">\n",
       "  <thead>\n",
       "    <tr style=\"text-align: right;\">\n",
       "      <th></th>\n",
       "      <th>Gender</th>\n",
       "      <th>Married</th>\n",
       "      <th>Dependents</th>\n",
       "      <th>Education</th>\n",
       "      <th>Self_Employed</th>\n",
       "      <th>ApplicantIncome</th>\n",
       "      <th>CoapplicantIncome</th>\n",
       "      <th>LoanAmount</th>\n",
       "      <th>Loan_Amount_Term</th>\n",
       "      <th>Credit_History</th>\n",
       "      <th>Property_Area</th>\n",
       "      <th>Loan_Status</th>\n",
       "    </tr>\n",
       "  </thead>\n",
       "  <tbody>\n",
       "    <tr>\n",
       "      <th>0</th>\n",
       "      <td>Male</td>\n",
       "      <td>No</td>\n",
       "      <td>0</td>\n",
       "      <td>Graduate</td>\n",
       "      <td>No</td>\n",
       "      <td>5849</td>\n",
       "      <td>0.0</td>\n",
       "      <td>NaN</td>\n",
       "      <td>360.0</td>\n",
       "      <td>1.0</td>\n",
       "      <td>Urban</td>\n",
       "      <td>Y</td>\n",
       "    </tr>\n",
       "    <tr>\n",
       "      <th>1</th>\n",
       "      <td>Male</td>\n",
       "      <td>Yes</td>\n",
       "      <td>1</td>\n",
       "      <td>Graduate</td>\n",
       "      <td>No</td>\n",
       "      <td>4583</td>\n",
       "      <td>1508.0</td>\n",
       "      <td>128.0</td>\n",
       "      <td>360.0</td>\n",
       "      <td>1.0</td>\n",
       "      <td>Rural</td>\n",
       "      <td>N</td>\n",
       "    </tr>\n",
       "    <tr>\n",
       "      <th>2</th>\n",
       "      <td>Male</td>\n",
       "      <td>Yes</td>\n",
       "      <td>0</td>\n",
       "      <td>Graduate</td>\n",
       "      <td>Yes</td>\n",
       "      <td>3000</td>\n",
       "      <td>0.0</td>\n",
       "      <td>66.0</td>\n",
       "      <td>360.0</td>\n",
       "      <td>1.0</td>\n",
       "      <td>Urban</td>\n",
       "      <td>Y</td>\n",
       "    </tr>\n",
       "    <tr>\n",
       "      <th>3</th>\n",
       "      <td>Male</td>\n",
       "      <td>Yes</td>\n",
       "      <td>0</td>\n",
       "      <td>Not Graduate</td>\n",
       "      <td>No</td>\n",
       "      <td>2583</td>\n",
       "      <td>2358.0</td>\n",
       "      <td>120.0</td>\n",
       "      <td>360.0</td>\n",
       "      <td>1.0</td>\n",
       "      <td>Urban</td>\n",
       "      <td>Y</td>\n",
       "    </tr>\n",
       "    <tr>\n",
       "      <th>4</th>\n",
       "      <td>Male</td>\n",
       "      <td>No</td>\n",
       "      <td>0</td>\n",
       "      <td>Graduate</td>\n",
       "      <td>No</td>\n",
       "      <td>6000</td>\n",
       "      <td>0.0</td>\n",
       "      <td>141.0</td>\n",
       "      <td>360.0</td>\n",
       "      <td>1.0</td>\n",
       "      <td>Urban</td>\n",
       "      <td>Y</td>\n",
       "    </tr>\n",
       "    <tr>\n",
       "      <th>...</th>\n",
       "      <td>...</td>\n",
       "      <td>...</td>\n",
       "      <td>...</td>\n",
       "      <td>...</td>\n",
       "      <td>...</td>\n",
       "      <td>...</td>\n",
       "      <td>...</td>\n",
       "      <td>...</td>\n",
       "      <td>...</td>\n",
       "      <td>...</td>\n",
       "      <td>...</td>\n",
       "      <td>...</td>\n",
       "    </tr>\n",
       "    <tr>\n",
       "      <th>609</th>\n",
       "      <td>Female</td>\n",
       "      <td>No</td>\n",
       "      <td>0</td>\n",
       "      <td>Graduate</td>\n",
       "      <td>No</td>\n",
       "      <td>2900</td>\n",
       "      <td>0.0</td>\n",
       "      <td>71.0</td>\n",
       "      <td>360.0</td>\n",
       "      <td>1.0</td>\n",
       "      <td>Rural</td>\n",
       "      <td>Y</td>\n",
       "    </tr>\n",
       "    <tr>\n",
       "      <th>610</th>\n",
       "      <td>Male</td>\n",
       "      <td>Yes</td>\n",
       "      <td>3+</td>\n",
       "      <td>Graduate</td>\n",
       "      <td>No</td>\n",
       "      <td>4106</td>\n",
       "      <td>0.0</td>\n",
       "      <td>40.0</td>\n",
       "      <td>180.0</td>\n",
       "      <td>1.0</td>\n",
       "      <td>Rural</td>\n",
       "      <td>Y</td>\n",
       "    </tr>\n",
       "    <tr>\n",
       "      <th>611</th>\n",
       "      <td>Male</td>\n",
       "      <td>Yes</td>\n",
       "      <td>1</td>\n",
       "      <td>Graduate</td>\n",
       "      <td>No</td>\n",
       "      <td>8072</td>\n",
       "      <td>240.0</td>\n",
       "      <td>253.0</td>\n",
       "      <td>360.0</td>\n",
       "      <td>1.0</td>\n",
       "      <td>Urban</td>\n",
       "      <td>Y</td>\n",
       "    </tr>\n",
       "    <tr>\n",
       "      <th>612</th>\n",
       "      <td>Male</td>\n",
       "      <td>Yes</td>\n",
       "      <td>2</td>\n",
       "      <td>Graduate</td>\n",
       "      <td>No</td>\n",
       "      <td>7583</td>\n",
       "      <td>0.0</td>\n",
       "      <td>187.0</td>\n",
       "      <td>360.0</td>\n",
       "      <td>1.0</td>\n",
       "      <td>Urban</td>\n",
       "      <td>Y</td>\n",
       "    </tr>\n",
       "    <tr>\n",
       "      <th>613</th>\n",
       "      <td>Female</td>\n",
       "      <td>No</td>\n",
       "      <td>0</td>\n",
       "      <td>Graduate</td>\n",
       "      <td>Yes</td>\n",
       "      <td>4583</td>\n",
       "      <td>0.0</td>\n",
       "      <td>133.0</td>\n",
       "      <td>360.0</td>\n",
       "      <td>0.0</td>\n",
       "      <td>Semiurban</td>\n",
       "      <td>N</td>\n",
       "    </tr>\n",
       "  </tbody>\n",
       "</table>\n",
       "<p>614 rows × 12 columns</p>\n",
       "</div>"
      ],
      "text/plain": [
       "     Gender Married Dependents     Education Self_Employed  ApplicantIncome  \\\n",
       "0      Male      No          0      Graduate            No             5849   \n",
       "1      Male     Yes          1      Graduate            No             4583   \n",
       "2      Male     Yes          0      Graduate           Yes             3000   \n",
       "3      Male     Yes          0  Not Graduate            No             2583   \n",
       "4      Male      No          0      Graduate            No             6000   \n",
       "..      ...     ...        ...           ...           ...              ...   \n",
       "609  Female      No          0      Graduate            No             2900   \n",
       "610    Male     Yes         3+      Graduate            No             4106   \n",
       "611    Male     Yes          1      Graduate            No             8072   \n",
       "612    Male     Yes          2      Graduate            No             7583   \n",
       "613  Female      No          0      Graduate           Yes             4583   \n",
       "\n",
       "     CoapplicantIncome  LoanAmount  Loan_Amount_Term  Credit_History  \\\n",
       "0                  0.0         NaN             360.0             1.0   \n",
       "1               1508.0       128.0             360.0             1.0   \n",
       "2                  0.0        66.0             360.0             1.0   \n",
       "3               2358.0       120.0             360.0             1.0   \n",
       "4                  0.0       141.0             360.0             1.0   \n",
       "..                 ...         ...               ...             ...   \n",
       "609                0.0        71.0             360.0             1.0   \n",
       "610                0.0        40.0             180.0             1.0   \n",
       "611              240.0       253.0             360.0             1.0   \n",
       "612                0.0       187.0             360.0             1.0   \n",
       "613                0.0       133.0             360.0             0.0   \n",
       "\n",
       "    Property_Area Loan_Status  \n",
       "0           Urban           Y  \n",
       "1           Rural           N  \n",
       "2           Urban           Y  \n",
       "3           Urban           Y  \n",
       "4           Urban           Y  \n",
       "..            ...         ...  \n",
       "609         Rural           Y  \n",
       "610         Rural           Y  \n",
       "611         Urban           Y  \n",
       "612         Urban           Y  \n",
       "613     Semiurban           N  \n",
       "\n",
       "[614 rows x 12 columns]"
      ]
     },
     "execution_count": 8,
     "metadata": {},
     "output_type": "execute_result"
    }
   ],
   "source": [
    "# Dropping Loan_ID column\n",
    "df.drop('Loan_ID',axis=1,inplace=True)\n",
    "df"
   ]
  },
  {
   "cell_type": "markdown",
   "id": "a037a1a8",
   "metadata": {},
   "source": [
    "### EDA and Visualisations "
   ]
  },
  {
   "cell_type": "code",
   "execution_count": 9,
   "id": "975e9d59",
   "metadata": {},
   "outputs": [
    {
     "data": {
      "text/plain": [
       "Gender               13\n",
       "Married               3\n",
       "Dependents           15\n",
       "Education             0\n",
       "Self_Employed        32\n",
       "ApplicantIncome       0\n",
       "CoapplicantIncome     0\n",
       "LoanAmount           22\n",
       "Loan_Amount_Term     14\n",
       "Credit_History       50\n",
       "Property_Area         0\n",
       "Loan_Status           0\n",
       "dtype: int64"
      ]
     },
     "execution_count": 9,
     "metadata": {},
     "output_type": "execute_result"
    }
   ],
   "source": [
    "# Checking for null values in the dataset\n",
    "df.isnull().sum()"
   ]
  },
  {
   "cell_type": "markdown",
   "id": "b1697038",
   "metadata": {},
   "source": [
    "Columns : Gender,Married,Dependents,Self_Employed,LoanAmount,Loan_Amount_Term,Credit_History are having null values."
   ]
  },
  {
   "cell_type": "code",
   "execution_count": 10,
   "id": "3f02f197",
   "metadata": {},
   "outputs": [
    {
     "data": {
      "text/plain": [
       "<AxesSubplot:>"
      ]
     },
     "execution_count": 10,
     "metadata": {},
     "output_type": "execute_result"
    },
    {
     "data": {
      "image/png": "[encoded data removed]",
      "text/plain": [
       "<Figure size 432x288 with 2 Axes>"
      ]
     },
     "metadata": {
      "needs_background": "light"
     },
     "output_type": "display_data"
    }
   ],
   "source": [
    "# Visualising null values\n",
    "sns.heatmap(df.isnull())"
   ]
  },
  {
   "cell_type": "markdown",
   "id": "6bb40fa8",
   "metadata": {},
   "source": [
    "Heatmap showing the presence of multiple NaN values in multiple columns."
   ]
  },
  {
   "cell_type": "code",
   "execution_count": 11,
   "id": "84c139a8",
   "metadata": {},
   "outputs": [
    {
     "data": {
      "text/html": [
       "<div>\n",
       "<style scoped>\n",
       "    .dataframe tbody tr th:only-of-type {\n",
       "        vertical-align: middle;\n",
       "    }\n",
       "\n",
       "    .dataframe tbody tr th {\n",
       "        vertical-align: top;\n",
       "    }\n",
       "\n",
       "    .dataframe thead th {\n",
       "        text-align: right;\n",
       "    }\n",
       "</style>\n",
       "<table border=\"1\" class=\"dataframe\">\n",
       "  <thead>\n",
       "    <tr style=\"text-align: right;\">\n",
       "      <th></th>\n",
       "      <th>Gender</th>\n",
       "      <th>Married</th>\n",
       "      <th>Dependents</th>\n",
       "      <th>Education</th>\n",
       "      <th>Self_Employed</th>\n",
       "      <th>ApplicantIncome</th>\n",
       "      <th>CoapplicantIncome</th>\n",
       "      <th>LoanAmount</th>\n",
       "      <th>Loan_Amount_Term</th>\n",
       "      <th>Credit_History</th>\n",
       "      <th>Property_Area</th>\n",
       "      <th>Loan_Status</th>\n",
       "    </tr>\n",
       "  </thead>\n",
       "  <tbody>\n",
       "    <tr>\n",
       "      <th>104</th>\n",
       "      <td>Male</td>\n",
       "      <td>NaN</td>\n",
       "      <td>NaN</td>\n",
       "      <td>Graduate</td>\n",
       "      <td>No</td>\n",
       "      <td>3816</td>\n",
       "      <td>754.0</td>\n",
       "      <td>160.0</td>\n",
       "      <td>360.0</td>\n",
       "      <td>1.0</td>\n",
       "      <td>Urban</td>\n",
       "      <td>Y</td>\n",
       "    </tr>\n",
       "    <tr>\n",
       "      <th>228</th>\n",
       "      <td>Male</td>\n",
       "      <td>NaN</td>\n",
       "      <td>NaN</td>\n",
       "      <td>Graduate</td>\n",
       "      <td>No</td>\n",
       "      <td>4758</td>\n",
       "      <td>0.0</td>\n",
       "      <td>158.0</td>\n",
       "      <td>480.0</td>\n",
       "      <td>1.0</td>\n",
       "      <td>Semiurban</td>\n",
       "      <td>Y</td>\n",
       "    </tr>\n",
       "    <tr>\n",
       "      <th>435</th>\n",
       "      <td>Female</td>\n",
       "      <td>NaN</td>\n",
       "      <td>NaN</td>\n",
       "      <td>Graduate</td>\n",
       "      <td>No</td>\n",
       "      <td>10047</td>\n",
       "      <td>0.0</td>\n",
       "      <td>NaN</td>\n",
       "      <td>240.0</td>\n",
       "      <td>1.0</td>\n",
       "      <td>Semiurban</td>\n",
       "      <td>Y</td>\n",
       "    </tr>\n",
       "  </tbody>\n",
       "</table>\n",
       "</div>"
      ],
      "text/plain": [
       "     Gender Married Dependents Education Self_Employed  ApplicantIncome  \\\n",
       "104    Male     NaN        NaN  Graduate            No             3816   \n",
       "228    Male     NaN        NaN  Graduate            No             4758   \n",
       "435  Female     NaN        NaN  Graduate            No            10047   \n",
       "\n",
       "     CoapplicantIncome  LoanAmount  Loan_Amount_Term  Credit_History  \\\n",
       "104              754.0       160.0             360.0             1.0   \n",
       "228                0.0       158.0             480.0             1.0   \n",
       "435                0.0         NaN             240.0             1.0   \n",
       "\n",
       "    Property_Area Loan_Status  \n",
       "104         Urban           Y  \n",
       "228     Semiurban           Y  \n",
       "435     Semiurban           Y  "
      ]
     },
     "execution_count": 11,
     "metadata": {},
     "output_type": "execute_result"
    }
   ],
   "source": [
    "df[df['Married'].isnull().values]"
   ]
  },
  {
   "cell_type": "markdown",
   "id": "7692c148",
   "metadata": {},
   "source": [
    "'Married' column has total 3 nulls and for these rows 'Dependents' are also missing. We can either drop or replace these nulls with mode of the column. Remaining columns require replacing of NaN values."
   ]
  },
  {
   "cell_type": "code",
   "execution_count": 12,
   "id": "a322ad3e",
   "metadata": {},
   "outputs": [
    {
     "data": {
      "text/plain": [
       "2.677551679256059"
      ]
     },
     "execution_count": 12,
     "metadata": {},
     "output_type": "execute_result"
    },
    {
     "data": {
      "image/png": "[encoded data removed]",
      "text/plain": [
       "<Figure size 432x288 with 1 Axes>"
      ]
     },
     "metadata": {
      "needs_background": "light"
     },
     "output_type": "display_data"
    }
   ],
   "source": [
    "sns.distplot(df['LoanAmount'])\n",
    "df['LoanAmount'].skew()"
   ]
  },
  {
   "cell_type": "markdown",
   "id": "dc8c5939",
   "metadata": {},
   "source": [
    "Column 'LoanAmount' is not normally distributed hence we will replace the NaN values with the median."
   ]
  },
  {
   "cell_type": "code",
   "execution_count": 13,
   "id": "a58bee83",
   "metadata": {},
   "outputs": [
    {
     "data": {
      "text/plain": [
       "-2.362414124216269"
      ]
     },
     "execution_count": 13,
     "metadata": {},
     "output_type": "execute_result"
    },
    {
     "data": {
      "image/png": "[encoded data removed]",
      "text/plain": [
       "<Figure size 432x288 with 1 Axes>"
      ]
     },
     "metadata": {
      "needs_background": "light"
     },
     "output_type": "display_data"
    }
   ],
   "source": [
    "sns.distplot(df['Loan_Amount_Term'])\n",
    "df['Loan_Amount_Term'].skew()"
   ]
  },
  {
   "cell_type": "markdown",
   "id": "255a00c8",
   "metadata": {},
   "source": [
    "Column 'Loan_Amount_Term' is not normally distributed hence we will replace the NaN values with the median."
   ]
  },
  {
   "cell_type": "code",
   "execution_count": 14,
   "id": "a104c00c",
   "metadata": {},
   "outputs": [
    {
     "data": {
      "text/plain": [
       "-1.8823610612186696"
      ]
     },
     "execution_count": 14,
     "metadata": {},
     "output_type": "execute_result"
    },
    {
     "data": {
      "image/png": "[encoded data removed]",
      "text/plain": [
       "<Figure size 432x288 with 1 Axes>"
      ]
     },
     "metadata": {
      "needs_background": "light"
     },
     "output_type": "display_data"
    }
   ],
   "source": [
    "sns.distplot(df['Credit_History'])\n",
    "df['Credit_History'].skew()"
   ]
  },
  {
   "cell_type": "markdown",
   "id": "8ce7a80e",
   "metadata": {},
   "source": [
    "Column 'Credit_History' is not normally distributed hence we will replace the NaN values with the median."
   ]
  },
  {
   "cell_type": "code",
   "execution_count": 15,
   "id": "630a6524",
   "metadata": {},
   "outputs": [],
   "source": [
    "# Treating null values by filling null values except Married column\n",
    "df['Gender'].fillna('Male',inplace=True)\n",
    "df['Dependents'].fillna('0',inplace=True)\n",
    "df['Self_Employed'].fillna('No',inplace=True)\n",
    "df['LoanAmount'].fillna(df['LoanAmount'].median(),inplace=True)\n",
    "df['Loan_Amount_Term'].fillna(df['Loan_Amount_Term'].median(),inplace=True)\n",
    "df['Credit_History'].fillna(df['Credit_History'].median(),inplace=True)"
   ]
  },
  {
   "cell_type": "code",
   "execution_count": 16,
   "id": "8a99d087",
   "metadata": {},
   "outputs": [
    {
     "data": {
      "text/plain": [
       "Gender               0\n",
       "Married              3\n",
       "Dependents           0\n",
       "Education            0\n",
       "Self_Employed        0\n",
       "ApplicantIncome      0\n",
       "CoapplicantIncome    0\n",
       "LoanAmount           0\n",
       "Loan_Amount_Term     0\n",
       "Credit_History       0\n",
       "Property_Area        0\n",
       "Loan_Status          0\n",
       "dtype: int64"
      ]
     },
     "execution_count": 16,
     "metadata": {},
     "output_type": "execute_result"
    }
   ],
   "source": [
    "# Checking the null values after treatment\n",
    "df.isnull().sum()"
   ]
  },
  {
   "cell_type": "markdown",
   "id": "ea5106af",
   "metadata": {},
   "source": [
    "Nulls are removed from all the columns other than 'Married', let's treat this columns' null values."
   ]
  },
  {
   "cell_type": "code",
   "execution_count": 17,
   "id": "ee8f1061",
   "metadata": {},
   "outputs": [
    {
     "data": {
      "text/plain": [
       "Gender               0\n",
       "Married              0\n",
       "Dependents           0\n",
       "Education            0\n",
       "Self_Employed        0\n",
       "ApplicantIncome      0\n",
       "CoapplicantIncome    0\n",
       "LoanAmount           0\n",
       "Loan_Amount_Term     0\n",
       "Credit_History       0\n",
       "Property_Area        0\n",
       "Loan_Status          0\n",
       "dtype: int64"
      ]
     },
     "execution_count": 17,
     "metadata": {},
     "output_type": "execute_result"
    }
   ],
   "source": [
    "df=df[pd.notnull(df['Married'])]\n",
    "\n",
    "# Checking the null values after treatment\n",
    "df.isnull().sum()"
   ]
  },
  {
   "cell_type": "code",
   "execution_count": 18,
   "id": "05cab2f3",
   "metadata": {},
   "outputs": [
    {
     "data": {
      "text/plain": [
       "<AxesSubplot:>"
      ]
     },
     "execution_count": 18,
     "metadata": {},
     "output_type": "execute_result"
    },
    {
     "data": {
      "image/png": "[encoded data removed]",
      "text/plain": [
       "<Figure size 432x288 with 2 Axes>"
      ]
     },
     "metadata": {
      "needs_background": "light"
     },
     "output_type": "display_data"
    }
   ],
   "source": [
    "# Visualizing nulls\n",
    "sns.heatmap(df.isnull())"
   ]
  },
  {
   "cell_type": "markdown",
   "id": "746905ca",
   "metadata": {},
   "source": [
    "We have treated all the null values in dataset."
   ]
  },
  {
   "cell_type": "code",
   "execution_count": 19,
   "id": "2548222f",
   "metadata": {},
   "outputs": [
    {
     "data": {
      "text/html": [
       "<div>\n",
       "<style scoped>\n",
       "    .dataframe tbody tr th:only-of-type {\n",
       "        vertical-align: middle;\n",
       "    }\n",
       "\n",
       "    .dataframe tbody tr th {\n",
       "        vertical-align: top;\n",
       "    }\n",
       "\n",
       "    .dataframe thead th {\n",
       "        text-align: right;\n",
       "    }\n",
       "</style>\n",
       "<table border=\"1\" class=\"dataframe\">\n",
       "  <thead>\n",
       "    <tr style=\"text-align: right;\">\n",
       "      <th></th>\n",
       "      <th>Gender</th>\n",
       "      <th>Married</th>\n",
       "      <th>Dependents</th>\n",
       "      <th>Education</th>\n",
       "      <th>Self_Employed</th>\n",
       "      <th>ApplicantIncome</th>\n",
       "      <th>CoapplicantIncome</th>\n",
       "      <th>LoanAmount</th>\n",
       "      <th>Loan_Amount_Term</th>\n",
       "      <th>Credit_History</th>\n",
       "      <th>Property_Area</th>\n",
       "      <th>Loan_Status</th>\n",
       "    </tr>\n",
       "  </thead>\n",
       "  <tbody>\n",
       "    <tr>\n",
       "      <th>0</th>\n",
       "      <td>Male</td>\n",
       "      <td>No</td>\n",
       "      <td>0</td>\n",
       "      <td>Graduate</td>\n",
       "      <td>No</td>\n",
       "      <td>5849</td>\n",
       "      <td>0.0</td>\n",
       "      <td>128.0</td>\n",
       "      <td>360.0</td>\n",
       "      <td>1.0</td>\n",
       "      <td>Urban</td>\n",
       "      <td>Y</td>\n",
       "    </tr>\n",
       "    <tr>\n",
       "      <th>1</th>\n",
       "      <td>Male</td>\n",
       "      <td>Yes</td>\n",
       "      <td>1</td>\n",
       "      <td>Graduate</td>\n",
       "      <td>No</td>\n",
       "      <td>4583</td>\n",
       "      <td>1508.0</td>\n",
       "      <td>128.0</td>\n",
       "      <td>360.0</td>\n",
       "      <td>1.0</td>\n",
       "      <td>Rural</td>\n",
       "      <td>N</td>\n",
       "    </tr>\n",
       "    <tr>\n",
       "      <th>2</th>\n",
       "      <td>Male</td>\n",
       "      <td>Yes</td>\n",
       "      <td>0</td>\n",
       "      <td>Graduate</td>\n",
       "      <td>Yes</td>\n",
       "      <td>3000</td>\n",
       "      <td>0.0</td>\n",
       "      <td>66.0</td>\n",
       "      <td>360.0</td>\n",
       "      <td>1.0</td>\n",
       "      <td>Urban</td>\n",
       "      <td>Y</td>\n",
       "    </tr>\n",
       "    <tr>\n",
       "      <th>3</th>\n",
       "      <td>Male</td>\n",
       "      <td>Yes</td>\n",
       "      <td>0</td>\n",
       "      <td>Not Graduate</td>\n",
       "      <td>No</td>\n",
       "      <td>2583</td>\n",
       "      <td>2358.0</td>\n",
       "      <td>120.0</td>\n",
       "      <td>360.0</td>\n",
       "      <td>1.0</td>\n",
       "      <td>Urban</td>\n",
       "      <td>Y</td>\n",
       "    </tr>\n",
       "    <tr>\n",
       "      <th>4</th>\n",
       "      <td>Male</td>\n",
       "      <td>No</td>\n",
       "      <td>0</td>\n",
       "      <td>Graduate</td>\n",
       "      <td>No</td>\n",
       "      <td>6000</td>\n",
       "      <td>0.0</td>\n",
       "      <td>141.0</td>\n",
       "      <td>360.0</td>\n",
       "      <td>1.0</td>\n",
       "      <td>Urban</td>\n",
       "      <td>Y</td>\n",
       "    </tr>\n",
       "    <tr>\n",
       "      <th>...</th>\n",
       "      <td>...</td>\n",
       "      <td>...</td>\n",
       "      <td>...</td>\n",
       "      <td>...</td>\n",
       "      <td>...</td>\n",
       "      <td>...</td>\n",
       "      <td>...</td>\n",
       "      <td>...</td>\n",
       "      <td>...</td>\n",
       "      <td>...</td>\n",
       "      <td>...</td>\n",
       "      <td>...</td>\n",
       "    </tr>\n",
       "    <tr>\n",
       "      <th>609</th>\n",
       "      <td>Female</td>\n",
       "      <td>No</td>\n",
       "      <td>0</td>\n",
       "      <td>Graduate</td>\n",
       "      <td>No</td>\n",
       "      <td>2900</td>\n",
       "      <td>0.0</td>\n",
       "      <td>71.0</td>\n",
       "      <td>360.0</td>\n",
       "      <td>1.0</td>\n",
       "      <td>Rural</td>\n",
       "      <td>Y</td>\n",
       "    </tr>\n",
       "    <tr>\n",
       "      <th>610</th>\n",
       "      <td>Male</td>\n",
       "      <td>Yes</td>\n",
       "      <td>3+</td>\n",
       "      <td>Graduate</td>\n",
       "      <td>No</td>\n",
       "      <td>4106</td>\n",
       "      <td>0.0</td>\n",
       "      <td>40.0</td>\n",
       "      <td>180.0</td>\n",
       "      <td>1.0</td>\n",
       "      <td>Rural</td>\n",
       "      <td>Y</td>\n",
       "    </tr>\n",
       "    <tr>\n",
       "      <th>611</th>\n",
       "      <td>Male</td>\n",
       "      <td>Yes</td>\n",
       "      <td>1</td>\n",
       "      <td>Graduate</td>\n",
       "      <td>No</td>\n",
       "      <td>8072</td>\n",
       "      <td>240.0</td>\n",
       "      <td>253.0</td>\n",
       "      <td>360.0</td>\n",
       "      <td>1.0</td>\n",
       "      <td>Urban</td>\n",
       "      <td>Y</td>\n",
       "    </tr>\n",
       "    <tr>\n",
       "      <th>612</th>\n",
       "      <td>Male</td>\n",
       "      <td>Yes</td>\n",
       "      <td>2</td>\n",
       "      <td>Graduate</td>\n",
       "      <td>No</td>\n",
       "      <td>7583</td>\n",
       "      <td>0.0</td>\n",
       "      <td>187.0</td>\n",
       "      <td>360.0</td>\n",
       "      <td>1.0</td>\n",
       "      <td>Urban</td>\n",
       "      <td>Y</td>\n",
       "    </tr>\n",
       "    <tr>\n",
       "      <th>613</th>\n",
       "      <td>Female</td>\n",
       "      <td>No</td>\n",
       "      <td>0</td>\n",
       "      <td>Graduate</td>\n",
       "      <td>Yes</td>\n",
       "      <td>4583</td>\n",
       "      <td>0.0</td>\n",
       "      <td>133.0</td>\n",
       "      <td>360.0</td>\n",
       "      <td>0.0</td>\n",
       "      <td>Semiurban</td>\n",
       "      <td>N</td>\n",
       "    </tr>\n",
       "  </tbody>\n",
       "</table>\n",
       "<p>611 rows × 12 columns</p>\n",
       "</div>"
      ],
      "text/plain": [
       "     Gender Married Dependents     Education Self_Employed  ApplicantIncome  \\\n",
       "0      Male      No          0      Graduate            No             5849   \n",
       "1      Male     Yes          1      Graduate            No             4583   \n",
       "2      Male     Yes          0      Graduate           Yes             3000   \n",
       "3      Male     Yes          0  Not Graduate            No             2583   \n",
       "4      Male      No          0      Graduate            No             6000   \n",
       "..      ...     ...        ...           ...           ...              ...   \n",
       "609  Female      No          0      Graduate            No             2900   \n",
       "610    Male     Yes         3+      Graduate            No             4106   \n",
       "611    Male     Yes          1      Graduate            No             8072   \n",
       "612    Male     Yes          2      Graduate            No             7583   \n",
       "613  Female      No          0      Graduate           Yes             4583   \n",
       "\n",
       "     CoapplicantIncome  LoanAmount  Loan_Amount_Term  Credit_History  \\\n",
       "0                  0.0       128.0             360.0             1.0   \n",
       "1               1508.0       128.0             360.0             1.0   \n",
       "2                  0.0        66.0             360.0             1.0   \n",
       "3               2358.0       120.0             360.0             1.0   \n",
       "4                  0.0       141.0             360.0             1.0   \n",
       "..                 ...         ...               ...             ...   \n",
       "609                0.0        71.0             360.0             1.0   \n",
       "610                0.0        40.0             180.0             1.0   \n",
       "611              240.0       253.0             360.0             1.0   \n",
       "612                0.0       187.0             360.0             1.0   \n",
       "613                0.0       133.0             360.0             0.0   \n",
       "\n",
       "    Property_Area Loan_Status  \n",
       "0           Urban           Y  \n",
       "1           Rural           N  \n",
       "2           Urban           Y  \n",
       "3           Urban           Y  \n",
       "4           Urban           Y  \n",
       "..            ...         ...  \n",
       "609         Rural           Y  \n",
       "610         Rural           Y  \n",
       "611         Urban           Y  \n",
       "612         Urban           Y  \n",
       "613     Semiurban           N  \n",
       "\n",
       "[611 rows x 12 columns]"
      ]
     },
     "execution_count": 19,
     "metadata": {},
     "output_type": "execute_result"
    }
   ],
   "source": [
    "# Checking the dataset\n",
    "df"
   ]
  },
  {
   "cell_type": "markdown",
   "id": "41680d76",
   "metadata": {},
   "source": [
    "Our dataset is now having 611 rows and 12 columns with no null values."
   ]
  },
  {
   "cell_type": "code",
   "execution_count": 20,
   "id": "cf94474f",
   "metadata": {},
   "outputs": [
    {
     "data": {
      "text/plain": [
       "Gender               0\n",
       "Married              0\n",
       "Dependents           0\n",
       "Education            0\n",
       "Self_Employed        0\n",
       "ApplicantIncome      0\n",
       "CoapplicantIncome    0\n",
       "LoanAmount           0\n",
       "Loan_Amount_Term     0\n",
       "Credit_History       0\n",
       "Property_Area        0\n",
       "Loan_Status          0\n",
       "dtype: int64"
      ]
     },
     "execution_count": 20,
     "metadata": {},
     "output_type": "execute_result"
    }
   ],
   "source": [
    "# Checking for the duplicates\n",
    "df[df.duplicated()==True].count()"
   ]
  },
  {
   "cell_type": "markdown",
   "id": "3e0df026",
   "metadata": {},
   "source": [
    "There are no duplicate rows in the dataset."
   ]
  },
  {
   "cell_type": "code",
   "execution_count": 21,
   "id": "c2e26cbf",
   "metadata": {},
   "outputs": [
    {
     "data": {
      "image/png": "[encoded data removed]",
      "text/plain": [
       "<Figure size 432x288 with 1 Axes>"
      ]
     },
     "metadata": {
      "needs_background": "light"
     },
     "output_type": "display_data"
    },
    {
     "data": {
      "image/png": "[encoded data removed]",
      "text/plain": [
       "<Figure size 432x288 with 1 Axes>"
      ]
     },
     "metadata": {
      "needs_background": "light"
     },
     "output_type": "display_data"
    },
    {
     "data": {
      "image/png": "[encoded data removed]",
      "text/plain": [
       "<Figure size 432x288 with 1 Axes>"
      ]
     },
     "metadata": {
      "needs_background": "light"
     },
     "output_type": "display_data"
    },
    {
     "data": {
      "image/png": "[encoded data removed]",
      "text/plain": [
       "<Figure size 432x288 with 1 Axes>"
      ]
     },
     "metadata": {
      "needs_background": "light"
     },
     "output_type": "display_data"
    },
    {
     "data": {
      "image/png": "[encoded data removed]",
      "text/plain": [
       "<Figure size 432x288 with 1 Axes>"
      ]
     },
     "metadata": {
      "needs_background": "light"
     },
     "output_type": "display_data"
    },
    {
     "data": {
      "image/png": "[encoded data removed]",
      "text/plain": [
       "<Figure size 432x288 with 1 Axes>"
      ]
     },
     "metadata": {
      "needs_background": "light"
     },
     "output_type": "display_data"
    },
    {
     "data": {
      "image/png": "[encoded data removed]",
      "text/plain": [
       "<Figure size 432x288 with 1 Axes>"
      ]
     },
     "metadata": {
      "needs_background": "light"
     },
     "output_type": "display_data"
    },
    {
     "data": {
      "image/png": "[encoded data removed]",
      "text/plain": [
       "<Figure size 432x288 with 1 Axes>"
      ]
     },
     "metadata": {
      "needs_background": "light"
     },
     "output_type": "display_data"
    },
    {
     "data": {
      "image/png": "[encoded data removed]",
      "text/plain": [
       "<Figure size 432x288 with 1 Axes>"
      ]
     },
     "metadata": {
      "needs_background": "light"
     },
     "output_type": "display_data"
    }
   ],
   "source": [
    "# Count plot for analysis\n",
    "for i in df.columns :\n",
    "    if len(df[i].value_counts())<15 :\n",
    "        sns.countplot(df[i])\n",
    "        plt.show()"
   ]
  },
  {
   "cell_type": "markdown",
   "id": "18b4f3c5",
   "metadata": {},
   "source": [
    "Above count plot is depicting that Males applicants are very high in number as compared to female applicants.\n",
    "More applications are of Married people. Applicants with 0 dependent are highest in number. Graduates have applied mostly for the loan. More applications are from the ones who are not Self_Employed. Loan_Amount_Term as 360.0 is highest. Credil_History 1.0 is in majority. Highest load applicatnts Property_Area is Semiurban. Loan_Status approved is double in count than of not approved."
   ]
  },
  {
   "cell_type": "code",
   "execution_count": 22,
   "id": "c9365277",
   "metadata": {},
   "outputs": [
    {
     "data": {
      "text/html": [
       "<div>\n",
       "<style scoped>\n",
       "    .dataframe tbody tr th:only-of-type {\n",
       "        vertical-align: middle;\n",
       "    }\n",
       "\n",
       "    .dataframe tbody tr th {\n",
       "        vertical-align: top;\n",
       "    }\n",
       "\n",
       "    .dataframe thead th {\n",
       "        text-align: right;\n",
       "    }\n",
       "</style>\n",
       "<table border=\"1\" class=\"dataframe\">\n",
       "  <thead>\n",
       "    <tr style=\"text-align: right;\">\n",
       "      <th></th>\n",
       "      <th>ApplicantIncome</th>\n",
       "      <th>CoapplicantIncome</th>\n",
       "      <th>LoanAmount</th>\n",
       "      <th>Loan_Amount_Term</th>\n",
       "      <th>Credit_History</th>\n",
       "    </tr>\n",
       "  </thead>\n",
       "  <tbody>\n",
       "    <tr>\n",
       "      <th>count</th>\n",
       "      <td>611.000000</td>\n",
       "      <td>611.000000</td>\n",
       "      <td>611.000000</td>\n",
       "      <td>611.000000</td>\n",
       "      <td>611.000000</td>\n",
       "    </tr>\n",
       "    <tr>\n",
       "      <th>mean</th>\n",
       "      <td>5399.513912</td>\n",
       "      <td>1627.972046</td>\n",
       "      <td>145.738134</td>\n",
       "      <td>342.324059</td>\n",
       "      <td>0.854337</td>\n",
       "    </tr>\n",
       "    <tr>\n",
       "      <th>std</th>\n",
       "      <td>6120.764249</td>\n",
       "      <td>2931.747971</td>\n",
       "      <td>84.307304</td>\n",
       "      <td>64.208419</td>\n",
       "      <td>0.353057</td>\n",
       "    </tr>\n",
       "    <tr>\n",
       "      <th>min</th>\n",
       "      <td>150.000000</td>\n",
       "      <td>0.000000</td>\n",
       "      <td>9.000000</td>\n",
       "      <td>12.000000</td>\n",
       "      <td>0.000000</td>\n",
       "    </tr>\n",
       "    <tr>\n",
       "      <th>25%</th>\n",
       "      <td>2875.500000</td>\n",
       "      <td>0.000000</td>\n",
       "      <td>100.000000</td>\n",
       "      <td>360.000000</td>\n",
       "      <td>1.000000</td>\n",
       "    </tr>\n",
       "    <tr>\n",
       "      <th>50%</th>\n",
       "      <td>3800.000000</td>\n",
       "      <td>1213.000000</td>\n",
       "      <td>128.000000</td>\n",
       "      <td>360.000000</td>\n",
       "      <td>1.000000</td>\n",
       "    </tr>\n",
       "    <tr>\n",
       "      <th>75%</th>\n",
       "      <td>5790.000000</td>\n",
       "      <td>2304.000000</td>\n",
       "      <td>165.000000</td>\n",
       "      <td>360.000000</td>\n",
       "      <td>1.000000</td>\n",
       "    </tr>\n",
       "    <tr>\n",
       "      <th>max</th>\n",
       "      <td>81000.000000</td>\n",
       "      <td>41667.000000</td>\n",
       "      <td>700.000000</td>\n",
       "      <td>480.000000</td>\n",
       "      <td>1.000000</td>\n",
       "    </tr>\n",
       "  </tbody>\n",
       "</table>\n",
       "</div>"
      ],
      "text/plain": [
       "       ApplicantIncome  CoapplicantIncome  LoanAmount  Loan_Amount_Term  \\\n",
       "count       611.000000         611.000000  611.000000        611.000000   \n",
       "mean       5399.513912        1627.972046  145.738134        342.324059   \n",
       "std        6120.764249        2931.747971   84.307304         64.208419   \n",
       "min         150.000000           0.000000    9.000000         12.000000   \n",
       "25%        2875.500000           0.000000  100.000000        360.000000   \n",
       "50%        3800.000000        1213.000000  128.000000        360.000000   \n",
       "75%        5790.000000        2304.000000  165.000000        360.000000   \n",
       "max       81000.000000       41667.000000  700.000000        480.000000   \n",
       "\n",
       "       Credit_History  \n",
       "count      611.000000  \n",
       "mean         0.854337  \n",
       "std          0.353057  \n",
       "min          0.000000  \n",
       "25%          1.000000  \n",
       "50%          1.000000  \n",
       "75%          1.000000  \n",
       "max          1.000000  "
      ]
     },
     "execution_count": 22,
     "metadata": {},
     "output_type": "execute_result"
    }
   ],
   "source": [
    "# Describe dataset\n",
    "df.describe()"
   ]
  },
  {
   "cell_type": "markdown",
   "id": "4b8a62c0",
   "metadata": {},
   "source": [
    "ApplicantIncome is from 150 to 81000. CoapplicantIncome is from 0 to 41667. LoanAmount is from 9 to 700. Loan_Amount_Term is from 12 to 480. \n",
    "\n",
    "Standard deviation is high for all the columns except Credit_History. \n",
    "\n",
    "ApplicantIncome,CoapplicantIncome,LoanAmount are right skewed (mean>median) and also the difference between 75% and max value is high hence outliers will be there. Loan_Amount_Term is left skewed (mean<median) and difference between 75% and max value is not much but still outliers could be there. No skewness in Credit_History. "
   ]
  },
  {
   "cell_type": "code",
   "execution_count": 23,
   "id": "7ea71dbf",
   "metadata": {},
   "outputs": [
    {
     "data": {
      "text/plain": [
       "<AxesSubplot:xlabel='Education', ylabel='LoanAmount'>"
      ]
     },
     "execution_count": 23,
     "metadata": {},
     "output_type": "execute_result"
    },
    {
     "data": {
      "image/png": "[encoded data removed]",
      "text/plain": [
       "<Figure size 432x288 with 1 Axes>"
      ]
     },
     "metadata": {
      "needs_background": "light"
     },
     "output_type": "display_data"
    }
   ],
   "source": [
    "sns.barplot(x='Education',y='LoanAmount',data=df, hue='Loan_Status')"
   ]
  },
  {
   "cell_type": "markdown",
   "id": "131c354a",
   "metadata": {},
   "source": [
    "Loan_Status approved and not approved both are more for Graduates than for Non-Gratuates and LoanAmount is also high for Graduates than Non Graduates."
   ]
  },
  {
   "cell_type": "code",
   "execution_count": 24,
   "id": "a8344c14",
   "metadata": {},
   "outputs": [
    {
     "data": {
      "text/plain": [
       "<AxesSubplot:xlabel='Gender', ylabel='ApplicantIncome'>"
      ]
     },
     "execution_count": 24,
     "metadata": {},
     "output_type": "execute_result"
    },
    {
     "data": {
      "image/png": "[encoded data removed]",
      "text/plain": [
       "<Figure size 432x288 with 1 Axes>"
      ]
     },
     "metadata": {
      "needs_background": "light"
     },
     "output_type": "display_data"
    }
   ],
   "source": [
    "sns.barplot(x='Gender',y='ApplicantIncome',data=df, hue='Loan_Status')"
   ]
  },
  {
   "cell_type": "markdown",
   "id": "c59b26d2",
   "metadata": {},
   "source": [
    "Loan_Status approved and not approved both are more for Males who also have high income than Females."
   ]
  },
  {
   "cell_type": "code",
   "execution_count": 25,
   "id": "1d00d527",
   "metadata": {},
   "outputs": [
    {
     "data": {
      "text/plain": [
       "<AxesSubplot:xlabel='Dependents', ylabel='LoanAmount'>"
      ]
     },
     "execution_count": 25,
     "metadata": {},
     "output_type": "execute_result"
    },
    {
     "data": {
      "image/png": "[encoded data removed]",
      "text/plain": [
       "<Figure size 432x288 with 1 Axes>"
      ]
     },
     "metadata": {
      "needs_background": "light"
     },
     "output_type": "display_data"
    }
   ],
   "source": [
    "sns.barplot(x='Dependents',y='LoanAmount',data=df, hue='Loan_Status')"
   ]
  },
  {
   "cell_type": "markdown",
   "id": "554a616c",
   "metadata": {},
   "source": [
    "Majority of applicants with Approved and not approved Loan_Status are with 3+ dependents and also have highest LoanAmount."
   ]
  },
  {
   "cell_type": "code",
   "execution_count": 26,
   "id": "679f97f1",
   "metadata": {},
   "outputs": [
    {
     "data": {
      "text/html": [
       "<div>\n",
       "<style scoped>\n",
       "    .dataframe tbody tr th:only-of-type {\n",
       "        vertical-align: middle;\n",
       "    }\n",
       "\n",
       "    .dataframe tbody tr th {\n",
       "        vertical-align: top;\n",
       "    }\n",
       "\n",
       "    .dataframe thead th {\n",
       "        text-align: right;\n",
       "    }\n",
       "</style>\n",
       "<table border=\"1\" class=\"dataframe\">\n",
       "  <thead>\n",
       "    <tr style=\"text-align: right;\">\n",
       "      <th>Dependents</th>\n",
       "      <th>0</th>\n",
       "      <th>1</th>\n",
       "      <th>2</th>\n",
       "      <th>3+</th>\n",
       "    </tr>\n",
       "    <tr>\n",
       "      <th>Gender</th>\n",
       "      <th></th>\n",
       "      <th></th>\n",
       "      <th></th>\n",
       "      <th></th>\n",
       "    </tr>\n",
       "  </thead>\n",
       "  <tbody>\n",
       "    <tr>\n",
       "      <th>Female</th>\n",
       "      <td>82</td>\n",
       "      <td>19</td>\n",
       "      <td>7</td>\n",
       "      <td>3</td>\n",
       "    </tr>\n",
       "    <tr>\n",
       "      <th>Male</th>\n",
       "      <td>275</td>\n",
       "      <td>83</td>\n",
       "      <td>94</td>\n",
       "      <td>48</td>\n",
       "    </tr>\n",
       "  </tbody>\n",
       "</table>\n",
       "</div>"
      ],
      "text/plain": [
       "Dependents    0   1   2  3+\n",
       "Gender                     \n",
       "Female       82  19   7   3\n",
       "Male        275  83  94  48"
      ]
     },
     "execution_count": 26,
     "metadata": {},
     "output_type": "execute_result"
    }
   ],
   "source": [
    "# Pivot table showing counts\n",
    "pd.crosstab(df['Gender'],df['Dependents'])"
   ]
  },
  {
   "cell_type": "markdown",
   "id": "96dcd793",
   "metadata": {},
   "source": [
    "There are more dependents with Male applicants than Female applicants."
   ]
  },
  {
   "cell_type": "code",
   "execution_count": 27,
   "id": "4df26eb0",
   "metadata": {},
   "outputs": [
    {
     "data": {
      "text/html": [
       "<div>\n",
       "<style scoped>\n",
       "    .dataframe tbody tr th:only-of-type {\n",
       "        vertical-align: middle;\n",
       "    }\n",
       "\n",
       "    .dataframe tbody tr th {\n",
       "        vertical-align: top;\n",
       "    }\n",
       "\n",
       "    .dataframe thead th {\n",
       "        text-align: right;\n",
       "    }\n",
       "</style>\n",
       "<table border=\"1\" class=\"dataframe\">\n",
       "  <thead>\n",
       "    <tr style=\"text-align: right;\">\n",
       "      <th>Credit_History</th>\n",
       "      <th>0.0</th>\n",
       "      <th>1.0</th>\n",
       "    </tr>\n",
       "    <tr>\n",
       "      <th>Loan_Status</th>\n",
       "      <th></th>\n",
       "      <th></th>\n",
       "    </tr>\n",
       "  </thead>\n",
       "  <tbody>\n",
       "    <tr>\n",
       "      <th>N</th>\n",
       "      <td>82</td>\n",
       "      <td>110</td>\n",
       "    </tr>\n",
       "    <tr>\n",
       "      <th>Y</th>\n",
       "      <td>7</td>\n",
       "      <td>412</td>\n",
       "    </tr>\n",
       "  </tbody>\n",
       "</table>\n",
       "</div>"
      ],
      "text/plain": [
       "Credit_History  0.0  1.0\n",
       "Loan_Status             \n",
       "N                82  110\n",
       "Y                 7  412"
      ]
     },
     "execution_count": 27,
     "metadata": {},
     "output_type": "execute_result"
    }
   ],
   "source": [
    "# Pivot table showing counts\n",
    "pd.crosstab(df['Loan_Status'],df['Credit_History'])"
   ]
  },
  {
   "cell_type": "markdown",
   "id": "4172abc7",
   "metadata": {},
   "source": [
    "Credit_History as 1.0 has high chances of loan approval."
   ]
  },
  {
   "cell_type": "code",
   "execution_count": 28,
   "id": "726fe1f7",
   "metadata": {},
   "outputs": [
    {
     "data": {
      "text/html": [
       "<div>\n",
       "<style scoped>\n",
       "    .dataframe tbody tr th:only-of-type {\n",
       "        vertical-align: middle;\n",
       "    }\n",
       "\n",
       "    .dataframe tbody tr th {\n",
       "        vertical-align: top;\n",
       "    }\n",
       "\n",
       "    .dataframe thead th {\n",
       "        text-align: right;\n",
       "    }\n",
       "</style>\n",
       "<table border=\"1\" class=\"dataframe\">\n",
       "  <thead>\n",
       "    <tr style=\"text-align: right;\">\n",
       "      <th>Loan_Amount_Term</th>\n",
       "      <th>12.0</th>\n",
       "      <th>36.0</th>\n",
       "      <th>60.0</th>\n",
       "      <th>84.0</th>\n",
       "      <th>120.0</th>\n",
       "      <th>180.0</th>\n",
       "      <th>240.0</th>\n",
       "      <th>300.0</th>\n",
       "      <th>360.0</th>\n",
       "      <th>480.0</th>\n",
       "    </tr>\n",
       "    <tr>\n",
       "      <th>Property_Area</th>\n",
       "      <th></th>\n",
       "      <th></th>\n",
       "      <th></th>\n",
       "      <th></th>\n",
       "      <th></th>\n",
       "      <th></th>\n",
       "      <th></th>\n",
       "      <th></th>\n",
       "      <th></th>\n",
       "      <th></th>\n",
       "    </tr>\n",
       "  </thead>\n",
       "  <tbody>\n",
       "    <tr>\n",
       "      <th>Rural</th>\n",
       "      <td>0</td>\n",
       "      <td>0</td>\n",
       "      <td>0</td>\n",
       "      <td>2</td>\n",
       "      <td>0</td>\n",
       "      <td>11</td>\n",
       "      <td>0</td>\n",
       "      <td>4</td>\n",
       "      <td>160</td>\n",
       "      <td>2</td>\n",
       "    </tr>\n",
       "    <tr>\n",
       "      <th>Semiurban</th>\n",
       "      <td>0</td>\n",
       "      <td>2</td>\n",
       "      <td>0</td>\n",
       "      <td>1</td>\n",
       "      <td>2</td>\n",
       "      <td>10</td>\n",
       "      <td>1</td>\n",
       "      <td>6</td>\n",
       "      <td>203</td>\n",
       "      <td>6</td>\n",
       "    </tr>\n",
       "    <tr>\n",
       "      <th>Urban</th>\n",
       "      <td>1</td>\n",
       "      <td>0</td>\n",
       "      <td>2</td>\n",
       "      <td>1</td>\n",
       "      <td>1</td>\n",
       "      <td>23</td>\n",
       "      <td>2</td>\n",
       "      <td>3</td>\n",
       "      <td>162</td>\n",
       "      <td>6</td>\n",
       "    </tr>\n",
       "  </tbody>\n",
       "</table>\n",
       "</div>"
      ],
      "text/plain": [
       "Loan_Amount_Term  12.0   36.0   60.0   84.0   120.0  180.0  240.0  300.0  \\\n",
       "Property_Area                                                              \n",
       "Rural                 0      0      0      2      0     11      0      4   \n",
       "Semiurban             0      2      0      1      2     10      1      6   \n",
       "Urban                 1      0      2      1      1     23      2      3   \n",
       "\n",
       "Loan_Amount_Term  360.0  480.0  \n",
       "Property_Area                   \n",
       "Rural               160      2  \n",
       "Semiurban           203      6  \n",
       "Urban               162      6  "
      ]
     },
     "execution_count": 28,
     "metadata": {},
     "output_type": "execute_result"
    }
   ],
   "source": [
    "pd.crosstab(df['Property_Area'],df['Loan_Amount_Term'])"
   ]
  },
  {
   "cell_type": "markdown",
   "id": "f729aeee",
   "metadata": {},
   "source": [
    "Loan_Amount_Term 360.0 is highly referre by all the Property_Area. Next preferred term is 180.0"
   ]
  },
  {
   "cell_type": "code",
   "execution_count": 29,
   "id": "34446d6c",
   "metadata": {},
   "outputs": [
    {
     "data": {
      "text/html": [
       "<div>\n",
       "<style scoped>\n",
       "    .dataframe tbody tr th:only-of-type {\n",
       "        vertical-align: middle;\n",
       "    }\n",
       "\n",
       "    .dataframe tbody tr th {\n",
       "        vertical-align: top;\n",
       "    }\n",
       "\n",
       "    .dataframe thead th {\n",
       "        text-align: right;\n",
       "    }\n",
       "</style>\n",
       "<table border=\"1\" class=\"dataframe\">\n",
       "  <thead>\n",
       "    <tr style=\"text-align: right;\">\n",
       "      <th>Education</th>\n",
       "      <th>Graduate</th>\n",
       "      <th>Not Graduate</th>\n",
       "    </tr>\n",
       "    <tr>\n",
       "      <th>Self_Employed</th>\n",
       "      <th></th>\n",
       "      <th></th>\n",
       "    </tr>\n",
       "  </thead>\n",
       "  <tbody>\n",
       "    <tr>\n",
       "      <th>No</th>\n",
       "      <td>412</td>\n",
       "      <td>117</td>\n",
       "    </tr>\n",
       "    <tr>\n",
       "      <th>Yes</th>\n",
       "      <td>65</td>\n",
       "      <td>17</td>\n",
       "    </tr>\n",
       "  </tbody>\n",
       "</table>\n",
       "</div>"
      ],
      "text/plain": [
       "Education      Graduate  Not Graduate\n",
       "Self_Employed                        \n",
       "No                  412           117\n",
       "Yes                  65            17"
      ]
     },
     "execution_count": 29,
     "metadata": {},
     "output_type": "execute_result"
    }
   ],
   "source": [
    "pd.crosstab(df['Self_Employed'],df['Education'])"
   ]
  },
  {
   "cell_type": "markdown",
   "id": "3c0a1231",
   "metadata": {},
   "source": [
    "High number of allicants are Graduates but not Self_Employed."
   ]
  },
  {
   "cell_type": "code",
   "execution_count": 30,
   "id": "a9f37658",
   "metadata": {},
   "outputs": [
    {
     "data": {
      "text/plain": [
       "{'bodies': [<matplotlib.collections.PolyCollection at 0x22a9e032df0>],\n",
       " 'cmaxes': <matplotlib.collections.LineCollection at 0x22a9e032c10>,\n",
       " 'cmins': <matplotlib.collections.LineCollection at 0x22a9e0432e0>,\n",
       " 'cbars': <matplotlib.collections.LineCollection at 0x22a9e0435e0>}"
      ]
     },
     "execution_count": 30,
     "metadata": {},
     "output_type": "execute_result"
    },
    {
     "data": {
      "image/png": "[encoded data removed]",
      "text/plain": [
       "<Figure size 432x288 with 1 Axes>"
      ]
     },
     "metadata": {
      "needs_background": "light"
     },
     "output_type": "display_data"
    }
   ],
   "source": [
    "#violinplot\n",
    "plt.violinplot(df['ApplicantIncome'])"
   ]
  },
  {
   "cell_type": "markdown",
   "id": "1d4d3fdf",
   "metadata": {},
   "source": [
    "Most of the applicants income lies within 10k and very few have above that comparatively."
   ]
  },
  {
   "cell_type": "code",
   "execution_count": 31,
   "id": "8fe0f1cb",
   "metadata": {},
   "outputs": [
    {
     "data": {
      "text/plain": [
       "<seaborn.axisgrid.FacetGrid at 0x22a9e058610>"
      ]
     },
     "execution_count": 31,
     "metadata": {},
     "output_type": "execute_result"
    },
    {
     "data": {
      "image/png": "[encoded data removed]",
      "text/plain": [
       "<Figure size 428.625x360 with 1 Axes>"
      ]
     },
     "metadata": {
      "needs_background": "light"
     },
     "output_type": "display_data"
    }
   ],
   "source": [
    "# Swarmplot\n",
    "sns.catplot('Education','ApplicantIncome',data=df,kind='swarm',hue='Loan_Status')"
   ]
  },
  {
   "cell_type": "markdown",
   "id": "4d524759",
   "metadata": {},
   "source": [
    "Here, plot is showing Graduates are more who have aplied for Loan and Graduates are earning more than Not graduates. Loan Status doen't seem to have any dependency on Applicant Income and Education as well."
   ]
  },
  {
   "cell_type": "code",
   "execution_count": 32,
   "id": "9c3dab29",
   "metadata": {},
   "outputs": [
    {
     "data": {
      "text/html": [
       "<div>\n",
       "<style scoped>\n",
       "    .dataframe tbody tr th:only-of-type {\n",
       "        vertical-align: middle;\n",
       "    }\n",
       "\n",
       "    .dataframe tbody tr th {\n",
       "        vertical-align: top;\n",
       "    }\n",
       "\n",
       "    .dataframe thead th {\n",
       "        text-align: right;\n",
       "    }\n",
       "</style>\n",
       "<table border=\"1\" class=\"dataframe\">\n",
       "  <thead>\n",
       "    <tr style=\"text-align: right;\">\n",
       "      <th></th>\n",
       "      <th>Gender</th>\n",
       "      <th>Married</th>\n",
       "      <th>Dependents</th>\n",
       "      <th>Education</th>\n",
       "      <th>Self_Employed</th>\n",
       "      <th>Property_Area</th>\n",
       "      <th>Loan_Status</th>\n",
       "    </tr>\n",
       "  </thead>\n",
       "  <tbody>\n",
       "    <tr>\n",
       "      <th>0</th>\n",
       "      <td>Male</td>\n",
       "      <td>No</td>\n",
       "      <td>0</td>\n",
       "      <td>Graduate</td>\n",
       "      <td>No</td>\n",
       "      <td>Urban</td>\n",
       "      <td>Y</td>\n",
       "    </tr>\n",
       "    <tr>\n",
       "      <th>1</th>\n",
       "      <td>Male</td>\n",
       "      <td>Yes</td>\n",
       "      <td>1</td>\n",
       "      <td>Graduate</td>\n",
       "      <td>No</td>\n",
       "      <td>Rural</td>\n",
       "      <td>N</td>\n",
       "    </tr>\n",
       "    <tr>\n",
       "      <th>2</th>\n",
       "      <td>Male</td>\n",
       "      <td>Yes</td>\n",
       "      <td>0</td>\n",
       "      <td>Graduate</td>\n",
       "      <td>Yes</td>\n",
       "      <td>Urban</td>\n",
       "      <td>Y</td>\n",
       "    </tr>\n",
       "    <tr>\n",
       "      <th>3</th>\n",
       "      <td>Male</td>\n",
       "      <td>Yes</td>\n",
       "      <td>0</td>\n",
       "      <td>Not Graduate</td>\n",
       "      <td>No</td>\n",
       "      <td>Urban</td>\n",
       "      <td>Y</td>\n",
       "    </tr>\n",
       "    <tr>\n",
       "      <th>4</th>\n",
       "      <td>Male</td>\n",
       "      <td>No</td>\n",
       "      <td>0</td>\n",
       "      <td>Graduate</td>\n",
       "      <td>No</td>\n",
       "      <td>Urban</td>\n",
       "      <td>Y</td>\n",
       "    </tr>\n",
       "    <tr>\n",
       "      <th>...</th>\n",
       "      <td>...</td>\n",
       "      <td>...</td>\n",
       "      <td>...</td>\n",
       "      <td>...</td>\n",
       "      <td>...</td>\n",
       "      <td>...</td>\n",
       "      <td>...</td>\n",
       "    </tr>\n",
       "    <tr>\n",
       "      <th>609</th>\n",
       "      <td>Female</td>\n",
       "      <td>No</td>\n",
       "      <td>0</td>\n",
       "      <td>Graduate</td>\n",
       "      <td>No</td>\n",
       "      <td>Rural</td>\n",
       "      <td>Y</td>\n",
       "    </tr>\n",
       "    <tr>\n",
       "      <th>610</th>\n",
       "      <td>Male</td>\n",
       "      <td>Yes</td>\n",
       "      <td>3+</td>\n",
       "      <td>Graduate</td>\n",
       "      <td>No</td>\n",
       "      <td>Rural</td>\n",
       "      <td>Y</td>\n",
       "    </tr>\n",
       "    <tr>\n",
       "      <th>611</th>\n",
       "      <td>Male</td>\n",
       "      <td>Yes</td>\n",
       "      <td>1</td>\n",
       "      <td>Graduate</td>\n",
       "      <td>No</td>\n",
       "      <td>Urban</td>\n",
       "      <td>Y</td>\n",
       "    </tr>\n",
       "    <tr>\n",
       "      <th>612</th>\n",
       "      <td>Male</td>\n",
       "      <td>Yes</td>\n",
       "      <td>2</td>\n",
       "      <td>Graduate</td>\n",
       "      <td>No</td>\n",
       "      <td>Urban</td>\n",
       "      <td>Y</td>\n",
       "    </tr>\n",
       "    <tr>\n",
       "      <th>613</th>\n",
       "      <td>Female</td>\n",
       "      <td>No</td>\n",
       "      <td>0</td>\n",
       "      <td>Graduate</td>\n",
       "      <td>Yes</td>\n",
       "      <td>Semiurban</td>\n",
       "      <td>N</td>\n",
       "    </tr>\n",
       "  </tbody>\n",
       "</table>\n",
       "<p>611 rows × 7 columns</p>\n",
       "</div>"
      ],
      "text/plain": [
       "     Gender Married Dependents     Education Self_Employed Property_Area  \\\n",
       "0      Male      No          0      Graduate            No         Urban   \n",
       "1      Male     Yes          1      Graduate            No         Rural   \n",
       "2      Male     Yes          0      Graduate           Yes         Urban   \n",
       "3      Male     Yes          0  Not Graduate            No         Urban   \n",
       "4      Male      No          0      Graduate            No         Urban   \n",
       "..      ...     ...        ...           ...           ...           ...   \n",
       "609  Female      No          0      Graduate            No         Rural   \n",
       "610    Male     Yes         3+      Graduate            No         Rural   \n",
       "611    Male     Yes          1      Graduate            No         Urban   \n",
       "612    Male     Yes          2      Graduate            No         Urban   \n",
       "613  Female      No          0      Graduate           Yes     Semiurban   \n",
       "\n",
       "    Loan_Status  \n",
       "0             Y  \n",
       "1             N  \n",
       "2             Y  \n",
       "3             Y  \n",
       "4             Y  \n",
       "..          ...  \n",
       "609           Y  \n",
       "610           Y  \n",
       "611           Y  \n",
       "612           Y  \n",
       "613           N  \n",
       "\n",
       "[611 rows x 7 columns]"
      ]
     },
     "execution_count": 32,
     "metadata": {},
     "output_type": "execute_result"
    }
   ],
   "source": [
    "# Dividing the data in categorical and numeric columns\n",
    "# Categorical data\n",
    "df_cat=df.select_dtypes(include='object')\n",
    "df_cat"
   ]
  },
  {
   "cell_type": "code",
   "execution_count": 33,
   "id": "2d778916",
   "metadata": {},
   "outputs": [
    {
     "data": {
      "text/html": [
       "<div>\n",
       "<style scoped>\n",
       "    .dataframe tbody tr th:only-of-type {\n",
       "        vertical-align: middle;\n",
       "    }\n",
       "\n",
       "    .dataframe tbody tr th {\n",
       "        vertical-align: top;\n",
       "    }\n",
       "\n",
       "    .dataframe thead th {\n",
       "        text-align: right;\n",
       "    }\n",
       "</style>\n",
       "<table border=\"1\" class=\"dataframe\">\n",
       "  <thead>\n",
       "    <tr style=\"text-align: right;\">\n",
       "      <th></th>\n",
       "      <th>ApplicantIncome</th>\n",
       "      <th>CoapplicantIncome</th>\n",
       "      <th>LoanAmount</th>\n",
       "      <th>Loan_Amount_Term</th>\n",
       "      <th>Credit_History</th>\n",
       "    </tr>\n",
       "  </thead>\n",
       "  <tbody>\n",
       "    <tr>\n",
       "      <th>0</th>\n",
       "      <td>5849</td>\n",
       "      <td>0.0</td>\n",
       "      <td>128.0</td>\n",
       "      <td>360.0</td>\n",
       "      <td>1.0</td>\n",
       "    </tr>\n",
       "    <tr>\n",
       "      <th>1</th>\n",
       "      <td>4583</td>\n",
       "      <td>1508.0</td>\n",
       "      <td>128.0</td>\n",
       "      <td>360.0</td>\n",
       "      <td>1.0</td>\n",
       "    </tr>\n",
       "    <tr>\n",
       "      <th>2</th>\n",
       "      <td>3000</td>\n",
       "      <td>0.0</td>\n",
       "      <td>66.0</td>\n",
       "      <td>360.0</td>\n",
       "      <td>1.0</td>\n",
       "    </tr>\n",
       "    <tr>\n",
       "      <th>3</th>\n",
       "      <td>2583</td>\n",
       "      <td>2358.0</td>\n",
       "      <td>120.0</td>\n",
       "      <td>360.0</td>\n",
       "      <td>1.0</td>\n",
       "    </tr>\n",
       "    <tr>\n",
       "      <th>4</th>\n",
       "      <td>6000</td>\n",
       "      <td>0.0</td>\n",
       "      <td>141.0</td>\n",
       "      <td>360.0</td>\n",
       "      <td>1.0</td>\n",
       "    </tr>\n",
       "    <tr>\n",
       "      <th>...</th>\n",
       "      <td>...</td>\n",
       "      <td>...</td>\n",
       "      <td>...</td>\n",
       "      <td>...</td>\n",
       "      <td>...</td>\n",
       "    </tr>\n",
       "    <tr>\n",
       "      <th>609</th>\n",
       "      <td>2900</td>\n",
       "      <td>0.0</td>\n",
       "      <td>71.0</td>\n",
       "      <td>360.0</td>\n",
       "      <td>1.0</td>\n",
       "    </tr>\n",
       "    <tr>\n",
       "      <th>610</th>\n",
       "      <td>4106</td>\n",
       "      <td>0.0</td>\n",
       "      <td>40.0</td>\n",
       "      <td>180.0</td>\n",
       "      <td>1.0</td>\n",
       "    </tr>\n",
       "    <tr>\n",
       "      <th>611</th>\n",
       "      <td>8072</td>\n",
       "      <td>240.0</td>\n",
       "      <td>253.0</td>\n",
       "      <td>360.0</td>\n",
       "      <td>1.0</td>\n",
       "    </tr>\n",
       "    <tr>\n",
       "      <th>612</th>\n",
       "      <td>7583</td>\n",
       "      <td>0.0</td>\n",
       "      <td>187.0</td>\n",
       "      <td>360.0</td>\n",
       "      <td>1.0</td>\n",
       "    </tr>\n",
       "    <tr>\n",
       "      <th>613</th>\n",
       "      <td>4583</td>\n",
       "      <td>0.0</td>\n",
       "      <td>133.0</td>\n",
       "      <td>360.0</td>\n",
       "      <td>0.0</td>\n",
       "    </tr>\n",
       "  </tbody>\n",
       "</table>\n",
       "<p>611 rows × 5 columns</p>\n",
       "</div>"
      ],
      "text/plain": [
       "     ApplicantIncome  CoapplicantIncome  LoanAmount  Loan_Amount_Term  \\\n",
       "0               5849                0.0       128.0             360.0   \n",
       "1               4583             1508.0       128.0             360.0   \n",
       "2               3000                0.0        66.0             360.0   \n",
       "3               2583             2358.0       120.0             360.0   \n",
       "4               6000                0.0       141.0             360.0   \n",
       "..               ...                ...         ...               ...   \n",
       "609             2900                0.0        71.0             360.0   \n",
       "610             4106                0.0        40.0             180.0   \n",
       "611             8072              240.0       253.0             360.0   \n",
       "612             7583                0.0       187.0             360.0   \n",
       "613             4583                0.0       133.0             360.0   \n",
       "\n",
       "     Credit_History  \n",
       "0               1.0  \n",
       "1               1.0  \n",
       "2               1.0  \n",
       "3               1.0  \n",
       "4               1.0  \n",
       "..              ...  \n",
       "609             1.0  \n",
       "610             1.0  \n",
       "611             1.0  \n",
       "612             1.0  \n",
       "613             0.0  \n",
       "\n",
       "[611 rows x 5 columns]"
      ]
     },
     "execution_count": 33,
     "metadata": {},
     "output_type": "execute_result"
    }
   ],
   "source": [
    "# Continuous data\n",
    "df_con=df.select_dtypes(exclude='object')\n",
    "df_con"
   ]
  },
  {
   "cell_type": "code",
   "execution_count": 35,
   "id": "34fb3718",
   "metadata": {},
   "outputs": [
    {
     "data": {
      "text/plain": [
       "(array([  9,  14,  68,  94, 125, 129, 132, 154, 154, 170, 170, 176, 176,\n",
       "        182, 184, 240, 260, 276, 306, 311, 331, 331, 367, 400, 407, 415,\n",
       "        430, 440, 484, 492, 494, 503, 520, 522, 543, 558, 572, 578, 582,\n",
       "        597, 601], dtype=int64),\n",
       " array([1, 3, 3, 3, 0, 2, 3, 0, 2, 0, 2, 1, 2, 0, 0, 3, 3, 2, 2, 3, 0, 2,\n",
       "        2, 1, 0, 1, 2, 0, 2, 3, 3, 2, 2, 2, 3, 2, 3, 1, 3, 1, 2],\n",
       "       dtype=int64))"
      ]
     },
     "execution_count": 35,
     "metadata": {},
     "output_type": "execute_result"
    }
   ],
   "source": [
    "# Checking outliers\n",
    "from scipy.stats import zscore\n",
    "z=np.abs(zscore(df_con))\n",
    "np.where(z>3)"
   ]
  },
  {
   "cell_type": "code",
   "execution_count": 36,
   "id": "2c671b08",
   "metadata": {},
   "outputs": [
    {
     "data": {
      "text/plain": [
       "3.1884325230591535"
      ]
     },
     "execution_count": 36,
     "metadata": {},
     "output_type": "execute_result"
    }
   ],
   "source": [
    "# Checking the outlier in the dataset\n",
    "z[9][1]"
   ]
  },
  {
   "cell_type": "code",
   "execution_count": 37,
   "id": "4c3b75ba",
   "metadata": {},
   "outputs": [
    {
     "data": {
      "image/png": "[encoded data removed]",
      "text/plain": [
       "<Figure size 1440x720 with 24 Axes>"
      ]
     },
     "metadata": {
      "needs_background": "light"
     },
     "output_type": "display_data"
    }
   ],
   "source": [
    "# Visualising outliers\n",
    "df_con.plot(kind='box',subplots=True,layout=(3,8), figsize=(20,10))\n",
    "plt.show()"
   ]
  },
  {
   "cell_type": "markdown",
   "id": "a8729e00",
   "metadata": {},
   "source": [
    "Plot showing there are presence of outliers in the columns."
   ]
  },
  {
   "cell_type": "code",
   "execution_count": 38,
   "id": "3ac05e33",
   "metadata": {},
   "outputs": [
    {
     "data": {
      "text/plain": [
       "ApplicantIncome      6.535346\n",
       "CoapplicantIncome    7.479901\n",
       "LoanAmount           2.737522\n",
       "Loan_Amount_Term    -2.444382\n",
       "Credit_History      -2.013844\n",
       "dtype: float64"
      ]
     },
     "execution_count": 38,
     "metadata": {},
     "output_type": "execute_result"
    }
   ],
   "source": [
    "# Checking skewness\n",
    "df_con.skew()"
   ]
  },
  {
   "cell_type": "markdown",
   "id": "e206992d",
   "metadata": {},
   "source": [
    "Skewness is present in the dataset as acceptable range is +/-5."
   ]
  },
  {
   "cell_type": "code",
   "execution_count": 39,
   "id": "5f35858e",
   "metadata": {},
   "outputs": [
    {
     "data": {
      "image/png": "[encoded data removed]",
      "text/plain": [
       "<Figure size 432x288 with 1 Axes>"
      ]
     },
     "metadata": {
      "needs_background": "light"
     },
     "output_type": "display_data"
    },
    {
     "data": {
      "image/png": "[encoded data removed]",
      "text/plain": [
       "<Figure size 432x288 with 1 Axes>"
      ]
     },
     "metadata": {
      "needs_background": "light"
     },
     "output_type": "display_data"
    },
    {
     "data": {
      "image/png": "[encoded data removed]",
      "text/plain": [
       "<Figure size 432x288 with 1 Axes>"
      ]
     },
     "metadata": {
      "needs_background": "light"
     },
     "output_type": "display_data"
    },
    {
     "data": {
      "image/png": "[encoded data removed]",
      "text/plain": [
       "<Figure size 432x288 with 1 Axes>"
      ]
     },
     "metadata": {
      "needs_background": "light"
     },
     "output_type": "display_data"
    },
    {
     "data": {
      "image/png": "[encoded data removed]",
      "text/plain": [
       "<Figure size 432x288 with 1 Axes>"
      ]
     },
     "metadata": {
      "needs_background": "light"
     },
     "output_type": "display_data"
    }
   ],
   "source": [
    "# Visualizing skewness\n",
    "for i in df_con.columns :\n",
    "    sns.distplot(df_con[i])\n",
    "    plt.show()"
   ]
  },
  {
   "cell_type": "markdown",
   "id": "4a5cec05",
   "metadata": {},
   "source": [
    "Data is skewed in all the columns."
   ]
  },
  {
   "cell_type": "markdown",
   "id": "fc3dd53a",
   "metadata": {},
   "source": [
    "### Data Cleaning\n"
   ]
  },
  {
   "cell_type": "code",
   "execution_count": 40,
   "id": "20764b4a",
   "metadata": {},
   "outputs": [
    {
     "data": {
      "text/html": [
       "<div>\n",
       "<style scoped>\n",
       "    .dataframe tbody tr th:only-of-type {\n",
       "        vertical-align: middle;\n",
       "    }\n",
       "\n",
       "    .dataframe tbody tr th {\n",
       "        vertical-align: top;\n",
       "    }\n",
       "\n",
       "    .dataframe thead th {\n",
       "        text-align: right;\n",
       "    }\n",
       "</style>\n",
       "<table border=\"1\" class=\"dataframe\">\n",
       "  <thead>\n",
       "    <tr style=\"text-align: right;\">\n",
       "      <th></th>\n",
       "      <th>ApplicantIncome</th>\n",
       "      <th>CoapplicantIncome</th>\n",
       "      <th>LoanAmount</th>\n",
       "      <th>Loan_Amount_Term</th>\n",
       "      <th>Credit_History</th>\n",
       "    </tr>\n",
       "  </thead>\n",
       "  <tbody>\n",
       "    <tr>\n",
       "      <th>0</th>\n",
       "      <td>5849</td>\n",
       "      <td>0.0</td>\n",
       "      <td>128.0</td>\n",
       "      <td>360.0</td>\n",
       "      <td>1.0</td>\n",
       "    </tr>\n",
       "    <tr>\n",
       "      <th>1</th>\n",
       "      <td>4583</td>\n",
       "      <td>1508.0</td>\n",
       "      <td>128.0</td>\n",
       "      <td>360.0</td>\n",
       "      <td>1.0</td>\n",
       "    </tr>\n",
       "    <tr>\n",
       "      <th>2</th>\n",
       "      <td>3000</td>\n",
       "      <td>0.0</td>\n",
       "      <td>66.0</td>\n",
       "      <td>360.0</td>\n",
       "      <td>1.0</td>\n",
       "    </tr>\n",
       "    <tr>\n",
       "      <th>3</th>\n",
       "      <td>2583</td>\n",
       "      <td>2358.0</td>\n",
       "      <td>120.0</td>\n",
       "      <td>360.0</td>\n",
       "      <td>1.0</td>\n",
       "    </tr>\n",
       "    <tr>\n",
       "      <th>4</th>\n",
       "      <td>6000</td>\n",
       "      <td>0.0</td>\n",
       "      <td>141.0</td>\n",
       "      <td>360.0</td>\n",
       "      <td>1.0</td>\n",
       "    </tr>\n",
       "    <tr>\n",
       "      <th>...</th>\n",
       "      <td>...</td>\n",
       "      <td>...</td>\n",
       "      <td>...</td>\n",
       "      <td>...</td>\n",
       "      <td>...</td>\n",
       "    </tr>\n",
       "    <tr>\n",
       "      <th>609</th>\n",
       "      <td>2900</td>\n",
       "      <td>0.0</td>\n",
       "      <td>71.0</td>\n",
       "      <td>360.0</td>\n",
       "      <td>1.0</td>\n",
       "    </tr>\n",
       "    <tr>\n",
       "      <th>610</th>\n",
       "      <td>4106</td>\n",
       "      <td>0.0</td>\n",
       "      <td>40.0</td>\n",
       "      <td>180.0</td>\n",
       "      <td>1.0</td>\n",
       "    </tr>\n",
       "    <tr>\n",
       "      <th>611</th>\n",
       "      <td>8072</td>\n",
       "      <td>240.0</td>\n",
       "      <td>253.0</td>\n",
       "      <td>360.0</td>\n",
       "      <td>1.0</td>\n",
       "    </tr>\n",
       "    <tr>\n",
       "      <th>612</th>\n",
       "      <td>7583</td>\n",
       "      <td>0.0</td>\n",
       "      <td>187.0</td>\n",
       "      <td>360.0</td>\n",
       "      <td>1.0</td>\n",
       "    </tr>\n",
       "    <tr>\n",
       "      <th>613</th>\n",
       "      <td>4583</td>\n",
       "      <td>0.0</td>\n",
       "      <td>133.0</td>\n",
       "      <td>360.0</td>\n",
       "      <td>0.0</td>\n",
       "    </tr>\n",
       "  </tbody>\n",
       "</table>\n",
       "<p>574 rows × 5 columns</p>\n",
       "</div>"
      ],
      "text/plain": [
       "     ApplicantIncome  CoapplicantIncome  LoanAmount  Loan_Amount_Term  \\\n",
       "0               5849                0.0       128.0             360.0   \n",
       "1               4583             1508.0       128.0             360.0   \n",
       "2               3000                0.0        66.0             360.0   \n",
       "3               2583             2358.0       120.0             360.0   \n",
       "4               6000                0.0       141.0             360.0   \n",
       "..               ...                ...         ...               ...   \n",
       "609             2900                0.0        71.0             360.0   \n",
       "610             4106                0.0        40.0             180.0   \n",
       "611             8072              240.0       253.0             360.0   \n",
       "612             7583                0.0       187.0             360.0   \n",
       "613             4583                0.0       133.0             360.0   \n",
       "\n",
       "     Credit_History  \n",
       "0               1.0  \n",
       "1               1.0  \n",
       "2               1.0  \n",
       "3               1.0  \n",
       "4               1.0  \n",
       "..              ...  \n",
       "609             1.0  \n",
       "610             1.0  \n",
       "611             1.0  \n",
       "612             1.0  \n",
       "613             0.0  \n",
       "\n",
       "[574 rows x 5 columns]"
      ]
     },
     "execution_count": 40,
     "metadata": {},
     "output_type": "execute_result"
    }
   ],
   "source": [
    "# Removing outliers\n",
    "\n",
    "df1=df_con.copy()\n",
    "df1=df_con[(z<3).all(axis=1)]\n",
    "df1"
   ]
  },
  {
   "cell_type": "code",
   "execution_count": 41,
   "id": "295bca7d",
   "metadata": {},
   "outputs": [
    {
     "name": "stdout",
     "output_type": "stream",
     "text": [
      "Shape of original dataset :  (611, 5)\n",
      "Shape of dataset after removing outliers :  (574, 5)\n"
     ]
    }
   ],
   "source": [
    "# Printing shape of dataset before and after removing outliers\n",
    "print('Shape of original dataset : ',df_con.shape)\n",
    "print('Shape of dataset after removing outliers : ',df1.shape)"
   ]
  },
  {
   "cell_type": "code",
   "execution_count": 42,
   "id": "92bb3879",
   "metadata": {},
   "outputs": [
    {
     "data": {
      "text/plain": [
       "6.055646481178396"
      ]
     },
     "execution_count": 42,
     "metadata": {},
     "output_type": "execute_result"
    }
   ],
   "source": [
    "# Percentage Data lost\n",
    "data_percent=(611-574)/611*100\n",
    "data_percent"
   ]
  },
  {
   "cell_type": "markdown",
   "id": "ef29c379",
   "metadata": {},
   "source": [
    "Approx 6% data is lost after removing the outliers."
   ]
  },
  {
   "cell_type": "code",
   "execution_count": 43,
   "id": "a7c85786",
   "metadata": {},
   "outputs": [
    {
     "data": {
      "text/plain": [
       "ApplicantIncome      2.159707\n",
       "CoapplicantIncome    1.344041\n",
       "LoanAmount           1.153126\n",
       "Loan_Amount_Term    -2.163753\n",
       "Credit_History      -1.967452\n",
       "dtype: float64"
      ]
     },
     "execution_count": 43,
     "metadata": {},
     "output_type": "execute_result"
    }
   ],
   "source": [
    "# Checking skewness after removing outliers\n",
    "df1.skew()"
   ]
  },
  {
   "cell_type": "markdown",
   "id": "7e8114a6",
   "metadata": {},
   "source": [
    "We can still see skewness in all the columns."
   ]
  },
  {
   "cell_type": "code",
   "execution_count": 44,
   "id": "b3cf0c48",
   "metadata": {},
   "outputs": [
    {
     "name": "stdout",
     "output_type": "stream",
     "text": [
      "ApplicantIncome     -0.204074\n",
      "CoapplicantIncome   -0.221883\n",
      "LoanAmount          -0.662920\n",
      "Loan_Amount_Term    -2.776563\n",
      "Credit_History      -1.967452\n",
      "dtype: float64\n"
     ]
    }
   ],
   "source": [
    "# Removing skewness\n",
    "df2=df1.copy()\n",
    "for i in df2.columns :\n",
    "    df2[i]=np.log(df1[i]+1)\n",
    "print(df2.skew())"
   ]
  },
  {
   "cell_type": "markdown",
   "id": "1ca9e0ba",
   "metadata": {},
   "source": [
    "Removed skewness and skewness is increasing on further applying any transformations. Hence we consider the present values as skewness threshold based on the kind of data distribution in respective columns."
   ]
  },
  {
   "cell_type": "code",
   "execution_count": 45,
   "id": "92b7c1e6",
   "metadata": {},
   "outputs": [
    {
     "data": {
      "text/html": [
       "<div>\n",
       "<style scoped>\n",
       "    .dataframe tbody tr th:only-of-type {\n",
       "        vertical-align: middle;\n",
       "    }\n",
       "\n",
       "    .dataframe tbody tr th {\n",
       "        vertical-align: top;\n",
       "    }\n",
       "\n",
       "    .dataframe thead th {\n",
       "        text-align: right;\n",
       "    }\n",
       "</style>\n",
       "<table border=\"1\" class=\"dataframe\">\n",
       "  <thead>\n",
       "    <tr style=\"text-align: right;\">\n",
       "      <th></th>\n",
       "      <th>ApplicantIncome</th>\n",
       "      <th>CoapplicantIncome</th>\n",
       "      <th>LoanAmount</th>\n",
       "      <th>Loan_Amount_Term</th>\n",
       "      <th>Credit_History</th>\n",
       "    </tr>\n",
       "  </thead>\n",
       "  <tbody>\n",
       "    <tr>\n",
       "      <th>0</th>\n",
       "      <td>8.674197</td>\n",
       "      <td>0.000000</td>\n",
       "      <td>4.859812</td>\n",
       "      <td>5.888878</td>\n",
       "      <td>0.693147</td>\n",
       "    </tr>\n",
       "    <tr>\n",
       "      <th>1</th>\n",
       "      <td>8.430327</td>\n",
       "      <td>7.319202</td>\n",
       "      <td>4.859812</td>\n",
       "      <td>5.888878</td>\n",
       "      <td>0.693147</td>\n",
       "    </tr>\n",
       "    <tr>\n",
       "      <th>2</th>\n",
       "      <td>8.006701</td>\n",
       "      <td>0.000000</td>\n",
       "      <td>4.204693</td>\n",
       "      <td>5.888878</td>\n",
       "      <td>0.693147</td>\n",
       "    </tr>\n",
       "    <tr>\n",
       "      <th>3</th>\n",
       "      <td>7.857094</td>\n",
       "      <td>7.765993</td>\n",
       "      <td>4.795791</td>\n",
       "      <td>5.888878</td>\n",
       "      <td>0.693147</td>\n",
       "    </tr>\n",
       "    <tr>\n",
       "      <th>4</th>\n",
       "      <td>8.699681</td>\n",
       "      <td>0.000000</td>\n",
       "      <td>4.955827</td>\n",
       "      <td>5.888878</td>\n",
       "      <td>0.693147</td>\n",
       "    </tr>\n",
       "    <tr>\n",
       "      <th>...</th>\n",
       "      <td>...</td>\n",
       "      <td>...</td>\n",
       "      <td>...</td>\n",
       "      <td>...</td>\n",
       "      <td>...</td>\n",
       "    </tr>\n",
       "    <tr>\n",
       "      <th>609</th>\n",
       "      <td>7.972811</td>\n",
       "      <td>0.000000</td>\n",
       "      <td>4.276666</td>\n",
       "      <td>5.888878</td>\n",
       "      <td>0.693147</td>\n",
       "    </tr>\n",
       "    <tr>\n",
       "      <th>610</th>\n",
       "      <td>8.320448</td>\n",
       "      <td>0.000000</td>\n",
       "      <td>3.713572</td>\n",
       "      <td>5.198497</td>\n",
       "      <td>0.693147</td>\n",
       "    </tr>\n",
       "    <tr>\n",
       "      <th>611</th>\n",
       "      <td>8.996280</td>\n",
       "      <td>5.484797</td>\n",
       "      <td>5.537334</td>\n",
       "      <td>5.888878</td>\n",
       "      <td>0.693147</td>\n",
       "    </tr>\n",
       "    <tr>\n",
       "      <th>612</th>\n",
       "      <td>8.933796</td>\n",
       "      <td>0.000000</td>\n",
       "      <td>5.236442</td>\n",
       "      <td>5.888878</td>\n",
       "      <td>0.693147</td>\n",
       "    </tr>\n",
       "    <tr>\n",
       "      <th>613</th>\n",
       "      <td>8.430327</td>\n",
       "      <td>0.000000</td>\n",
       "      <td>4.897840</td>\n",
       "      <td>5.888878</td>\n",
       "      <td>0.000000</td>\n",
       "    </tr>\n",
       "  </tbody>\n",
       "</table>\n",
       "<p>574 rows × 5 columns</p>\n",
       "</div>"
      ],
      "text/plain": [
       "     ApplicantIncome  CoapplicantIncome  LoanAmount  Loan_Amount_Term  \\\n",
       "0           8.674197           0.000000    4.859812          5.888878   \n",
       "1           8.430327           7.319202    4.859812          5.888878   \n",
       "2           8.006701           0.000000    4.204693          5.888878   \n",
       "3           7.857094           7.765993    4.795791          5.888878   \n",
       "4           8.699681           0.000000    4.955827          5.888878   \n",
       "..               ...                ...         ...               ...   \n",
       "609         7.972811           0.000000    4.276666          5.888878   \n",
       "610         8.320448           0.000000    3.713572          5.198497   \n",
       "611         8.996280           5.484797    5.537334          5.888878   \n",
       "612         8.933796           0.000000    5.236442          5.888878   \n",
       "613         8.430327           0.000000    4.897840          5.888878   \n",
       "\n",
       "     Credit_History  \n",
       "0          0.693147  \n",
       "1          0.693147  \n",
       "2          0.693147  \n",
       "3          0.693147  \n",
       "4          0.693147  \n",
       "..              ...  \n",
       "609        0.693147  \n",
       "610        0.693147  \n",
       "611        0.693147  \n",
       "612        0.693147  \n",
       "613        0.000000  \n",
       "\n",
       "[574 rows x 5 columns]"
      ]
     },
     "execution_count": 45,
     "metadata": {},
     "output_type": "execute_result"
    }
   ],
   "source": [
    "# Checking the new dataset\n",
    "df2"
   ]
  },
  {
   "cell_type": "markdown",
   "id": "dea24241",
   "metadata": {},
   "source": [
    "### Apply encoding on categorical columns"
   ]
  },
  {
   "cell_type": "code",
   "execution_count": 46,
   "id": "1ef749d3",
   "metadata": {},
   "outputs": [
    {
     "name": "stdout",
     "output_type": "stream",
     "text": [
      "Gender\n",
      "['Male' 'Female']\n",
      "Married\n",
      "['No' 'Yes']\n",
      "Dependents\n",
      "['0' '1' '2' '3+']\n",
      "Education\n",
      "['Graduate' 'Not Graduate']\n",
      "Self_Employed\n",
      "['No' 'Yes']\n",
      "Property_Area\n",
      "['Urban' 'Rural' 'Semiurban']\n",
      "Loan_Status\n",
      "['Y' 'N']\n"
     ]
    }
   ],
   "source": [
    "# Checking for the unique values\n",
    "for i in df_cat.columns :\n",
    "    print(i)\n",
    "    print(df_cat[i].unique())"
   ]
  },
  {
   "cell_type": "code",
   "execution_count": 47,
   "id": "cc22d9ed",
   "metadata": {},
   "outputs": [
    {
     "data": {
      "text/html": [
       "<div>\n",
       "<style scoped>\n",
       "    .dataframe tbody tr th:only-of-type {\n",
       "        vertical-align: middle;\n",
       "    }\n",
       "\n",
       "    .dataframe tbody tr th {\n",
       "        vertical-align: top;\n",
       "    }\n",
       "\n",
       "    .dataframe thead th {\n",
       "        text-align: right;\n",
       "    }\n",
       "</style>\n",
       "<table border=\"1\" class=\"dataframe\">\n",
       "  <thead>\n",
       "    <tr style=\"text-align: right;\">\n",
       "      <th></th>\n",
       "      <th>Gender</th>\n",
       "      <th>Married</th>\n",
       "      <th>Dependents</th>\n",
       "      <th>Education</th>\n",
       "      <th>Self_Employed</th>\n",
       "      <th>Property_Area</th>\n",
       "      <th>Loan_Status</th>\n",
       "    </tr>\n",
       "  </thead>\n",
       "  <tbody>\n",
       "    <tr>\n",
       "      <th>0</th>\n",
       "      <td>1</td>\n",
       "      <td>0</td>\n",
       "      <td>0</td>\n",
       "      <td>0</td>\n",
       "      <td>0</td>\n",
       "      <td>2</td>\n",
       "      <td>1</td>\n",
       "    </tr>\n",
       "    <tr>\n",
       "      <th>1</th>\n",
       "      <td>1</td>\n",
       "      <td>1</td>\n",
       "      <td>1</td>\n",
       "      <td>0</td>\n",
       "      <td>0</td>\n",
       "      <td>0</td>\n",
       "      <td>0</td>\n",
       "    </tr>\n",
       "    <tr>\n",
       "      <th>2</th>\n",
       "      <td>1</td>\n",
       "      <td>1</td>\n",
       "      <td>0</td>\n",
       "      <td>0</td>\n",
       "      <td>1</td>\n",
       "      <td>2</td>\n",
       "      <td>1</td>\n",
       "    </tr>\n",
       "    <tr>\n",
       "      <th>3</th>\n",
       "      <td>1</td>\n",
       "      <td>1</td>\n",
       "      <td>0</td>\n",
       "      <td>1</td>\n",
       "      <td>0</td>\n",
       "      <td>2</td>\n",
       "      <td>1</td>\n",
       "    </tr>\n",
       "    <tr>\n",
       "      <th>4</th>\n",
       "      <td>1</td>\n",
       "      <td>0</td>\n",
       "      <td>0</td>\n",
       "      <td>0</td>\n",
       "      <td>0</td>\n",
       "      <td>2</td>\n",
       "      <td>1</td>\n",
       "    </tr>\n",
       "    <tr>\n",
       "      <th>...</th>\n",
       "      <td>...</td>\n",
       "      <td>...</td>\n",
       "      <td>...</td>\n",
       "      <td>...</td>\n",
       "      <td>...</td>\n",
       "      <td>...</td>\n",
       "      <td>...</td>\n",
       "    </tr>\n",
       "    <tr>\n",
       "      <th>609</th>\n",
       "      <td>0</td>\n",
       "      <td>0</td>\n",
       "      <td>0</td>\n",
       "      <td>0</td>\n",
       "      <td>0</td>\n",
       "      <td>0</td>\n",
       "      <td>1</td>\n",
       "    </tr>\n",
       "    <tr>\n",
       "      <th>610</th>\n",
       "      <td>1</td>\n",
       "      <td>1</td>\n",
       "      <td>3</td>\n",
       "      <td>0</td>\n",
       "      <td>0</td>\n",
       "      <td>0</td>\n",
       "      <td>1</td>\n",
       "    </tr>\n",
       "    <tr>\n",
       "      <th>611</th>\n",
       "      <td>1</td>\n",
       "      <td>1</td>\n",
       "      <td>1</td>\n",
       "      <td>0</td>\n",
       "      <td>0</td>\n",
       "      <td>2</td>\n",
       "      <td>1</td>\n",
       "    </tr>\n",
       "    <tr>\n",
       "      <th>612</th>\n",
       "      <td>1</td>\n",
       "      <td>1</td>\n",
       "      <td>2</td>\n",
       "      <td>0</td>\n",
       "      <td>0</td>\n",
       "      <td>2</td>\n",
       "      <td>1</td>\n",
       "    </tr>\n",
       "    <tr>\n",
       "      <th>613</th>\n",
       "      <td>0</td>\n",
       "      <td>0</td>\n",
       "      <td>0</td>\n",
       "      <td>0</td>\n",
       "      <td>1</td>\n",
       "      <td>1</td>\n",
       "      <td>0</td>\n",
       "    </tr>\n",
       "  </tbody>\n",
       "</table>\n",
       "<p>611 rows × 7 columns</p>\n",
       "</div>"
      ],
      "text/plain": [
       "     Gender  Married  Dependents  Education  Self_Employed  Property_Area  \\\n",
       "0         1        0           0          0              0              2   \n",
       "1         1        1           1          0              0              0   \n",
       "2         1        1           0          0              1              2   \n",
       "3         1        1           0          1              0              2   \n",
       "4         1        0           0          0              0              2   \n",
       "..      ...      ...         ...        ...            ...            ...   \n",
       "609       0        0           0          0              0              0   \n",
       "610       1        1           3          0              0              0   \n",
       "611       1        1           1          0              0              2   \n",
       "612       1        1           2          0              0              2   \n",
       "613       0        0           0          0              1              1   \n",
       "\n",
       "     Loan_Status  \n",
       "0              1  \n",
       "1              0  \n",
       "2              1  \n",
       "3              1  \n",
       "4              1  \n",
       "..           ...  \n",
       "609            1  \n",
       "610            1  \n",
       "611            1  \n",
       "612            1  \n",
       "613            0  \n",
       "\n",
       "[611 rows x 7 columns]"
      ]
     },
     "execution_count": 47,
     "metadata": {},
     "output_type": "execute_result"
    }
   ],
   "source": [
    "# Applying label encoder\n",
    "from sklearn.preprocessing import LabelEncoder\n",
    "df_cat_enc=df_cat.copy()\n",
    "le=LabelEncoder()\n",
    "for i in df_cat_enc.columns :\n",
    "    df_cat_enc[i]=le.fit_transform(df_cat[i])\n",
    "df_cat_enc"
   ]
  },
  {
   "cell_type": "markdown",
   "id": "2763893e",
   "metadata": {},
   "source": [
    "Categorical columns with object datatypes are now encoded having 611 rows and 7 columns."
   ]
  },
  {
   "cell_type": "markdown",
   "id": "a7c58309",
   "metadata": {},
   "source": [
    "### Combining numerical and categorical data for further analysis"
   ]
  },
  {
   "cell_type": "code",
   "execution_count": 48,
   "id": "d9c5fd59",
   "metadata": {},
   "outputs": [
    {
     "data": {
      "text/plain": [
       "ApplicantIncome      0\n",
       "CoapplicantIncome    0\n",
       "LoanAmount           0\n",
       "Loan_Amount_Term     0\n",
       "Credit_History       0\n",
       "Gender               0\n",
       "Married              0\n",
       "Dependents           0\n",
       "Education            0\n",
       "Self_Employed        0\n",
       "Property_Area        0\n",
       "Loan_Status          0\n",
       "dtype: int64"
      ]
     },
     "execution_count": 48,
     "metadata": {},
     "output_type": "execute_result"
    }
   ],
   "source": [
    "dff=pd.concat([df2,df_cat_enc],axis=1)\n",
    "dff.dropna(inplace=True)\n",
    "dff.isnull().sum()"
   ]
  },
  {
   "cell_type": "markdown",
   "id": "547d9f89",
   "metadata": {},
   "source": [
    "Combined all the columns and removed nulls"
   ]
  },
  {
   "cell_type": "code",
   "execution_count": 49,
   "id": "26bf818d",
   "metadata": {},
   "outputs": [
    {
     "data": {
      "text/plain": [
       "(574, 12)"
      ]
     },
     "execution_count": 49,
     "metadata": {},
     "output_type": "execute_result"
    }
   ],
   "source": [
    "# Checking shape of new dataset\n",
    "dff.shape"
   ]
  },
  {
   "cell_type": "markdown",
   "id": "ab328767",
   "metadata": {},
   "source": [
    "### EDA and Visualizations on whole dataset"
   ]
  },
  {
   "cell_type": "code",
   "execution_count": 51,
   "id": "99f7e4b4",
   "metadata": {},
   "outputs": [
    {
     "data": {
      "text/html": [
       "<div>\n",
       "<style scoped>\n",
       "    .dataframe tbody tr th:only-of-type {\n",
       "        vertical-align: middle;\n",
       "    }\n",
       "\n",
       "    .dataframe tbody tr th {\n",
       "        vertical-align: top;\n",
       "    }\n",
       "\n",
       "    .dataframe thead th {\n",
       "        text-align: right;\n",
       "    }\n",
       "</style>\n",
       "<table border=\"1\" class=\"dataframe\">\n",
       "  <thead>\n",
       "    <tr style=\"text-align: right;\">\n",
       "      <th></th>\n",
       "      <th>ApplicantIncome</th>\n",
       "      <th>CoapplicantIncome</th>\n",
       "      <th>LoanAmount</th>\n",
       "      <th>Loan_Amount_Term</th>\n",
       "      <th>Credit_History</th>\n",
       "      <th>Gender</th>\n",
       "      <th>Married</th>\n",
       "      <th>Dependents</th>\n",
       "      <th>Education</th>\n",
       "      <th>Self_Employed</th>\n",
       "      <th>Property_Area</th>\n",
       "      <th>Loan_Status</th>\n",
       "    </tr>\n",
       "  </thead>\n",
       "  <tbody>\n",
       "    <tr>\n",
       "      <th>count</th>\n",
       "      <td>574.000000</td>\n",
       "      <td>574.000000</td>\n",
       "      <td>574.000000</td>\n",
       "      <td>574.000000</td>\n",
       "      <td>574.000000</td>\n",
       "      <td>574.000000</td>\n",
       "      <td>574.000000</td>\n",
       "      <td>574.000000</td>\n",
       "      <td>574.000000</td>\n",
       "      <td>574.000000</td>\n",
       "      <td>574.000000</td>\n",
       "      <td>574.000000</td>\n",
       "    </tr>\n",
       "    <tr>\n",
       "      <th>mean</th>\n",
       "      <td>8.290369</td>\n",
       "      <td>4.335762</td>\n",
       "      <td>4.830431</td>\n",
       "      <td>5.840153</td>\n",
       "      <td>0.589296</td>\n",
       "      <td>0.815331</td>\n",
       "      <td>0.648084</td>\n",
       "      <td>0.722997</td>\n",
       "      <td>0.228223</td>\n",
       "      <td>0.127178</td>\n",
       "      <td>1.029617</td>\n",
       "      <td>0.688153</td>\n",
       "    </tr>\n",
       "    <tr>\n",
       "      <th>std</th>\n",
       "      <td>0.555068</td>\n",
       "      <td>3.839419</td>\n",
       "      <td>0.424762</td>\n",
       "      <td>0.187460</td>\n",
       "      <td>0.247600</td>\n",
       "      <td>0.388367</td>\n",
       "      <td>0.477985</td>\n",
       "      <td>0.996465</td>\n",
       "      <td>0.420053</td>\n",
       "      <td>0.333463</td>\n",
       "      <td>0.790979</td>\n",
       "      <td>0.463652</td>\n",
       "    </tr>\n",
       "    <tr>\n",
       "      <th>min</th>\n",
       "      <td>5.017280</td>\n",
       "      <td>0.000000</td>\n",
       "      <td>2.302585</td>\n",
       "      <td>5.198497</td>\n",
       "      <td>0.000000</td>\n",
       "      <td>0.000000</td>\n",
       "      <td>0.000000</td>\n",
       "      <td>0.000000</td>\n",
       "      <td>0.000000</td>\n",
       "      <td>0.000000</td>\n",
       "      <td>0.000000</td>\n",
       "      <td>0.000000</td>\n",
       "    </tr>\n",
       "    <tr>\n",
       "      <th>25%</th>\n",
       "      <td>7.940392</td>\n",
       "      <td>0.000000</td>\n",
       "      <td>4.615121</td>\n",
       "      <td>5.888878</td>\n",
       "      <td>0.693147</td>\n",
       "      <td>1.000000</td>\n",
       "      <td>0.000000</td>\n",
       "      <td>0.000000</td>\n",
       "      <td>0.000000</td>\n",
       "      <td>0.000000</td>\n",
       "      <td>0.000000</td>\n",
       "      <td>0.000000</td>\n",
       "    </tr>\n",
       "    <tr>\n",
       "      <th>50%</th>\n",
       "      <td>8.229778</td>\n",
       "      <td>7.147528</td>\n",
       "      <td>4.859812</td>\n",
       "      <td>5.888878</td>\n",
       "      <td>0.693147</td>\n",
       "      <td>1.000000</td>\n",
       "      <td>1.000000</td>\n",
       "      <td>0.000000</td>\n",
       "      <td>0.000000</td>\n",
       "      <td>0.000000</td>\n",
       "      <td>1.000000</td>\n",
       "      <td>1.000000</td>\n",
       "    </tr>\n",
       "    <tr>\n",
       "      <th>75%</th>\n",
       "      <td>8.617172</td>\n",
       "      <td>7.720794</td>\n",
       "      <td>5.081404</td>\n",
       "      <td>5.888878</td>\n",
       "      <td>0.693147</td>\n",
       "      <td>1.000000</td>\n",
       "      <td>1.000000</td>\n",
       "      <td>1.000000</td>\n",
       "      <td>0.000000</td>\n",
       "      <td>0.000000</td>\n",
       "      <td>2.000000</td>\n",
       "      <td>1.000000</td>\n",
       "    </tr>\n",
       "    <tr>\n",
       "      <th>max</th>\n",
       "      <td>9.936342</td>\n",
       "      <td>9.102867</td>\n",
       "      <td>5.942799</td>\n",
       "      <td>6.175867</td>\n",
       "      <td>0.693147</td>\n",
       "      <td>1.000000</td>\n",
       "      <td>1.000000</td>\n",
       "      <td>3.000000</td>\n",
       "      <td>1.000000</td>\n",
       "      <td>1.000000</td>\n",
       "      <td>2.000000</td>\n",
       "      <td>1.000000</td>\n",
       "    </tr>\n",
       "  </tbody>\n",
       "</table>\n",
       "</div>"
      ],
      "text/plain": [
       "       ApplicantIncome  CoapplicantIncome  LoanAmount  Loan_Amount_Term  \\\n",
       "count       574.000000         574.000000  574.000000        574.000000   \n",
       "mean          8.290369           4.335762    4.830431          5.840153   \n",
       "std           0.555068           3.839419    0.424762          0.187460   \n",
       "min           5.017280           0.000000    2.302585          5.198497   \n",
       "25%           7.940392           0.000000    4.615121          5.888878   \n",
       "50%           8.229778           7.147528    4.859812          5.888878   \n",
       "75%           8.617172           7.720794    5.081404          5.888878   \n",
       "max           9.936342           9.102867    5.942799          6.175867   \n",
       "\n",
       "       Credit_History      Gender     Married  Dependents   Education  \\\n",
       "count      574.000000  574.000000  574.000000  574.000000  574.000000   \n",
       "mean         0.589296    0.815331    0.648084    0.722997    0.228223   \n",
       "std          0.247600    0.388367    0.477985    0.996465    0.420053   \n",
       "min          0.000000    0.000000    0.000000    0.000000    0.000000   \n",
       "25%          0.693147    1.000000    0.000000    0.000000    0.000000   \n",
       "50%          0.693147    1.000000    1.000000    0.000000    0.000000   \n",
       "75%          0.693147    1.000000    1.000000    1.000000    0.000000   \n",
       "max          0.693147    1.000000    1.000000    3.000000    1.000000   \n",
       "\n",
       "       Self_Employed  Property_Area  Loan_Status  \n",
       "count     574.000000     574.000000   574.000000  \n",
       "mean        0.127178       1.029617     0.688153  \n",
       "std         0.333463       0.790979     0.463652  \n",
       "min         0.000000       0.000000     0.000000  \n",
       "25%         0.000000       0.000000     0.000000  \n",
       "50%         0.000000       1.000000     1.000000  \n",
       "75%         0.000000       2.000000     1.000000  \n",
       "max         1.000000       2.000000     1.000000  "
      ]
     },
     "execution_count": 51,
     "metadata": {},
     "output_type": "execute_result"
    }
   ],
   "source": [
    "# Describng the dataset\n",
    "dff.describe()"
   ]
  },
  {
   "cell_type": "markdown",
   "id": "de88a437",
   "metadata": {},
   "source": [
    "In above table, mean and median are almost similar hence could not see skewness and also the difference of 75 percentle and max value is not much hence no outliers are present in the dataset. Standard deviation is not high for any of the columns. Therefore, all details seem good."
   ]
  },
  {
   "cell_type": "code",
   "execution_count": 52,
   "id": "92f81a8b",
   "metadata": {},
   "outputs": [
    {
     "data": {
      "text/html": [
       "<div>\n",
       "<style scoped>\n",
       "    .dataframe tbody tr th:only-of-type {\n",
       "        vertical-align: middle;\n",
       "    }\n",
       "\n",
       "    .dataframe tbody tr th {\n",
       "        vertical-align: top;\n",
       "    }\n",
       "\n",
       "    .dataframe thead th {\n",
       "        text-align: right;\n",
       "    }\n",
       "</style>\n",
       "<table border=\"1\" class=\"dataframe\">\n",
       "  <thead>\n",
       "    <tr style=\"text-align: right;\">\n",
       "      <th></th>\n",
       "      <th>ApplicantIncome</th>\n",
       "      <th>CoapplicantIncome</th>\n",
       "      <th>LoanAmount</th>\n",
       "      <th>Loan_Amount_Term</th>\n",
       "      <th>Credit_History</th>\n",
       "      <th>Gender</th>\n",
       "      <th>Married</th>\n",
       "      <th>Dependents</th>\n",
       "      <th>Education</th>\n",
       "      <th>Self_Employed</th>\n",
       "      <th>Property_Area</th>\n",
       "      <th>Loan_Status</th>\n",
       "    </tr>\n",
       "  </thead>\n",
       "  <tbody>\n",
       "    <tr>\n",
       "      <th>ApplicantIncome</th>\n",
       "      <td>1.000000</td>\n",
       "      <td>-0.360339</td>\n",
       "      <td>0.405789</td>\n",
       "      <td>-0.056030</td>\n",
       "      <td>0.026142</td>\n",
       "      <td>0.066606</td>\n",
       "      <td>-0.028825</td>\n",
       "      <td>0.109165</td>\n",
       "      <td>-0.173381</td>\n",
       "      <td>0.209280</td>\n",
       "      <td>-0.010341</td>\n",
       "      <td>-0.003996</td>\n",
       "    </tr>\n",
       "    <tr>\n",
       "      <th>CoapplicantIncome</th>\n",
       "      <td>-0.360339</td>\n",
       "      <td>1.000000</td>\n",
       "      <td>0.201025</td>\n",
       "      <td>0.003681</td>\n",
       "      <td>0.009305</td>\n",
       "      <td>0.233035</td>\n",
       "      <td>0.342862</td>\n",
       "      <td>0.005309</td>\n",
       "      <td>0.053295</td>\n",
       "      <td>-0.090827</td>\n",
       "      <td>-0.074111</td>\n",
       "      <td>0.083697</td>\n",
       "    </tr>\n",
       "    <tr>\n",
       "      <th>LoanAmount</th>\n",
       "      <td>0.405789</td>\n",
       "      <td>0.201025</td>\n",
       "      <td>1.000000</td>\n",
       "      <td>0.058867</td>\n",
       "      <td>-0.012667</td>\n",
       "      <td>0.176813</td>\n",
       "      <td>0.184851</td>\n",
       "      <td>0.129296</td>\n",
       "      <td>-0.112107</td>\n",
       "      <td>0.114146</td>\n",
       "      <td>-0.107901</td>\n",
       "      <td>-0.020142</td>\n",
       "    </tr>\n",
       "    <tr>\n",
       "      <th>Loan_Amount_Term</th>\n",
       "      <td>-0.056030</td>\n",
       "      <td>0.003681</td>\n",
       "      <td>0.058867</td>\n",
       "      <td>1.000000</td>\n",
       "      <td>0.037019</td>\n",
       "      <td>-0.113871</td>\n",
       "      <td>-0.123803</td>\n",
       "      <td>-0.087864</td>\n",
       "      <td>-0.098948</td>\n",
       "      <td>-0.023573</td>\n",
       "      <td>-0.066607</td>\n",
       "      <td>-0.006555</td>\n",
       "    </tr>\n",
       "    <tr>\n",
       "      <th>Credit_History</th>\n",
       "      <td>0.026142</td>\n",
       "      <td>0.009305</td>\n",
       "      <td>-0.012667</td>\n",
       "      <td>0.037019</td>\n",
       "      <td>1.000000</td>\n",
       "      <td>0.014070</td>\n",
       "      <td>0.017736</td>\n",
       "      <td>-0.018741</td>\n",
       "      <td>-0.074122</td>\n",
       "      <td>-0.015570</td>\n",
       "      <td>-0.008974</td>\n",
       "      <td>0.560384</td>\n",
       "    </tr>\n",
       "    <tr>\n",
       "      <th>Gender</th>\n",
       "      <td>0.066606</td>\n",
       "      <td>0.233035</td>\n",
       "      <td>0.176813</td>\n",
       "      <td>-0.113871</td>\n",
       "      <td>0.014070</td>\n",
       "      <td>1.000000</td>\n",
       "      <td>0.382604</td>\n",
       "      <td>0.187770</td>\n",
       "      <td>0.044842</td>\n",
       "      <td>-0.006996</td>\n",
       "      <td>-0.027614</td>\n",
       "      <td>0.018844</td>\n",
       "    </tr>\n",
       "    <tr>\n",
       "      <th>Married</th>\n",
       "      <td>-0.028825</td>\n",
       "      <td>0.342862</td>\n",
       "      <td>0.184851</td>\n",
       "      <td>-0.123803</td>\n",
       "      <td>0.017736</td>\n",
       "      <td>0.382604</td>\n",
       "      <td>1.000000</td>\n",
       "      <td>0.333601</td>\n",
       "      <td>0.026955</td>\n",
       "      <td>-0.014345</td>\n",
       "      <td>0.009152</td>\n",
       "      <td>0.086678</td>\n",
       "    </tr>\n",
       "    <tr>\n",
       "      <th>Dependents</th>\n",
       "      <td>0.109165</td>\n",
       "      <td>0.005309</td>\n",
       "      <td>0.129296</td>\n",
       "      <td>-0.087864</td>\n",
       "      <td>-0.018741</td>\n",
       "      <td>0.187770</td>\n",
       "      <td>0.333601</td>\n",
       "      <td>1.000000</td>\n",
       "      <td>0.067910</td>\n",
       "      <td>0.043179</td>\n",
       "      <td>0.003784</td>\n",
       "      <td>0.020460</td>\n",
       "    </tr>\n",
       "    <tr>\n",
       "      <th>Education</th>\n",
       "      <td>-0.173381</td>\n",
       "      <td>0.053295</td>\n",
       "      <td>-0.112107</td>\n",
       "      <td>-0.098948</td>\n",
       "      <td>-0.074122</td>\n",
       "      <td>0.044842</td>\n",
       "      <td>0.026955</td>\n",
       "      <td>0.067910</td>\n",
       "      <td>1.000000</td>\n",
       "      <td>-0.008227</td>\n",
       "      <td>-0.067653</td>\n",
       "      <td>-0.090935</td>\n",
       "    </tr>\n",
       "    <tr>\n",
       "      <th>Self_Employed</th>\n",
       "      <td>0.209280</td>\n",
       "      <td>-0.090827</td>\n",
       "      <td>0.114146</td>\n",
       "      <td>-0.023573</td>\n",
       "      <td>-0.015570</td>\n",
       "      <td>-0.006996</td>\n",
       "      <td>-0.014345</td>\n",
       "      <td>0.043179</td>\n",
       "      <td>-0.008227</td>\n",
       "      <td>1.000000</td>\n",
       "      <td>-0.027538</td>\n",
       "      <td>-0.025230</td>\n",
       "    </tr>\n",
       "    <tr>\n",
       "      <th>Property_Area</th>\n",
       "      <td>-0.010341</td>\n",
       "      <td>-0.074111</td>\n",
       "      <td>-0.107901</td>\n",
       "      <td>-0.066607</td>\n",
       "      <td>-0.008974</td>\n",
       "      <td>-0.027614</td>\n",
       "      <td>0.009152</td>\n",
       "      <td>0.003784</td>\n",
       "      <td>-0.067653</td>\n",
       "      <td>-0.027538</td>\n",
       "      <td>1.000000</td>\n",
       "      <td>0.025228</td>\n",
       "    </tr>\n",
       "    <tr>\n",
       "      <th>Loan_Status</th>\n",
       "      <td>-0.003996</td>\n",
       "      <td>0.083697</td>\n",
       "      <td>-0.020142</td>\n",
       "      <td>-0.006555</td>\n",
       "      <td>0.560384</td>\n",
       "      <td>0.018844</td>\n",
       "      <td>0.086678</td>\n",
       "      <td>0.020460</td>\n",
       "      <td>-0.090935</td>\n",
       "      <td>-0.025230</td>\n",
       "      <td>0.025228</td>\n",
       "      <td>1.000000</td>\n",
       "    </tr>\n",
       "  </tbody>\n",
       "</table>\n",
       "</div>"
      ],
      "text/plain": [
       "                   ApplicantIncome  CoapplicantIncome  LoanAmount  \\\n",
       "ApplicantIncome           1.000000          -0.360339    0.405789   \n",
       "CoapplicantIncome        -0.360339           1.000000    0.201025   \n",
       "LoanAmount                0.405789           0.201025    1.000000   \n",
       "Loan_Amount_Term         -0.056030           0.003681    0.058867   \n",
       "Credit_History            0.026142           0.009305   -0.012667   \n",
       "Gender                    0.066606           0.233035    0.176813   \n",
       "Married                  -0.028825           0.342862    0.184851   \n",
       "Dependents                0.109165           0.005309    0.129296   \n",
       "Education                -0.173381           0.053295   -0.112107   \n",
       "Self_Employed             0.209280          -0.090827    0.114146   \n",
       "Property_Area            -0.010341          -0.074111   -0.107901   \n",
       "Loan_Status              -0.003996           0.083697   -0.020142   \n",
       "\n",
       "                   Loan_Amount_Term  Credit_History    Gender   Married  \\\n",
       "ApplicantIncome           -0.056030        0.026142  0.066606 -0.028825   \n",
       "CoapplicantIncome          0.003681        0.009305  0.233035  0.342862   \n",
       "LoanAmount                 0.058867       -0.012667  0.176813  0.184851   \n",
       "Loan_Amount_Term           1.000000        0.037019 -0.113871 -0.123803   \n",
       "Credit_History             0.037019        1.000000  0.014070  0.017736   \n",
       "Gender                    -0.113871        0.014070  1.000000  0.382604   \n",
       "Married                   -0.123803        0.017736  0.382604  1.000000   \n",
       "Dependents                -0.087864       -0.018741  0.187770  0.333601   \n",
       "Education                 -0.098948       -0.074122  0.044842  0.026955   \n",
       "Self_Employed             -0.023573       -0.015570 -0.006996 -0.014345   \n",
       "Property_Area             -0.066607       -0.008974 -0.027614  0.009152   \n",
       "Loan_Status               -0.006555        0.560384  0.018844  0.086678   \n",
       "\n",
       "                   Dependents  Education  Self_Employed  Property_Area  \\\n",
       "ApplicantIncome      0.109165  -0.173381       0.209280      -0.010341   \n",
       "CoapplicantIncome    0.005309   0.053295      -0.090827      -0.074111   \n",
       "LoanAmount           0.129296  -0.112107       0.114146      -0.107901   \n",
       "Loan_Amount_Term    -0.087864  -0.098948      -0.023573      -0.066607   \n",
       "Credit_History      -0.018741  -0.074122      -0.015570      -0.008974   \n",
       "Gender               0.187770   0.044842      -0.006996      -0.027614   \n",
       "Married              0.333601   0.026955      -0.014345       0.009152   \n",
       "Dependents           1.000000   0.067910       0.043179       0.003784   \n",
       "Education            0.067910   1.000000      -0.008227      -0.067653   \n",
       "Self_Employed        0.043179  -0.008227       1.000000      -0.027538   \n",
       "Property_Area        0.003784  -0.067653      -0.027538       1.000000   \n",
       "Loan_Status          0.020460  -0.090935      -0.025230       0.025228   \n",
       "\n",
       "                   Loan_Status  \n",
       "ApplicantIncome      -0.003996  \n",
       "CoapplicantIncome     0.083697  \n",
       "LoanAmount           -0.020142  \n",
       "Loan_Amount_Term     -0.006555  \n",
       "Credit_History        0.560384  \n",
       "Gender                0.018844  \n",
       "Married               0.086678  \n",
       "Dependents            0.020460  \n",
       "Education            -0.090935  \n",
       "Self_Employed        -0.025230  \n",
       "Property_Area         0.025228  \n",
       "Loan_Status           1.000000  "
      ]
     },
     "execution_count": 52,
     "metadata": {},
     "output_type": "execute_result"
    }
   ],
   "source": [
    "# Checking correlation\n",
    "dff.corr()"
   ]
  },
  {
   "cell_type": "code",
   "execution_count": 53,
   "id": "fc83414c",
   "metadata": {},
   "outputs": [
    {
     "data": {
      "text/plain": [
       "<AxesSubplot:>"
      ]
     },
     "execution_count": 53,
     "metadata": {},
     "output_type": "execute_result"
    },
    {
     "data": {
      "image/png": "[encoded data removed]",
      "text/plain": [
       "<Figure size 1296x576 with 2 Axes>"
      ]
     },
     "metadata": {
      "needs_background": "light"
     },
     "output_type": "display_data"
    }
   ],
   "source": [
    "# Visualizing correlation\n",
    "plt.figure(figsize=(18,8))\n",
    "sns.heatmap(dff.corr(),annot=True,linewidths=0.5,linecolor='b',fmt='.2f')"
   ]
  },
  {
   "cell_type": "markdown",
   "id": "a80e256e",
   "metadata": {},
   "source": [
    "Target 'Loan_Status' is highly positively correlated with 'Credit_History' and least correlation with 'ApplicantIncome'. 'Dependents' have a good correlation with 'Married'. 'Married' has good correlation with 'CoapplicantIncome' & 'Gender'. 'ApplicantIncome' has good correlation with 'Loan_Amount' and 'CoapplicantIncome'."
   ]
  },
  {
   "cell_type": "markdown",
   "id": "0e0bd172",
   "metadata": {},
   "source": [
    "### Dividing dataset in x and y"
   ]
  },
  {
   "cell_type": "code",
   "execution_count": 54,
   "id": "cd49354d",
   "metadata": {},
   "outputs": [
    {
     "data": {
      "text/html": [
       "<div>\n",
       "<style scoped>\n",
       "    .dataframe tbody tr th:only-of-type {\n",
       "        vertical-align: middle;\n",
       "    }\n",
       "\n",
       "    .dataframe tbody tr th {\n",
       "        vertical-align: top;\n",
       "    }\n",
       "\n",
       "    .dataframe thead th {\n",
       "        text-align: right;\n",
       "    }\n",
       "</style>\n",
       "<table border=\"1\" class=\"dataframe\">\n",
       "  <thead>\n",
       "    <tr style=\"text-align: right;\">\n",
       "      <th></th>\n",
       "      <th>ApplicantIncome</th>\n",
       "      <th>CoapplicantIncome</th>\n",
       "      <th>LoanAmount</th>\n",
       "      <th>Loan_Amount_Term</th>\n",
       "      <th>Credit_History</th>\n",
       "      <th>Gender</th>\n",
       "      <th>Married</th>\n",
       "      <th>Dependents</th>\n",
       "      <th>Education</th>\n",
       "      <th>Self_Employed</th>\n",
       "      <th>Property_Area</th>\n",
       "    </tr>\n",
       "  </thead>\n",
       "  <tbody>\n",
       "    <tr>\n",
       "      <th>0</th>\n",
       "      <td>8.674197</td>\n",
       "      <td>0.000000</td>\n",
       "      <td>4.859812</td>\n",
       "      <td>5.888878</td>\n",
       "      <td>0.693147</td>\n",
       "      <td>1</td>\n",
       "      <td>0</td>\n",
       "      <td>0</td>\n",
       "      <td>0</td>\n",
       "      <td>0</td>\n",
       "      <td>2</td>\n",
       "    </tr>\n",
       "    <tr>\n",
       "      <th>1</th>\n",
       "      <td>8.430327</td>\n",
       "      <td>7.319202</td>\n",
       "      <td>4.859812</td>\n",
       "      <td>5.888878</td>\n",
       "      <td>0.693147</td>\n",
       "      <td>1</td>\n",
       "      <td>1</td>\n",
       "      <td>1</td>\n",
       "      <td>0</td>\n",
       "      <td>0</td>\n",
       "      <td>0</td>\n",
       "    </tr>\n",
       "    <tr>\n",
       "      <th>2</th>\n",
       "      <td>8.006701</td>\n",
       "      <td>0.000000</td>\n",
       "      <td>4.204693</td>\n",
       "      <td>5.888878</td>\n",
       "      <td>0.693147</td>\n",
       "      <td>1</td>\n",
       "      <td>1</td>\n",
       "      <td>0</td>\n",
       "      <td>0</td>\n",
       "      <td>1</td>\n",
       "      <td>2</td>\n",
       "    </tr>\n",
       "    <tr>\n",
       "      <th>3</th>\n",
       "      <td>7.857094</td>\n",
       "      <td>7.765993</td>\n",
       "      <td>4.795791</td>\n",
       "      <td>5.888878</td>\n",
       "      <td>0.693147</td>\n",
       "      <td>1</td>\n",
       "      <td>1</td>\n",
       "      <td>0</td>\n",
       "      <td>1</td>\n",
       "      <td>0</td>\n",
       "      <td>2</td>\n",
       "    </tr>\n",
       "    <tr>\n",
       "      <th>4</th>\n",
       "      <td>8.699681</td>\n",
       "      <td>0.000000</td>\n",
       "      <td>4.955827</td>\n",
       "      <td>5.888878</td>\n",
       "      <td>0.693147</td>\n",
       "      <td>1</td>\n",
       "      <td>0</td>\n",
       "      <td>0</td>\n",
       "      <td>0</td>\n",
       "      <td>0</td>\n",
       "      <td>2</td>\n",
       "    </tr>\n",
       "    <tr>\n",
       "      <th>...</th>\n",
       "      <td>...</td>\n",
       "      <td>...</td>\n",
       "      <td>...</td>\n",
       "      <td>...</td>\n",
       "      <td>...</td>\n",
       "      <td>...</td>\n",
       "      <td>...</td>\n",
       "      <td>...</td>\n",
       "      <td>...</td>\n",
       "      <td>...</td>\n",
       "      <td>...</td>\n",
       "    </tr>\n",
       "    <tr>\n",
       "      <th>609</th>\n",
       "      <td>7.972811</td>\n",
       "      <td>0.000000</td>\n",
       "      <td>4.276666</td>\n",
       "      <td>5.888878</td>\n",
       "      <td>0.693147</td>\n",
       "      <td>0</td>\n",
       "      <td>0</td>\n",
       "      <td>0</td>\n",
       "      <td>0</td>\n",
       "      <td>0</td>\n",
       "      <td>0</td>\n",
       "    </tr>\n",
       "    <tr>\n",
       "      <th>610</th>\n",
       "      <td>8.320448</td>\n",
       "      <td>0.000000</td>\n",
       "      <td>3.713572</td>\n",
       "      <td>5.198497</td>\n",
       "      <td>0.693147</td>\n",
       "      <td>1</td>\n",
       "      <td>1</td>\n",
       "      <td>3</td>\n",
       "      <td>0</td>\n",
       "      <td>0</td>\n",
       "      <td>0</td>\n",
       "    </tr>\n",
       "    <tr>\n",
       "      <th>611</th>\n",
       "      <td>8.996280</td>\n",
       "      <td>5.484797</td>\n",
       "      <td>5.537334</td>\n",
       "      <td>5.888878</td>\n",
       "      <td>0.693147</td>\n",
       "      <td>1</td>\n",
       "      <td>1</td>\n",
       "      <td>1</td>\n",
       "      <td>0</td>\n",
       "      <td>0</td>\n",
       "      <td>2</td>\n",
       "    </tr>\n",
       "    <tr>\n",
       "      <th>612</th>\n",
       "      <td>8.933796</td>\n",
       "      <td>0.000000</td>\n",
       "      <td>5.236442</td>\n",
       "      <td>5.888878</td>\n",
       "      <td>0.693147</td>\n",
       "      <td>1</td>\n",
       "      <td>1</td>\n",
       "      <td>2</td>\n",
       "      <td>0</td>\n",
       "      <td>0</td>\n",
       "      <td>2</td>\n",
       "    </tr>\n",
       "    <tr>\n",
       "      <th>613</th>\n",
       "      <td>8.430327</td>\n",
       "      <td>0.000000</td>\n",
       "      <td>4.897840</td>\n",
       "      <td>5.888878</td>\n",
       "      <td>0.000000</td>\n",
       "      <td>0</td>\n",
       "      <td>0</td>\n",
       "      <td>0</td>\n",
       "      <td>0</td>\n",
       "      <td>1</td>\n",
       "      <td>1</td>\n",
       "    </tr>\n",
       "  </tbody>\n",
       "</table>\n",
       "<p>574 rows × 11 columns</p>\n",
       "</div>"
      ],
      "text/plain": [
       "     ApplicantIncome  CoapplicantIncome  LoanAmount  Loan_Amount_Term  \\\n",
       "0           8.674197           0.000000    4.859812          5.888878   \n",
       "1           8.430327           7.319202    4.859812          5.888878   \n",
       "2           8.006701           0.000000    4.204693          5.888878   \n",
       "3           7.857094           7.765993    4.795791          5.888878   \n",
       "4           8.699681           0.000000    4.955827          5.888878   \n",
       "..               ...                ...         ...               ...   \n",
       "609         7.972811           0.000000    4.276666          5.888878   \n",
       "610         8.320448           0.000000    3.713572          5.198497   \n",
       "611         8.996280           5.484797    5.537334          5.888878   \n",
       "612         8.933796           0.000000    5.236442          5.888878   \n",
       "613         8.430327           0.000000    4.897840          5.888878   \n",
       "\n",
       "     Credit_History  Gender  Married  Dependents  Education  Self_Employed  \\\n",
       "0          0.693147       1        0           0          0              0   \n",
       "1          0.693147       1        1           1          0              0   \n",
       "2          0.693147       1        1           0          0              1   \n",
       "3          0.693147       1        1           0          1              0   \n",
       "4          0.693147       1        0           0          0              0   \n",
       "..              ...     ...      ...         ...        ...            ...   \n",
       "609        0.693147       0        0           0          0              0   \n",
       "610        0.693147       1        1           3          0              0   \n",
       "611        0.693147       1        1           1          0              0   \n",
       "612        0.693147       1        1           2          0              0   \n",
       "613        0.000000       0        0           0          0              1   \n",
       "\n",
       "     Property_Area  \n",
       "0                2  \n",
       "1                0  \n",
       "2                2  \n",
       "3                2  \n",
       "4                2  \n",
       "..             ...  \n",
       "609              0  \n",
       "610              0  \n",
       "611              2  \n",
       "612              2  \n",
       "613              1  \n",
       "\n",
       "[574 rows x 11 columns]"
      ]
     },
     "execution_count": 54,
     "metadata": {},
     "output_type": "execute_result"
    }
   ],
   "source": [
    "x=dff.drop('Loan_Status',axis=1)\n",
    "x"
   ]
  },
  {
   "cell_type": "code",
   "execution_count": 55,
   "id": "835d1fda",
   "metadata": {},
   "outputs": [
    {
     "data": {
      "text/plain": [
       "0      1\n",
       "1      0\n",
       "2      1\n",
       "3      1\n",
       "4      1\n",
       "      ..\n",
       "609    1\n",
       "610    1\n",
       "611    1\n",
       "612    1\n",
       "613    0\n",
       "Name: Loan_Status, Length: 574, dtype: int32"
      ]
     },
     "execution_count": 55,
     "metadata": {},
     "output_type": "execute_result"
    }
   ],
   "source": [
    "y=dff['Loan_Status']\n",
    "y"
   ]
  },
  {
   "cell_type": "code",
   "execution_count": 56,
   "id": "a3ac4afc",
   "metadata": {},
   "outputs": [
    {
     "name": "stdout",
     "output_type": "stream",
     "text": [
      "Shape of x :  (574, 11)\n",
      "Shape of y :  (574,)\n"
     ]
    }
   ],
   "source": [
    "# Checking shapes of x and y \n",
    "print('Shape of x : ',x.shape)\n",
    "print('Shape of y : ',y.shape)"
   ]
  },
  {
   "cell_type": "markdown",
   "id": "8f65b573",
   "metadata": {},
   "source": [
    "### Multicollinearity with VIF"
   ]
  },
  {
   "cell_type": "code",
   "execution_count": 57,
   "id": "28f32205",
   "metadata": {},
   "outputs": [],
   "source": [
    "# Imporing required libraries\n",
    "import statsmodels.api as sm\n",
    "from statsmodels.stats.outliers_influence import variance_inflation_factor"
   ]
  },
  {
   "cell_type": "code",
   "execution_count": 58,
   "id": "231327f3",
   "metadata": {},
   "outputs": [
    {
     "data": {
      "text/html": [
       "<div>\n",
       "<style scoped>\n",
       "    .dataframe tbody tr th:only-of-type {\n",
       "        vertical-align: middle;\n",
       "    }\n",
       "\n",
       "    .dataframe tbody tr th {\n",
       "        vertical-align: top;\n",
       "    }\n",
       "\n",
       "    .dataframe thead th {\n",
       "        text-align: right;\n",
       "    }\n",
       "</style>\n",
       "<table border=\"1\" class=\"dataframe\">\n",
       "  <thead>\n",
       "    <tr style=\"text-align: right;\">\n",
       "      <th></th>\n",
       "      <th>Variables</th>\n",
       "      <th>VIF Factors</th>\n",
       "    </tr>\n",
       "  </thead>\n",
       "  <tbody>\n",
       "    <tr>\n",
       "      <th>0</th>\n",
       "      <td>ApplicantIncome</td>\n",
       "      <td>307.791365</td>\n",
       "    </tr>\n",
       "    <tr>\n",
       "      <th>1</th>\n",
       "      <td>CoapplicantIncome</td>\n",
       "      <td>3.496729</td>\n",
       "    </tr>\n",
       "    <tr>\n",
       "      <th>2</th>\n",
       "      <td>LoanAmount</td>\n",
       "      <td>194.912696</td>\n",
       "    </tr>\n",
       "    <tr>\n",
       "      <th>3</th>\n",
       "      <td>Loan_Amount_Term</td>\n",
       "      <td>235.811484</td>\n",
       "    </tr>\n",
       "    <tr>\n",
       "      <th>4</th>\n",
       "      <td>Credit_History</td>\n",
       "      <td>6.739945</td>\n",
       "    </tr>\n",
       "    <tr>\n",
       "      <th>5</th>\n",
       "      <td>Gender</td>\n",
       "      <td>6.648269</td>\n",
       "    </tr>\n",
       "    <tr>\n",
       "      <th>6</th>\n",
       "      <td>Married</td>\n",
       "      <td>4.048508</td>\n",
       "    </tr>\n",
       "    <tr>\n",
       "      <th>7</th>\n",
       "      <td>Dependents</td>\n",
       "      <td>1.789162</td>\n",
       "    </tr>\n",
       "    <tr>\n",
       "      <th>8</th>\n",
       "      <td>Education</td>\n",
       "      <td>1.332432</td>\n",
       "    </tr>\n",
       "    <tr>\n",
       "      <th>9</th>\n",
       "      <td>Self_Employed</td>\n",
       "      <td>1.199744</td>\n",
       "    </tr>\n",
       "    <tr>\n",
       "      <th>10</th>\n",
       "      <td>Property_Area</td>\n",
       "      <td>2.730241</td>\n",
       "    </tr>\n",
       "  </tbody>\n",
       "</table>\n",
       "</div>"
      ],
      "text/plain": [
       "            Variables  VIF Factors\n",
       "0     ApplicantIncome   307.791365\n",
       "1   CoapplicantIncome     3.496729\n",
       "2          LoanAmount   194.912696\n",
       "3    Loan_Amount_Term   235.811484\n",
       "4      Credit_History     6.739945\n",
       "5              Gender     6.648269\n",
       "6             Married     4.048508\n",
       "7          Dependents     1.789162\n",
       "8           Education     1.332432\n",
       "9       Self_Employed     1.199744\n",
       "10      Property_Area     2.730241"
      ]
     },
     "execution_count": 58,
     "metadata": {},
     "output_type": "execute_result"
    }
   ],
   "source": [
    "def calc_vif(x) :\n",
    "    vif=pd.DataFrame()\n",
    "    vif['Variables'] = x.columns\n",
    "    vif['VIF Factors']=[variance_inflation_factor(x.values,i) for i in range(x.shape[1])]\n",
    "    return vif\n",
    "\n",
    "calc_vif(x)"
   ]
  },
  {
   "cell_type": "code",
   "execution_count": 59,
   "id": "daa294bf",
   "metadata": {},
   "outputs": [
    {
     "data": {
      "text/html": [
       "<div>\n",
       "<style scoped>\n",
       "    .dataframe tbody tr th:only-of-type {\n",
       "        vertical-align: middle;\n",
       "    }\n",
       "\n",
       "    .dataframe tbody tr th {\n",
       "        vertical-align: top;\n",
       "    }\n",
       "\n",
       "    .dataframe thead th {\n",
       "        text-align: right;\n",
       "    }\n",
       "</style>\n",
       "<table border=\"1\" class=\"dataframe\">\n",
       "  <thead>\n",
       "    <tr style=\"text-align: right;\">\n",
       "      <th></th>\n",
       "      <th>Variables</th>\n",
       "      <th>VIF Factors</th>\n",
       "    </tr>\n",
       "  </thead>\n",
       "  <tbody>\n",
       "    <tr>\n",
       "      <th>0</th>\n",
       "      <td>CoapplicantIncome</td>\n",
       "      <td>2.767975</td>\n",
       "    </tr>\n",
       "    <tr>\n",
       "      <th>1</th>\n",
       "      <td>LoanAmount</td>\n",
       "      <td>137.089116</td>\n",
       "    </tr>\n",
       "    <tr>\n",
       "      <th>2</th>\n",
       "      <td>Loan_Amount_Term</td>\n",
       "      <td>136.627066</td>\n",
       "    </tr>\n",
       "    <tr>\n",
       "      <th>3</th>\n",
       "      <td>Credit_History</td>\n",
       "      <td>6.716290</td>\n",
       "    </tr>\n",
       "    <tr>\n",
       "      <th>4</th>\n",
       "      <td>Gender</td>\n",
       "      <td>6.540625</td>\n",
       "    </tr>\n",
       "    <tr>\n",
       "      <th>5</th>\n",
       "      <td>Married</td>\n",
       "      <td>4.046484</td>\n",
       "    </tr>\n",
       "    <tr>\n",
       "      <th>6</th>\n",
       "      <td>Dependents</td>\n",
       "      <td>1.785920</td>\n",
       "    </tr>\n",
       "    <tr>\n",
       "      <th>7</th>\n",
       "      <td>Education</td>\n",
       "      <td>1.327709</td>\n",
       "    </tr>\n",
       "    <tr>\n",
       "      <th>8</th>\n",
       "      <td>Self_Employed</td>\n",
       "      <td>1.179908</td>\n",
       "    </tr>\n",
       "    <tr>\n",
       "      <th>9</th>\n",
       "      <td>Property_Area</td>\n",
       "      <td>2.720760</td>\n",
       "    </tr>\n",
       "  </tbody>\n",
       "</table>\n",
       "</div>"
      ],
      "text/plain": [
       "           Variables  VIF Factors\n",
       "0  CoapplicantIncome     2.767975\n",
       "1         LoanAmount   137.089116\n",
       "2   Loan_Amount_Term   136.627066\n",
       "3     Credit_History     6.716290\n",
       "4             Gender     6.540625\n",
       "5            Married     4.046484\n",
       "6         Dependents     1.785920\n",
       "7          Education     1.327709\n",
       "8      Self_Employed     1.179908\n",
       "9      Property_Area     2.720760"
      ]
     },
     "execution_count": 59,
     "metadata": {},
     "output_type": "execute_result"
    }
   ],
   "source": [
    "# Drop PerformanceRating and check Multicollinearity again\n",
    "x1=x.drop('ApplicantIncome',axis=1)\n",
    "calc_vif(x1)"
   ]
  },
  {
   "cell_type": "code",
   "execution_count": 60,
   "id": "533525fa",
   "metadata": {},
   "outputs": [
    {
     "data": {
      "text/html": [
       "<div>\n",
       "<style scoped>\n",
       "    .dataframe tbody tr th:only-of-type {\n",
       "        vertical-align: middle;\n",
       "    }\n",
       "\n",
       "    .dataframe tbody tr th {\n",
       "        vertical-align: top;\n",
       "    }\n",
       "\n",
       "    .dataframe thead th {\n",
       "        text-align: right;\n",
       "    }\n",
       "</style>\n",
       "<table border=\"1\" class=\"dataframe\">\n",
       "  <thead>\n",
       "    <tr style=\"text-align: right;\">\n",
       "      <th></th>\n",
       "      <th>Variables</th>\n",
       "      <th>VIF Factors</th>\n",
       "    </tr>\n",
       "  </thead>\n",
       "  <tbody>\n",
       "    <tr>\n",
       "      <th>0</th>\n",
       "      <td>CoapplicantIncome</td>\n",
       "      <td>2.711751</td>\n",
       "    </tr>\n",
       "    <tr>\n",
       "      <th>1</th>\n",
       "      <td>Loan_Amount_Term</td>\n",
       "      <td>13.873349</td>\n",
       "    </tr>\n",
       "    <tr>\n",
       "      <th>2</th>\n",
       "      <td>Credit_History</td>\n",
       "      <td>6.714733</td>\n",
       "    </tr>\n",
       "    <tr>\n",
       "      <th>3</th>\n",
       "      <td>Gender</td>\n",
       "      <td>6.423921</td>\n",
       "    </tr>\n",
       "    <tr>\n",
       "      <th>4</th>\n",
       "      <td>Married</td>\n",
       "      <td>4.015328</td>\n",
       "    </tr>\n",
       "    <tr>\n",
       "      <th>5</th>\n",
       "      <td>Dependents</td>\n",
       "      <td>1.768206</td>\n",
       "    </tr>\n",
       "    <tr>\n",
       "      <th>6</th>\n",
       "      <td>Education</td>\n",
       "      <td>1.313544</td>\n",
       "    </tr>\n",
       "    <tr>\n",
       "      <th>7</th>\n",
       "      <td>Self_Employed</td>\n",
       "      <td>1.158128</td>\n",
       "    </tr>\n",
       "    <tr>\n",
       "      <th>8</th>\n",
       "      <td>Property_Area</td>\n",
       "      <td>2.709420</td>\n",
       "    </tr>\n",
       "  </tbody>\n",
       "</table>\n",
       "</div>"
      ],
      "text/plain": [
       "           Variables  VIF Factors\n",
       "0  CoapplicantIncome     2.711751\n",
       "1   Loan_Amount_Term    13.873349\n",
       "2     Credit_History     6.714733\n",
       "3             Gender     6.423921\n",
       "4            Married     4.015328\n",
       "5         Dependents     1.768206\n",
       "6          Education     1.313544\n",
       "7      Self_Employed     1.158128\n",
       "8      Property_Area     2.709420"
      ]
     },
     "execution_count": 60,
     "metadata": {},
     "output_type": "execute_result"
    }
   ],
   "source": [
    "x1=x1.drop('LoanAmount',axis=1)\n",
    "calc_vif(x1)"
   ]
  },
  {
   "cell_type": "markdown",
   "id": "4e4af95e",
   "metadata": {},
   "source": [
    "In dataset, among multicolnear columns the features that are contributing less to the output variable can be dropped. We can drop 1-2 columns showing high colinearity but not all as it impacts the output.\n",
    "\n",
    "Machine learning needs refined dataset. It needs only those columns that are highly contributing to the output. Clean data for which EDA is used. This is for better learning and prediction of data by models.\n",
    "\n",
    "Once refining is done we'll do Standard Scaler to make all data scaled to mean=0 and std.dev.=+-1, so that prediction could be nearby."
   ]
  },
  {
   "cell_type": "markdown",
   "id": "2a091fed",
   "metadata": {},
   "source": [
    "### Scaling : Standard Scaler / Min-Max Scaler"
   ]
  },
  {
   "cell_type": "code",
   "execution_count": 61,
   "id": "9683dd5a",
   "metadata": {},
   "outputs": [
    {
     "data": {
      "text/html": [
       "<div>\n",
       "<style scoped>\n",
       "    .dataframe tbody tr th:only-of-type {\n",
       "        vertical-align: middle;\n",
       "    }\n",
       "\n",
       "    .dataframe tbody tr th {\n",
       "        vertical-align: top;\n",
       "    }\n",
       "\n",
       "    .dataframe thead th {\n",
       "        text-align: right;\n",
       "    }\n",
       "</style>\n",
       "<table border=\"1\" class=\"dataframe\">\n",
       "  <thead>\n",
       "    <tr style=\"text-align: right;\">\n",
       "      <th></th>\n",
       "      <th>CoapplicantIncome</th>\n",
       "      <th>Loan_Amount_Term</th>\n",
       "      <th>Credit_History</th>\n",
       "      <th>Gender</th>\n",
       "      <th>Married</th>\n",
       "      <th>Dependents</th>\n",
       "      <th>Education</th>\n",
       "      <th>Self_Employed</th>\n",
       "      <th>Property_Area</th>\n",
       "    </tr>\n",
       "  </thead>\n",
       "  <tbody>\n",
       "    <tr>\n",
       "      <th>0</th>\n",
       "      <td>-1.130261</td>\n",
       "      <td>0.260149</td>\n",
       "      <td>0.419797</td>\n",
       "      <td>0.475916</td>\n",
       "      <td>-1.357050</td>\n",
       "      <td>-0.726194</td>\n",
       "      <td>-0.543793</td>\n",
       "      <td>-0.381718</td>\n",
       "      <td>1.227882</td>\n",
       "    </tr>\n",
       "    <tr>\n",
       "      <th>1</th>\n",
       "      <td>0.777733</td>\n",
       "      <td>0.260149</td>\n",
       "      <td>0.419797</td>\n",
       "      <td>0.475916</td>\n",
       "      <td>0.736893</td>\n",
       "      <td>0.278229</td>\n",
       "      <td>-0.543793</td>\n",
       "      <td>-0.381718</td>\n",
       "      <td>-1.302834</td>\n",
       "    </tr>\n",
       "    <tr>\n",
       "      <th>2</th>\n",
       "      <td>-1.130261</td>\n",
       "      <td>0.260149</td>\n",
       "      <td>0.419797</td>\n",
       "      <td>0.475916</td>\n",
       "      <td>0.736893</td>\n",
       "      <td>-0.726194</td>\n",
       "      <td>-0.543793</td>\n",
       "      <td>2.619735</td>\n",
       "      <td>1.227882</td>\n",
       "    </tr>\n",
       "    <tr>\n",
       "      <th>3</th>\n",
       "      <td>0.894204</td>\n",
       "      <td>0.260149</td>\n",
       "      <td>0.419797</td>\n",
       "      <td>0.475916</td>\n",
       "      <td>0.736893</td>\n",
       "      <td>-0.726194</td>\n",
       "      <td>1.838934</td>\n",
       "      <td>-0.381718</td>\n",
       "      <td>1.227882</td>\n",
       "    </tr>\n",
       "    <tr>\n",
       "      <th>4</th>\n",
       "      <td>-1.130261</td>\n",
       "      <td>0.260149</td>\n",
       "      <td>0.419797</td>\n",
       "      <td>0.475916</td>\n",
       "      <td>-1.357050</td>\n",
       "      <td>-0.726194</td>\n",
       "      <td>-0.543793</td>\n",
       "      <td>-0.381718</td>\n",
       "      <td>1.227882</td>\n",
       "    </tr>\n",
       "    <tr>\n",
       "      <th>...</th>\n",
       "      <td>...</td>\n",
       "      <td>...</td>\n",
       "      <td>...</td>\n",
       "      <td>...</td>\n",
       "      <td>...</td>\n",
       "      <td>...</td>\n",
       "      <td>...</td>\n",
       "      <td>...</td>\n",
       "      <td>...</td>\n",
       "    </tr>\n",
       "    <tr>\n",
       "      <th>569</th>\n",
       "      <td>-1.130261</td>\n",
       "      <td>0.260149</td>\n",
       "      <td>0.419797</td>\n",
       "      <td>-2.101213</td>\n",
       "      <td>-1.357050</td>\n",
       "      <td>-0.726194</td>\n",
       "      <td>-0.543793</td>\n",
       "      <td>-0.381718</td>\n",
       "      <td>-1.302834</td>\n",
       "    </tr>\n",
       "    <tr>\n",
       "      <th>570</th>\n",
       "      <td>-1.130261</td>\n",
       "      <td>-3.425880</td>\n",
       "      <td>0.419797</td>\n",
       "      <td>0.475916</td>\n",
       "      <td>0.736893</td>\n",
       "      <td>2.287074</td>\n",
       "      <td>-0.543793</td>\n",
       "      <td>-0.381718</td>\n",
       "      <td>-1.302834</td>\n",
       "    </tr>\n",
       "    <tr>\n",
       "      <th>571</th>\n",
       "      <td>0.299534</td>\n",
       "      <td>0.260149</td>\n",
       "      <td>0.419797</td>\n",
       "      <td>0.475916</td>\n",
       "      <td>0.736893</td>\n",
       "      <td>0.278229</td>\n",
       "      <td>-0.543793</td>\n",
       "      <td>-0.381718</td>\n",
       "      <td>1.227882</td>\n",
       "    </tr>\n",
       "    <tr>\n",
       "      <th>572</th>\n",
       "      <td>-1.130261</td>\n",
       "      <td>0.260149</td>\n",
       "      <td>0.419797</td>\n",
       "      <td>0.475916</td>\n",
       "      <td>0.736893</td>\n",
       "      <td>1.282651</td>\n",
       "      <td>-0.543793</td>\n",
       "      <td>-0.381718</td>\n",
       "      <td>1.227882</td>\n",
       "    </tr>\n",
       "    <tr>\n",
       "      <th>573</th>\n",
       "      <td>-1.130261</td>\n",
       "      <td>0.260149</td>\n",
       "      <td>-2.382104</td>\n",
       "      <td>-2.101213</td>\n",
       "      <td>-1.357050</td>\n",
       "      <td>-0.726194</td>\n",
       "      <td>-0.543793</td>\n",
       "      <td>2.619735</td>\n",
       "      <td>-0.037476</td>\n",
       "    </tr>\n",
       "  </tbody>\n",
       "</table>\n",
       "<p>574 rows × 9 columns</p>\n",
       "</div>"
      ],
      "text/plain": [
       "     CoapplicantIncome  Loan_Amount_Term  Credit_History    Gender   Married  \\\n",
       "0            -1.130261          0.260149        0.419797  0.475916 -1.357050   \n",
       "1             0.777733          0.260149        0.419797  0.475916  0.736893   \n",
       "2            -1.130261          0.260149        0.419797  0.475916  0.736893   \n",
       "3             0.894204          0.260149        0.419797  0.475916  0.736893   \n",
       "4            -1.130261          0.260149        0.419797  0.475916 -1.357050   \n",
       "..                 ...               ...             ...       ...       ...   \n",
       "569          -1.130261          0.260149        0.419797 -2.101213 -1.357050   \n",
       "570          -1.130261         -3.425880        0.419797  0.475916  0.736893   \n",
       "571           0.299534          0.260149        0.419797  0.475916  0.736893   \n",
       "572          -1.130261          0.260149        0.419797  0.475916  0.736893   \n",
       "573          -1.130261          0.260149       -2.382104 -2.101213 -1.357050   \n",
       "\n",
       "     Dependents  Education  Self_Employed  Property_Area  \n",
       "0     -0.726194  -0.543793      -0.381718       1.227882  \n",
       "1      0.278229  -0.543793      -0.381718      -1.302834  \n",
       "2     -0.726194  -0.543793       2.619735       1.227882  \n",
       "3     -0.726194   1.838934      -0.381718       1.227882  \n",
       "4     -0.726194  -0.543793      -0.381718       1.227882  \n",
       "..          ...        ...            ...            ...  \n",
       "569   -0.726194  -0.543793      -0.381718      -1.302834  \n",
       "570    2.287074  -0.543793      -0.381718      -1.302834  \n",
       "571    0.278229  -0.543793      -0.381718       1.227882  \n",
       "572    1.282651  -0.543793      -0.381718       1.227882  \n",
       "573   -0.726194  -0.543793       2.619735      -0.037476  \n",
       "\n",
       "[574 rows x 9 columns]"
      ]
     },
     "execution_count": 61,
     "metadata": {},
     "output_type": "execute_result"
    }
   ],
   "source": [
    "from sklearn.preprocessing import StandardScaler\n",
    "sc=StandardScaler()\n",
    "xs=sc.fit_transform(x1)\n",
    "x2=pd.DataFrame(xs,columns=x1.columns)\n",
    "x2"
   ]
  },
  {
   "cell_type": "markdown",
   "id": "76f96d31",
   "metadata": {},
   "source": [
    "Our dataset is now scaled and ready to feed into the model."
   ]
  },
  {
   "cell_type": "markdown",
   "id": "4d891268",
   "metadata": {},
   "source": [
    "### Find best random state for Train-Test Split"
   ]
  },
  {
   "cell_type": "code",
   "execution_count": 62,
   "id": "6c638c66",
   "metadata": {},
   "outputs": [],
   "source": [
    "#Importing required libraries\n",
    "from sklearn.linear_model import LogisticRegression\n",
    "from sklearn.tree import DecisionTreeClassifier\n",
    "from sklearn.neighbors import KNeighborsClassifier\n",
    "from sklearn.svm import SVC\n",
    "from sklearn.ensemble import RandomForestClassifier\n",
    "from sklearn.ensemble import GradientBoostingClassifier\n",
    "\n",
    "from sklearn.metrics import mean_absolute_error\n",
    "\n",
    "from sklearn.model_selection import train_test_split\n",
    "from sklearn.metrics import accuracy_score, confusion_matrix, classification_report"
   ]
  },
  {
   "cell_type": "code",
   "execution_count": 63,
   "id": "4eea8e51",
   "metadata": {},
   "outputs": [
    {
     "name": "stdout",
     "output_type": "stream",
     "text": [
      "Best random state :  0  Accuracy(Training) :  81.79551122194513  Accuracy(Testing) :  81.5028901734104\n",
      "Best random state :  7  Accuracy(Training) :  81.54613466334165  Accuracy(Testing) :  82.08092485549133\n",
      "Best random state :  8  Accuracy(Training) :  81.54613466334165  Accuracy(Testing) :  82.08092485549133\n",
      "Best random state :  9  Accuracy(Training) :  81.79551122194513  Accuracy(Testing) :  81.5028901734104\n",
      "Best random state :  12  Accuracy(Training) :  81.54613466334165  Accuracy(Testing) :  82.08092485549133\n",
      "Best random state :  19  Accuracy(Training) :  81.79551122194513  Accuracy(Testing) :  81.5028901734104\n",
      "Best random state :  20  Accuracy(Training) :  81.54613466334165  Accuracy(Testing) :  82.08092485549133\n",
      "Best random state :  21  Accuracy(Training) :  81.79551122194513  Accuracy(Testing) :  81.5028901734104\n",
      "Best random state :  22  Accuracy(Training) :  81.79551122194513  Accuracy(Testing) :  81.5028901734104\n",
      "Best random state :  24  Accuracy(Training) :  81.79551122194513  Accuracy(Testing) :  81.5028901734104\n",
      "Best random state :  29  Accuracy(Training) :  81.54613466334165  Accuracy(Testing) :  82.08092485549133\n",
      "Best random state :  35  Accuracy(Training) :  81.54613466334165  Accuracy(Testing) :  82.08092485549133\n",
      "Best random state :  46  Accuracy(Training) :  81.79551122194513  Accuracy(Testing) :  81.5028901734104\n",
      "Best random state :  47  Accuracy(Training) :  81.79551122194513  Accuracy(Testing) :  81.5028901734104\n",
      "Best random state :  49  Accuracy(Training) :  81.54613466334165  Accuracy(Testing) :  82.08092485549133\n",
      "Best random state :  55  Accuracy(Training) :  81.79551122194513  Accuracy(Testing) :  81.5028901734104\n",
      "Best random state :  66  Accuracy(Training) :  81.79551122194513  Accuracy(Testing) :  81.5028901734104\n",
      "Best random state :  92  Accuracy(Training) :  81.79551122194513  Accuracy(Testing) :  81.5028901734104\n",
      "Best random state :  95  Accuracy(Training) :  81.54613466334165  Accuracy(Testing) :  82.08092485549133\n",
      "Best random state :  98  Accuracy(Training) :  81.79551122194513  Accuracy(Testing) :  81.5028901734104\n",
      "Best random state :  99  Accuracy(Training) :  81.79551122194513  Accuracy(Testing) :  81.5028901734104\n",
      "Final Best random state :  82  Accuracy(Training) :  81.79551122194513  Accuracy(Testing) :  88.4393063583815\n"
     ]
    }
   ],
   "source": [
    "#Finding out the best random state\n",
    "\n",
    "maxAcc=0\n",
    "rs=0\n",
    "for i in range(0,100) :\n",
    "    x_train,x_test,y_train,y_test=train_test_split(x2,y,test_size=0.3,random_state=i)\n",
    "    \n",
    "    lr=LogisticRegression()\n",
    "    lr.fit(x_train,y_train)\n",
    "    predtrain=lr.predict(x_train)\n",
    "    predtest=lr.predict(x_test)\n",
    "    acctrain=accuracy_score(y_train,predtrain)\n",
    "    acctest=accuracy_score(y_test,predtest)\n",
    "    if round(acctrain,2)==round(acctest,2) :\n",
    "        print('Best random state : ',i,' Accuracy(Training) : ',acctrain*100,' Accuracy(Testing) : ',acctest*100)\n",
    "        \n",
    "    if acctest>maxAcc :\n",
    "        maxAcc=acctest\n",
    "        rs=i      \n",
    "print('Final Best random state : ',rs,' Accuracy(Training) : ',acctrain*100,' Accuracy(Testing) : ',maxAcc*100)"
   ]
  },
  {
   "cell_type": "markdown",
   "id": "9bfbb3fe",
   "metadata": {},
   "source": [
    "Here, training & testing accuracies are almost same for random state=82. So, lets take 82 as our best random state."
   ]
  },
  {
   "cell_type": "code",
   "execution_count": 64,
   "id": "f7c5f5d2",
   "metadata": {},
   "outputs": [
    {
     "name": "stdout",
     "output_type": "stream",
     "text": [
      "(401, 9)\n",
      "(173, 9)\n",
      "(401,)\n",
      "(173,)\n"
     ]
    }
   ],
   "source": [
    "# train-test split with best randon state and finding the train and test set shape after splittng\n",
    "x_train,x_test,y_train,y_test=train_test_split(x2,y,test_size=0.3,random_state=82)\n",
    "print(x_train.shape)\n",
    "print(x_test.shape)\n",
    "print(y_train.shape)\n",
    "print(y_test.shape)"
   ]
  },
  {
   "cell_type": "code",
   "execution_count": 65,
   "id": "0dfff8aa",
   "metadata": {},
   "outputs": [
    {
     "data": {
      "text/plain": [
       "1    266\n",
       "0    135\n",
       "Name: Loan_Status, dtype: int64"
      ]
     },
     "execution_count": 65,
     "metadata": {},
     "output_type": "execute_result"
    }
   ],
   "source": [
    "y_train.value_counts()"
   ]
  },
  {
   "cell_type": "markdown",
   "id": "7c74abad",
   "metadata": {},
   "source": [
    "### Class Imbalance"
   ]
  },
  {
   "cell_type": "code",
   "execution_count": 66,
   "id": "93361152",
   "metadata": {},
   "outputs": [],
   "source": [
    "from imblearn.over_sampling import SMOTE\n",
    "sm=SMOTE()\n",
    "trainx,trainy=sm.fit_resample(x_train,y_train)"
   ]
  },
  {
   "cell_type": "markdown",
   "id": "5098dabe",
   "metadata": {},
   "source": [
    "Resampling is done on training dataset as samplng on whole dataset will create unnecessary testing and validation sets which will give misleading results."
   ]
  },
  {
   "cell_type": "code",
   "execution_count": 67,
   "id": "b770186e",
   "metadata": {},
   "outputs": [
    {
     "data": {
      "text/plain": [
       "0    266\n",
       "1    266\n",
       "Name: Loan_Status, dtype: int64"
      ]
     },
     "execution_count": 67,
     "metadata": {},
     "output_type": "execute_result"
    }
   ],
   "source": [
    "trainy.value_counts()"
   ]
  },
  {
   "cell_type": "markdown",
   "id": "be5fef2f",
   "metadata": {},
   "source": [
    "### Finding the best algorithm"
   ]
  },
  {
   "cell_type": "code",
   "execution_count": 68,
   "id": "e30ccf07",
   "metadata": {},
   "outputs": [],
   "source": [
    "# Making instance of classifiers\n",
    "lr=LogisticRegression()\n",
    "dtc=DecisionTreeClassifier()\n",
    "knn=KNeighborsClassifier()\n",
    "rf=RandomForestClassifier()\n",
    "xg=GradientBoostingClassifier()"
   ]
  },
  {
   "cell_type": "code",
   "execution_count": 69,
   "id": "d0bb2ddf",
   "metadata": {},
   "outputs": [
    {
     "name": "stdout",
     "output_type": "stream",
     "text": [
      "LogisticRegression()\n",
      "Accuracy(Training) :  69.73684210526315  Accuracy(Test)  83.8150289017341  Mean absolute error :  0.16184971098265896\n",
      "[[ 25  19]\n",
      " [  9 120]]\n",
      "              precision    recall  f1-score   support\n",
      "\n",
      "           0       0.74      0.57      0.64        44\n",
      "           1       0.86      0.93      0.90       129\n",
      "\n",
      "    accuracy                           0.84       173\n",
      "   macro avg       0.80      0.75      0.77       173\n",
      "weighted avg       0.83      0.84      0.83       173\n",
      "\n",
      "\n",
      "\n",
      "DecisionTreeClassifier()\n",
      "Accuracy(Training) :  94.73684210526315  Accuracy(Test)  69.36416184971098  Mean absolute error :  0.3063583815028902\n",
      "[[27 17]\n",
      " [36 93]]\n",
      "              precision    recall  f1-score   support\n",
      "\n",
      "           0       0.43      0.61      0.50        44\n",
      "           1       0.85      0.72      0.78       129\n",
      "\n",
      "    accuracy                           0.69       173\n",
      "   macro avg       0.64      0.67      0.64       173\n",
      "weighted avg       0.74      0.69      0.71       173\n",
      "\n",
      "\n",
      "\n",
      "KNeighborsClassifier()\n",
      "Accuracy(Training) :  82.5187969924812  Accuracy(Test)  71.09826589595376  Mean absolute error :  0.28901734104046245\n",
      "[[25 19]\n",
      " [31 98]]\n",
      "              precision    recall  f1-score   support\n",
      "\n",
      "           0       0.45      0.57      0.50        44\n",
      "           1       0.84      0.76      0.80       129\n",
      "\n",
      "    accuracy                           0.71       173\n",
      "   macro avg       0.64      0.66      0.65       173\n",
      "weighted avg       0.74      0.71      0.72       173\n",
      "\n",
      "\n",
      "\n",
      "RandomForestClassifier()\n",
      "Accuracy(Training) :  94.73684210526315  Accuracy(Test)  75.14450867052022  Mean absolute error :  0.24855491329479767\n",
      "[[ 28  16]\n",
      " [ 27 102]]\n",
      "              precision    recall  f1-score   support\n",
      "\n",
      "           0       0.51      0.64      0.57        44\n",
      "           1       0.86      0.79      0.83       129\n",
      "\n",
      "    accuracy                           0.75       173\n",
      "   macro avg       0.69      0.71      0.70       173\n",
      "weighted avg       0.77      0.75      0.76       173\n",
      "\n",
      "\n",
      "\n",
      "GradientBoostingClassifier()\n",
      "Accuracy(Training) :  88.1578947368421  Accuracy(Test)  74.56647398843931  Mean absolute error :  0.2543352601156069\n",
      "[[ 27  17]\n",
      " [ 27 102]]\n",
      "              precision    recall  f1-score   support\n",
      "\n",
      "           0       0.50      0.61      0.55        44\n",
      "           1       0.86      0.79      0.82       129\n",
      "\n",
      "    accuracy                           0.75       173\n",
      "   macro avg       0.68      0.70      0.69       173\n",
      "weighted avg       0.77      0.75      0.75       173\n",
      "\n",
      "\n",
      "\n"
     ]
    }
   ],
   "source": [
    "#Executing all algorithms in a single for loop\n",
    "\n",
    "algo_list=[lr,dtc,knn,rf,xg]\n",
    "for i in algo_list :\n",
    "    print(i)\n",
    "    i.fit(trainx,trainy)\n",
    "    predtrain=i.predict(trainx)\n",
    "    predtest=i.predict(x_test)\n",
    "    acctrain=accuracy_score(trainy,predtrain)\n",
    "    acctest=accuracy_score(y_test,predtest)\n",
    "    err=mean_absolute_error(y_test,predtest)\n",
    "    \n",
    "    print('Accuracy(Training) : ',acctrain*100,' Accuracy(Test) ',acctest*100,' Mean absolute error : ',err)\n",
    "    print(confusion_matrix(y_test,predtest))\n",
    "    print(classification_report(y_test,predtest))\n",
    "    print('\\n')"
   ]
  },
  {
   "cell_type": "markdown",
   "id": "f8c0e863",
   "metadata": {},
   "source": [
    "LogisticRegression has the highest accuracy but let's go for cross validation for all the models used."
   ]
  },
  {
   "cell_type": "code",
   "execution_count": 83,
   "id": "01cb9547",
   "metadata": {},
   "outputs": [
    {
     "name": "stdout",
     "output_type": "stream",
     "text": [
      "CV mean of  LogisticRegression()  is  81.71167048054919\n",
      "CV mean of  DecisionTreeClassifier()  is  70.19374523264685\n",
      "CV mean of  KNeighborsClassifier()  is  79.6186117467582\n",
      "CV mean of  RandomForestClassifier()  is  76.12662090007628\n",
      "CV mean of  GradientBoostingClassifier()  is  79.27231121281466\n"
     ]
    }
   ],
   "source": [
    "# Computing cross validation score of all the models used\n",
    "from sklearn.model_selection import cross_val_score\n",
    "\n",
    "for i in algo_list :\n",
    "    print('CV mean of ',i,' is ',cross_val_score(i,x2,y,cv=5).mean()*100)"
   ]
  },
  {
   "cell_type": "raw",
   "id": "3bf478ee",
   "metadata": {},
   "source": [
    "# Finding out the difference of Accuracy and Cross validation mean of all the models used\n",
    "   Accuracy CVmean Diff\n",
    "LR   84       82    2\n",
    "DTC  69       70    3\n",
    "KNN  71       80    9\n",
    "RFC  75       76    1\n",
    "XGB  75       79    4"
   ]
  },
  {
   "cell_type": "markdown",
   "id": "a9e0f537",
   "metadata": {},
   "source": [
    "Looking at difference of accuracy and cv mean, opting for LogisticRegression as our best model with accuracy of 84%, also having second least difference between accuracy and cv mean."
   ]
  },
  {
   "cell_type": "markdown",
   "id": "3163de35",
   "metadata": {},
   "source": [
    "### Hyperparameter Tuning"
   ]
  },
  {
   "cell_type": "code",
   "execution_count": 71,
   "id": "954bbea9",
   "metadata": {},
   "outputs": [
    {
     "data": {
      "text/plain": [
       "{'class_weight': 'balanced',\n",
       " 'multi_class': 'auto',\n",
       " 'penalty': 'l1',\n",
       " 'solver': 'liblinear'}"
      ]
     },
     "execution_count": 71,
     "metadata": {},
     "output_type": "execute_result"
    }
   ],
   "source": [
    "# Using hyper parameter tuning on selected model for better accuracy and to avoid overfitting issues\n",
    "from sklearn.model_selection import GridSearchCV\n",
    "\n",
    "parameters = {'penalty':['l1','l2','elasticnet','none'],\n",
    "              'class_weight':['balanced',None],\n",
    "              'solver':['newton-cg','lbfgs','liblinear','sag','saga'],\n",
    "              'multi_class':['auto','ovr','multinomial']}\n",
    "              #'verbose':[0,1,2,3,4,5],\n",
    "              #'n_estimators':[10,50,100]}\n",
    "\n",
    "lr=LogisticRegression()\n",
    "GCV=GridSearchCV(lr,parameters,cv=5)\n",
    "GCV.fit(trainx,trainy)\n",
    "GCV.best_params_"
   ]
  },
  {
   "cell_type": "code",
   "execution_count": 94,
   "id": "8962afe9",
   "metadata": {},
   "outputs": [
    {
     "name": "stdout",
     "output_type": "stream",
     "text": [
      "Accuracy :  83.23699421965318  CV mean :  79.80861244019138\n"
     ]
    }
   ],
   "source": [
    "lr=LogisticRegression(class_weight='balanced',multi_class='auto',penalty='l1',solver='liblinear')\n",
    "lr.fit(trainx,trainy)\n",
    "pred=lr.predict(x_test)\n",
    "acc=accuracy_score(y_test,pred)\n",
    "cv=cross_val_score(lr,x2,y,cv=57).mean()\n",
    "\n",
    "print('Accuracy : ',acc*100,' CV mean : ',cv*100)"
   ]
  },
  {
   "cell_type": "markdown",
   "id": "6730d5aa",
   "metadata": {},
   "source": [
    "Using hyper parameter tuning for better accuracy and to avoid overfitting issues with best parameters on selected model."
   ]
  },
  {
   "cell_type": "markdown",
   "id": "3160e996",
   "metadata": {},
   "source": [
    "#### We are getting model accuracy as 83% and cv mean as approx 80 for the parameter set used, this shows our model is performing good."
   ]
  },
  {
   "cell_type": "markdown",
   "id": "b77b77de",
   "metadata": {},
   "source": [
    "### AUC-ROC Curve"
   ]
  },
  {
   "cell_type": "code",
   "execution_count": 96,
   "id": "dfb0b85e",
   "metadata": {},
   "outputs": [],
   "source": [
    "from sklearn.metrics import roc_curve\n",
    "from sklearn.metrics import roc_auc_score\n",
    "\n",
    "lr=LogisticRegression(class_weight='balanced',multi_class='auto',penalty='l1',solver='liblinear')\n",
    "lr.fit(trainx,trainy)\n",
    "pred=lr.predict(x_test)\n",
    "acc1=accuracy_score(y_test,pred)"
   ]
  },
  {
   "cell_type": "markdown",
   "id": "bce118d3",
   "metadata": {},
   "source": [
    "Applying AUC-ROC curve on selected model i.e. RandomForestClassifier()"
   ]
  },
  {
   "cell_type": "code",
   "execution_count": 97,
   "id": "a1410416",
   "metadata": {},
   "outputs": [],
   "source": [
    "pred_proba=xg.predict_proba(x_test)[:,1]\n",
    "fpr,tpr,thresholds=roc_curve(y_test,pred_proba)\n",
    "#print(fpr,tpr,thresholds)"
   ]
  },
  {
   "cell_type": "markdown",
   "id": "f4f0861f",
   "metadata": {},
   "source": [
    "Calculating fpr,tpr,thresholds for selected model"
   ]
  },
  {
   "cell_type": "code",
   "execution_count": 98,
   "id": "d2cf5e7c",
   "metadata": {},
   "outputs": [
    {
     "data": {
      "image/png": "[encoded data removed]",
      "text/plain": [
       "<Figure size 432x288 with 1 Axes>"
      ]
     },
     "metadata": {
      "needs_background": "light"
     },
     "output_type": "display_data"
    }
   ],
   "source": [
    "# Plotting the curve\n",
    "\n",
    "plt.plot([0,1],[0,1],'k--')\n",
    "plt.plot(fpr,tpr,label='RandomForestClassifier')\n",
    "plt.xlabel('FPR')\n",
    "plt.ylabel('TPR')\n",
    "plt.title('RandomForestClassifier')\n",
    "plt.show()"
   ]
  },
  {
   "cell_type": "code",
   "execution_count": 99,
   "id": "cfc4ed78",
   "metadata": {},
   "outputs": [
    {
     "name": "stdout",
     "output_type": "stream",
     "text": [
      "Accuracy :  0.8323699421965318\n",
      "ROC_AUC score :  0.8029422128259338\n"
     ]
    }
   ],
   "source": [
    "auc_score=roc_auc_score(y_test,pred_proba)\n",
    "print('Accuracy : ',acc1)\n",
    "print('ROC_AUC score : ',auc_score)"
   ]
  },
  {
   "cell_type": "markdown",
   "id": "76138774",
   "metadata": {},
   "source": [
    "Getting good accuracy score and AUC-ROC score for the model selected"
   ]
  },
  {
   "cell_type": "markdown",
   "id": "7e92d152",
   "metadata": {},
   "source": [
    "### Saving the model"
   ]
  },
  {
   "cell_type": "code",
   "execution_count": 100,
   "id": "37fc5914",
   "metadata": {},
   "outputs": [],
   "source": [
    "# Saved the model in .pkl file\n",
    "import pickle #import joblib\n",
    "file='loan_status.pkl'\n",
    "pickle.dump(lr,open(file,'wb'))"
   ]
  },
  {
   "cell_type": "markdown",
   "id": "12ace8fc",
   "metadata": {},
   "source": [
    "### Conclusion"
   ]
  },
  {
   "cell_type": "code",
   "execution_count": 101,
   "id": "eb152fcd",
   "metadata": {},
   "outputs": [
    {
     "data": {
      "text/plain": [
       "0.8323699421965318"
      ]
     },
     "execution_count": 101,
     "metadata": {},
     "output_type": "execute_result"
    }
   ],
   "source": [
    "# Loading the model for checking score on actual and predicted test sets\n",
    "load_model=pickle.load(open(file,'rb'))\n",
    "result=load_model.score(x_test,y_test)\n",
    "result"
   ]
  },
  {
   "cell_type": "code",
   "execution_count": 102,
   "id": "1cc5049e",
   "metadata": {},
   "outputs": [
    {
     "name": "stdout",
     "output_type": "stream",
     "text": [
      "(173, 9)\n",
      "(173,)\n"
     ]
    }
   ],
   "source": [
    "#Printing the shapes of test sets to make comparison dataframe\n",
    "print(x_test.shape)\n",
    "print(y_test.shape)"
   ]
  },
  {
   "cell_type": "code",
   "execution_count": 103,
   "id": "63d03141",
   "metadata": {},
   "outputs": [
    {
     "data": {
      "text/html": [
       "<div>\n",
       "<style scoped>\n",
       "    .dataframe tbody tr th:only-of-type {\n",
       "        vertical-align: middle;\n",
       "    }\n",
       "\n",
       "    .dataframe tbody tr th {\n",
       "        vertical-align: top;\n",
       "    }\n",
       "\n",
       "    .dataframe thead th {\n",
       "        text-align: right;\n",
       "    }\n",
       "</style>\n",
       "<table border=\"1\" class=\"dataframe\">\n",
       "  <thead>\n",
       "    <tr style=\"text-align: right;\">\n",
       "      <th></th>\n",
       "      <th>Orignal</th>\n",
       "      <th>Predicted</th>\n",
       "    </tr>\n",
       "  </thead>\n",
       "  <tbody>\n",
       "    <tr>\n",
       "      <th>0</th>\n",
       "      <td>0</td>\n",
       "      <td>0</td>\n",
       "    </tr>\n",
       "    <tr>\n",
       "      <th>1</th>\n",
       "      <td>0</td>\n",
       "      <td>1</td>\n",
       "    </tr>\n",
       "    <tr>\n",
       "      <th>2</th>\n",
       "      <td>1</td>\n",
       "      <td>1</td>\n",
       "    </tr>\n",
       "    <tr>\n",
       "      <th>3</th>\n",
       "      <td>0</td>\n",
       "      <td>0</td>\n",
       "    </tr>\n",
       "    <tr>\n",
       "      <th>4</th>\n",
       "      <td>1</td>\n",
       "      <td>0</td>\n",
       "    </tr>\n",
       "    <tr>\n",
       "      <th>...</th>\n",
       "      <td>...</td>\n",
       "      <td>...</td>\n",
       "    </tr>\n",
       "    <tr>\n",
       "      <th>168</th>\n",
       "      <td>0</td>\n",
       "      <td>1</td>\n",
       "    </tr>\n",
       "    <tr>\n",
       "      <th>169</th>\n",
       "      <td>1</td>\n",
       "      <td>1</td>\n",
       "    </tr>\n",
       "    <tr>\n",
       "      <th>170</th>\n",
       "      <td>1</td>\n",
       "      <td>1</td>\n",
       "    </tr>\n",
       "    <tr>\n",
       "      <th>171</th>\n",
       "      <td>1</td>\n",
       "      <td>1</td>\n",
       "    </tr>\n",
       "    <tr>\n",
       "      <th>172</th>\n",
       "      <td>0</td>\n",
       "      <td>0</td>\n",
       "    </tr>\n",
       "  </tbody>\n",
       "</table>\n",
       "<p>173 rows × 2 columns</p>\n",
       "</div>"
      ],
      "text/plain": [
       "     Orignal  Predicted\n",
       "0          0          0\n",
       "1          0          1\n",
       "2          1          1\n",
       "3          0          0\n",
       "4          1          0\n",
       "..       ...        ...\n",
       "168        0          1\n",
       "169        1          1\n",
       "170        1          1\n",
       "171        1          1\n",
       "172        0          0\n",
       "\n",
       "[173 rows x 2 columns]"
      ]
     },
     "execution_count": 103,
     "metadata": {},
     "output_type": "execute_result"
    }
   ],
   "source": [
    "# Comparison dataframe having Original and Predicted values\n",
    "actual=np.array(y_test)\n",
    "predicted=np.array(rf.predict(x_test))\n",
    "conclusion=pd.DataFrame({'Orignal':actual,'Predicted':predicted})\n",
    "conclusion"
   ]
  },
  {
   "cell_type": "code",
   "execution_count": null,
   "id": "69a033bc",
   "metadata": {},
   "outputs": [],
   "source": []
  }
 ],
 "metadata": {
  "kernelspec": {
   "display_name": "Python 3",
   "language": "python",
   "name": "python3"
  },
  "language_info": {
   "codemirror_mode": {
    "name": "ipython",
    "version": 3
   },
   "file_extension": ".py",
   "mimetype": "text/x-python",
   "name": "python",
   "nbconvert_exporter": "python",
   "pygments_lexer": "ipython3",
   "version": "3.8.8"
  }
 },
 "nbformat": 4,
 "nbformat_minor": 5
}
